{
 "cells": [
  {
   "cell_type": "markdown",
   "metadata": {},
   "source": [
    "# Test solver harmonic"
   ]
  },
  {
   "cell_type": "code",
   "execution_count": 1,
   "metadata": {},
   "outputs": [],
   "source": [
    "import os, sys, time\n",
    "import argparse\n",
    "from collections import namedtuple\n",
    "import numpy as np\n",
    "import matplotlib.pyplot as plt\n",
    "import scipy\n",
    "import healpy as hp\n",
    "import astropy.io.fits as fits\n",
    "import camb\n",
    "import jax\n",
    "import jax.numpy as jnp\n",
    "import jax.scipy as jsp\n",
    "import jax_healpy as jhp\n",
    "import jax.random as random\n",
    "import toml\n",
    "import numpyro\n",
    "from functools import partial\n",
    "import micmac\n",
    "from micmac import *\n",
    "from fgbuster.observation_helpers import *"
   ]
  },
  {
   "cell_type": "code",
   "execution_count": 2,
   "metadata": {},
   "outputs": [],
   "source": [
    "from jax import config\n",
    "current_path = os.path.abspath('')\n",
    "sys.path.append(current_path)\n",
    "\n",
    "config.update(\"jax_enable_x64\", True)"
   ]
  },
  {
   "cell_type": "code",
   "execution_count": 3,
   "metadata": {},
   "outputs": [],
   "source": [
    "path_toml_file = current_path+'/Harm_fullsky_v1a.toml'\n",
    "path_home_test_playground = os.path.dirname(current_path) + '/'"
   ]
  },
  {
   "cell_type": "code",
   "execution_count": 4,
   "metadata": {},
   "outputs": [],
   "source": [
    "MICMAC_obj = create_Harmonic_MICMAC_sampler_from_toml_file(path_toml_file)\n"
   ]
  },
  {
   "cell_type": "code",
   "execution_count": 5,
   "metadata": {},
   "outputs": [],
   "source": [
    "seed_realization_input = MICMAC_obj.seed"
   ]
  },
  {
   "cell_type": "code",
   "execution_count": 6,
   "metadata": {},
   "outputs": [],
   "source": [
    "fgs_model_ = 'd0s0'\n",
    "instr_name = MICMAC_obj.instrument_name #'SO_SAT'\n",
    "\n",
    "path_Fisher = path_home_test_playground + f'Fisher_matrix_{MICMAC_obj.instrument_name}_EB_model_{fgs_model_}_noise_True_seed_42_lmin2_lmax128.txt'\n",
    "try :\n",
    "    Fisher_matrix = np.loadtxt(path_Fisher)\n",
    "except:\n",
    "    print(\"Fisher matrix not found !\", flush=True)\n",
    "    Fisher_matrix = np.loadtxt(path_home_test_playground + f'Fisher_matrix_{MICMAC_obj.instrument_name}_EB_model_d0s0_noise_True_seed_42_lmin2_lmax128.txt')\n"
   ]
  },
  {
   "cell_type": "code",
   "execution_count": 7,
   "metadata": {},
   "outputs": [],
   "source": [
    "instrument = get_instrument(instr_name)\n"
   ]
  },
  {
   "cell_type": "code",
   "execution_count": 8,
   "metadata": {},
   "outputs": [
    {
     "name": "stderr",
     "output_type": "stream",
     "text": [
      "OMP: Info #276: omp_set_nested routine deprecated, please use omp_set_max_active_levels instead.\n"
     ]
    }
   ],
   "source": [
    "np.random.seed(seed_realization_input)\n",
    "freq_maps_fgs_noised = get_observation(instrument, fgs_model_, nside=MICMAC_obj.nside, noise=True)[:, 1:, :]   # keep only Q and U\n",
    "np.random.seed(seed_realization_input)\n",
    "freq_maps_fgs_denoised = get_observation(instrument, fgs_model_, nside=MICMAC_obj.nside, noise=False)[:, 1:, :]   # keep only Q and U\n",
    "\n",
    "noise_map = freq_maps_fgs_noised - freq_maps_fgs_denoised\n",
    " \n",
    "\n",
    "freq_maps_fgs = freq_maps_fgs_denoised + noise_map\n"
   ]
  },
  {
   "cell_type": "code",
   "execution_count": 9,
   "metadata": {},
   "outputs": [],
   "source": [
    "# Mixing matrix initialization\n",
    "init_mixing_matrix_obj = micmac.InitMixingMatrix(np.array(instrument['frequency']), MICMAC_obj.n_components, pos_special_freqs=[0,-1])\n",
    "\n",
    "init_params = init_mixing_matrix_obj.init_params()\n",
    "\n",
    "mixing_matrix_obj = micmac.MixingMatrix(instrument['frequency'], MICMAC_obj.n_components, init_params, pos_special_freqs=[0,-1])\n",
    "mixing_matrix_sampled = mixing_matrix_obj.get_B()\n",
    "\n"
   ]
  },
  {
   "cell_type": "code",
   "execution_count": 10,
   "metadata": {},
   "outputs": [],
   "source": [
    "# frequency_inv_noise_cell = get_true_Cl_noise(instrument['depth_p'], MICMAC_obj.lmax)\n",
    "\n",
    "# MICMAC_obj.freq_noise_c_ell = frequency_inv_noise_cell"
   ]
  },
  {
   "cell_type": "code",
   "execution_count": 11,
   "metadata": {},
   "outputs": [],
   "source": [
    "covariance_matrix = np.linalg.inv(Fisher_matrix)\n",
    "\n",
    "MICMAC_obj.covariance_step_size_B_f = covariance_matrix[:-1, :-1]\n",
    "MICMAC_obj.step_size_r = np.sqrt(covariance_matrix[-1, -1])"
   ]
  },
  {
   "cell_type": "code",
   "execution_count": 12,
   "metadata": {},
   "outputs": [
    {
     "name": "stdout",
     "output_type": "stream",
     "text": [
      "Calculating spectra from CAMB !\n",
      "Calculating spectra from CAMB !\n"
     ]
    }
   ],
   "source": [
    "input_freq_maps, input_cmb_maps, theoretical_red_cov_r0_total, theoretical_red_cov_r1_tensor = MICMAC_obj.generate_input_freq_maps_from_fgs(freq_maps_fgs, return_only_freq_maps=False)\n"
   ]
  },
  {
   "cell_type": "code",
   "execution_count": 13,
   "metadata": {},
   "outputs": [],
   "source": [
    "theoretical_r0_total = get_c_ells_from_red_covariance_matrix(theoretical_red_cov_r0_total)\n",
    "theoretical_r1_tensor = get_c_ells_from_red_covariance_matrix(theoretical_red_cov_r1_tensor)\n",
    "\n",
    "c_ell_approx = np.zeros((3,MICMAC_obj.lmax+1))\n",
    "c_ell_approx[0,MICMAC_obj.lmin:] = theoretical_r0_total[0,:]\n",
    "c_ell_approx[1,MICMAC_obj.lmin:] = theoretical_r0_total[1,:]\n",
    "\n",
    "red_cov_approx_matrix = get_reduced_matrix_from_c_ell_jax(c_ell_approx)[MICMAC_obj.lmin:]"
   ]
  },
  {
   "cell_type": "code",
   "execution_count": 14,
   "metadata": {},
   "outputs": [],
   "source": [
    "len_pos_special_freqs = len(MICMAC_obj.pos_special_freqs)"
   ]
  },
  {
   "cell_type": "markdown",
   "metadata": {},
   "source": [
    "## Starting MH"
   ]
  },
  {
   "cell_type": "code",
   "execution_count": 15,
   "metadata": {},
   "outputs": [],
   "source": [
    "minimum_std_Fisher_diag = jnp.diag(scipy.linalg.sqrtm(jnp.linalg.inv(Fisher_matrix)))\n",
    "sigma_gap = 20\n",
    "\n",
    "dimension_free_param_B_f = 2*(MICMAC_obj.n_frequencies-len_pos_special_freqs)"
   ]
  },
  {
   "cell_type": "code",
   "execution_count": 16,
   "metadata": {},
   "outputs": [
    {
     "data": {
      "text/plain": [
       "Array([1.22719235e-04, 4.72984090e-05, 4.44084763e-05, 5.23546882e-05,\n",
       "       4.28340683e-05, 1.62270766e-05, 1.52905384e-05, 1.82529746e-05,\n",
       "       5.55036342e-04], dtype=float64)"
      ]
     },
     "execution_count": 16,
     "metadata": {},
     "output_type": "execute_result"
    }
   ],
   "source": [
    "minimum_std_Fisher_diag"
   ]
  },
  {
   "cell_type": "code",
   "execution_count": 17,
   "metadata": {},
   "outputs": [],
   "source": [
    "np.random.seed(MICMAC_obj.seed)\n",
    "first_guess = jnp.zeros(dimension_free_param_B_f)\n",
    "first_guess = first_guess.at[MICMAC_obj.indexes_free_Bf].set(\n",
    "    init_params.ravel(order='F')[MICMAC_obj.indexes_free_Bf] + minimum_std_Fisher_diag[:-1]*np.random.uniform(low=-sigma_gap,high=sigma_gap, size=(dimension_free_param_B_f)))\n",
    "init_params_mixing_matrix = first_guess.reshape((MICMAC_obj.n_frequencies-len_pos_special_freqs),2,order='F')\n",
    "\n",
    "first_guess_r = np.random.uniform(low=-sigma_gap,high=sigma_gap, size=(1,))*minimum_std_Fisher_diag[-1] + MICMAC_obj.r_true"
   ]
  },
  {
   "cell_type": "code",
   "execution_count": 18,
   "metadata": {},
   "outputs": [
    {
     "name": "stdout",
     "output_type": "stream",
     "text": [
      "Difference first params [[0.00061585 0.00058936]\n",
      " [0.00085272 0.00022329]\n",
      " [0.0004121  0.00027029]\n",
      " [0.00020661 0.00026735]] [0.0022449]\n",
      "True values [0.0122449] 0.01\n"
     ]
    }
   ],
   "source": [
    "print(\"Difference first params\", np.abs(init_params - first_guess.reshape((MICMAC_obj.n_frequencies-len_pos_special_freqs),2,order='F')),\n",
    "                                    np.abs(first_guess_r - MICMAC_obj.r_true))\n",
    "print(\"True values\", first_guess_r, MICMAC_obj.r_true)"
   ]
  },
  {
   "cell_type": "code",
   "execution_count": 19,
   "metadata": {},
   "outputs": [],
   "source": [
    "bounds = [(None, None)]*(dimension_free_param_B_f)\n",
    "bounds.append((-0.5, 10.0))\n",
    "\n",
    "options_minimizer_TNC = {'options':\n",
    "                            {'maxCGit':-1, \n",
    "                            'eta': 0.25, \n",
    "                            'stepmx': 0, \n",
    "                            'accuracy': 0, \n",
    "                            'minfev': 0, \n",
    "                            'ftol': - 1, \n",
    "                            'xtol': -1, \n",
    "                            'gtol': -1, \n",
    "                            'rescale': - 1, \n",
    "                            'disp': False, \n",
    "                            'finite_diff_rel_step': None, \n",
    "                            'maxfun':10000},\n",
    "                        'method':'TNC',\n",
    "                        }\n",
    "\n",
    "\n",
    "options_minimizer_BFGS = {'maxiter':500, \n",
    "                            'tol':0.001, \n",
    "                            'stepsize':0.0, \n",
    "                            'linesearch':'zoom', \n",
    "                            'linesearch_init':'increase', \n",
    "                            'stop_if_linesearch_fails':False, \n",
    "                            'condition':None, \n",
    "                            'maxls':15, \n",
    "                            'decrease_factor':None, \n",
    "                            'increase_factor':1.5, \n",
    "                            'max_stepsize':1.0, \n",
    "                            'min_stepsize':1e-06, \n",
    "                            'history_size':10, \n",
    "                            'use_gamma':True, \n",
    "                            'implicit_diff':True, \n",
    "                            'implicit_diff_solve':None, \n",
    "                            'jit':'auto', \n",
    "                            'unroll':'auto', \n",
    "                            'verbose':False}"
   ]
  },
  {
   "cell_type": "code",
   "execution_count": 20,
   "metadata": {},
   "outputs": [
    {
     "name": "stdout",
     "output_type": "stream",
     "text": [
      "Start of minimization\n",
      "End of minimization\n",
      "Found parameters [0.33857941 0.0296126  0.00997524 0.00328001 0.00973012 0.0514598\n",
      " 0.12913631 0.44078292 0.00913313]\n",
      "With state ScipyMinimizeInfo(fun_val=Array(-2.32528048e+09, dtype=float64, weak_type=True), success=False, status=4, iter_num=23, hess_inv=None, num_fun_eval=Array(144, dtype=int32), num_jac_eval=Array(0, dtype=int32), num_hess_eval=Array(0, dtype=int32))\n"
     ]
    }
   ],
   "source": [
    "params_final = MICMAC_obj.perform_harmonic_minimize(input_freq_maps, c_ell_approx, init_params_mixing_matrix,\n",
    "                                    theoretical_r0_total=theoretical_r0_total, theoretical_r1_tensor=theoretical_r1_tensor,\n",
    "                                    initial_guess_r=first_guess_r,\n",
    "                                    method_used='ScipyMinimize',\n",
    "                                    **options_minimizer_TNC)\n"
   ]
  },
  {
   "cell_type": "code",
   "execution_count": 22,
   "metadata": {},
   "outputs": [
    {
     "name": "stdout",
     "output_type": "stream",
     "text": [
      "True B_f parameters :  [[0.33858815 0.00979233]\n",
      " [0.02963068 0.05147511]\n",
      " [0.00998213 0.12913911]\n",
      " [0.00328725 0.44076761]]\n",
      "Estimated B_f parameters :  [0.33857941 0.0296126  0.00997524 0.00328001 0.00973012 0.0514598\n",
      " 0.12913631 0.44078292]\n",
      "Difference in B_f :  [[-8.73258524e-06 -6.22163394e-05]\n",
      " [-1.80825432e-05 -1.53133842e-05]\n",
      " [-6.88334716e-06 -2.80657441e-06]\n",
      " [-7.24136134e-06  1.53103125e-05]]\n",
      "##############################################\n",
      "True r parameter :  0.01\n",
      "Estimated r parameter :  0.009133131546562012\n",
      "Difference in r :  -0.0008668684534379884\n",
      "##############################################\n",
      "Relative errors B_f : [[2.57911724e-05 6.35357546e-03]\n",
      " [6.10264182e-04 2.97491025e-04]\n",
      " [6.89567160e-04 2.17329541e-05]\n",
      " [2.20286010e-03 3.47355659e-05]]\n",
      "Relative errors r : 0.08668684534379884\n"
     ]
    }
   ],
   "source": [
    "print(\"True B_f parameters : \", init_params)\n",
    "print(\"Estimated B_f parameters : \", params_final[:-1])\n",
    "print(\"Difference in B_f : \", params_final[:-1].reshape((MICMAC_obj.n_frequencies-len_pos_special_freqs,2),order='F') - init_params)\n",
    "\n",
    "print(\"##############################################\")\n",
    "print(\"True r parameter : \", MICMAC_obj.r_true)\n",
    "print(\"Estimated r parameter : \", params_final[-1])\n",
    "print(\"Difference in r : \", params_final[-1] - MICMAC_obj.r_true)\n",
    "\n",
    "print(\"##############################################\")\n",
    "print(\"Relative errors B_f :\", np.abs(params_final[:-1].reshape((MICMAC_obj.n_frequencies-len_pos_special_freqs,2),order='F') - init_params)/(init_params))\n",
    "print(\"Relative errors r :\", np.abs(params_final[-1] - MICMAC_obj.r_true)/MICMAC_obj.r_true)"
   ]
  },
  {
   "cell_type": "code",
   "execution_count": null,
   "metadata": {},
   "outputs": [],
   "source": []
  }
 ],
 "metadata": {
  "kernelspec": {
   "display_name": "non_param_silver",
   "language": "python",
   "name": "python3"
  },
  "language_info": {
   "codemirror_mode": {
    "name": "ipython",
    "version": 3
   },
   "file_extension": ".py",
   "mimetype": "text/x-python",
   "name": "python",
   "nbconvert_exporter": "python",
   "pygments_lexer": "ipython3",
   "version": "3.9.16"
  }
 },
 "nbformat": 4,
 "nbformat_minor": 2
}
