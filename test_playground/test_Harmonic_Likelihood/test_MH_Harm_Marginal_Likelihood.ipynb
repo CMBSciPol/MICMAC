{
 "cells": [
  {
   "cell_type": "markdown",
   "metadata": {},
   "source": [
    "# Test MH harmonic"
   ]
  },
  {
   "cell_type": "code",
   "execution_count": 1,
   "metadata": {},
   "outputs": [],
   "source": [
    "import os, sys, time\n",
    "import argparse\n",
    "from collections import namedtuple\n",
    "import numpy as np\n",
    "import matplotlib.pyplot as plt\n",
    "import scipy\n",
    "import healpy as hp\n",
    "import astropy.io.fits as fits\n",
    "import camb\n",
    "import jax\n",
    "import jax.numpy as jnp\n",
    "import jax.scipy as jsp\n",
    "import jax_healpy as jhp\n",
    "import jax.random as random\n",
    "import toml\n",
    "import numpyro\n",
    "from functools import partial\n",
    "import micmac\n",
    "from micmac import *\n",
    "from fgbuster.observation_helpers import *"
   ]
  },
  {
   "cell_type": "code",
   "execution_count": 2,
   "metadata": {},
   "outputs": [],
   "source": [
    "from jax import config\n",
    "current_path = os.path.abspath('')\n",
    "sys.path.append(current_path)\n",
    "\n",
    "config.update(\"jax_enable_x64\", True)"
   ]
  },
  {
   "cell_type": "code",
   "execution_count": 3,
   "metadata": {},
   "outputs": [],
   "source": [
    "path_toml_file = current_path+'/Harm_fullsky_v1a.toml'\n",
    "path_home_test_playground = os.path.dirname(current_path) + '/'"
   ]
  },
  {
   "cell_type": "code",
   "execution_count": 4,
   "metadata": {},
   "outputs": [],
   "source": [
    "MICMAC_obj = create_Harmonic_MICMAC_sampler_from_toml_file(path_toml_file)\n"
   ]
  },
  {
   "cell_type": "code",
   "execution_count": 5,
   "metadata": {},
   "outputs": [],
   "source": [
    "seed_realization_input = MICMAC_obj.seed"
   ]
  },
  {
   "cell_type": "code",
   "execution_count": 6,
   "metadata": {},
   "outputs": [],
   "source": [
    "fgs_model_ = 'd0s0'\n",
    "instr_name = MICMAC_obj.instrument_name #'SO_SAT'\n",
    "\n",
    "path_Fisher = path_home_test_playground + f'Fisher_matrix_{MICMAC_obj.instrument_name}_EB_model_{fgs_model_}_noise_True_seed_42_lmin2_lmax128.txt'\n",
    "try :\n",
    "    Fisher_matrix = np.loadtxt(path_Fisher)\n",
    "except:\n",
    "    print(\"Fisher matrix not found !\", flush=True)\n",
    "    Fisher_matrix = np.loadtxt(path_home_test_playground + f'Fisher_matrix_{MICMAC_obj.instrument_name}_EB_model_d0s0_noise_True_seed_42_lmin2_lmax128.txt')\n"
   ]
  },
  {
   "cell_type": "code",
   "execution_count": 7,
   "metadata": {},
   "outputs": [],
   "source": [
    "instrument = get_instrument(instr_name)\n"
   ]
  },
  {
   "cell_type": "code",
   "execution_count": 8,
   "metadata": {},
   "outputs": [
    {
     "name": "stderr",
     "output_type": "stream",
     "text": [
      "OMP: Info #276: omp_set_nested routine deprecated, please use omp_set_max_active_levels instead.\n"
     ]
    }
   ],
   "source": [
    "np.random.seed(seed_realization_input)\n",
    "freq_maps_fgs_noised = get_observation(instrument, fgs_model_, nside=MICMAC_obj.nside, noise=True)[:, 1:, :]   # keep only Q and U\n",
    "np.random.seed(seed_realization_input)\n",
    "freq_maps_fgs_denoised = get_observation(instrument, fgs_model_, nside=MICMAC_obj.nside, noise=False)[:, 1:, :]   # keep only Q and U\n",
    "\n",
    "noise_map = freq_maps_fgs_noised - freq_maps_fgs_denoised\n",
    " \n",
    "\n",
    "freq_maps_fgs = freq_maps_fgs_denoised + noise_map\n"
   ]
  },
  {
   "cell_type": "code",
   "execution_count": 9,
   "metadata": {},
   "outputs": [],
   "source": [
    "# frequency_inv_noise_cell = get_true_Cl_noise(instrument['depth_p'], MICMAC_obj.lmax)\n",
    "\n",
    "# MICMAC_obj.freq_noise_c_ell = frequency_inv_noise_cell"
   ]
  },
  {
   "cell_type": "code",
   "execution_count": 10,
   "metadata": {},
   "outputs": [],
   "source": [
    "covariance_matrix = np.linalg.inv(Fisher_matrix)\n",
    "\n",
    "MICMAC_obj.covariance_step_size_B_f = covariance_matrix[:-1, :-1]\n",
    "MICMAC_obj.step_size_r = np.sqrt(covariance_matrix[-1, -1])"
   ]
  },
  {
   "cell_type": "code",
   "execution_count": 11,
   "metadata": {},
   "outputs": [
    {
     "name": "stdout",
     "output_type": "stream",
     "text": [
      "Calculating spectra from CAMB !\n",
      "Calculating spectra from CAMB !\n"
     ]
    }
   ],
   "source": [
    "input_freq_maps, input_cmb_maps, theoretical_red_cov_r0_total, theoretical_red_cov_r1_tensor = MICMAC_obj.generate_input_freq_maps_from_fgs(freq_maps_fgs, return_only_freq_maps=False)\n"
   ]
  },
  {
   "cell_type": "code",
   "execution_count": 12,
   "metadata": {},
   "outputs": [],
   "source": [
    "theoretical_r0_total = get_c_ells_from_red_covariance_matrix(theoretical_red_cov_r0_total)\n",
    "theoretical_r1_tensor = get_c_ells_from_red_covariance_matrix(theoretical_red_cov_r1_tensor)\n",
    "\n",
    "c_ell_approx = np.zeros((3,MICMAC_obj.lmax+1))\n",
    "c_ell_approx[0,MICMAC_obj.lmin:] = theoretical_r0_total[0,:]\n",
    "c_ell_approx[1,MICMAC_obj.lmin:] = theoretical_r0_total[1,:]\n",
    "\n",
    "red_cov_approx_matrix = get_reduced_matrix_from_c_ell_jax(c_ell_approx)[MICMAC_obj.lmin:]"
   ]
  },
  {
   "cell_type": "code",
   "execution_count": 13,
   "metadata": {},
   "outputs": [],
   "source": [
    "len_pos_special_freqs = len(MICMAC_obj.pos_special_freqs)"
   ]
  },
  {
   "cell_type": "markdown",
   "metadata": {},
   "source": [
    "## Starting MH"
   ]
  },
  {
   "cell_type": "code",
   "execution_count": 14,
   "metadata": {},
   "outputs": [],
   "source": [
    "minimum_std_Fisher_diag = jnp.diag(scipy.linalg.sqrtm(jnp.linalg.inv(Fisher_matrix)))\n",
    "sigma_gap = 20\n",
    "\n",
    "dimension_free_param_B_f = 2*(MICMAC_obj.n_frequencies-len_pos_special_freqs)"
   ]
  },
  {
   "cell_type": "code",
   "execution_count": 15,
   "metadata": {},
   "outputs": [],
   "source": [
    "np.random.seed(MICMAC_obj.seed)\n",
    "first_guess = jnp.zeros(dimension_free_param_B_f)\n",
    "first_guess = first_guess.at[MICMAC_obj.indexes_free_Bf].set(\n",
    "    first_guess[MICMAC_obj.indexes_free_Bf] + minimum_std_Fisher_diag[:-1]*np.random.uniform(low=-sigma_gap,high=sigma_gap, size=(dimension_free_param_B_f)))\n",
    "init_params_mixing_matrix = first_guess.reshape((MICMAC_obj.n_frequencies-len_pos_special_freqs),2,order='F')\n",
    "\n",
    "first_guess_r = 1e-5"
   ]
  },
  {
   "cell_type": "code",
   "execution_count": 16,
   "metadata": {},
   "outputs": [],
   "source": [
    "\n",
    "def perform_harmonic_MH(self, input_freq_maps, c_ell_approx, init_params_mixing_matrix, theoretical_r0_total, theoretical_r1_tensor,\n",
    "                        initial_guess_r=0, covariance_B_f_r=None):\n",
    "    \"\"\" Perform Metropolis Hastings to find the best r and B_f in harmonic domain, given the other parameters\n",
    "\n",
    "        Parameters\n",
    "        ----------\n",
    "        input_freq_maps : data of initial frequency maps, dimensions [frequencies, nstokes, n_pix]\n",
    "        \n",
    "        tot_cov_first_guess : total covariance first guess, composed of all c_ell correlations in order (for polarization [EE, BB, EB])\n",
    "\n",
    "        depth_p: depth for the noise covariance calculation, in uK.arcmin\n",
    "\n",
    "        c_ell_approx : \n",
    "\n",
    "        init_params_mixing_matrix : \n",
    "        \n",
    "        pos_special_freqs :\n",
    "\n",
    "        Returns\n",
    "        -------\n",
    "    \"\"\"\n",
    "\n",
    "    # Disabling all chex checks to speed up the code\n",
    "    # chx acts like an assert, but is JAX compatible\n",
    "    if self.disable_chex:\n",
    "        print(\"Disabling chex !!!\", flush=True)\n",
    "        chx.disable_asserts()\n",
    "\n",
    "    # Series of tests\n",
    "\n",
    "    ## Getting only the relevant spectra\n",
    "    if self.nstokes == 2:\n",
    "        indices_to_consider = np.array([1,2,4])\n",
    "        partial_indices_polar = indices_to_consider[:self.nstokes]\n",
    "    elif self.nstokes == 1:\n",
    "        indices_to_consider = np.array([0])\n",
    "    else:\n",
    "        indices_to_consider = np.arange(6) # All auto- and cross-correlations\n",
    "\n",
    "    ## Testing the initial spectra given in case the sampling is done with r\n",
    "    \n",
    "    assert len(theoretical_r0_total.shape) == 2\n",
    "    assert (theoretical_r0_total.shape[1] == self.lmax + 1 - self.lmin) #or (theoretical_r0_total.shape[1] == self.lmax + 1)\n",
    "    assert len(theoretical_r1_tensor.shape) == 2\n",
    "    assert theoretical_r1_tensor.shape[1] == theoretical_r0_total.shape[1]\n",
    "\n",
    "    theoretical_red_cov_r0_total = get_reduced_matrix_from_c_ell(theoretical_r0_total)\n",
    "    theoretical_red_cov_r1_tensor  = get_reduced_matrix_from_c_ell(theoretical_r1_tensor)\n",
    "\n",
    "    ## Testing the initial CMB spectra given\n",
    "    # if self.nstokes == 2 and (CMB_c_ell.shape[0] != len(indices_to_consider)):    \n",
    "    #     CMB_c_ell = CMB_c_ell[indices_to_consider,:]\n",
    "    #     c_ell_approx = c_ell_approx[indices_to_consider,:]\n",
    "    if self.nstokes == 2 and (c_ell_approx.shape[0] != len(indices_to_consider)):\n",
    "        c_ell_approx = c_ell_approx[indices_to_consider,:]\n",
    "    \n",
    "    ## Testing the initial mixing matrix\n",
    "    if len(init_params_mixing_matrix.shape) == 1:\n",
    "        assert len(init_params_mixing_matrix) == (self.n_frequencies-len(self.pos_special_freqs))*(self.n_correlations-1)\n",
    "    else:\n",
    "        # assert len(init_params_mixing_matrix.shape) == 2\n",
    "        assert init_params_mixing_matrix.shape[0] == (self.n_frequencies-len(self.pos_special_freqs))\n",
    "        assert init_params_mixing_matrix.shape[1] == (self.n_correlations-1)\n",
    "\n",
    "\n",
    "    ## Final set of tests\n",
    "    # assert len(CMB_c_ell.shape) == 2\n",
    "    # assert CMB_c_ell.shape[1] == self.lmax + 1\n",
    "    assert len(c_ell_approx.shape) == 2\n",
    "    assert c_ell_approx.shape[1] == self.lmax + 1\n",
    "\n",
    "    assert len(input_freq_maps.shape) == 3\n",
    "    assert input_freq_maps.shape[0] == self.n_frequencies\n",
    "    assert input_freq_maps.shape[1] == self.nstokes\n",
    "    assert input_freq_maps.shape[2] == self.n_pix\n",
    "\n",
    "    # Preparing for the full Gibbs sampling\n",
    "    len_pos_special_freqs = len(self.pos_special_freqs)\n",
    "\n",
    "    ## Initial guesses\n",
    "    initial_eta = jnp.zeros((self.nstokes,self.n_pix))\n",
    "    params_mixing_matrix_init_sample = jnp.copy(init_params_mixing_matrix).reshape(\n",
    "                                        ((self.n_frequencies-len_pos_special_freqs),self.n_correlations-1), order='F')\n",
    "\n",
    "    ## CMB covariance preparation in the format [lmax,nstokes,nstokes]\n",
    "    red_cov_approx_matrix = jnp.array(get_reduced_matrix_from_c_ell(c_ell_approx)[self.lmin:,...])\n",
    "    \n",
    "    ## Preparation of the mixing matrix\n",
    "    self.mixing_matrix_obj = MixingMatrix(self.frequency_array, self.n_components, params_mixing_matrix_init_sample, pos_special_freqs=self.pos_special_freqs)\n",
    "\n",
    "    ## Preparing the scalar quantities\n",
    "    PRNGKey = random.PRNGKey(self.seed)\n",
    "\n",
    "    dimension_param_B_f = (self.n_frequencies-len_pos_special_freqs)*(self.n_correlations-1)\n",
    "    n_correlations = self.n_correlations\n",
    "\n",
    "    ## Preparing the step-size for Metropolis-within-Gibbs of B_f sampling\n",
    "    if covariance_B_f_r is None:\n",
    "        if self.covariance_B_f is None:\n",
    "            raise ValueError(\"Please provide a covariance_B_f\")\n",
    "            assert (self.covariance_B_f).shape == ((self.n_frequencies-len(pos_special_freqs))*(self.n_correlations-1),(self.n_frequencies-len(pos_special_freqs))*(self.n_correlations-1))\n",
    "    \n",
    "        covariance_B_f_r = jnp.zeros((dimension_param_B_f+1, dimension_param_B_f+1))\n",
    "        covariance_B_f_r = covariance_B_f_r.at[:dimension_param_B_f,:dimension_param_B_f].set(self.covariance_B_f)\n",
    "        covariance_B_f_r = covariance_B_f_r.at[dimension_param_B_f,dimension_param_B_f].set(self.step_size_r**2)\n",
    "    else:\n",
    "        assert covariance_B_f_r.shape == (dimension_param_B_f+1,dimension_param_B_f+1)\n",
    "\n",
    "    print('Covariance B_f, r', covariance_B_f_r, flush=True)\n",
    "\n",
    "    ## Preparing input alms data\n",
    "    def wrapper_map2alm(maps_, lmax=self.lmax, n_iter=self.n_iter, nside=self.nside):\n",
    "        alm_T, alm_E, alm_B = hp.map2alm(\n",
    "            maps_.reshape((3, 12 * nside**2)), lmax=lmax, iter=n_iter\n",
    "        )\n",
    "        return np.array([alm_T, alm_E, alm_B])\n",
    "\n",
    "    @partial(jax.jit, static_argnums=(1))\n",
    "    def pure_call_map2alm(maps_, lmax):\n",
    "        shape_output = (3, (lmax + 1) * (lmax // 2 + 1))\n",
    "        return jax.pure_callback(\n",
    "            wrapper_map2alm,\n",
    "            jax.ShapeDtypeStruct(shape_output, np.complex128),\n",
    "            maps_.ravel(),\n",
    "        )\n",
    "    \n",
    "    JAX_input_freq_maps = jnp.array(input_freq_maps)\n",
    "    def get_freq_alm(num_frequency):\n",
    "        input_map_extended = jnp.vstack((JAX_input_freq_maps[num_frequency,0], JAX_input_freq_maps[num_frequency,...]))\n",
    "        all_alms = jnp.array(pure_call_map2alm(input_map_extended, lmax=self.lmax))\n",
    "        return all_alms[3-self.nstokes:,...]\n",
    "\n",
    "    \n",
    "    input_freq_alms = jax.vmap(get_freq_alm)(jnp.arange(self.n_frequencies))\n",
    "    freq_red_inverse_noise = jnp.einsum('fgl,sk->fglsk', self.freq_noise_c_ell, jnp.eye(self.nstokes))\n",
    "    noise_weighted_alm_data = frequency_alms_x_obj_red_covariance_cell_JAX(input_freq_alms, freq_red_inverse_noise, lmin=self.lmin, n_iter=self.n_iter)\n",
    "\n",
    "    print(f\"Starting {self.number_iterations_sampling} iterations for harmonic run\", flush=True)\n",
    "\n",
    "    MHState = namedtuple(\"MHState\", [\"u\", \"rng_key\"])\n",
    "\n",
    "    class MetropolisHastings(numpyro.infer.mcmc.MCMCKernel):\n",
    "        sample_field = \"u\"\n",
    "\n",
    "        def __init__(self, log_proba, covariance_matrix):\n",
    "            self.log_proba = log_proba\n",
    "            self.covariance_matrix = covariance_matrix\n",
    "\n",
    "        def init(self, rng_key, num_warmup, init_params, model_args, model_kwargs):\n",
    "            return MHState(init_params, rng_key)\n",
    "\n",
    "        def sample(self, state, model_args, model_kwargs):\n",
    "            \n",
    "            new_sample, rng_key = multivariate_Metropolis_Hasting_step_numpyro(state, \n",
    "                            covariance_matrix=self.covariance_matrix, \n",
    "                            log_proba=self.log_proba, \n",
    "                            **model_kwargs)\n",
    "            return MHState(new_sample, rng_key)\n",
    "\n",
    "    mcmc_obj = MCMC(MetropolisHastings(log_proba=self.harmonic_marginal_probability, covariance_matrix=covariance_B_f_r), \n",
    "                    num_warmup=0, \n",
    "                    num_samples=self.number_iterations_sampling, \n",
    "                    thinning=self.thinning, \n",
    "                    num_chains=self.n_chains_MH, \n",
    "                    progress_bar=True)\n",
    "\n",
    "    # Initializing r and B_f samples\n",
    "    init_params_mixing_matrix_r = jnp.concatenate((params_mixing_matrix_init_sample.ravel(order='F'), \n",
    "                                                    jnp.array(initial_guess_r).reshape(1)))\n",
    "\n",
    "    time_start_sampling = time.time()\n",
    "    mcmc_obj.run(PRNGKey, \n",
    "                    init_params=init_params_mixing_matrix_r, \n",
    "                    noise_weighted_alm_data=noise_weighted_alm_data, \n",
    "                    theoretical_red_cov_r1_tensor=theoretical_red_cov_r1_tensor, \n",
    "                    theoretical_red_cov_r0_total=theoretical_red_cov_r0_total, \n",
    "                    red_cov_approx_matrix=red_cov_approx_matrix)\n",
    "\n",
    "    time_full_chain = (time.time()-time_start_sampling)/60      \n",
    "    print(f\"End of MH iterations for harmonic run in {time_full_chain} minutes, now saving results !\", flush=True)\n",
    "    \n",
    "    posterior_samples = mcmc_obj.get_samples()\n",
    "    mcmc_obj.print_summary()\n",
    "\n",
    "    # Saving the samples as attributes of the Sampler object\n",
    "    self.update_samples_MH(posterior_samples)\n",
    "    self.number_iterations_done = self.number_iterations_sampling\n",
    "\n"
   ]
  },
  {
   "cell_type": "code",
   "execution_count": 17,
   "metadata": {},
   "outputs": [
    {
     "name": "stdout",
     "output_type": "stream",
     "text": [
      "Covariance B_f, r [[ 1.57489654e-08  2.71276909e-09  2.36835419e-09  1.51939102e-09\n",
      "  -3.07091465e-09 -2.22079266e-10 -1.71572069e-10 -1.08678732e-10\n",
      "   0.00000000e+00]\n",
      " [ 2.71276909e-09  3.60992230e-09  3.23728759e-09  2.20123320e-09\n",
      "  -2.22092335e-10 -2.67787336e-10 -2.20384248e-10 -1.65635733e-10\n",
      "  -0.00000000e+00]\n",
      " [ 2.36835419e-09  3.23728759e-09  3.35867742e-09  2.28038258e-09\n",
      "  -1.71583988e-10 -2.20383790e-10 -2.75123127e-10 -2.01145001e-10\n",
      "  -0.00000000e+00]\n",
      " [ 1.51939102e-09  2.20123320e-09  2.28038258e-09  3.39944797e-09\n",
      "  -1.08682729e-10 -1.65630220e-10 -2.01140112e-10 -5.35936148e-10\n",
      "   0.00000000e+00]\n",
      " [-3.07091465e-09 -2.22092335e-10 -1.71583988e-10 -1.08682729e-10\n",
      "   2.22105731e-09  3.30205693e-10  2.84475588e-10  1.82264589e-10\n",
      "  -0.00000000e+00]\n",
      " [-2.22079266e-10 -2.67787336e-10 -2.20383790e-10 -1.65630220e-10\n",
      "   3.30205693e-10  4.34708081e-10  3.86465385e-10  2.65474299e-10\n",
      "   0.00000000e+00]\n",
      " [-1.71572069e-10 -2.20384248e-10 -2.75123127e-10 -2.01140112e-10\n",
      "   2.84475588e-10  3.86465385e-10  4.08886771e-10  2.80062595e-10\n",
      "   0.00000000e+00]\n",
      " [-1.08678732e-10 -1.65635733e-10 -2.01145001e-10 -5.35936148e-10\n",
      "   1.82264589e-10  2.65474299e-10  2.80062595e-10  4.57774694e-10\n",
      "  -0.00000000e+00]\n",
      " [ 0.00000000e+00  0.00000000e+00  0.00000000e+00  0.00000000e+00\n",
      "   0.00000000e+00  0.00000000e+00  0.00000000e+00  0.00000000e+00\n",
      "   3.08065341e-07]]\n",
      "Starting 4000 iterations for harmonic run\n"
     ]
    },
    {
     "name": "stderr",
     "output_type": "stream",
     "text": [
      "sample: 100%|██████████| 4000/4000 [17:02<00:00,  3.91it/s]"
     ]
    },
    {
     "name": "stdout",
     "output_type": "stream",
     "text": [
      "End of MH iterations for harmonic run in 17.04430958429972 minutes, now saving results !\n"
     ]
    },
    {
     "name": "stderr",
     "output_type": "stream",
     "text": [
      "\n"
     ]
    },
    {
     "name": "stdout",
     "output_type": "stream",
     "text": [
      "\n",
      "                mean       std    median      5.0%     95.0%     n_eff     r_hat\n",
      "Param:0[0]     -0.01      0.01     -0.01     -0.01      0.00      2.59      2.43\n",
      "Param:0[1]     -0.00      0.00     -0.00     -0.00      0.00      3.76      1.27\n",
      "Param:0[2]      0.00      0.00      0.00     -0.00      0.01      2.99      1.89\n",
      "Param:0[3]      0.01      0.01      0.01      0.00      0.02      2.50      2.76\n",
      "Param:0[4]      0.01      0.01      0.01     -0.00      0.01      2.58      2.48\n",
      "Param:0[5]      0.01      0.00      0.01     -0.00      0.01      2.56      2.58\n",
      "Param:0[6]      0.00      0.00      0.00     -0.00      0.01      2.61      2.56\n",
      "Param:0[7]     -0.00      0.00     -0.00     -0.01      0.00      2.44      2.75\n",
      "Param:0[8]      0.20      0.08      0.22      0.08      0.31      2.98      1.99\n",
      "\n"
     ]
    }
   ],
   "source": [
    "perform_harmonic_MH(MICMAC_obj, input_freq_maps, c_ell_approx, init_params_mixing_matrix, initial_guess_r=first_guess_r,\n",
    "                                    covariance_B_f_r=covariance_matrix, theoretical_r0_total=theoretical_r0_total, theoretical_r1_tensor=theoretical_r1_tensor)"
   ]
  },
  {
   "cell_type": "code",
   "execution_count": 18,
   "metadata": {},
   "outputs": [],
   "source": [
    "def wrapper_map2alm(maps_, lmax=MICMAC_obj.lmax, n_iter=MICMAC_obj.n_iter, nside=MICMAC_obj.nside):\n",
    "    alm_T, alm_E, alm_B = hp.map2alm(\n",
    "        maps_.reshape((3, 12 * nside**2)), lmax=lmax, iter=n_iter\n",
    "    )\n",
    "    return np.array([alm_T, alm_E, alm_B])\n",
    "\n",
    "@partial(jax.jit, static_argnums=(1))\n",
    "def pure_call_map2alm(maps_, lmax):\n",
    "    shape_output = (3, (lmax + 1) * (lmax // 2 + 1))\n",
    "    return jax.pure_callback(\n",
    "        wrapper_map2alm,\n",
    "        jax.ShapeDtypeStruct(shape_output, np.complex128),\n",
    "        maps_.ravel(),\n",
    "    )"
   ]
  },
  {
   "cell_type": "code",
   "execution_count": 19,
   "metadata": {},
   "outputs": [],
   "source": [
    "JAX_input_freq_maps = jnp.array(input_freq_maps)\n",
    "def get_freq_alm(num_frequency):\n",
    "    input_map_extended = jnp.vstack((JAX_input_freq_maps[num_frequency,0], JAX_input_freq_maps[num_frequency,...]))\n",
    "    all_alms = jnp.array(pure_call_map2alm(input_map_extended, lmax=MICMAC_obj.lmax))\n",
    "    return all_alms[3-MICMAC_obj.nstokes:,...]\n",
    "\n",
    "\n",
    "input_freq_alms = jax.vmap(get_freq_alm)(jnp.arange(MICMAC_obj.n_frequencies))"
   ]
  },
  {
   "cell_type": "code",
   "execution_count": 20,
   "metadata": {},
   "outputs": [],
   "source": [
    "sample_B_f_r = jnp.concatenate((init_params_mixing_matrix.ravel(order='F'), jnp.array(first_guess_r).reshape(1)))\n",
    "\n",
    "freq_noise_c_ell_extended = jnp.einsum('fgl,sk->fglsk', MICMAC_obj.freq_noise_c_ell, jnp.eye(MICMAC_obj.nstokes))\n",
    "noise_weighted_alm_data = frequency_alms_x_obj_red_covariance_cell_JAX(input_freq_alms, freq_noise_c_ell_extended, lmin=MICMAC_obj.lmin, n_iter=MICMAC_obj.n_iter)"
   ]
  },
  {
   "cell_type": "code",
   "execution_count": 21,
   "metadata": {},
   "outputs": [],
   "source": [
    "def harmonic_marginal_probability(self, sample_B_f_r, noise_weighted_alm_data, theoretical_red_cov_r1_tensor, theoretical_red_cov_r0_total, red_cov_approx_matrix):\n",
    "        \"\"\" Get marginal probability of the full likelihood, over s_c\n",
    "        \"\"\"\n",
    "\n",
    "        chx.assert_axis_dimension(sample_B_f_r, 0, 2*(self.n_frequencies-jnp.size(self.pos_special_freqs))+1)\n",
    "        chx.assert_axis_dimension(red_cov_approx_matrix, 0, self.lmax+1-self.lmin)\n",
    "        chx.assert_axis_dimension(theoretical_red_cov_r1_tensor, 0, self.lmax+1-self.lmin)\n",
    "        chx.assert_axis_dimension(theoretical_red_cov_r0_total, 0, self.lmax+1-self.lmin)\n",
    "        chx.assert_axis_dimension(noise_weighted_alm_data, 0, self.n_frequencies)\n",
    "        chx.assert_axis_dimension(noise_weighted_alm_data, 1, self.nstokes)\n",
    "\n",
    "        r_param = sample_B_f_r[-1]\n",
    "        B_f = sample_B_f_r[:-1].reshape((self.n_frequencies-jnp.size(self.pos_special_freqs), self.n_components-1),order='F')\n",
    "\n",
    "        self.update_params(B_f, jax_use=True)\n",
    "        mixing_matrix_sample = self.get_B(jax_use=True)\n",
    "\n",
    "        red_CMB_cell = theoretical_red_cov_r0_total + r_param*theoretical_red_cov_r1_tensor\n",
    "\n",
    "        inv_BtinvNB_c_ell = get_inv_BtinvNB_c_ell(self.freq_noise_c_ell, mixing_matrix_sample)\n",
    "        inv_noise_CMB = inv_BtinvNB_c_ell[0,0]\n",
    "        red_inv_noise_CMB = jnp.einsum('l,sk->lsk', inv_noise_CMB, jnp.eye(self.nstokes))\n",
    "\n",
    "        ## Computation of the first term d^t P d\n",
    "        central_term_1_ = jnp.einsum('fc,ckl,gk->fgl',\n",
    "                                    mixing_matrix_sample, \n",
    "                                    inv_BtinvNB_c_ell, \n",
    "                                    mixing_matrix_sample)\n",
    "\n",
    "        central_term_1 = jnp.einsum('fnl,sk->fnlsk', central_term_1_, jnp.eye(self.nstokes))\n",
    "\n",
    "        frequency_alm_central_term_1 = frequency_alms_x_obj_red_covariance_cell_JAX(\n",
    "                                                            noise_weighted_alm_data, \n",
    "                                                            central_term_1, \n",
    "                                                            lmin=self.lmin, \n",
    "                                                            n_iter=self.n_iter)\n",
    "\n",
    "        first_term = jnp.linalg.norm(jnp.einsum('fsl,fsl', noise_weighted_alm_data, jnp.conjugate(frequency_alm_central_term_1)))\n",
    "\n",
    "        ## Computation of the second term s_{c,ML}^t (C^{-1} + N_c^{-1}) s_{c,ML}\n",
    "        # frequency_noise_Stokes = jnp.einsum('fgl,sk->fglsk', red_freq_inverse_noise, jnp.eye(self.nstokes))\n",
    "    \n",
    "        multiplicative_term_s_cML_ = jnp.einsum('ckl,fk->cfl',\n",
    "                            inv_BtinvNB_c_ell,\n",
    "                            mixing_matrix_sample)\n",
    "        multiplicative_term_s_cML = jnp.einsum('cfl,sk->cflsk', multiplicative_term_s_cML_, jnp.eye(self.nstokes))\n",
    "        s_cML = frequency_alms_x_obj_red_covariance_cell_JAX(noise_weighted_alm_data, multiplicative_term_s_cML, lmin=self.lmin, n_iter=self.n_iter)[0,...]\n",
    "        \n",
    "\n",
    "        central_term_2 = jnp.linalg.pinv(red_inv_noise_CMB + red_CMB_cell)\n",
    "        alm_central_term_2 = alms_x_red_covariance_cell_JAX(s_cML, central_term_2, lmin=self.lmin, n_iter=self.n_iter)\n",
    "\n",
    "        second_term_complete = jnp.linalg.norm(jnp.einsum('sl,sl', s_cML, jnp.conjugate(alm_central_term_2)))\n",
    "        \n",
    "        ## Computation of the third term ln | (C + N_c) (C_approx + N_c)^-1 |\n",
    "        red_contribution = jnp.einsum('lsk,lkm->lsm', \n",
    "                                        red_CMB_cell + red_inv_noise_CMB, \n",
    "                                        jnp.linalg.pinv(red_inv_noise_CMB + red_cov_approx_matrix))\n",
    "\n",
    "        third_term = ( (2*jnp.arange(self.lmin, self.lmax+1) +1) * jnp.log(jnp.linalg.det(red_contribution)) ).sum()\n",
    "\n",
    "        return -(first_term + second_term_complete + third_term)/2\n"
   ]
  },
  {
   "cell_type": "code",
   "execution_count": 22,
   "metadata": {},
   "outputs": [
    {
     "data": {
      "text/plain": [
       "Array(-1.11987547e+08, dtype=float64)"
      ]
     },
     "execution_count": 22,
     "metadata": {},
     "output_type": "execute_result"
    }
   ],
   "source": [
    "harmonic_marginal_probability(MICMAC_obj, sample_B_f_r, noise_weighted_alm_data, theoretical_red_cov_r1_tensor, theoretical_red_cov_r0_total, red_cov_approx_matrix=red_cov_approx_matrix)"
   ]
  },
  {
   "cell_type": "code",
   "execution_count": null,
   "metadata": {},
   "outputs": [],
   "source": []
  }
 ],
 "metadata": {
  "kernelspec": {
   "display_name": "non_param_silver",
   "language": "python",
   "name": "python3"
  },
  "language_info": {
   "codemirror_mode": {
    "name": "ipython",
    "version": 3
   },
   "file_extension": ".py",
   "mimetype": "text/x-python",
   "name": "python",
   "nbconvert_exporter": "python",
   "pygments_lexer": "ipython3",
   "version": "3.9.16"
  }
 },
 "nbformat": 4,
 "nbformat_minor": 2
}
