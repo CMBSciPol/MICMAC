{
 "cells": [
  {
   "cell_type": "markdown",
   "metadata": {},
   "source": [
    "# Fisher test"
   ]
  },
  {
   "cell_type": "code",
   "execution_count": 40,
   "metadata": {},
   "outputs": [],
   "source": [
    "import os, sys, time\n",
    "import numpy as np\n",
    "import scipy\n",
    "import healpy as hp\n",
    "from fgbuster.observation_helpers import *\n",
    "\n",
    "import micmac"
   ]
  },
  {
   "cell_type": "code",
   "execution_count": 5,
   "metadata": {},
   "outputs": [],
   "source": [
    "working_directory_path = os.path.abspath('') + '/'\n",
    "# directory_save_file = working_directory_path + 'save_directory/'\n",
    "directory_toml_file = working_directory_path #+ 'toml_params/'\n",
    "path_toml_file = directory_toml_file + 'full_chain_v1a.toml'"
   ]
  },
  {
   "cell_type": "code",
   "execution_count": 6,
   "metadata": {},
   "outputs": [],
   "source": [
    "MICMAC_sampler_obj = micmac.create_MICMAC_sampler_from_toml_file(path_toml_file)"
   ]
  },
  {
   "cell_type": "code",
   "execution_count": 7,
   "metadata": {},
   "outputs": [
    {
     "name": "stderr",
     "output_type": "stream",
     "text": [
      "OMP: Info #276: omp_set_nested routine deprecated, please use omp_set_max_active_levels instead.\n"
     ]
    },
    {
     "name": "stdout",
     "output_type": "stream",
     "text": [
      "Shape for input frequency maps : (6, 2, 49152)\n"
     ]
    }
   ],
   "source": [
    "# General parameters\n",
    "cmb_model = 'c1'\n",
    "fgs_model = 'd0s0'\n",
    "model = cmb_model+fgs_model\n",
    "noise = True\n",
    "# noise = False\n",
    "noise_seed = 42\n",
    "# instr_name = dictionary_parameters['instrument_name'] #'SO_SAT'\n",
    "instr_name = 'SO_SAT'\n",
    "\n",
    "# get instrument from public database\n",
    "instrument = get_instrument(instr_name)\n",
    "\n",
    "# get input freq maps\n",
    "np.random.seed(noise_seed)\n",
    "# freq_maps = get_observation(instrument, model, nside=NSIDE, noise=noise)[:, 1:, :]   # keep only Q and U\n",
    "freq_maps_fgs = get_observation(instrument, fgs_model, nside=MICMAC_sampler_obj.nside, noise=noise)[:, 1:, :]   # keep only Q and U\n",
    "print(\"Shape for input frequency maps :\", freq_maps_fgs.shape)"
   ]
  },
  {
   "cell_type": "code",
   "execution_count": 8,
   "metadata": {},
   "outputs": [],
   "source": [
    "init_mixing_matrix_obj = micmac.InitMixingMatrix(MICMAC_sampler_obj.frequency_array, MICMAC_sampler_obj.number_components, pos_special_freqs=MICMAC_sampler_obj.pos_special_freqs)\n",
    "\n",
    "exact_params_mixing_matrix = init_mixing_matrix_obj.init_params()\n",
    "\n",
    "mixing_matrix_obj = micmac.MixingMatrix(MICMAC_sampler_obj.frequency_array, MICMAC_sampler_obj.number_components, exact_params_mixing_matrix, pos_special_freqs=MICMAC_sampler_obj.pos_special_freqs)\n",
    "# invBtinvNB = micmac.get_inv_BtinvNB(MICMAC_sampler_obj.freq_inverse_noise, mixing_matrix_obj.get_B())"
   ]
  },
  {
   "cell_type": "code",
   "execution_count": 9,
   "metadata": {},
   "outputs": [
    {
     "name": "stdout",
     "output_type": "stream",
     "text": [
      "Calculating spectra from CAMB !\n",
      "Calculating spectra from CAMB !\n"
     ]
    }
   ],
   "source": [
    "input_freq_maps, input_cmb_maps, theoretical_red_cov_r0_total, theoretical_red_cov_r1_tensor = MICMAC_sampler_obj.generate_input_freq_maps_from_fgs(freq_maps_fgs, return_only_freq_maps=False)"
   ]
  },
  {
   "cell_type": "code",
   "execution_count": 10,
   "metadata": {},
   "outputs": [],
   "source": [
    "\n",
    "theoretical_r0_total = micmac.get_c_ells_from_red_covariance_matrix(theoretical_red_cov_r0_total)#[partial_indices_polar,:]\n",
    "theoretical_r1_tensor = micmac.get_c_ells_from_red_covariance_matrix(theoretical_red_cov_r1_tensor)#[partial_indices_polar,:]\n",
    "\n",
    "indices_polar = np.array([1,2,4])\n",
    "partial_indices_polar = indices_polar[:MICMAC_sampler_obj.nstokes]\n",
    "\n",
    "red_covar_CMB = theoretical_red_cov_r0_total + MICMAC_sampler_obj.r_true * theoretical_red_cov_r1_tensor"
   ]
  },
  {
   "cell_type": "code",
   "execution_count": 11,
   "metadata": {},
   "outputs": [
    {
     "data": {
      "text/plain": [
       "(array([[0.33858815, 0.00979233],\n",
       "        [0.02963068, 0.05147511],\n",
       "        [0.00998213, 0.12913911],\n",
       "        [0.00328725, 0.44076761]]),\n",
       " array([0.33858815, 0.02963068, 0.00998213, 0.00328725, 0.00979233,\n",
       "        0.05147511, 0.12913911, 0.44076761]))"
      ]
     },
     "execution_count": 11,
     "metadata": {},
     "output_type": "execute_result"
    }
   ],
   "source": [
    "exact_params_mixing_matrix, exact_params_mixing_matrix.ravel(order='F')"
   ]
  },
  {
   "cell_type": "code",
   "execution_count": 12,
   "metadata": {},
   "outputs": [],
   "source": [
    "input_freq_maps_extended = np.insert(input_freq_maps, [0], np.zeros(MICMAC_sampler_obj.npix), axis=1)\n"
   ]
  },
  {
   "cell_type": "markdown",
   "metadata": {},
   "source": [
    "# Setting new noise"
   ]
  },
  {
   "cell_type": "code",
   "execution_count": 25,
   "metadata": {},
   "outputs": [],
   "source": [
    "B_matrix = mixing_matrix_obj.get_B()"
   ]
  },
  {
   "cell_type": "code",
   "execution_count": 46,
   "metadata": {},
   "outputs": [],
   "source": [
    "freq_noise = np.linalg.pinv(MICMAC_sampler_obj.freq_inverse_noise)\n",
    "red_freq_noise = np.einsum('fk,l,sp->fklsp', freq_noise, np.ones_like(red_covar_CMB[:,0,0]), np.eye(MICMAC_sampler_obj.nstokes))\n",
    "\n",
    "def get_logproba_spectral(param_mixing_matrix, red_cell_CMB, red_cell_noise, _input_freq_maps):\n",
    "\n",
    "    mixing_matrix_obj.update_params(param_mixing_matrix.reshape((MICMAC_sampler_obj.number_frequencies-len(MICMAC_sampler_obj.pos_special_freqs), MICMAC_sampler_obj.number_components-1), order='F'))\n",
    "    mixing_matrix = mixing_matrix_obj.get_B()\n",
    "\n",
    "    B_f = mixing_matrix[:,1:]\n",
    "    \n",
    "    red_cmb_noise = np.einsum('k,lsp,f->kflsp', B_matrix[:,0], red_cell_CMB, B_matrix[:,0])\n",
    "    total_noise = red_cmb_noise + red_cell_noise\n",
    "\n",
    "    inverse_central_term = np.linalg.pinv(np.einsum('fc,fk...,kp->cp...', B_f, np.linalg.pinv(total_noise), B_f))\n",
    "\n",
    "    global_central_term = np.einsum('fklst,kc,cmltu,im,ijluv->fjlsv', np.linalg.pinv(total_noise), B_f, inverse_central_term, B_f, np.linalg.pinv(total_noise))\n",
    "\n",
    "    modified_map = np.zeros_like(_input_freq_maps)\n",
    "    for freq1 in range(MICMAC_sampler_obj.number_frequencies):\n",
    "        for freq2 in range(MICMAC_sampler_obj.number_frequencies):\n",
    "            modified_map[freq1] += micmac.maps_x_red_covariance_cell_JAX(_input_freq_maps[freq2], global_central_term[freq1,freq2], nside=MICMAC_sampler_obj.nside, lmin=MICMAC_sampler_obj.lmin, n_iter=MICMAC_sampler_obj.n_iter)\n",
    "    return np.einsum('fsp,fsp', _input_freq_maps, modified_map)/2\n"
   ]
  },
  {
   "cell_type": "code",
   "execution_count": 48,
   "metadata": {},
   "outputs": [
    {
     "data": {
      "text/plain": [
       "70671116831678.11"
      ]
     },
     "execution_count": 48,
     "metadata": {},
     "output_type": "execute_result"
    }
   ],
   "source": [
    "get_logproba_spectral(exact_params_mixing_matrix, red_covar_CMB, red_freq_noise, input_freq_maps)"
   ]
  },
  {
   "cell_type": "code",
   "execution_count": 49,
   "metadata": {},
   "outputs": [],
   "source": [
    "results_minimizer = scipy.optimize.minimize(get_logproba_spectral, exact_params_mixing_matrix.ravel(order='F'), args=(red_covar_CMB, red_freq_noise, input_freq_maps)) #, method='Nelder-Mead', options={'maxiter': 1000, 'disp': True}"
   ]
  },
  {
   "cell_type": "code",
   "execution_count": 50,
   "metadata": {},
   "outputs": [
    {
     "name": "stdout",
     "output_type": "stream",
     "text": [
      "[0.62002271 0.60349808 0.7600056  1.41400384 0.02746361 0.01029355\n",
      " 0.06526709 0.29676381]\n"
     ]
    }
   ],
   "source": [
    "print(results_minimizer.x)"
   ]
  },
  {
   "cell_type": "code",
   "execution_count": 51,
   "metadata": {},
   "outputs": [
    {
     "data": {
      "text/plain": [
       "array([0.33858815, 0.02963068, 0.00998213, 0.00328725, 0.00979233,\n",
       "       0.05147511, 0.12913911, 0.44076761])"
      ]
     },
     "execution_count": 51,
     "metadata": {},
     "output_type": "execute_result"
    }
   ],
   "source": [
    "exact_params_mixing_matrix.ravel(order='F')"
   ]
  },
  {
   "cell_type": "code",
   "execution_count": null,
   "metadata": {},
   "outputs": [],
   "source": []
  }
 ],
 "metadata": {
  "kernelspec": {
   "display_name": "non_param_silver",
   "language": "python",
   "name": "python3"
  },
  "language_info": {
   "codemirror_mode": {
    "name": "ipython",
    "version": 3
   },
   "file_extension": ".py",
   "mimetype": "text/x-python",
   "name": "python",
   "nbconvert_exporter": "python",
   "pygments_lexer": "ipython3",
   "version": "3.9.16"
  }
 },
 "nbformat": 4,
 "nbformat_minor": 2
}
