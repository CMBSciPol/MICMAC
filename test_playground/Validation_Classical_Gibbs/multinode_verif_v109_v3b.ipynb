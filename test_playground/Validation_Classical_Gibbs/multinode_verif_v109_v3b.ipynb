{
 "cells": [
  {
   "cell_type": "markdown",
   "metadata": {},
   "source": [
    "# Gibbs chain verification"
   ]
  },
  {
   "cell_type": "code",
   "execution_count": 1,
   "metadata": {},
   "outputs": [],
   "source": [
    "import os, sys, time\n",
    "import numpy as np\n",
    "import matplotlib.pyplot as plt\n",
    "import scipy as sp\n",
    "import healpy as hp\n",
    "import astropy.io.fits as fits\n",
    "import camb\n",
    "import scipy\n",
    "import toml\n",
    "import jax\n",
    "import jax.numpy as jnp\n",
    "import jax.lax as jlax\n",
    "import jax.scipy as jsp\n",
    "import jax_healpy as jhp\n",
    "import numpyro\n",
    "from fgbuster.observation_helpers import *\n",
    "import micmac as micmac\n",
    "\n",
    "from jax import config\n",
    "config.update(\"jax_enable_x64\", True)"
   ]
  },
  {
   "cell_type": "code",
   "execution_count": 2,
   "metadata": {},
   "outputs": [],
   "source": [
    "sys.path.append(os.path.dirname(os.path.abspath('')))\n",
    "sys.path.append(os.path.dirname(os.path.dirname(os.path.abspath('')))+'/tutorials/')"
   ]
  },
  {
   "cell_type": "code",
   "execution_count": 3,
   "metadata": {},
   "outputs": [],
   "source": [
    "working_directory_path = os.path.abspath('') + '/'\n",
    "directory_save_file = working_directory_path + 'save_directory/'\n",
    "directory_toml_file = working_directory_path + 'main_params/'\n",
    "directory_additional_params = working_directory_path + 'additional_params/'\n"
   ]
  },
  {
   "cell_type": "markdown",
   "metadata": {},
   "source": [
    "# Studying the sampling !"
   ]
  },
  {
   "cell_type": "code",
   "execution_count": 4,
   "metadata": {},
   "outputs": [],
   "source": [
    "sub_step_sampling = 1\n",
    "num_jobs = 1\n",
    "file_ver = 'class_fullsky_1freq_nofg_v1a2_{}_{}'\n",
    "path_additional_params = directory_additional_params + 'add_class_fullsky_f1freq_nofg_v1a.toml'\n",
    "## Test classical Gibbs\n",
    "\n",
    "sub_step_sampling = 1\n",
    "num_jobs = 1\n",
    "file_ver = 'class_cutsky_1freq_nofg_v1a4_{}_{}'\n",
    "path_additional_params = directory_additional_params + 'add_class_cutsky_f1freq_nofg_v1a.toml'\n",
    "## Test classical Gibbs\n",
    "\n",
    "# sub_step_sampling = 1\n",
    "# num_jobs = 1\n",
    "# file_ver = 'class_cutsky_1freq_nofg_v1b_{}_{}'\n",
    "# path_additional_params = directory_additional_params + 'add_class_cutsky_f1freq_nofg_v1b.toml'\n",
    "# ## Test classical Gibbs with L_BB(r)\n",
    "\n",
    "# sub_step_sampling = 1\n",
    "# num_jobs = 1\n",
    "# file_ver = 'class_cutsky_1freq_nofg_v1c_{}_{}'\n",
    "# path_additional_params = directory_additional_params + 'add_class_cutsky_f1freq_nofg_v1c.toml'\n",
    "# ##"
   ]
  },
  {
   "cell_type": "code",
   "execution_count": 5,
   "metadata": {},
   "outputs": [],
   "source": [
    "fast_verion_bool = True"
   ]
  },
  {
   "cell_type": "code",
   "execution_count": 6,
   "metadata": {},
   "outputs": [
    {
     "name": "stdout",
     "output_type": "stream",
     "text": [
      "Using toml file:  class_cutsky_1freq.toml\n"
     ]
    }
   ],
   "source": [
    "with open(path_additional_params) as f:\n",
    "    dictionary_additional_parameters = toml.load(f)\n",
    "f.close()\n",
    "\n",
    "directory_mask = dictionary_additional_parameters['directory_mask']\n",
    "reduction_noise = dictionary_additional_parameters['reduction_noise']\n",
    "# factor_Fisher = dictionary_additional_parameters['factor_Fisher']\n",
    "# relative_treshold = dictionary_additional_parameters['relative_treshold']\n",
    "# sigma_gap = dictionary_additional_parameters['sigma_gap']\n",
    "fgs_model = dictionary_additional_parameters['fgs_model']\n",
    "# initial_guess_r = dictionary_additional_parameters['initial_guess_r']\n",
    "# use_nhits = dictionary_additional_parameters['use_nhits']\n",
    "name_mask = dictionary_additional_parameters['name_mask']\n",
    "# use_mask = dictionary_additional_parameters['use_mask']\n",
    "name_toml = dictionary_additional_parameters['name_toml']\n",
    "name_file_spv = dictionary_additional_parameters['name_file_spv']\n",
    "print(\"Using toml file: \", name_toml)"
   ]
  },
  {
   "cell_type": "code",
   "execution_count": null,
   "metadata": {},
   "outputs": [],
   "source": []
  },
  {
   "cell_type": "code",
   "execution_count": 7,
   "metadata": {},
   "outputs": [],
   "source": [
    "path_toml_file = directory_toml_file + name_toml\n",
    "if name_file_spv != '':\n",
    "    path_file_spv = directory_toml_file + name_file_spv\n",
    "else:\n",
    "    path_file_spv = ''"
   ]
  },
  {
   "cell_type": "code",
   "execution_count": 8,
   "metadata": {},
   "outputs": [
    {
     "name": "stdout",
     "output_type": "stream",
     "text": [
      "No spatial variability case\n"
     ]
    },
    {
     "name": "stdout",
     "output_type": "stream",
     "text": [
      "\n",
      ">>> Tree of spv config as passed by the User:\n",
      "root\n",
      "  nside_spv\n",
      "    default: [0]\n",
      "\n",
      ">>> Tree of spv config after filling the missing values:\n",
      "root\n",
      "  nside_spv\n",
      "    default: [0]\n"
     ]
    }
   ],
   "source": [
    "MICMAC_sampler_obj = micmac.create_MICMAC_sampler_from_toml_file(path_toml_file, path_file_spv)"
   ]
  },
  {
   "cell_type": "code",
   "execution_count": 9,
   "metadata": {},
   "outputs": [],
   "source": [
    "if (MICMAC_sampler_obj.number_iterations_sampling > 100) and (sub_step_sampling==1):\n",
    "    sub_step_sampling = 50\n",
    "elif MICMAC_sampler_obj.number_iterations_sampling > 1000:\n",
    "    sub_step_sampling = 100\n",
    "elif MICMAC_sampler_obj.number_iterations_sampling > 3000:\n",
    "    sub_step_sampling = 200"
   ]
  },
  {
   "cell_type": "code",
   "execution_count": 10,
   "metadata": {},
   "outputs": [],
   "source": [
    "NSIDE = MICMAC_sampler_obj.nside\n",
    "noise_seed = MICMAC_sampler_obj.seed\n",
    "instr_name = MICMAC_sampler_obj.instrument_name\n",
    "\n",
    "# get instrument from public database\n",
    "if MICMAC_sampler_obj.instrument_name != 'customized_instrument': ## TODO: Improve a bit this part\n",
    "        instrument = get_instrument(MICMAC_sampler_obj.instrument_name)\n",
    "else:\n",
    "    with open(path_toml_file) as f:\n",
    "        dictionary_toml = toml.load(f)\n",
    "    f.close()\n",
    "    instrument = micmac.get_instr(MICMAC_sampler_obj.frequency_array, dictionary_toml['depth_p'])\n",
    "\n",
    "# get input freq maps\n",
    "np.random.seed(noise_seed)\n",
    "\n",
    "freq_maps_fgs = get_observation(instrument, fgs_model, nside=NSIDE, noise=True)[:, 1:, :]   # keep only Q and U\n"
   ]
  },
  {
   "cell_type": "code",
   "execution_count": 11,
   "metadata": {},
   "outputs": [],
   "source": [
    "freq_inverse_noise = micmac.get_noise_covar_extended(instrument['depth_p']/reduction_noise, MICMAC_sampler_obj.nside)"
   ]
  },
  {
   "cell_type": "code",
   "execution_count": 12,
   "metadata": {},
   "outputs": [
    {
     "name": "stdout",
     "output_type": "stream",
     "text": [
      "Calculating spectra from CAMB !\n",
      "Calculating spectra from CAMB !\n"
     ]
    }
   ],
   "source": [
    "_, _, theoretical_red_cov_r0_total, theoretical_red_cov_r1_tensor = MICMAC_sampler_obj.generate_input_freq_maps_from_fgs(freq_maps_fgs, return_only_freq_maps=False)\n",
    "\n",
    "theoretical_r0_total = micmac.get_c_ells_from_red_covariance_matrix(theoretical_red_cov_r0_total)#[partial_indices_polar,:]\n",
    "theoretical_r1_tensor = micmac.get_c_ells_from_red_covariance_matrix(theoretical_red_cov_r1_tensor)#[partial_indices_polar,:]\n",
    "\n",
    "indices_polar = np.array([1,2,4])\n",
    "partial_indices_polar = indices_polar[:MICMAC_sampler_obj.nstokes]\n"
   ]
  },
  {
   "cell_type": "code",
   "execution_count": 13,
   "metadata": {},
   "outputs": [],
   "source": [
    "initial_freq_maps = []\n",
    "input_cmb_maps = []\n",
    "all_eta_maps = []\n",
    "all_s_c_WF_maps = []\n",
    "all_s_c_fluct_maps = []\n",
    "all_s_c_samples = []\n",
    "all_r_samples = []\n",
    "all_cell_samples = []\n",
    "all_params_mixing_matrix_samples = []\n",
    "\n",
    "for job in range(num_jobs):\n",
    "\n",
    "    initial_freq_maps_path = directory_save_file+file_ver.format(job,num_jobs)+'_initial_data.npy'\n",
    "    initial_freq_maps.append(np.load(initial_freq_maps_path))\n",
    "\n",
    "    initial_cmb_maps_path = directory_save_file+file_ver.format(job,num_jobs)+'_initial_cmb_data.npy'\n",
    "    input_cmb_maps.append(np.load(initial_cmb_maps_path))\n",
    "    if MICMAC_sampler_obj.save_eta_chain_maps:\n",
    "        all_eta_maps_path = directory_save_file+file_ver.format(job,num_jobs)+'_all_eta_maps.npy'\n",
    "        all_eta_maps.append(np.load(all_eta_maps_path))\n",
    "    \n",
    "    if MICMAC_sampler_obj.save_CMB_chain_maps:\n",
    "        all_s_c_WF_maps_path = directory_save_file+file_ver.format(job,num_jobs)+'_all_s_c_WF_maps.npy'\n",
    "        all_s_c_WF_maps.append(np.load(all_s_c_WF_maps_path))\n",
    "\n",
    "        all_s_c_fluct_maps_path = directory_save_file+file_ver.format(job,num_jobs)+'_all_s_c_fluct_maps.npy'\n",
    "        all_s_c_fluct_maps.append(np.load(all_s_c_fluct_maps_path))\n",
    "\n",
    "\n",
    "    if MICMAC_sampler_obj.sample_r_Metropolis:\n",
    "        all_r_samples_path = directory_save_file+file_ver.format(job,num_jobs)+'_all_r_samples.npy'\n",
    "        all_r_samples.append(np.load(all_r_samples_path))\n",
    "    elif MICMAC_sampler_obj.sample_C_inv_Wishart:\n",
    "        all_cell_samples_path = directory_save_file+file_ver.format(job,num_jobs)+'_all_cell_samples.npy'\n",
    "        all_cell_samples.append(np.load(all_cell_samples_path))\n",
    "\n",
    "    all_params_mixing_matrix_samples_path = directory_save_file+file_ver.format(job,num_jobs)+'_all_params_mixing_matrix_samples.npy'\n",
    "    all_params_mixing_matrix_samples.append(np.load(all_params_mixing_matrix_samples_path))\n",
    "\n",
    "initial_freq_maps = np.array(initial_freq_maps)\n",
    "input_cmb_maps = np.array(input_cmb_maps)\n",
    "if MICMAC_sampler_obj.save_eta_chain_maps:\n",
    "    all_eta_maps = np.array(all_eta_maps)\n",
    "if MICMAC_sampler_obj.save_CMB_chain_maps:\n",
    "    all_s_c_WF_maps = np.array(all_s_c_WF_maps)\n",
    "    all_s_c_fluct_maps = np.array(all_s_c_fluct_maps)\n",
    "if MICMAC_sampler_obj.sample_r_Metropolis:\n",
    "    all_r_samples = np.array(all_r_samples)\n",
    "elif MICMAC_sampler_obj.sample_C_inv_Wishart:\n",
    "    all_cell_samples = np.array(all_cell_samples)\n",
    "all_params_mixing_matrix_samples = np.array(all_params_mixing_matrix_samples)"
   ]
  },
  {
   "cell_type": "code",
   "execution_count": 14,
   "metadata": {},
   "outputs": [
    {
     "name": "stdout",
     "output_type": "stream",
     "text": [
      "### Expected 500 iterations, but got 2000 iterations !!!\n"
     ]
    }
   ],
   "source": [
    "print(\"### Expected\", MICMAC_sampler_obj.number_iterations_sampling, \"iterations, but got\", all_params_mixing_matrix_samples.shape[1] - 1, \"iterations !!!\")\n",
    "MICMAC_sampler_obj.number_iterations_sampling = all_params_mixing_matrix_samples.shape[1] - 1"
   ]
  },
  {
   "cell_type": "code",
   "execution_count": 15,
   "metadata": {},
   "outputs": [],
   "source": [
    "assert MICMAC_sampler_obj.number_iterations_sampling + 1 == all_params_mixing_matrix_samples.shape[1]"
   ]
  },
  {
   "cell_type": "code",
   "execution_count": 16,
   "metadata": {},
   "outputs": [
    {
     "name": "stdout",
     "output_type": "stream",
     "text": [
      "No Fisher matrix found at /Users/mag/Documents/PHD1Y/Space_Work/Pixel_non_P2D/MICMAC/test_playground/Validation_Classical_Gibbs/../Fisher_matrix_customized_instrument_EB_model_d0s0_noise_True_seed_42_lmin2_lmax128.txt\n"
     ]
    }
   ],
   "source": [
    "path_Fisher = working_directory_path+'../Fisher_matrix_{}_EB_model_d0s0_noise_True_seed_42_lmin2_lmax128.txt'.format(MICMAC_sampler_obj.instrument_name)\n",
    "\n",
    "try: \n",
    "    Fisher_matrix = np.loadtxt(path_Fisher)\n",
    "    print(jnp.array(jnp.diag(jsp.linalg.sqrtm(np.linalg.inv(Fisher_matrix))), dtype=jnp.float64))\n",
    "except:\n",
    "    print(\"No Fisher matrix found at\", path_Fisher)\n",
    "    Fisher_matrix = None"
   ]
  },
  {
   "cell_type": "code",
   "execution_count": 17,
   "metadata": {},
   "outputs": [],
   "source": [
    "\n",
    "# Getting C_approx and a first guess for C\n",
    "c_ell_approx = np.zeros((3,MICMAC_sampler_obj.lmax+1))\n",
    "c_ell_approx[0,MICMAC_sampler_obj.lmin:] = theoretical_r0_total[0,:]\n",
    "c_ell_approx[1,MICMAC_sampler_obj.lmin:] = theoretical_r0_total[1,:]\n",
    "\n",
    "\n",
    "# CMB covariance preparation\n",
    "red_cov_approx_matrix = micmac.get_reduced_matrix_from_c_ell(c_ell_approx)[MICMAC_sampler_obj.lmin:,...]\n",
    "\n",
    "# Mixing matrix initialization\n",
    "init_mixing_matrix_obj = micmac.InitMixingMatrix(np.array(instrument['frequency']), \n",
    "                                                 MICMAC_sampler_obj.n_components, \n",
    "                                                 pos_special_freqs=MICMAC_sampler_obj.pos_special_freqs, \n",
    "                                                 spv_nodes_b=MICMAC_sampler_obj.spv_nodes_b)\n",
    "\n",
    "if MICMAC_sampler_obj.n_components != 1:\n",
    "    init_params = jnp.array(init_mixing_matrix_obj.init_params())\n",
    "else:\n",
    "    init_params = jnp.zeros(0)\n",
    "\n",
    "# mixing_matrix_obj = micmac.MixingMatrix(frequency_array=instrument['frequency'], \n",
    "#                                         n_components=MICMAC_sampler_obj.n_components, \n",
    "#                                         params=init_params,\n",
    "#                                         pos_special_freqs=MICMAC_sampler_obj.pos_special_freqs, \n",
    "#                                         spv_nodes_b=MICMAC_sampler_obj.spv_nodes_b, \n",
    "#                                         nside=MICMAC_sampler_obj.nside)\n",
    "MICMAC_sampler_obj.update_params(init_params)\n",
    "mixing_matrix_sampled = MICMAC_sampler_obj.get_B()\n",
    "\n",
    "len_pos_special_freqs = len(MICMAC_sampler_obj.pos_special_freqs)\n",
    "\n",
    "# Noise initialization\n",
    "BtinvNB = micmac.get_inv_BtinvNB(freq_inverse_noise, mixing_matrix_sampled)\n",
    "# BtinvN_sqrt = micmac.get_BtinvN(sp.linalg.sqrtm(freq_inverse_noise), mixing_matrix_sampled)\n",
    "BtinvN_sqrt = micmac.get_BtinvN(np.sqrt(freq_inverse_noise), mixing_matrix_sampled)\n",
    "BtinvN = micmac.get_BtinvN(freq_inverse_noise, mixing_matrix_sampled)\n"
   ]
  },
  {
   "cell_type": "code",
   "execution_count": 18,
   "metadata": {},
   "outputs": [],
   "source": [
    "n_correl_to_plot = int(np.ceil(MICMAC_sampler_obj.nstokes**2/2) + np.floor(MICMAC_sampler_obj.nstokes/2))\n",
    "\n",
    "if MICMAC_sampler_obj.nstokes == 3:\n",
    "    number_subplots_convention = 421\n",
    "    figsize = (10,10)\n",
    "    figsize_big = (12,12)\n",
    "    position_legend = int(n_correl_to_plot/2)-1\n",
    "    bbox_to_anchor=(2.2, 1)\n",
    "elif MICMAC_sampler_obj.nstokes == 2:\n",
    "    number_subplots_convention = 131\n",
    "    figsize = (14,6)\n",
    "    figsize_big = figsize\n",
    "    position_legend = n_correl_to_plot-1\n",
    "    bbox_to_anchor=(1, 1)\n",
    "else:\n",
    "    number_subplots_convention = 111\n",
    "    figsize = (10,10)\n",
    "    figsize_big = (10,10)\n",
    "    position_legend = int(n_correl_to_plot/2)-1\n",
    "    bbox_to_anchor=(2.2, 1)"
   ]
  },
  {
   "cell_type": "code",
   "execution_count": 19,
   "metadata": {},
   "outputs": [],
   "source": [
    "nstokes = MICMAC_sampler_obj.nstokes\n",
    "lmin = MICMAC_sampler_obj.lmin\n",
    "lmax = MICMAC_sampler_obj.lmax\n",
    "n_iter = MICMAC_sampler_obj.n_iter"
   ]
  },
  {
   "cell_type": "markdown",
   "metadata": {},
   "source": [
    "## Handling mask"
   ]
  },
  {
   "cell_type": "code",
   "execution_count": 20,
   "metadata": {},
   "outputs": [
    {
     "name": "stderr",
     "output_type": "stream",
     "text": [
      "WARNING: AstropyDeprecationWarning: \"verbose\" was deprecated in version 1.15.0 and will be removed in a future version.  [warnings]\n"
     ]
    },
    {
     "data": {
      "image/png": "[encoded data removed]",
      "text/plain": [
       "<Figure size 850x540 with 2 Axes>"
      ]
     },
     "metadata": {},
     "output_type": "display_data"
    }
   ],
   "source": [
    "directory_mask_local = '/Users/mag/Documents/PHD1Y/masks/'\n",
    "path_mask = directory_mask_local + name_mask + '.fits'\n",
    "\n",
    "if os.path.exists(path_mask):\n",
    "    mask = hp.read_map(path_mask, verbose=False)\n",
    "\n",
    "    hp.mollview(mask)\n",
    "\n",
    "    mask = np.int64(hp.ud_grade(mask, nside_out=MICMAC_sampler_obj.nside, dtype=np.float64))\n",
    "\n",
    "    MICMAC_sampler_obj.mask = mask\n",
    "\n",
    "    if MICMAC_sampler_obj.indexes_b.size != 1: \n",
    "    # if MICMAC_sampler_obj.size_patches.max() > 1:\n",
    "        frequency_Bf = np.array(instrument['frequency'][1:-1])\n",
    "        number_free_Bf = (MICMAC_sampler_obj.n_frequencies-len_pos_special_freqs)*(MICMAC_sampler_obj.n_components - 1)\n",
    "        extended_array = np.zeros((number_free_Bf+1),dtype=np.int64)\n",
    "        extended_array[:-1] = MICMAC_sampler_obj.indexes_b.ravel(order='F')\n",
    "        extended_array[-1] = extended_array[:-1].max() + MICMAC_sampler_obj.size_patches[-1]\n",
    "        \n",
    "        all_templates = MICMAC_sampler_obj.get_all_templates()%MICMAC_sampler_obj.size_patches[-1] + 1\n",
    "        # for i in range(number_free_Bf):\n",
    "        #     freq = i//(MICMAC_sampler_obj.n_components - 1)\n",
    "        #     comp = i%(MICMAC_sampler_obj.n_components - 1)\n",
    "        hp.mollview(all_templates[0,0] - all_templates[0,0]*mask)\n",
    "    plt.show()"
   ]
  },
  {
   "cell_type": "markdown",
   "metadata": {},
   "source": [
    "## Testing $\\eta$"
   ]
  },
  {
   "cell_type": "code",
   "execution_count": 21,
   "metadata": {},
   "outputs": [],
   "source": [
    "red_cov_approx_matrix_msqrt = np.linalg.pinv(micmac.get_sqrt_reduced_matrix_from_matrix(red_cov_approx_matrix))\n",
    "red_cov_approx_matrix_sqrt = micmac.get_sqrt_reduced_matrix_from_matrix(red_cov_approx_matrix)"
   ]
  },
  {
   "cell_type": "code",
   "execution_count": 22,
   "metadata": {},
   "outputs": [
    {
     "data": {
      "text/plain": [
       "(1, 2001, 1)"
      ]
     },
     "execution_count": 22,
     "metadata": {},
     "output_type": "execute_result"
    }
   ],
   "source": [
    "all_params_mixing_matrix_samples.shape"
   ]
  },
  {
   "cell_type": "code",
   "execution_count": 23,
   "metadata": {},
   "outputs": [],
   "source": [
    "# list_correl = ['TT', 'EE', 'BB', 'TE', 'EB', 'TB']\n",
    "list_correl = ['EE', 'BB', 'EB']\n",
    "\n",
    "ell_arange = np.arange(red_cov_approx_matrix.shape[0]) + MICMAC_sampler_obj.lmin\n",
    "\n",
    "red_cl_noise_harm = np.zeros_like(red_cov_approx_matrix)\n",
    "if MICMAC_sampler_obj.save_eta_chain_maps:\n",
    "    for job in range(num_jobs):\n",
    "        for iteration in range(0,MICMAC_sampler_obj.number_iterations_sampling,sub_step_sampling):\n",
    "            covariance_noise = np.zeros_like(c_ell_approx)\n",
    "\n",
    "            MICMAC_sampler_obj.update_params(all_params_mixing_matrix_samples[job,iteration])\n",
    "            mixing_matrix_sampled = MICMAC_sampler_obj.get_B()\n",
    "            BtinvNB = micmac.get_inv_BtinvNB(freq_inverse_noise, mixing_matrix_sampled)\n",
    "            # BtinvN_sqrt = micmac.get_BtinvN(sp.linalg.sqrtm(freq_inverse_noise), mixing_matrix_sampled)\n",
    "            BtinvN_sqrt = micmac.get_BtinvN(np.sqrt(freq_inverse_noise), mixing_matrix_sampled)\n",
    "            BtinvN = micmac.get_BtinvN(freq_inverse_noise, mixing_matrix_sampled)\n",
    "\n",
    "            cl_noise = BtinvNB[0,0].mean()*hp.nside2resol(MICMAC_sampler_obj.nside)**2\n",
    "            red_cl_noise_harm[:] = np.diag([cl_noise,cl_noise])\n",
    "            full_cl_noise = np.zeros_like(c_ell_approx)\n",
    "            full_cl_noise[:MICMAC_sampler_obj.nstokes,MICMAC_sampler_obj.lmin:] = cl_noise.mean()\n",
    "\n",
    "            # analytical_eta_term_cov = np.einsum('lij,ljk,lkm->lim', red_cov_approx_matrix_sqrt, np.linalg.pinv(red_cov_approx_matrix) + eye_Stokes_personalized/BtinvNB[0,0], red_cov_approx_matrix_sqrt)\n",
    "            analytical_eta_term_cov = np.einsum('lij,ljk,lkm->lim', red_cov_approx_matrix_sqrt, np.linalg.pinv(red_cov_approx_matrix) + np.linalg.pinv(red_cl_noise_harm), red_cov_approx_matrix_sqrt)\n",
    "\n",
    "            # analytical_eta_term = np.zeros_like(c_ell_approx)\n",
    "            analytical_eta_term = micmac.get_c_ells_from_red_covariance_matrix(analytical_eta_term_cov)#[:,lmin:]\n",
    "\n",
    "            eta_maps_extended = np.vstack([np.zeros_like(all_eta_maps[job,iteration,0,...]), all_eta_maps[job,iteration]])\n",
    "            c_ells_eta = hp.anafast(eta_maps_extended, lmax=MICMAC_sampler_obj.lmax, iter=MICMAC_sampler_obj.n_iter)[indices_polar,MICMAC_sampler_obj.lmin:]\n",
    "\n",
    "            plt.figure(figsize=(7,5))\n",
    "            plt.suptitle(r\"Comparison $\\eta$ CG vs theoretical for iteration {}\".format(iteration))\n",
    "\n",
    "            for j in range(n_correl_to_plot):\n",
    "                ax = plt.subplot(311+j)\n",
    "                plt.title(list_correl[j])\n",
    "                \n",
    "                plt.plot([ell_arange[0], ell_arange[-1]], [0,0], '--', color='black')\n",
    "\n",
    "                plt.plot(ell_arange, c_ell_approx[j,MICMAC_sampler_obj.lmin:], label='c_ell_approx')\n",
    "                # plt.plot(ell_arange, full_cl_noise[j,MICMAC_sampler_obj.lmin:], label='c_ell N_c')\n",
    "                plt.plot(ell_arange, c_ells_eta[j,:], '-.', label=r\"$\\eta$ CG\")\n",
    "\n",
    "                plt.plot(ell_arange, analytical_eta_term[j,:], ':', label=r\"analytical $\\eta$\")\n",
    "\n",
    "                if MICMAC_sampler_obj.nstokes == 3 and j < n_correl_to_plot-2:\n",
    "                    plt.xticks(color='w')\n",
    "\n",
    "                if j <= MICMAC_sampler_obj.nstokes-1:\n",
    "                    plt.loglog()\n",
    "                    # plt.ylim(ymin=noise_level/10.)\n",
    "                else:\n",
    "                    plt.xscale('log')\n",
    "                    plt.yscale('symlog')\n",
    "                # plt.legend()\n",
    "                if j == position_legend:\n",
    "                    plt.legend(bbox_to_anchor=(1.04, 1), loc=\"upper left\", prop={'size': 15}, frameon=False)\n",
    "                \n",
    "                plt.ylabel(\"$C_\\ell$ [$uK^2$]\")\n",
    "                if j == n_correl_to_plot-1:\n",
    "                    plt.xlabel(r\"$\\ell$\")\n",
    "        plt.show()"
   ]
  },
  {
   "cell_type": "markdown",
   "metadata": {},
   "source": [
    "# Validation $s_c$"
   ]
  },
  {
   "cell_type": "code",
   "execution_count": 24,
   "metadata": {},
   "outputs": [],
   "source": [
    "# list_correl = ['TT', 'EE', 'BB', 'TE', 'EB', 'TB']\n",
    "list_correl = ['EE', 'BB', 'EB']\n",
    "\n",
    "# map_true_CMB_ext = np.vstack([np.zeros_like(input_cmb_maps[0,0,...]), input_cmb_maps[0]])\n",
    "# c_ell_true_CMB = hp.anafast(map_true_CMB_ext, lmax=MICMAC_sampler_obj.lmax, iter=MICMAC_sampler_obj.n_iter)[indices_polar, MICMAC_sampler_obj.lmin:]\n",
    "c_ell_true_CMB = micmac.get_c_ells_from_red_covariance_matrix(theoretical_red_cov_r0_total + MICMAC_sampler_obj.r_true*theoretical_red_cov_r1_tensor)#[indices_polar, :]\n",
    "\n",
    "ell_arange = np.arange(red_cov_approx_matrix.shape[0]) + MICMAC_sampler_obj.lmin\n",
    "if MICMAC_sampler_obj.save_CMB_chain_maps:\n",
    "    for job in range(num_jobs):\n",
    "        for iteration in range(1,MICMAC_sampler_obj.number_iterations_sampling,sub_step_sampling):\n",
    "            covariance_noise = np.zeros_like(c_ell_approx)\n",
    "\n",
    "            \n",
    "            if MICMAC_sampler_obj.sample_r_Metropolis:\n",
    "                red_cov_matrix = theoretical_red_cov_r0_total + all_r_samples[job,iteration]*theoretical_red_cov_r1_tensor\n",
    "            elif MICMAC_sampler_obj.sample_C_inv_Wishart:\n",
    "                red_cov_matrix = micmac.get_reduced_matrix_from_c_ell(all_cell_samples[job,iteration,...])#[MICMAC_sampler_obj.lmin:]\n",
    "                if iteration != 0:\n",
    "                    red_cov_matrix = micmac.get_reduced_matrix_from_c_ell(all_cell_samples[job,iteration-1,...])#[MICMAC_sampler_obj.lmin:]\n",
    "            if MICMAC_sampler_obj.n_components != 1:\n",
    "                MICMAC_sampler_obj.update_params(all_params_mixing_matrix_samples[job,iteration])\n",
    "                if iteration != 0:\n",
    "                    MICMAC_sampler_obj.update_params(all_params_mixing_matrix_samples[job,iteration-1])\n",
    "            mixing_matrix_sampled = MICMAC_sampler_obj.get_B()\n",
    "            BtinvNB = micmac.get_inv_BtinvNB(freq_inverse_noise, mixing_matrix_sampled)\n",
    "            # BtinvN_sqrt = micmac.get_BtinvN(sp.linalg.sqrtm(freq_inverse_noise), mixing_matrix_sampled)\n",
    "            BtinvN_sqrt = micmac.get_BtinvN(np.sqrt(freq_inverse_noise), mixing_matrix_sampled)\n",
    "            BtinvN = micmac.get_BtinvN(freq_inverse_noise, mixing_matrix_sampled)\n",
    "            s_cML = micmac.get_Wd(freq_inverse_noise, mixing_matrix_sampled, initial_freq_maps[job], jax_use=False)[0, :, :]\n",
    "\n",
    "\n",
    "            _cl_noise_harm = micmac.get_Cl_noise(np.array(instrument['depth_p']), mixing_matrix_sampled.mean(axis=2), lmax)[0,0,lmin:]\n",
    "            red_cl_noise_harm = micmac.get_reduced_matrix_from_c_ell(np.array([_cl_noise_harm,_cl_noise_harm,np.zeros_like(_cl_noise_harm)]))\n",
    "            cl_noise_harm = micmac.get_c_ells_from_red_covariance_matrix(red_cl_noise_harm)\n",
    "\n",
    "            analytical_WF_harm = np.linalg.pinv(np.linalg.pinv(red_cov_matrix) + np.linalg.pinv(red_cl_noise_harm))\n",
    "            # analytical_WF_harm = np.linalg.pinv(np.linalg.pinv(red_cov_matrix) + eye_Stokes_only_B/BtinvNB[0,0])\n",
    "            analytical_WF_map = micmac.maps_x_reduced_matrix_generalized_sqrt_sqrt(s_cML/BtinvNB[0,0]/hp.nside2resol(MICMAC_sampler_obj.nside)**2,\n",
    "                                                                                analytical_WF_harm, lmin=lmin, n_iter=n_iter)\n",
    "\n",
    "\n",
    "            full_map_s_c = all_s_c_WF_maps[job,iteration] + all_s_c_fluct_maps[job,iteration]\n",
    "            full_map_s_cML_extended = np.vstack([np.zeros_like(s_cML[0,...]), s_cML])\n",
    "            c_ell_s_cML = hp.anafast(full_map_s_cML_extended, lmax=MICMAC_sampler_obj.lmax, iter=MICMAC_sampler_obj.n_iter)[indices_polar,MICMAC_sampler_obj.lmin:]\n",
    "\n",
    "            # analytical_WF_harm = np.linalg.pinv(np.linalg.pinv(red_cov_matrix) + np.eye(nstokes)/BtinvNB[0,0])\n",
    "            # analytical_WF_harm = np.linalg.pinv(np.linalg.pinv(red_cov_matrix) + eye_Stokes_personalized/BtinvNB[0,0])\n",
    "            # analytical_WF_map = micmac.maps_x_reduced_matrix_generalized_sqrt_sqrt(s_cML/BtinvNB[0,0], analytical_WF_harm, lmin=MICMAC_sampler_obj.lmin, n_iter=MICMAC_sampler_obj.n_iter)\n",
    "\n",
    "            analytical_WF_map_ext = np.vstack([np.zeros_like(analytical_WF_map[0]),analytical_WF_map])\n",
    "            analytical_WF_cells = hp.anafast(analytical_WF_map_ext, lmax=MICMAC_sampler_obj.lmax, iter=MICMAC_sampler_obj.n_iter)[indices_polar,MICMAC_sampler_obj.lmin:]\n",
    "            analytical_fluct_c_ell = micmac.get_c_ells_from_red_covariance_matrix(analytical_WF_harm.copy())#[indices_polar,lmin:]\n",
    "\n",
    "            s_c_WF_maps_extended = np.vstack([np.zeros_like(all_s_c_WF_maps[job,iteration,0,...]), all_s_c_WF_maps[job,iteration]])\n",
    "            c_ells_s_c_WF = hp.anafast(s_c_WF_maps_extended, lmax=MICMAC_sampler_obj.lmax, iter=MICMAC_sampler_obj.n_iter)[indices_polar,MICMAC_sampler_obj.lmin:]\n",
    "\n",
    "            s_c_fluct_maps_extended = np.vstack([np.zeros_like(all_s_c_fluct_maps[job,iteration,0,...]), all_s_c_fluct_maps[job,iteration]])\n",
    "            c_ells_s_c_fluct = hp.anafast(s_c_fluct_maps_extended, lmax=MICMAC_sampler_obj.lmax, iter=MICMAC_sampler_obj.n_iter)[indices_polar,MICMAC_sampler_obj.lmin:]\n",
    "\n",
    "            # s_c_recovered = all_s_c_WF_maps[iteration,...] + np.sqrt(1-overrelaxation_param**2)*all_s_c_fluct_maps[iteration,...] + overrelaxation_param*(s_c_recovered-all_s_c_WF_maps[iteration,...])\n",
    "            s_c_recovered = all_s_c_WF_maps[job,iteration,...] + all_s_c_fluct_maps[job,iteration,...]\n",
    "            s_c_recovered_ext = np.vstack([np.zeros_like(s_c_recovered[0]),s_c_recovered])\n",
    "            c_ells_s_c = hp.anafast(s_c_recovered_ext, lmax=MICMAC_sampler_obj.lmax, iter=MICMAC_sampler_obj.n_iter)[indices_polar,MICMAC_sampler_obj.lmin:]\n",
    "\n",
    "            plt.figure(figsize=(14,8))\n",
    "            plt.suptitle(r\"Comparison $s_c$ CG vs theoretical for iteration {}\".format(iteration))\n",
    "\n",
    "            for j in range(n_correl_to_plot):\n",
    "                plt.subplot(331+3*j)\n",
    "                plt.plot(np.arange(c_ells_s_c_WF.shape[-1])+MICMAC_sampler_obj.lmin, analytical_WF_cells[j,:], label='Analytical WF')\n",
    "                plt.plot(np.arange(c_ells_s_c_WF.shape[-1])+MICMAC_sampler_obj.lmin, c_ells_s_c_WF[j,:], '-.', label='CG-WF')\n",
    "                plt.plot(np.arange(c_ells_s_c_fluct.shape[-1])+MICMAC_sampler_obj.lmin, c_ell_s_cML[j,:], ':', label='$s_{c,ML}$')\n",
    "                plt.plot(np.arange(c_ells_s_c_fluct.shape[-1])+MICMAC_sampler_obj.lmin, cl_noise_harm[j,:], 'r:', label='noise $N_c$')\n",
    "                if j <= MICMAC_sampler_obj.nstokes-1:\n",
    "                    plt.loglog()\n",
    "                else:\n",
    "                    plt.xscale('log')\n",
    "                    plt.yscale('symlog')\n",
    "                    plt.plot([MICMAC_sampler_obj.lmin,MICMAC_sampler_obj.lmax+1], [0,0], 'k:')\n",
    "                plt.title('WF term - {}'.format(list_correl[j]))\n",
    "                plt.ylabel(\"$C_\\ell$ [$uK^2$]\")\n",
    "                plt.xlabel(r\"$\\ell$\")\n",
    "                plt.legend()\n",
    "\n",
    "                plt.subplot(332+3*j)\n",
    "                plt.plot(np.arange(c_ells_s_c_fluct.shape[-1])+MICMAC_sampler_obj.lmin, analytical_fluct_c_ell[j,:], label='Analytical fluct')\n",
    "                plt.plot(np.arange(c_ells_s_c_fluct.shape[-1])+MICMAC_sampler_obj.lmin, c_ells_s_c_fluct[j,:], '-.', label='CG-Fluct')\n",
    "                plt.plot(np.arange(c_ells_s_c_fluct.shape[-1])+MICMAC_sampler_obj.lmin, cl_noise_harm[j,:], 'r:', label='noise $N_c$')\n",
    "\n",
    "                if j <= MICMAC_sampler_obj.nstokes-1:\n",
    "                    plt.loglog()\n",
    "                else:\n",
    "                    plt.xscale('log')\n",
    "                    plt.yscale('symlog')\n",
    "                    plt.plot([MICMAC_sampler_obj.lmin,MICMAC_sampler_obj.lmax+1], [0,0], 'k:')\n",
    "                plt.title('Fluctuation term - {}'.format(list_correl[j]))\n",
    "                plt.ylabel(\"$C_\\ell$ [$uK^2$]\")\n",
    "                plt.xlabel(r\"$\\ell$\")\n",
    "                plt.legend()\n",
    "                \n",
    "                plt.subplot(333+3*j)\n",
    "                plt.plot(np.arange(c_ells_s_c_WF.shape[-1])+MICMAC_sampler_obj.lmin, c_ell_true_CMB[j,:], label='True CMB')\n",
    "                plt.plot(np.arange(c_ells_s_c_fluct.shape[-1])+MICMAC_sampler_obj.lmin, c_ells_s_c[j,:], '-.', label='$s_c$ sample')\n",
    "                plt.plot(np.arange(c_ells_s_c_fluct.shape[-1])+MICMAC_sampler_obj.lmin, c_ell_s_cML[j,:], ':', label='$s_{c,ML}$')\n",
    "                plt.plot(np.arange(c_ells_s_c_fluct.shape[-1])+MICMAC_sampler_obj.lmin, cl_noise_harm[j,:], 'r:', label='noise $N_c$')\n",
    "\n",
    "                if j <= MICMAC_sampler_obj.nstokes-1:\n",
    "                    plt.loglog()\n",
    "                    plt.plot([MICMAC_sampler_obj.lmin,MICMAC_sampler_obj.lmax+1], [0,0], 'k:')\n",
    "                else:\n",
    "                    plt.xscale('log')\n",
    "                    plt.yscale('symlog')\n",
    "                    plt.plot([MICMAC_sampler_obj.lmin,MICMAC_sampler_obj.lmax+1], [0,0], 'k:')\n",
    "                plt.title('Full $s_c$ term - {}'.format(list_correl[j]))\n",
    "                plt.ylabel(\"$C_\\ell$ [$uK^2$]\")\n",
    "\n",
    "                plt.xlabel(r\"$\\ell$\")\n",
    "                plt.legend()\n",
    "        plt.show()"
   ]
  },
  {
   "cell_type": "code",
   "execution_count": 25,
   "metadata": {},
   "outputs": [],
   "source": [
    "c_ell_true_CMB = micmac.get_c_ells_from_red_covariance_matrix(theoretical_red_cov_r0_total + MICMAC_sampler_obj.r_true*theoretical_red_cov_r1_tensor)#[indices_polar, :]\n",
    "\n",
    "ell_arange = np.arange(red_cov_approx_matrix.shape[0]) + MICMAC_sampler_obj.lmin\n",
    "if MICMAC_sampler_obj.save_CMB_chain_maps:\n",
    "    for job in range(num_jobs):\n",
    "        for iteration in range(1,MICMAC_sampler_obj.number_iterations_sampling,sub_step_sampling):\n",
    "            covariance_noise = np.zeros_like(c_ell_approx)\n",
    "\n",
    "            if MICMAC_sampler_obj.n_components != 1:\n",
    "                MICMAC_sampler_obj.update_params(all_params_mixing_matrix_samples[job,iteration])\n",
    "                if iteration != 0:\n",
    "                    MICMAC_sampler_obj.update_params(all_params_mixing_matrix_samples[job,iteration-1])\n",
    "            mixing_matrix_sampled = MICMAC_sampler_obj.get_B()\n",
    "            BtinvNB = micmac.get_inv_BtinvNB(freq_inverse_noise, mixing_matrix_sampled)\n",
    "            BtinvN = micmac.get_BtinvN(freq_inverse_noise, mixing_matrix_sampled)\n",
    "            s_cML = micmac.get_Wd(freq_inverse_noise, mixing_matrix_sampled, initial_freq_maps[job], jax_use=False)[0, :, :]\n",
    "\n",
    "\n",
    "            _cl_noise_harm = micmac.get_Cl_noise(np.array(instrument['depth_p']), mixing_matrix_sampled.mean(axis=2), lmax)[0,0,lmin:]\n",
    "            red_cl_noise_harm = micmac.get_reduced_matrix_from_c_ell(np.array([_cl_noise_harm,_cl_noise_harm,np.zeros_like(_cl_noise_harm)]))\n",
    "            cl_noise_harm = micmac.get_c_ells_from_red_covariance_matrix(red_cl_noise_harm)\n",
    "\n",
    "            full_map_s_cML_extended = np.vstack([np.zeros_like(s_cML[0,...]), s_cML])\n",
    "            c_ell_s_cML = hp.anafast(full_map_s_cML_extended, lmax=MICMAC_sampler_obj.lmax, iter=MICMAC_sampler_obj.n_iter)[indices_polar,MICMAC_sampler_obj.lmin:]\n",
    "\n",
    "            s_c_recovered = all_s_c_WF_maps[job,iteration,...] + all_s_c_fluct_maps[job,iteration,...]\n",
    "            # s_c_recovered = all_s_c_samples[iteration,...]\n",
    "            s_c_recovered_ext = np.vstack([np.zeros_like(s_c_recovered[0]),s_c_recovered])\n",
    "            c_ells_s_c = hp.anafast(s_c_recovered_ext, lmax=MICMAC_sampler_obj.lmax, iter=MICMAC_sampler_obj.n_iter)[indices_polar,MICMAC_sampler_obj.lmin:]\n",
    "\n",
    "            plt.figure(figsize=(10,5))\n",
    "            plt.suptitle(r\"Comparison $s_c$ CG vs theoretical for iteration {}\".format(iteration))\n",
    "\n",
    "            for j in range(n_correl_to_plot):\n",
    "                plt.subplot(311+j)\n",
    "                plt.plot(np.arange(c_ells_s_c.shape[-1])+MICMAC_sampler_obj.lmin, c_ell_true_CMB[j,:], label='True CMB')\n",
    "                plt.plot(np.arange(c_ells_s_c.shape[-1])+MICMAC_sampler_obj.lmin, c_ells_s_c[j,:], '-.', label='$s_c$ sample')\n",
    "                plt.plot(np.arange(c_ells_s_c.shape[-1])+MICMAC_sampler_obj.lmin, c_ell_s_cML[j,:], ':', label='$s_{c,ML}$')\n",
    "                plt.plot(np.arange(c_ells_s_c.shape[-1])+MICMAC_sampler_obj.lmin, cl_noise_harm[j,:], 'r:', label='noise $N_c$')\n",
    "\n",
    "                if j <= MICMAC_sampler_obj.nstokes-1:\n",
    "                    plt.loglog()\n",
    "                    plt.plot([MICMAC_sampler_obj.lmin,MICMAC_sampler_obj.lmax+1], [0,0], 'k:')\n",
    "                else:\n",
    "                    plt.xscale('log')\n",
    "                    plt.yscale('symlog')\n",
    "                    plt.plot([MICMAC_sampler_obj.lmin,MICMAC_sampler_obj.lmax+1], [0,0], 'k:')\n",
    "                    plt.legend(bbox_to_anchor=(1.04, 1), loc=\"upper left\", prop={'size': 15}, frameon=False)\n",
    "                plt.title('Full $s_c$ term - {}'.format(list_correl[j]))\n",
    "                plt.ylabel(\"$C_\\ell$ [$uK^2$]\")\n",
    "                \n",
    "                plt.xlabel(r\"$\\ell$\")\n",
    "                \n",
    "\n",
    "\n",
    "        plt.show()"
   ]
  },
  {
   "cell_type": "code",
   "execution_count": 26,
   "metadata": {},
   "outputs": [],
   "source": [
    "# list_correl = ['TT', 'EE', 'BB', 'TE', 'EB', 'TB']\n",
    "list_correl = ['EE', 'BB', 'EB']\n",
    "# overrelaxation_param = -.89\n",
    "\n",
    "# map_true_CMB_ext = np.vstack([np.zeros_like(input_cmb_maps[0,0,...]), input_cmb_maps[0]])\n",
    "# c_ell_true_CMB = hp.anafast(map_true_CMB_ext, lmax=MICMAC_sampler_obj.lmax, iter=MICMAC_sampler_obj.n_iter)[indices_polar, MICMAC_sampler_obj.lmin:]\n",
    "\n",
    "ell_arange = np.arange(red_cov_approx_matrix.shape[0]) + MICMAC_sampler_obj.lmin\n",
    "\n",
    "if not(fast_verion_bool):\n",
    "    for job in range(num_jobs):\n",
    "        plt.figure(figsize=(14,8))\n",
    "        for iteration in range(0,MICMAC_sampler_obj.number_iterations_sampling,sub_step_sampling):\n",
    "            covariance_noise = np.zeros_like(c_ell_approx)\n",
    "\n",
    "            # red_cov_matrix = micmac.get_reduced_matrix_from_c_ell(all_cell_samples[iteration,...])[MICMAC_sampler_obj.lmin:]\n",
    "            MICMAC_sampler_obj.update_params(all_params_mixing_matrix_samples[job,iteration])\n",
    "            if iteration != 0:\n",
    "                # red_cov_matrix = micmac.get_reduced_matrix_from_c_ell(all_cell_samples[iteration-1,...])[MICMAC_sampler_obj.lmin:]\n",
    "                MICMAC_sampler_obj.update_params(all_params_mixing_matrix_samples[job,iteration-1])\n",
    "            mixing_matrix_sampled = MICMAC_sampler_obj.get_B()\n",
    "            BtinvNB = micmac.get_inv_BtinvNB(freq_inverse_noise, mixing_matrix_sampled)\n",
    "            # BtinvN_sqrt = micmac.get_BtinvN(sp.linalg.sqrtm(freq_inverse_noise), mixing_matrix_sampled)\n",
    "            BtinvN_sqrt = micmac.get_BtinvN(np.sqrt(freq_inverse_noise), mixing_matrix_sampled)\n",
    "            BtinvN = micmac.get_BtinvN(freq_inverse_noise, mixing_matrix_sampled)\n",
    "            s_cML = micmac.get_Wd(freq_inverse_noise, mixing_matrix_sampled, initial_freq_maps[job], jax_use=False)[0, :, :]\n",
    "\n",
    "            # full_map_s_c = all_s_c_WF_maps[iteration] + all_s_c_fluct_maps[iteration]\n",
    "            full_map_s_cML_extended = np.vstack([np.zeros_like(s_cML[0,...]), s_cML])\n",
    "            c_ell_s_cML = hp.anafast(full_map_s_cML_extended, lmax=lmax, iter=n_iter)[indices_polar,lmin:]\n",
    "\n",
    "            plt.plot(np.arange(c_ell_s_cML.shape[-1])+lmin, c_ell_s_cML[1,:], 'g', alpha=.5)\n",
    "\n",
    "        plt.title(f\"Full $s_c$ term - {list_correl[1]} for job {job} over {num_jobs}\")\n",
    "        plt.ylabel(\"$C_\\ell$ [$uK^2$]\")\n",
    "        plt.xlabel(r\"$\\ell$\")\n",
    "        plt.loglog()\n",
    "        plt.legend()\n",
    "\n",
    "\n",
    "    plt.show()"
   ]
  },
  {
   "cell_type": "code",
   "execution_count": 27,
   "metadata": {},
   "outputs": [],
   "source": [
    "# mask = hp.read_map(\"/Users/mag/Documents/PHD1Y/Masks/Planck_mask_fsky_60.fits\")\n",
    "\n",
    "# hp.mollview(mask)"
   ]
  },
  {
   "cell_type": "markdown",
   "metadata": {},
   "source": [
    "# Plot $C$"
   ]
  },
  {
   "cell_type": "code",
   "execution_count": null,
   "metadata": {},
   "outputs": [],
   "source": []
  },
  {
   "cell_type": "code",
   "execution_count": 28,
   "metadata": {},
   "outputs": [],
   "source": [
    "if MICMAC_sampler_obj.sample_C_inv_Wishart and not(np.isnan(all_cell_samples).any()):\n",
    "    job_index = 0\n",
    "    nstokes_select = 1\n",
    "    ell_select = 0\n",
    "    burnin = 0\n",
    "    selection = all_cell_samples[job_index,burnin:,nstokes_select,ell_select]\n",
    "\n",
    "    n_sigma = 3\n",
    "    transformed_samples = np.abs(selection - selection.mean())/(selection.std()) #< n_sigma\n",
    "    cond = np.exp(transformed_samples**2/2)/(np.sqrt(2*np.pi)) < 0.9973\n",
    "    mean_r = np.round(selection[cond].mean(), decimals=5)\n",
    "    std_r = np.round(selection[cond].std(), decimals=5)\n",
    "\n",
    "    # hist_nb, hist_values, _ = plt.hist(selection, range=(selection.min()*0.8,selection.max()*1.1), bins='rice')\n",
    "    hist_nb, hist_values, _ = plt.hist(selection, range=(selection.min()*0.8,selection.max()*1.1), bins=1000)\n",
    "    plt.plot([c_ell_true_CMB[nstokes_select,ell_select],c_ell_true_CMB[nstokes_select,ell_select]], [0,hist_nb.max()], 'r--', label='True CMB')\n",
    "    plt.plot([selection.mean(),selection.mean()], [0,hist_nb.max()], '--', color='darkseagreen', label='Mean sample')\n",
    "    plt.xscale('log')\n",
    "    # (all_cell_samples\n",
    "    plt.legend()\n",
    "    plt.show()"
   ]
  },
  {
   "cell_type": "code",
   "execution_count": 29,
   "metadata": {},
   "outputs": [],
   "source": [
    "if MICMAC_sampler_obj.sample_C_inv_Wishart:\n",
    "    job_index = 0\n",
    "    any_nan = np.argwhere(np.isnan(all_cell_samples[job_index]))\n",
    "\n",
    "    print(\"First nan appear :\", any_nan[:MICMAC_sampler_obj.nstokes+1])"
   ]
  },
  {
   "cell_type": "code",
   "execution_count": 30,
   "metadata": {},
   "outputs": [],
   "source": [
    "if MICMAC_sampler_obj.sample_C_inv_Wishart:\n",
    "    job_index = 0\n",
    "    ell_to_probe = 10 #0\n",
    "    correl = 1\n",
    "\n",
    "    plt.figure(figsize=(14,5))\n",
    "    true_CMB_ell = c_ell_true_CMB[correl,ell_to_probe]#*(2*(ell_to_probe+MICMAC_sampler_obj.lmin)+1)#**2\n",
    "\n",
    "    plt.plot(np.arange(MICMAC_sampler_obj.number_iterations_sampling+1)+1, all_cell_samples[job_index,:,correl,ell_to_probe])\n",
    "    plt.plot([-1,MICMAC_sampler_obj.number_iterations_sampling+1], [true_CMB_ell,true_CMB_ell], label='True CMB')\n",
    "\n",
    "    plt.xlabel(\"Iteration\")\n",
    "    plt.ylabel(r\"$C_\\ell$ [$uK^2$]\")\n",
    "    plt.loglog()\n",
    "    # plt.ylim(ymin=0.00015, ymax=0.00017)\n",
    "    plt.legend()\n",
    "    plt.show()\n"
   ]
  },
  {
   "cell_type": "code",
   "execution_count": 31,
   "metadata": {},
   "outputs": [
    {
     "data": {
      "text/plain": [
       "(1, 1, 2, 49152)"
      ]
     },
     "execution_count": 31,
     "metadata": {},
     "output_type": "execute_result"
    }
   ],
   "source": [
    "input_cmb_maps.shape"
   ]
  },
  {
   "cell_type": "code",
   "execution_count": 32,
   "metadata": {},
   "outputs": [],
   "source": [
    "if MICMAC_sampler_obj.sample_C_inv_Wishart:\n",
    "    job_index = 0\n",
    "    plt.plot(ell_arange, all_cell_samples[job_index,721].T)\n",
    "    plt.loglog()\n",
    "    plt.show()"
   ]
  },
  {
   "cell_type": "code",
   "execution_count": 33,
   "metadata": {},
   "outputs": [],
   "source": [
    "if MICMAC_sampler_obj.sample_C_inv_Wishart:\n",
    "    job_index = 0\n",
    "    plt.plot(ell_arange[75:85], all_cell_samples[job_index,722,:,75:85].T)\n",
    "\n",
    "    # plt.loglog()\n",
    "    plt.yscale('log')\n",
    "    plt.show()"
   ]
  },
  {
   "cell_type": "code",
   "execution_count": null,
   "metadata": {},
   "outputs": [],
   "source": []
  },
  {
   "cell_type": "code",
   "execution_count": 34,
   "metadata": {},
   "outputs": [],
   "source": [
    "if MICMAC_sampler_obj.sample_C_inv_Wishart:\n",
    "    for job in range(num_jobs):\n",
    "        input_cmb_maps_extended = np.vstack([np.zeros_like(input_cmb_maps[job,0,0]),input_cmb_maps[job,0]])\n",
    "        cmb_anafast = hp.anafast(input_cmb_maps_extended, lmax=lmax, iter=n_iter)[indices_polar,lmin:]\n",
    "\n",
    "        dict_color = {'fill': 'moccasin', 'border': 'orange'}\n",
    "        dict_color_theoretical = {'fill': 'lightcoral', 'border': 'tab:red'}\n",
    "        # curve_theoretical = cmb_anafast\n",
    "        # std_theoretical = cmb_anafast*np.sqrt(2/(2*ell_arange+1))# Knox cosmic covariance\n",
    "        c_ell_mean = np.mean(all_cell_samples[job], axis=0)\n",
    "        # c_ell_mean = np.mean(all_cell_samples[500:], axis=0)\n",
    "        # c_ell_mean = np.mean(all_cell_samples[-2:], axis=0)\n",
    "\n",
    "        list_correl = ['EE', 'BB', 'EB']\n",
    "\n",
    "        ell_arange = np.arange(c_ell_mean.shape[1]) + MICMAC_sampler_obj.lmin\n",
    "        factor = (2*ell_arange+1)/(2*ell_arange+1 - 2 - 2*MICMAC_sampler_obj.nstokes)\n",
    "        factor[0] = 1\n",
    "        # factor_ell = ((2*ell_arange+1)/(2*ell_arange+1 - 2 - 2))\n",
    "        # factor = ell_arange*(ell_arange+1)/(2*np.pi)\n",
    "        plt.figure(figsize=(15,10))\n",
    "        for j in range(n_correl_to_plot):\n",
    "            plt.subplot(311+j)\n",
    "            plt.title(list_correl[j])\n",
    "            if j > MICMAC_sampler_obj.nstokes-1:\n",
    "                plt.title(list_correl[j] + ' with incorrect ell=2 !')\n",
    "\n",
    "            curve_theoretical = cmb_anafast[j]\n",
    "            std_theoretical = cmb_anafast[j]*np.sqrt(2/(2*ell_arange+1))\n",
    "            plt.plot(ell_arange, curve_theoretical, color=dict_color_theoretical['border'], label='Anafast CMB $\\pm$ Knox')\n",
    "            plt.fill_between(ell_arange, curve_theoretical-std_theoretical, curve_theoretical+std_theoretical, color=dict_color_theoretical['fill'], alpha=0.2)\n",
    "            plt.plot(ell_arange, curve_theoretical-std_theoretical, color=dict_color_theoretical['border'], alpha=0.6)\n",
    "            plt.plot(ell_arange, curve_theoretical+std_theoretical, color=dict_color_theoretical['border'], alpha=0.6)\n",
    "\n",
    "            plt.plot(ell_arange, c_ell_mean[j]/factor, '--', color=dict_color['border'], label='Mean value samples C')\n",
    "            \n",
    "            curve = c_ell_mean[j]\n",
    "            std_curve = np.std(all_cell_samples[job,:,j,...], axis=0)\n",
    "\n",
    "            plt.fill_between(ell_arange, (curve-std_curve)/factor, (curve+std_curve)/factor, color=dict_color['fill'], alpha=0.2)\n",
    "            plt.plot(ell_arange, (curve-std_curve)/factor, color=dict_color['border'], alpha=0.6)\n",
    "            plt.plot(ell_arange, (curve+std_curve)/factor, color=dict_color['border'], alpha=0.6)\n",
    "            plt.plot(ell_arange, c_ell_true_CMB[j], color='tab:blue', label='True CMB')\n",
    "\n",
    "            if j < MICMAC_sampler_obj.nstokes:\n",
    "                plt.loglog()\n",
    "            else:\n",
    "                plt.xscale('log')\n",
    "                plt.yscale('symlog')\n",
    "            # plt.loglog()\n",
    "            plt.legend()\n",
    "            plt.ylabel(\"$C_\\ell$ [$uK^2$]\")\n",
    "            plt.xlabel(r\"$\\ell$\")\n",
    "    plt.show()"
   ]
  },
  {
   "cell_type": "code",
   "execution_count": 35,
   "metadata": {},
   "outputs": [],
   "source": [
    "if MICMAC_sampler_obj.sample_C_inv_Wishart:\n",
    "    for job in range(num_jobs):\n",
    "        dict_color = {'fill': 'moccasin', 'border': 'orange'}\n",
    "\n",
    "        list_correl = ['EE', 'BB', 'EB']\n",
    "\n",
    "        ell_arange = np.arange(c_ell_mean.shape[1]) + MICMAC_sampler_obj.lmin\n",
    "        # factor = (2*ell_arange+1)/(2*ell_arange+1 - 2 - 2*MICMAC_sampler_obj.nstokes)\n",
    "        plt.figure(figsize=(15,10))\n",
    "        for j in range(n_correl_to_plot):\n",
    "            plt.subplot(311+j)\n",
    "            plt.title(list_correl[j])\n",
    "\n",
    "            plt.plot(ell_arange, c_ell_true_CMB[j], label='True CMB')\n",
    "            for ell in range(c_ell_mean.shape[1]):\n",
    "                plt.plot(ell_arange[ell]*np.ones(MICMAC_sampler_obj.number_iterations_sampling+1), all_cell_samples[job,:,j,ell], '.', color=dict_color['border'], alpha=0.1)\n",
    "            # plt.plot(ell_arange, all_cell_samples[:,j,:].T, '.', color=dict_color['border'], label='Mean value samples C')\n",
    "\n",
    "            if j < MICMAC_sampler_obj.nstokes:\n",
    "                plt.loglog()\n",
    "            else:\n",
    "                plt.xscale('log')\n",
    "                plt.yscale('symlog')\n",
    "            # plt.loglog()\n",
    "            plt.legend()\n",
    "            plt.ylabel(\"$C_\\ell$ [$uK^2$]\")\n",
    "            plt.xlabel(r\"$\\ell$\")\n",
    "    plt.show()"
   ]
  },
  {
   "cell_type": "markdown",
   "metadata": {},
   "source": [
    "# Studying $r$"
   ]
  },
  {
   "cell_type": "code",
   "execution_count": 36,
   "metadata": {},
   "outputs": [],
   "source": [
    "burn_in = int(.9*MICMAC_sampler_obj.number_iterations_sampling)\n",
    "burn_in = 1500"
   ]
  },
  {
   "cell_type": "code",
   "execution_count": 37,
   "metadata": {},
   "outputs": [
    {
     "name": "stdout",
     "output_type": "stream",
     "text": [
      "(1499,) 2000\n"
     ]
    },
    {
     "data": {
      "image/png": "[encoded data removed]",
      "text/plain": [
       "<Figure size 1400x400 with 2 Axes>"
      ]
     },
     "metadata": {},
     "output_type": "display_data"
    }
   ],
   "source": [
    "if MICMAC_sampler_obj.sample_r_Metropolis:\n",
    "    for job in range(num_jobs):\n",
    "        plt.figure(figsize=(14,4))\n",
    "        \n",
    "        # n_sigma = 3\n",
    "        \n",
    "        # cond = np.abs((all_r_samples[job] - all_r_samples[job].mean())/(all_r_samples[job].std())) < n_sigma\n",
    "        cond = np.arange(MICMAC_sampler_obj.number_iterations_sampling+1) > MICMAC_sampler_obj.number_iterations_sampling + 1 - burn_in\n",
    "        print(all_r_samples[job,cond].shape, MICMAC_sampler_obj.number_iterations_sampling)\n",
    "        mean_r = np.round(all_r_samples[job,cond].mean(), decimals=5)\n",
    "        std_r = np.round(all_r_samples[job,cond].std(), decimals=5)\n",
    "\n",
    "        plt.suptitle(f\"Mean value $r = {mean_r} \\pm {std_r}$ for job {job} over {num_jobs}\")\n",
    "        plt.subplot(121)\n",
    "        plt.plot(np.arange(MICMAC_sampler_obj.number_iterations_sampling+1), all_r_samples[job], label='r samples')\n",
    "        plt.plot([0, MICMAC_sampler_obj.number_iterations_sampling+1], [MICMAC_sampler_obj.r_true,MICMAC_sampler_obj.r_true], 'k:', label='r true')\n",
    "\n",
    "        plt.yscale('log')\n",
    "        plt.xlabel(\"Iterations\")\n",
    "        plt.ylabel('$r$ sample')\n",
    "        plt.title('Complete path of $r$')\n",
    "        plt.legend()\n",
    "\n",
    "        plt.subplot(122)\n",
    "        plt.plot(np.arange(MICMAC_sampler_obj.number_iterations_sampling+1), all_r_samples[job], label='r samples')\n",
    "        plt.plot([0, MICMAC_sampler_obj.number_iterations_sampling+1], [MICMAC_sampler_obj.r_true,MICMAC_sampler_obj.r_true], 'k:', label='r true')\n",
    "        plt.xlabel(\"Iterations\")\n",
    "        plt.ylabel('$r$ sample')\n",
    "        plt.title('Zoom around true value of $r$')\n",
    "        plt.legend()\n",
    "        # plt.ylim(ymin=MICMAC_sampler_obj.r_true*.7, ymax=MICMAC_sampler_obj.r_true*1.3)\n",
    "    plt.show()"
   ]
  },
  {
   "cell_type": "code",
   "execution_count": 38,
   "metadata": {},
   "outputs": [
    {
     "data": {
      "text/plain": [
       "(0.007574222607368901,\n",
       " 0.008000799271783965,\n",
       " 0.008380449790719708,\n",
       " 0.008849979101629876)"
      ]
     },
     "execution_count": 38,
     "metadata": {},
     "output_type": "execute_result"
    }
   ],
   "source": [
    "all_r_samples[0,:].mean(), all_r_samples[0,-1000:].mean(), all_r_samples[0,-500:].mean(), all_r_samples[0,-100:].mean()"
   ]
  },
  {
   "cell_type": "code",
   "execution_count": 39,
   "metadata": {},
   "outputs": [],
   "source": [
    "# all_r_samples[2000:].mean(), all_r_samples[2000:].std()"
   ]
  },
  {
   "cell_type": "code",
   "execution_count": 40,
   "metadata": {},
   "outputs": [
    {
     "name": "stdout",
     "output_type": "stream",
     "text": [
      "0.007574222607368901 0.001483350795940969\n"
     ]
    },
    {
     "data": {
      "image/png": "[encoded data removed]",
      "text/plain": [
       "<Figure size 640x480 with 1 Axes>"
      ]
     },
     "metadata": {},
     "output_type": "display_data"
    }
   ],
   "source": [
    "if MICMAC_sampler_obj.sample_r_Metropolis:\n",
    "    for job in range(num_jobs):\n",
    "        plt.figure()\n",
    "        hist_values, bins_value, _ = plt.hist(all_r_samples[job], bins='rice', label='r samples')\n",
    "        plt.plot([MICMAC_sampler_obj.r_true,MICMAC_sampler_obj.r_true], [0,hist_values.max()], 'r--', label='r true')\n",
    "        plt.legend()\n",
    "        print(np.mean(all_r_samples[job]), np.std(all_r_samples[job]))\n",
    "    plt.show()"
   ]
  },
  {
   "cell_type": "code",
   "execution_count": 41,
   "metadata": {},
   "outputs": [],
   "source": [
    "number_parameters_B_f_samples = all_params_mixing_matrix_samples.shape[-1]\n",
    "number_params_B_f_nside0 = (MICMAC_sampler_obj.n_frequencies-len(MICMAC_sampler_obj.pos_special_freqs))*(MICMAC_sampler_obj.n_components-1)"
   ]
  },
  {
   "cell_type": "code",
   "execution_count": 42,
   "metadata": {},
   "outputs": [],
   "source": [
    "MICMAC_sampler_obj.update_params(init_params)\n",
    "mixing_matrix_sampled = MICMAC_sampler_obj.get_B()\n",
    "BtinvNB_true = micmac.get_inv_BtinvNB(freq_inverse_noise, mixing_matrix_sampled)\n",
    "\n",
    "# if number_parameters_B_f_samples == number_params_B_f_nside0:\n",
    "if MICMAC_sampler_obj.n_components != 1:\n",
    "    for job in range(num_jobs):\n",
    "        all_mixing_matrix = np.zeros((MICMAC_sampler_obj.number_iterations_sampling+1,MICMAC_sampler_obj.n_frequencies,MICMAC_sampler_obj.n_components))\n",
    "\n",
    "        all_mixing_matrix[:,:,0] = mixing_matrix_sampled[:,0,0]\n",
    "        all_mixing_matrix[:,0,:] = mixing_matrix_sampled[0,:,0]\n",
    "        all_mixing_matrix[:,-1,:] = mixing_matrix_sampled[-1,:,0]\n",
    "        \n",
    "        cumsum_size_patches = np.zeros(MICMAC_sampler_obj.size_patches.shape[0]+1, dtype=int)\n",
    "        cumsum_size_patches[1:] = MICMAC_sampler_obj.size_patches.cumsum()\n",
    "        for i in range((MICMAC_sampler_obj.size_patches.shape[0])):\n",
    "            all_mixing_matrix[:,i%(MICMAC_sampler_obj.n_frequencies-len(MICMAC_sampler_obj.pos_special_freqs))+1, i//(MICMAC_sampler_obj.n_frequencies-len(MICMAC_sampler_obj.pos_special_freqs))+1] = all_params_mixing_matrix_samples[job,:,cumsum_size_patches[i]:cumsum_size_patches[i+1]].mean(axis=1)\n",
    "        # all_mixing_matrix[:,1:-1,1] = all_params_mixing_matrix_samples[job,:,:MICMAC_sampler_obj.n_frequencies-len(MICMAC_sampler_obj.pos_special_freqs)]\n",
    "        # all_mixing_matrix[:,1:-1,2] = all_params_mixing_matrix_samples[job,:,MICMAC_sampler_obj.n_frequencies-len(MICMAC_sampler_obj.pos_special_freqs):]\n",
    "\n",
    "\n",
    "\n",
    "        true_N_c = BtinvNB_true[0,0]\n",
    "        cl_noise_harm_0 = micmac.get_Cl_noise(np.array(instrument['depth_p']), mixing_matrix_sampled.mean(axis=2), lmax)[0,0,lmin]\n",
    "        all_inv_N_c = jnp.linalg.pinv(jnp.einsum(\"ifc,fh,ihd->icd\", all_mixing_matrix, MICMAC_sampler_obj.freq_inverse_noise.mean(axis=2), all_mixing_matrix))[:,0,0]*jhp.nside2resol(MICMAC_sampler_obj.nside)**2\n",
    "        # all_inv_N_c = micmac.get_inv_BtinvNB(MICMAC_sampler_obj.freq_inverse_noise, iteration_mixing_matrix.mean(axis=2))[0,0]\n",
    "        plt.figure()\n",
    "        plt.title('Effective CMB Noise vs iterations')\n",
    "        # plt.plot([0,MICMAC_sampler_obj.number_iterations_sampling+1], [true_N_c,true_N_c], label='true N_c')\n",
    "        plt.plot([0,MICMAC_sampler_obj.number_iterations_sampling+1], [cl_noise_harm_0,cl_noise_harm_0], label='true N_c')\n",
    "        plt.plot(np.arange(MICMAC_sampler_obj.number_iterations_sampling+1), all_inv_N_c, '-.', label='sample N_c')\n",
    "\n",
    "        plt.xlabel('Iterations')\n",
    "        plt.ylabel('$N_c^{-1}$ [uK$^-2$]')\n",
    "        # plt.loglog()\n",
    "        # plt.xscale('log')\n",
    "        # plt.yscale('log')\n",
    "        plt.legend()\n",
    "    plt.show()"
   ]
  },
  {
   "cell_type": "code",
   "execution_count": null,
   "metadata": {},
   "outputs": [],
   "source": []
  },
  {
   "cell_type": "markdown",
   "metadata": {},
   "source": [
    "## Plots without spatial variability"
   ]
  },
  {
   "cell_type": "code",
   "execution_count": 43,
   "metadata": {},
   "outputs": [],
   "source": [
    "list_correl = ['EE', 'BB', 'EB']\n",
    "\n",
    "ell_arange = np.arange(red_cov_approx_matrix.shape[0]) + lmin\n",
    "\n",
    "frequency_Bf = np.array(instrument['frequency'][1:-1])\n",
    "dim_Bf = frequency_Bf.shape[0]\n",
    "if number_parameters_B_f_samples == number_params_B_f_nside0 and MICMAC_sampler_obj.n_components != 1:\n",
    "    for job in range(num_jobs):\n",
    "        all_B_f_sample_synch = all_params_mixing_matrix_samples[job,:,:dim_Bf]\n",
    "        all_B_f_sample_dust = all_params_mixing_matrix_samples[job,:,dim_Bf:]\n",
    "\n",
    "        frequency_array = np.array(instrument['frequency'])\n",
    "\n",
    "\n",
    "        if MICMAC_sampler_obj.n_frequencies-len_pos_special_freqs < 10:\n",
    "            plt.figure(figsize=(20,8))\n",
    "            plt.suptitle('Mixing matrix parameters sampled vs iterations for job {} over {}'.format(job,num_jobs), fontsize=14)\n",
    "            # plt.subplot(121)\n",
    "\n",
    "            for i in range(MICMAC_sampler_obj.n_frequencies-len_pos_special_freqs):\n",
    "                plt.subplot(201+len(frequency_Bf)*10+i)\n",
    "                plt.title((f'Synch ${frequency_Bf[i]} GHz$'))\n",
    "                plt.plot([0,MICMAC_sampler_obj.number_iterations_sampling+1], [init_params[i],init_params[i]], label='Exact value')\n",
    "                plt.plot(np.arange(MICMAC_sampler_obj.number_iterations_sampling+1), all_B_f_sample_synch[:,i], '-.', label='Sample')\n",
    "                \n",
    "                n_sigma = 3\n",
    "                transformed_samples = np.abs(all_B_f_sample_synch[:,i] - all_B_f_sample_synch[:,i].mean())/(all_B_f_sample_synch[:,i].std()) #< n_sigma\n",
    "                cond = np.exp(transformed_samples**2/2)/(np.sqrt(2*np.pi)) < 0.9973\n",
    "                mean_B_f = np.round(all_B_f_sample_synch[:,i][cond].mean(), decimals=5)\n",
    "                std_B_f = np.round(all_B_f_sample_synch[:,i][cond].std(), decimals=5)\n",
    "\n",
    "                mean_value = all_B_f_sample_synch[:,i].mean()\n",
    "                plt.plot([0,MICMAC_sampler_obj.number_iterations_sampling+1], [mean_B_f,mean_B_f], ':', label='Samples mean 99.7%')\n",
    "\n",
    "                # plt.yscale('log')\n",
    "                # plt.xlabel('Iterations')\n",
    "                if i == 0:\n",
    "                    plt.ylabel('Amplitude')\n",
    "            plt.legend(bbox_to_anchor=(1.04, 1), loc=\"upper left\", prop={'size': 15}, frameon=False)\n",
    "            # plt.loglog()\n",
    "\n",
    "            # plt.figure(figsize=(20,8))\n",
    "            # plt.subplot(122)\n",
    "            for i in range(MICMAC_sampler_obj.n_frequencies-len_pos_special_freqs):\n",
    "                plt.subplot(201+len(frequency_Bf)*10+i+len(frequency_Bf))\n",
    "                # plt.subplot(201+len(frequency_Bf)*10+i)\n",
    "                plt.title((f'Dust ${frequency_Bf[i]} GHz$'))\n",
    "                plt.plot([0,MICMAC_sampler_obj.number_iterations_sampling+1], [init_params[i+dim_Bf],init_params[i+dim_Bf]], label='Exact value')\n",
    "                plt.plot(np.arange(MICMAC_sampler_obj.number_iterations_sampling+1), all_B_f_sample_dust[:,i], '-.', label='Sample')\n",
    "\n",
    "                n_sigma = 3\n",
    "                transformed_samples = np.abs(all_B_f_sample_dust[:,i] - all_B_f_sample_dust[:,i].mean())/(all_B_f_sample_dust[:,i].std()) #< n_sigma\n",
    "                cond = np.exp(transformed_samples**2/2)/(np.sqrt(2*np.pi)) < 0.9973\n",
    "                mean_B_f = np.round(all_B_f_sample_dust[:,i][cond].mean(), decimals=5)\n",
    "                std_B_f = np.round(all_B_f_sample_dust[:,i][cond].std(), decimals=5)\n",
    "\n",
    "                mean_value = all_B_f_sample_dust[:,i].mean()\n",
    "                plt.plot([0,MICMAC_sampler_obj.number_iterations_sampling+1], [mean_B_f,mean_B_f], ':', label='Samples mean 99.7%')\n",
    "                # plt.yscale('log')\n",
    "                plt.xlabel('Iterations')\n",
    "                if i == 0:\n",
    "                    plt.ylabel('Amplitude')\n",
    "            plt.legend(bbox_to_anchor=(1.04, 1), loc=\"upper left\", prop={'size': 15}, frameon=False)\n",
    "            # plt.loglog()\n",
    "            \n",
    "\n",
    "        plt.show()"
   ]
  },
  {
   "cell_type": "code",
   "execution_count": 44,
   "metadata": {},
   "outputs": [
    {
     "data": {
      "text/plain": [
       "(1, 2001, 1)"
      ]
     },
     "execution_count": 44,
     "metadata": {},
     "output_type": "execute_result"
    }
   ],
   "source": [
    "all_params_mixing_matrix_samples.shape"
   ]
  },
  {
   "cell_type": "code",
   "execution_count": 45,
   "metadata": {},
   "outputs": [
    {
     "data": {
      "text/plain": [
       "array([[[0.],\n",
       "        [0.],\n",
       "        [0.],\n",
       "        ...,\n",
       "        [0.],\n",
       "        [0.],\n",
       "        [0.]]])"
      ]
     },
     "execution_count": 45,
     "metadata": {},
     "output_type": "execute_result"
    }
   ],
   "source": [
    "all_params_mixing_matrix_samples"
   ]
  },
  {
   "cell_type": "code",
   "execution_count": 46,
   "metadata": {},
   "outputs": [
    {
     "data": {
      "text/plain": [
       "Array([[[1., 1., 1., ..., 1., 1., 1.]]], dtype=float64)"
      ]
     },
     "execution_count": 46,
     "metadata": {},
     "output_type": "execute_result"
    }
   ],
   "source": [
    "MICMAC_sampler_obj.get_B(jax_use=True)"
   ]
  },
  {
   "cell_type": "code",
   "execution_count": 47,
   "metadata": {},
   "outputs": [],
   "source": [
    "if MICMAC_sampler_obj.n_components != 1:\n",
    "    MICMAC_sampler_obj.update_params(all_params_mixing_matrix_samples[0,-1], jax_use=True)\n",
    "    test_mixing_matrix = MICMAC_sampler_obj.get_B(jax_use=True)\n",
    "    hp.mollview(test_mixing_matrix[4,2], title=\"Mixing matrix main dust element for last iteration\")"
   ]
  },
  {
   "cell_type": "code",
   "execution_count": 48,
   "metadata": {},
   "outputs": [
    {
     "name": "stdout",
     "output_type": "stream",
     "text": [
      "[0.]\n",
      "[]\n",
      "[]\n",
      "[]\n",
      "[]\n",
      "[]\n",
      "[]\n",
      "[]\n"
     ]
    }
   ],
   "source": [
    "# all_params_mixing_matrix_samples[0,:,12:24].std(axis=0)\n",
    "for i in range(8):\n",
    "    print(all_params_mixing_matrix_samples[0,:,12*i:(i+1)*12].std(axis=0))"
   ]
  },
  {
   "cell_type": "code",
   "execution_count": 49,
   "metadata": {},
   "outputs": [
    {
     "data": {
      "text/plain": [
       "array([0.])"
      ]
     },
     "execution_count": 49,
     "metadata": {},
     "output_type": "execute_result"
    }
   ],
   "source": [
    "all_params_mixing_matrix_samples[0,-1]"
   ]
  },
  {
   "cell_type": "code",
   "execution_count": 50,
   "metadata": {},
   "outputs": [
    {
     "data": {
      "text/plain": [
       "Array([], dtype=float64)"
      ]
     },
     "execution_count": 50,
     "metadata": {},
     "output_type": "execute_result"
    }
   ],
   "source": [
    "MICMAC_sampler_obj.update_params(init_params)\n",
    "MICMAC_sampler_obj.params"
   ]
  },
  {
   "cell_type": "code",
   "execution_count": 51,
   "metadata": {},
   "outputs": [],
   "source": [
    "list_correl = ['EE', 'BB', 'EB']\n",
    "\n",
    "ell_arange = np.arange(red_cov_approx_matrix.shape[0]) + lmin\n",
    "\n",
    "frequency_Bf = np.array(instrument['frequency'][1:-1])\n",
    "dim_Bf = frequency_Bf.shape[0]\n",
    "if MICMAC_sampler_obj.len_params == (MICMAC_sampler_obj.n_components - 1)*len(frequency_Bf) and MICMAC_sampler_obj.n_components != 1:\n",
    "    for job in range(num_jobs):\n",
    "        all_B_f_sample_synch = all_params_mixing_matrix_samples[job,:,:dim_Bf]\n",
    "        all_B_f_sample_dust = all_params_mixing_matrix_samples[job,:,dim_Bf:]\n",
    "\n",
    "        frequency_array = np.array(instrument['frequency'])\n",
    "\n",
    "\n",
    "        if MICMAC_sampler_obj.n_frequencies-len_pos_special_freqs >= 10:\n",
    "            n_columns = 4\n",
    "            number_rows = (MICMAC_sampler_obj.n_frequencies-len_pos_special_freqs)//n_columns + 1\n",
    "\n",
    "            # plt.figure(figsize=(20,8))\n",
    "            fig, ax = plt.subplots(number_rows, n_columns, figsize=(20,8))\n",
    "            useless_plots = number_rows*n_columns - (MICMAC_sampler_obj.n_frequencies-len_pos_special_freqs)\n",
    "            for idx_useless in range(0,useless_plots):\n",
    "                num_row = (number_rows*n_columns)//n_columns\n",
    "                num_col = (number_rows*n_columns)%n_columns\n",
    "                fig.delaxes(ax[num_row-1, num_col-idx_useless-1])\n",
    "\n",
    "            fig.suptitle(f\"Mixing matrix synch parameters sampled vs iterations for job {job} over {num_jobs}\", fontsize=14)\n",
    "            # plt.subplot(121)\n",
    "\n",
    "            for i in range(MICMAC_sampler_obj.n_frequencies-len_pos_special_freqs):\n",
    "                # plt.subplot(201+len(frequency_Bf)*10+i)\n",
    "                num_row = i//n_columns\n",
    "                num_col = i%n_columns\n",
    "                ax[num_row, num_col].set_title((f'Synch ${frequency_Bf[i]} GHz$'))\n",
    "                # plt.title((f'Synch ${frequency_Bf[i]} GHz$'))\n",
    "                \n",
    "                ax[num_row, num_col].plot([0,MICMAC_sampler_obj.number_iterations_sampling+1], [init_params[i],init_params[i]], label='Exact value')\n",
    "                ax[num_row, num_col].plot(np.arange(MICMAC_sampler_obj.number_iterations_sampling+1), all_B_f_sample_synch[:,i], '-.', label='Sample')\n",
    "                \n",
    "                mean_value = all_B_f_sample_synch[:,i].mean()\n",
    "                ax[num_row, num_col].plot([0,MICMAC_sampler_obj.number_iterations_sampling+1], [mean_value,mean_value], ':', label='Samples mean')\n",
    "\n",
    "                # plt.yscale('log')\n",
    "                # plt.xlabel('Iterations')\n",
    "                ax[num_row, num_col].set_xlabel('Iterations')\n",
    "                if i == 0:\n",
    "                    # plt.ylabel('Amplitude')\n",
    "                    ax[num_row, num_col].set_ylabel('Amplitude')\n",
    "                if i >= MICMAC_sampler_obj.n_frequencies-len_pos_special_freqs-n_columns:\n",
    "                    ax[num_row, num_col].set_xlabel('Iterations')\n",
    "                else:\n",
    "                    ax[num_row, num_col].tick_params(axis='x', labelbottom=False)\n",
    "            ax[num_row, num_col].legend(bbox_to_anchor=(1.04, 1), loc=\"upper left\", prop={'size': 15}, frameon=False)\n",
    "            # plt.loglog()\n",
    "\n",
    "            # plt.figure(figsize=(20,8))\n",
    "            # plt.subplot(122)\n",
    "            fig, ax = plt.subplots(number_rows, n_columns, figsize=(20,8))\n",
    "            useless_plots = number_rows*n_columns - (MICMAC_sampler_obj.n_frequencies-len_pos_special_freqs)\n",
    "            for idx_useless in range(0,useless_plots):\n",
    "                num_row = (number_rows*n_columns)//n_columns\n",
    "                num_col = (number_rows*n_columns)%n_columns\n",
    "                fig.delaxes(ax[num_row-1, num_col-idx_useless-1])\n",
    "\n",
    "\n",
    "            fig.suptitle(f\"Mixing matrix dust parameters sampled vs iterations for job {job} over {num_jobs}\", fontsize=14)\n",
    "            \n",
    "            for i in range(MICMAC_sampler_obj.n_frequencies-len_pos_special_freqs):\n",
    "                # plt.subplot(201+len(frequency_Bf)*10+i+len(frequency_Bf))\n",
    "                # plt.subplot(201+len(frequency_Bf)*10+i)\n",
    "                num_row = i//n_columns\n",
    "                num_col = i%n_columns\n",
    "                ax[num_row, num_col].set_title((f'Dust ${frequency_Bf[i]} GHz$'))\n",
    "                ax[num_row, num_col].plot([0,MICMAC_sampler_obj.number_iterations_sampling+1], [init_params[i+dim_Bf],init_params[i+dim_Bf]], label='Exact value')\n",
    "                ax[num_row, num_col].plot(np.arange(MICMAC_sampler_obj.number_iterations_sampling+1), all_B_f_sample_dust[:,i], '-.', label='Sample')\n",
    "\n",
    "                mean_value = all_B_f_sample_dust[:,i].mean()\n",
    "                ax[num_row, num_col].plot([0,MICMAC_sampler_obj.number_iterations_sampling+1], [mean_value,mean_value], ':', label='Samples mean')\n",
    "                # plt.yscale('log')\n",
    "                \n",
    "                if i == 0:\n",
    "                    ax[num_row, num_col].set_ylabel('Amplitude')\n",
    "                if i >= MICMAC_sampler_obj.n_frequencies-len_pos_special_freqs-n_columns:\n",
    "                    ax[num_row, num_col].set_xlabel('Iterations')\n",
    "                else:\n",
    "                    ax[num_row, num_col].tick_params(axis='x', labelbottom=False)\n",
    "            ax[num_row, num_col].legend(bbox_to_anchor=(1.04, 1), loc=\"upper left\", prop={'size': 15}, frameon=False)\n",
    "            # plt.loglog()\n",
    "\n",
    "        plt.show()"
   ]
  },
  {
   "cell_type": "code",
   "execution_count": 52,
   "metadata": {},
   "outputs": [],
   "source": [
    "list_correl = ['EE', 'BB', 'EB']\n",
    "\n",
    "ell_arange = np.arange(red_cov_approx_matrix.shape[0]) + lmin\n",
    "\n",
    "frequency_Bf = np.array(instrument['frequency'][1:-1])\n",
    "frequency_array = np.array(instrument['frequency'])\n",
    "\n",
    "num_iter_1000 = MICMAC_sampler_obj.number_iterations_sampling//1000\n",
    "if MICMAC_sampler_obj.number_iterations_sampling%1000 != 0:\n",
    "    num_iter_1000 += 1\n",
    "\n",
    "color_list = ['blue', 'green', 'red', 'cyan', 'orange', 'yellow', 'purple', 'pink', 'brown', 'black', \n",
    "            'gray', 'olive', 'lime', 'teal', 'magenta', 'salmon', 'darkgreen', 'darkblue', 'darkred', \n",
    "            'darkcyan', 'darkorange', 'darkyellow', 'darkpurple', 'darkpink', 'darkbrown', 'darkgray', 'darkolive', 'darklime', 'darkteal', 'darkmagenta', 'darksalmon', 'lightgreen', 'lightblue', 'lightred', 'lightcyan', 'lightorange', 'lightyellow', 'lightpurple', 'lightpink', 'lightbrown', 'lightgray', 'lightolive', 'lightlime', 'lightteal', 'lightmagenta', 'lightsalmon', 'darkgreen', 'darkblue', 'darkred']\n",
    "if MICMAC_sampler_obj.len_params == (MICMAC_sampler_obj.n_components - 1)*len(frequency_Bf) and MICMAC_sampler_obj.n_components != 1:\n",
    "    for job in range(num_jobs):\n",
    "        if MICMAC_sampler_obj.n_frequencies-len_pos_special_freqs < 10:\n",
    "            all_params_mixing_matrix_samples_job = all_params_mixing_matrix_samples[job]\n",
    "            plt.figure(figsize=(18,8))\n",
    "            plt.suptitle(f\"Mixing matrix parameters histogram for job {job} over {num_jobs}\", fontsize=14)\n",
    "\n",
    "            for i in range(len(frequency_Bf)):\n",
    "                plt.subplot(201+len(frequency_Bf)*10+i)\n",
    "                plt.title((f'Synch {frequency_Bf[i]} GHz'))\n",
    "                if all_params_mixing_matrix_samples_job[:,i].min() == all_params_mixing_matrix_samples_job[:,i].max():\n",
    "                    min_value = all_params_mixing_matrix_samples_job[:,i].min()*.9\n",
    "                    max_value = all_params_mixing_matrix_samples_job[:,i].max()*1.1\n",
    "                else:\n",
    "                    min_value = all_params_mixing_matrix_samples_job[:,i].min()\n",
    "                    max_value = all_params_mixing_matrix_samples_job[:,i].max()\n",
    "                bins_array = np.linspace(min_value, max_value, 100) #MICMAC_sampler_obj.number_iterations_sampling//200\n",
    "\n",
    "                max_height = 0\n",
    "                for j in range(num_iter_1000):\n",
    "                    heights, _, _ = plt.hist(all_params_mixing_matrix_samples_job[j*1000:(j+1)*1000,i], bins=bins_array, color=color_list[j], alpha=.5, label=f'#{j}e {1000}')\n",
    "                    max_height = max(max_height, heights.max())\n",
    "                # plt.plot([init_params[i,0],init_params[i,0]], [0,max_height], 'r:', linewidth=2.0, label=f'$B^s {frequency_Bf[i]} GHz$')\n",
    "                plt.plot([init_params[i],init_params[i]], [0,max_height], 'r:', linewidth=2.0, label='Exact value')\n",
    "            plt.legend(bbox_to_anchor=(1.04, 1), loc=\"upper left\", prop={'size': 15}, frameon=False)\n",
    "\n",
    "\n",
    "            for i in range(len(frequency_Bf)):\n",
    "                plt.subplot(201+len(frequency_Bf)*10+i+len(frequency_Bf))\n",
    "                plt.title((f'Dust {frequency_Bf[i]} GHz'))\n",
    "                if all_params_mixing_matrix_samples_job[:,i+dim_Bf].min() == all_params_mixing_matrix_samples_job[:,i+dim_Bf].max():\n",
    "                    min_value = all_params_mixing_matrix_samples_job[:,i+dim_Bf].min()*.9\n",
    "                    max_value = all_params_mixing_matrix_samples_job[:,i+dim_Bf].max()*1.1\n",
    "                else:\n",
    "                    min_value = all_params_mixing_matrix_samples_job[:,i+dim_Bf].min()\n",
    "                    max_value = all_params_mixing_matrix_samples_job[:,i+dim_Bf].max()\n",
    "                bins_array = np.linspace(min_value, max_value, 100) #MICMAC_sampler_obj.number_iterations_sampling//200\n",
    "\n",
    "                max_height = 0\n",
    "                for j in range(num_iter_1000):\n",
    "                    heights, _, _ = plt.hist(all_params_mixing_matrix_samples_job[j*1000:(j+1)*1000,i+dim_Bf], bins=bins_array, color=color_list[j], alpha=.5, label=f'#{j}e {1000}')\n",
    "                    max_height = max(max_height, heights.max())\n",
    "\n",
    "                # plt.plot([init_params[i,1],init_params[i,1]], [0,max_height], 'r:', linewidth=2.0, label=f'$B^d {frequency_Bf[i]} GHz$')\n",
    "                plt.plot([init_params[i+dim_Bf],init_params[i+dim_Bf]], [0,max_height], 'r:', linewidth=2.0, label='Exact value')\n",
    "            # plt.legend(bbox_to_anchor=(1.04, 1), loc=\"upper left\", prop={'size': 15}, frameon=False)\n",
    "\n",
    "        plt.show()\n"
   ]
  },
  {
   "cell_type": "markdown",
   "metadata": {},
   "source": [
    "## Selecting $B_f$ in the observed region in case of spatial variability"
   ]
  },
  {
   "cell_type": "code",
   "execution_count": 53,
   "metadata": {},
   "outputs": [
    {
     "ename": "TypeError",
     "evalue": "'NoneType' object is not subscriptable",
     "output_type": "error",
     "traceback": [
      "\u001b[0;31m---------------------------------------------------------------------------\u001b[0m",
      "\u001b[0;31mTypeError\u001b[0m                                 Traceback (most recent call last)",
      "Cell \u001b[0;32mIn[53], line 1\u001b[0m\n\u001b[0;32m----> 1\u001b[0m condition_unobserved_patches \u001b[38;5;241m=\u001b[39m \u001b[43mMICMAC_sampler_obj\u001b[49m\u001b[38;5;241;43m.\u001b[39;49m\u001b[43mget_cond_unobserved_patches\u001b[49m\u001b[43m(\u001b[49m\u001b[43m)\u001b[49m \u001b[38;5;66;03m## Get boolean array to identify which free indexes are not relevant\u001b[39;00m\n\u001b[1;32m      2\u001b[0m \u001b[38;5;28mprint\u001b[39m(\u001b[38;5;124m\"\u001b[39m\u001b[38;5;124mPrevious free indexes for B_f\u001b[39m\u001b[38;5;124m\"\u001b[39m, MICMAC_sampler_obj\u001b[38;5;241m.\u001b[39mindexes_free_Bf, MICMAC_sampler_obj\u001b[38;5;241m.\u001b[39mindexes_free_Bf\u001b[38;5;241m.\u001b[39msize, flush\u001b[38;5;241m=\u001b[39m\u001b[38;5;28;01mTrue\u001b[39;00m)\n\u001b[1;32m      3\u001b[0m MICMAC_sampler_obj\u001b[38;5;241m.\u001b[39mindexes_free_Bf \u001b[38;5;241m=\u001b[39m jnp\u001b[38;5;241m.\u001b[39marray(MICMAC_sampler_obj\u001b[38;5;241m.\u001b[39mindexes_free_Bf)\u001b[38;5;241m.\u001b[39mat[condition_unobserved_patches]\u001b[38;5;241m.\u001b[39mget()\n",
      "File \u001b[0;32m~/Documents/PHD1Y/Space_Work/Pixel_non_P2D/MICMAC/micmac/jax_Sampling_toolbox.py:214\u001b[0m, in \u001b[0;36mSampling_functions.get_cond_unobserved_patches\u001b[0;34m(self)\u001b[0m\n\u001b[1;32m    209\u001b[0m \u001b[38;5;28;01mdef\u001b[39;00m \u001b[38;5;21mget_cond_unobserved_patches\u001b[39m(\u001b[38;5;28mself\u001b[39m):\n\u001b[1;32m    210\u001b[0m \u001b[38;5;250m    \u001b[39m\u001b[38;5;124;03m\"\"\" \u001b[39;00m\n\u001b[1;32m    211\u001b[0m \u001b[38;5;124;03m        Get boolean condition on the free B_f indices corresponding to patches within the mask\u001b[39;00m\n\u001b[1;32m    212\u001b[0m \u001b[38;5;124;03m    \"\"\"\u001b[39;00m\n\u001b[0;32m--> 214\u001b[0m     templates \u001b[38;5;241m=\u001b[39m \u001b[38;5;28;43mself\u001b[39;49m\u001b[38;5;241;43m.\u001b[39;49m\u001b[43mget_all_templates\u001b[49m\u001b[43m(\u001b[49m\u001b[43m)\u001b[49m\n\u001b[1;32m    215\u001b[0m     \u001b[38;5;66;03m# mask_with_m1 = jnp.where(self.mask==0, -1, 1)\u001b[39;00m\n\u001b[1;32m    216\u001b[0m     templates \u001b[38;5;241m=\u001b[39m templates\u001b[38;5;241m.\u001b[39mat[:,:,\u001b[38;5;28mself\u001b[39m\u001b[38;5;241m.\u001b[39mmask\u001b[38;5;241m==\u001b[39m\u001b[38;5;241m0\u001b[39m]\u001b[38;5;241m.\u001b[39mset(\u001b[38;5;241m-\u001b[39m\u001b[38;5;241m1\u001b[39m)\n",
      "File \u001b[0;32m~/Documents/PHD1Y/Space_Work/Pixel_non_P2D/MICMAC/micmac/mixingmatrix.py:253\u001b[0m, in \u001b[0;36mMixingMatrix.get_all_templates\u001b[0;34m(self)\u001b[0m\n\u001b[1;32m    250\u001b[0m     \u001b[38;5;28;01mreturn\u001b[39;00m template_idx_freq_comp\n\u001b[1;32m    252\u001b[0m \u001b[38;5;66;03m## Maping over the functions to create the templates\u001b[39;00m\n\u001b[0;32m--> 253\u001b[0m \u001b[38;5;28;01mreturn\u001b[39;00m \u001b[43mjax\u001b[49m\u001b[38;5;241;43m.\u001b[39;49m\u001b[43mvmap\u001b[49m\u001b[43m(\u001b[49m\u001b[43mcreate_all_templates_indexed_freq\u001b[49m\u001b[43m)\u001b[49m\u001b[43m(\u001b[49m\u001b[43mjnp\u001b[49m\u001b[38;5;241;43m.\u001b[39;49m\u001b[43marange\u001b[49m\u001b[43m(\u001b[49m\u001b[43mn_unknown_freqs\u001b[49m\u001b[43m)\u001b[49m\u001b[43m)\u001b[49m\n",
      "    \u001b[0;31m[... skipping hidden 3 frame]\u001b[0m\n",
      "File \u001b[0;32m~/Documents/PHD1Y/Space_Work/Pixel_non_P2D/MICMAC/micmac/mixingmatrix.py:249\u001b[0m, in \u001b[0;36mMixingMatrix.get_all_templates.<locals>.create_all_templates_indexed_freq\u001b[0;34m(idx_freq)\u001b[0m\n\u001b[1;32m    241\u001b[0m     template_idx_comp \u001b[38;5;241m=\u001b[39m create_one_template_from_bdefaultvalue(\n\u001b[1;32m    242\u001b[0m                                                     jnp\u001b[38;5;241m.\u001b[39mexpand_dims(\u001b[38;5;28mself\u001b[39m\u001b[38;5;241m.\u001b[39mvalues_b[idx_freq,idx_comp],axis\u001b[38;5;241m=\u001b[39m\u001b[38;5;241m0\u001b[39m), \n\u001b[1;32m    243\u001b[0m                                                     \u001b[38;5;28mself\u001b[39m\u001b[38;5;241m.\u001b[39mnside,\n\u001b[0;32m   (...)\u001b[0m\n\u001b[1;32m    246\u001b[0m                                                     use_jax\u001b[38;5;241m=\u001b[39m\u001b[38;5;28;01mTrue\u001b[39;00m, \n\u001b[1;32m    247\u001b[0m                                                     print_bool\u001b[38;5;241m=\u001b[39m\u001b[38;5;28;01mFalse\u001b[39;00m)\n\u001b[1;32m    248\u001b[0m     \u001b[38;5;28;01mreturn\u001b[39;00m template_idx_comp \u001b[38;5;241m+\u001b[39m \u001b[38;5;28mself\u001b[39m\u001b[38;5;241m.\u001b[39msum_size_patches_indexed_freq_comp[idx_freq,idx_comp]\n\u001b[0;32m--> 249\u001b[0m template_idx_freq_comp \u001b[38;5;241m=\u001b[39m \u001b[43mjax\u001b[49m\u001b[38;5;241;43m.\u001b[39;49m\u001b[43mvmap\u001b[49m\u001b[43m(\u001b[49m\u001b[43mcreate_all_templates_indexed_comp\u001b[49m\u001b[43m)\u001b[49m\u001b[43m(\u001b[49m\u001b[43mjnp\u001b[49m\u001b[38;5;241;43m.\u001b[39;49m\u001b[43marange\u001b[49m\u001b[43m(\u001b[49m\u001b[43mn_comp_fgs\u001b[49m\u001b[43m)\u001b[49m\u001b[43m)\u001b[49m\n\u001b[1;32m    250\u001b[0m \u001b[38;5;28;01mreturn\u001b[39;00m template_idx_freq_comp\n",
      "    \u001b[0;31m[... skipping hidden 3 frame]\u001b[0m\n",
      "File \u001b[0;32m~/Documents/PHD1Y/Space_Work/Pixel_non_P2D/MICMAC/micmac/mixingmatrix.py:242\u001b[0m, in \u001b[0;36mMixingMatrix.get_all_templates.<locals>.create_all_templates_indexed_freq.<locals>.create_all_templates_indexed_comp\u001b[0;34m(idx_comp)\u001b[0m\n\u001b[1;32m    240\u001b[0m \u001b[38;5;28;01mdef\u001b[39;00m \u001b[38;5;21mcreate_all_templates_indexed_comp\u001b[39m(idx_comp):\n\u001b[1;32m    241\u001b[0m     template_idx_comp \u001b[38;5;241m=\u001b[39m create_one_template_from_bdefaultvalue(\n\u001b[0;32m--> 242\u001b[0m                                                     jnp\u001b[38;5;241m.\u001b[39mexpand_dims(\u001b[38;5;28;43mself\u001b[39;49m\u001b[38;5;241;43m.\u001b[39;49m\u001b[43mvalues_b\u001b[49m\u001b[43m[\u001b[49m\u001b[43midx_freq\u001b[49m\u001b[43m,\u001b[49m\u001b[43midx_comp\u001b[49m\u001b[43m]\u001b[49m,axis\u001b[38;5;241m=\u001b[39m\u001b[38;5;241m0\u001b[39m), \n\u001b[1;32m    243\u001b[0m                                                     \u001b[38;5;28mself\u001b[39m\u001b[38;5;241m.\u001b[39mnside,\n\u001b[1;32m    244\u001b[0m                                                     all_nsides\u001b[38;5;241m=\u001b[39m\u001b[38;5;28;01mNone\u001b[39;00m, \n\u001b[1;32m    245\u001b[0m                                                     spv_templates\u001b[38;5;241m=\u001b[39m\u001b[38;5;28;01mNone\u001b[39;00m, \n\u001b[1;32m    246\u001b[0m                                                     use_jax\u001b[38;5;241m=\u001b[39m\u001b[38;5;28;01mTrue\u001b[39;00m, \n\u001b[1;32m    247\u001b[0m                                                     print_bool\u001b[38;5;241m=\u001b[39m\u001b[38;5;28;01mFalse\u001b[39;00m)\n\u001b[1;32m    248\u001b[0m     \u001b[38;5;28;01mreturn\u001b[39;00m template_idx_comp \u001b[38;5;241m+\u001b[39m \u001b[38;5;28mself\u001b[39m\u001b[38;5;241m.\u001b[39msum_size_patches_indexed_freq_comp[idx_freq,idx_comp]\n",
      "\u001b[0;31mTypeError\u001b[0m: 'NoneType' object is not subscriptable"
     ]
    }
   ],
   "source": [
    "if MICMAC_sampler_obj.n_components != 1:\n",
    "    condition_unobserved_patches = MICMAC_sampler_obj.get_cond_unobserved_patches() ## Get boolean array to identify which free indexes are not relevant\n",
    "    print(\"Previous free indexes for B_f\", MICMAC_sampler_obj.indexes_free_Bf, MICMAC_sampler_obj.indexes_free_Bf.size, flush=True)\n",
    "    MICMAC_sampler_obj.indexes_free_Bf = jnp.array(MICMAC_sampler_obj.indexes_free_Bf).at[condition_unobserved_patches].get()\n",
    "    print(\"New free indexes for B_f\", MICMAC_sampler_obj.indexes_free_Bf, MICMAC_sampler_obj.indexes_free_Bf.size, flush=True)\n",
    "\n",
    "    indexes_free_Bf = MICMAC_sampler_obj.indexes_free_Bf\n"
   ]
  },
  {
   "cell_type": "code",
   "execution_count": null,
   "metadata": {},
   "outputs": [],
   "source": []
  },
  {
   "cell_type": "markdown",
   "metadata": {},
   "source": [
    "## Plotting chains of $B_f$"
   ]
  },
  {
   "cell_type": "code",
   "execution_count": null,
   "metadata": {},
   "outputs": [],
   "source": [
    "list_correl = ['EE', 'BB', 'EB']\n",
    "\n",
    "ell_arange = np.arange(red_cov_approx_matrix.shape[0]) + lmin\n",
    "\n",
    "frequency_Bf = np.array(instrument['frequency'][1:-1])\n",
    "dim_Bf = frequency_Bf.shape[0]\n",
    "\n",
    "alpha_value = .4\n",
    "number_params_synch = MICMAC_sampler_obj.indexes_b[0,1]\n",
    "\n",
    "if number_parameters_B_f_samples != number_params_B_f_nside0 and MICMAC_sampler_obj.n_components != 1:\n",
    "    for job in range(num_jobs):\n",
    "        \n",
    "        all_B_f_sample_synch = all_params_mixing_matrix_samples[job,:,:number_params_synch]\n",
    "        all_B_f_sample_dust = all_params_mixing_matrix_samples[job,:,number_params_synch:]\n",
    "\n",
    "        frequency_array = np.array(instrument['frequency'])\n",
    "\n",
    "\n",
    "        if MICMAC_sampler_obj.n_frequencies-len_pos_special_freqs < 10:\n",
    "            plt.figure(figsize=(20,8))\n",
    "            plt.suptitle('Mixing matrix parameters sampled vs iterations for job {} over {}'.format(job,num_jobs), fontsize=14)\n",
    "            # plt.subplot(121)\n",
    "\n",
    "            for i in range(MICMAC_sampler_obj.n_frequencies-len_pos_special_freqs):\n",
    "                plt.subplot(201+len(frequency_Bf)*10+i)\n",
    "                plt.title((f'Synch ${frequency_Bf[i]} GHz$'))\n",
    "                \n",
    "                indices_to_plot = MICMAC_sampler_obj.indexes_b[i,0] + np.arange(MICMAC_sampler_obj.size_patches[i])\n",
    "                indices_to_plot = indices_to_plot[np.isin(indices_to_plot, MICMAC_sampler_obj.indexes_free_Bf)]\n",
    "                plt.plot([0,MICMAC_sampler_obj.number_iterations_sampling+1], [init_params[indices_to_plot[0]],init_params[indices_to_plot[0]]], label='Exact value', color='tab:blue')\n",
    "                plt.plot(np.arange(MICMAC_sampler_obj.number_iterations_sampling+1), all_B_f_sample_synch[:,MICMAC_sampler_obj.indexes_b[i,0]], '-.', color='tab:orange', label='Sample', alpha=alpha_value)\n",
    "                \n",
    "                for j in indices_to_plot[1:]:\n",
    "                    plt.plot([0,MICMAC_sampler_obj.number_iterations_sampling+1], [init_params[j],init_params[j]], color='tab:blue')\n",
    "                    plt.plot(np.arange(MICMAC_sampler_obj.number_iterations_sampling+1), all_B_f_sample_synch[:,j], '-.', color='tab:orange', alpha=alpha_value)\n",
    "                \n",
    "                if i == 0:\n",
    "                    plt.ylabel('Amplitude')\n",
    "            plt.legend(bbox_to_anchor=(1.04, 1), loc=\"upper left\", prop={'size': 15}, frameon=False)\n",
    "            # plt.loglog()\n",
    "\n",
    "            # plt.figure(figsize=(20,8))\n",
    "            # plt.subplot(122)\n",
    "            for i in range(MICMAC_sampler_obj.n_frequencies-len_pos_special_freqs):\n",
    "                plt.subplot(201+len(frequency_Bf)*10+i+len(frequency_Bf))\n",
    "                # plt.subplot(201+len(frequency_Bf)*10+i)\n",
    "                plt.title((f'Dust ${frequency_Bf[i]} GHz$'))\n",
    "                # plt.plot([0,MICMAC_sampler_obj.number_iterations_sampling+1], [init_params[i+dim_Bf],init_params[i+dim_Bf]], label='Exact value')\n",
    "                # plt.plot(np.arange(MICMAC_sampler_obj.number_iterations_sampling+1), all_B_f_sample_dust[:,i], '-.', label='Sample')\n",
    "\n",
    "                indices_to_plot = MICMAC_sampler_obj.indexes_b[i,1] + np.arange(MICMAC_sampler_obj.size_patches[i+number_params_synch])\n",
    "                indices_to_plot = indices_to_plot[np.isin(indices_to_plot, MICMAC_sampler_obj.indexes_free_Bf)]\n",
    "                plt.plot([0,MICMAC_sampler_obj.number_iterations_sampling+1], [init_params[indices_to_plot[0]],init_params[indices_to_plot[0]]], label='Exact value', color='tab:blue')\n",
    "                plt.plot(np.arange(MICMAC_sampler_obj.number_iterations_sampling+1), all_params_mixing_matrix_samples[job,:,indices_to_plot[0]], '-.', color='tab:orange', label='Sample', alpha=alpha_value)\n",
    "                \n",
    "                for j in indices_to_plot[1:]:\n",
    "                    plt.plot([0,MICMAC_sampler_obj.number_iterations_sampling+1], [init_params[j],init_params[j]], color='tab:blue')\n",
    "                    plt.plot(np.arange(MICMAC_sampler_obj.number_iterations_sampling+1), all_params_mixing_matrix_samples[job,:,j], '-.', color='tab:orange', alpha=alpha_value)\n",
    "\n",
    "                plt.xlabel('Iterations')\n",
    "                if i == 0:\n",
    "                    plt.ylabel('Amplitude')\n",
    "            plt.legend(bbox_to_anchor=(1.04, 1), loc=\"upper left\", prop={'size': 15}, frameon=False)\n",
    "            # plt.loglog()\n",
    "            \n",
    "\n",
    "        plt.show()"
   ]
  },
  {
   "cell_type": "code",
   "execution_count": null,
   "metadata": {},
   "outputs": [],
   "source": [
    "list_correl = ['EE', 'BB', 'EB']\n",
    "\n",
    "ell_arange = np.arange(red_cov_approx_matrix.shape[0]) + lmin\n",
    "\n",
    "frequency_Bf = np.array(instrument['frequency'][1:-1])\n",
    "dim_Bf = frequency_Bf.shape[0]\n",
    "number_params_synch = MICMAC_sampler_obj.indexes_b[0,1]\n",
    "\n",
    "if MICMAC_sampler_obj.n_components != 1:\n",
    "    if MICMAC_sampler_obj.max_len_patches_Bf < 1000:\n",
    "        for job in range(num_jobs):\n",
    "            # all_B_f_sample_synch = all_params_mixing_matrix_samples[job,:,:dim_Bf]\n",
    "            # all_B_f_sample_dust = all_params_mixing_matrix_samples[job,:,dim_Bf:]\n",
    "\n",
    "            frequency_array = np.array(instrument['frequency'])\n",
    "\n",
    "\n",
    "            if MICMAC_sampler_obj.n_frequencies-len_pos_special_freqs >= 10:\n",
    "                n_columns = 4\n",
    "                number_rows = (MICMAC_sampler_obj.n_frequencies-len_pos_special_freqs)//n_columns + 1\n",
    "\n",
    "                # plt.figure(figsize=(20,8))\n",
    "                fig, ax = plt.subplots(number_rows, n_columns, figsize=(20,8))\n",
    "                useless_plots = number_rows*n_columns - (MICMAC_sampler_obj.n_frequencies-len_pos_special_freqs)\n",
    "                for idx_useless in range(0,useless_plots):\n",
    "                    num_row = (number_rows*n_columns)//n_columns\n",
    "                    num_col = (number_rows*n_columns)%n_columns\n",
    "                    fig.delaxes(ax[num_row-1, num_col-idx_useless-1])\n",
    "\n",
    "                fig.suptitle(f\"Mixing matrix synch parameters sampled vs iterations for job {job} over {num_jobs}\", fontsize=14)\n",
    "                # plt.subplot(121)\n",
    "\n",
    "                for i in range(MICMAC_sampler_obj.n_frequencies-len_pos_special_freqs):\n",
    "                    # plt.subplot(201+len(frequency_Bf)*10+i)\n",
    "\n",
    "\n",
    "                    num_row = i//n_columns\n",
    "                    num_col = i%n_columns\n",
    "                    ax[num_row, num_col].set_title((f'Synch ${frequency_Bf[i]} GHz$'))\n",
    "                    # plt.title((f'Synch ${frequency_Bf[i]} GHz$'))\n",
    "                    \n",
    "                    # ax[num_row, num_col].plot([0,MICMAC_sampler_obj.number_iterations_sampling+1], [init_params[i],init_params[i]], label='Exact value')\n",
    "                    # ax[num_row, num_col].plot(np.arange(MICMAC_sampler_obj.number_iterations_sampling+1), all_B_f_sample_synch[:,i], '-.', label='Sample')\n",
    "                    \n",
    "                    indices_to_plot = MICMAC_sampler_obj.indexes_b[i,0] + np.arange(MICMAC_sampler_obj.size_patches[i])\n",
    "                    indices_to_plot = indices_to_plot[np.isin(indices_to_plot, MICMAC_sampler_obj.indexes_free_Bf)]\n",
    "                    ax[num_row, num_col].plot([0,MICMAC_sampler_obj.number_iterations_sampling+1], [init_params[indices_to_plot[0]],init_params[indices_to_plot[0]]], label='Exact value', color='tab:blue')\n",
    "                    ax[num_row, num_col].plot(np.arange(MICMAC_sampler_obj.number_iterations_sampling+1), all_params_mixing_matrix_samples[job,:,indices_to_plot[0]], '-.', color='tab:orange', label='Sample', alpha=alpha_value)\n",
    "                    \n",
    "                    for idx_plot in indices_to_plot[1:]:\n",
    "                        ax[num_row, num_col].plot([0,MICMAC_sampler_obj.number_iterations_sampling+1], [init_params[idx_plot],init_params[idx_plot]], color='tab:blue')\n",
    "                        ax[num_row, num_col].plot(np.arange(MICMAC_sampler_obj.number_iterations_sampling+1), all_params_mixing_matrix_samples[job,:,idx_plot], '-.', color='tab:orange', alpha=alpha_value)\n",
    "                    \n",
    "                    # plt.yscale('log')\n",
    "                    # plt.xlabel('Iterations')\n",
    "                    # ax[num_row, num_col].set_xlabel('Iterations')\n",
    "                    if i == 0:\n",
    "                        # plt.ylabel('Amplitude')\n",
    "                        ax[num_row, num_col].set_ylabel('Amplitude')\n",
    "                    if i >= MICMAC_sampler_obj.n_frequencies-len_pos_special_freqs-n_columns:\n",
    "                        ax[num_row, num_col].set_xlabel('Iterations')\n",
    "                    else:\n",
    "                        ax[num_row, num_col].tick_params(axis='x', labelbottom=False)\n",
    "                ax[num_row, num_col].legend(bbox_to_anchor=(1.04, 1), loc=\"upper left\", prop={'size': 15}, frameon=False)\n",
    "                # plt.loglog()\n",
    "\n",
    "                # plt.figure(figsize=(20,8))\n",
    "                # plt.subplot(122)\n",
    "                fig, ax = plt.subplots(number_rows, n_columns, figsize=(20,8))\n",
    "                useless_plots = number_rows*n_columns - (MICMAC_sampler_obj.n_frequencies-len_pos_special_freqs)\n",
    "                for idx_useless in range(0,useless_plots):\n",
    "                    num_row = (number_rows*n_columns)//n_columns\n",
    "                    num_col = (number_rows*n_columns)%n_columns\n",
    "                    fig.delaxes(ax[num_row-1, num_col-idx_useless-1])\n",
    "\n",
    "\n",
    "                fig.suptitle(f\"Mixing matrix dust parameters sampled vs iterations for job {job} over {num_jobs}\", fontsize=14)\n",
    "                \n",
    "                for i in range(MICMAC_sampler_obj.n_frequencies-len_pos_special_freqs):\n",
    "                    num_row = i//n_columns\n",
    "                    num_col = i%n_columns\n",
    "                    ax[num_row, num_col].set_title((f'Dust ${frequency_Bf[i]} GHz$'))\n",
    "                    \n",
    "                    indices_to_plot = MICMAC_sampler_obj.indexes_b[i,1] + np.arange(MICMAC_sampler_obj.size_patches[i+number_params_synch])\n",
    "                    indices_to_plot = indices_to_plot[np.isin(indices_to_plot, MICMAC_sampler_obj.indexes_free_Bf)]\n",
    "                    ax[num_row, num_col].plot([0,MICMAC_sampler_obj.number_iterations_sampling+1], [init_params[indices_to_plot[0]],init_params[indices_to_plot[0]]], label='Exact value', color='tab:blue')\n",
    "                    ax[num_row, num_col].plot(np.arange(MICMAC_sampler_obj.number_iterations_sampling+1), all_params_mixing_matrix_samples[job,:,indices_to_plot[0]], '-.', color='tab:orange', label='Sample', alpha=alpha_value)\n",
    "                    \n",
    "                    for idx_mixing in indices_to_plot[1:]:\n",
    "                        ax[num_row, num_col].plot([0,MICMAC_sampler_obj.number_iterations_sampling+1], [init_params[idx_mixing],init_params[idx_mixing]], color='tab:blue')\n",
    "                        ax[num_row, num_col].plot(np.arange(MICMAC_sampler_obj.number_iterations_sampling+1), all_params_mixing_matrix_samples[job,:,idx_mixing], '-.', color='tab:orange', alpha=alpha_value)\n",
    "\n",
    "                    if i == 0:\n",
    "                        ax[num_row, num_col].set_ylabel('Amplitude')\n",
    "                    if i >= MICMAC_sampler_obj.n_frequencies-len_pos_special_freqs-n_columns:\n",
    "                        ax[num_row, num_col].set_xlabel('Iterations')\n",
    "                    else:\n",
    "                        ax[num_row, num_col].tick_params(axis='x', labelbottom=False)\n",
    "                ax[num_row, num_col].legend(bbox_to_anchor=(1.04, 1), loc=\"upper left\", prop={'size': 15}, frameon=False)\n",
    "                # plt.loglog()\n",
    "\n",
    "            plt.show()"
   ]
  },
  {
   "cell_type": "code",
   "execution_count": null,
   "metadata": {},
   "outputs": [],
   "source": [
    "if MICMAC_sampler_obj.n_components != 1:\n",
    "    if MICMAC_sampler_obj.size_patches.max() > 1:\n",
    "        frequency_Bf = np.array(instrument['frequency'][1:-1])\n",
    "        number_free_Bf = (MICMAC_sampler_obj.n_frequencies-len_pos_special_freqs)*(MICMAC_sampler_obj.n_components - 1)\n",
    "        extended_array = np.zeros((number_free_Bf+1),dtype=np.int64)\n",
    "        extended_array[:-1] = MICMAC_sampler_obj.indexes_b.ravel(order='F')\n",
    "        extended_array[-1] = extended_array[:-1].max() + MICMAC_sampler_obj.size_patches[-1]\n",
    "\n",
    "        for i in range(number_free_Bf):\n",
    "            print(\"Var param\", i, \":\", all_params_mixing_matrix_samples[0,:,i].std())\n",
    "            freq = i//(MICMAC_sampler_obj.n_components - 1)\n",
    "            comp = i%(MICMAC_sampler_obj.n_components - 1)\n",
    "            hp.mollview(all_params_mixing_matrix_samples[0,:,extended_array[i]:extended_array[i+1]].std(axis=0), title=f\"Param freq {frequency_Bf[freq]} GHz, comp {comp}\")"
   ]
  },
  {
   "cell_type": "code",
   "execution_count": null,
   "metadata": {},
   "outputs": [],
   "source": []
  },
  {
   "cell_type": "code",
   "execution_count": null,
   "metadata": {},
   "outputs": [],
   "source": [
    "list_correl = ['EE', 'BB', 'EB']\n",
    "\n",
    "ell_arange = np.arange(red_cov_approx_matrix.shape[0]) + lmin\n",
    "\n",
    "frequency_Bf = np.array(instrument['frequency'][1:-1])\n",
    "frequency_array = np.array(instrument['frequency'])\n",
    "\n",
    "num_iter_1000 = MICMAC_sampler_obj.number_iterations_sampling//1000\n",
    "if MICMAC_sampler_obj.number_iterations_sampling%1000 != 0:\n",
    "    num_iter_1000 += 1\n",
    "\n",
    "color_list = ['blue', 'green', 'red', 'cyan', 'orange', 'yellow', 'purple', 'pink', 'brown', 'black', \n",
    "            'gray', 'olive', 'lime', 'teal', 'magenta', 'salmon', 'darkgreen', 'darkblue', 'darkred', \n",
    "            'darkcyan', 'darkorange', 'darkyellow', 'darkpurple', 'darkpink', 'darkbrown', 'darkgray', 'darkolive', 'darklime', 'darkteal', 'darkmagenta', 'darksalmon', 'lightgreen', 'lightblue', 'lightred', 'lightcyan', 'lightorange', 'lightyellow', 'lightpurple', 'lightpink', 'lightbrown', 'lightgray', 'lightolive', 'lightlime', 'lightteal', 'lightmagenta', 'lightsalmon', 'darkgreen', 'darkblue', 'darkred']\n",
    "if MICMAC_sampler_obj.len_params == (MICMAC_sampler_obj.n_components - 1)*len(frequency_Bf) and MICMAC_sampler_obj.n_components != 1:\n",
    "    for job in range(num_jobs):\n",
    "        if MICMAC_sampler_obj.n_frequencies-len_pos_special_freqs >= 10:\n",
    "            all_params_mixing_matrix_samples_job = all_params_mixing_matrix_samples[job]\n",
    "            # plt.figure(figsize=(18,8))\n",
    "            fig, ax = plt.subplots(number_rows, n_columns, figsize=(20,8))\n",
    "            fig.suptitle(f\"Synch mixing matrix parameters histogram for job {job} over {num_jobs}\", fontsize=14)\n",
    "            useless_plots = number_rows*n_columns - (MICMAC_sampler_obj.n_frequencies-len_pos_special_freqs)\n",
    "            for idx_useless in range(0,useless_plots):\n",
    "                num_row = (number_rows*n_columns)//n_columns\n",
    "                num_col = (number_rows*n_columns)%n_columns\n",
    "                fig.delaxes(ax[num_row-1, num_col-idx_useless-1])\n",
    "                \n",
    "\n",
    "            for i in range(len(frequency_Bf)):\n",
    "                num_row = i//n_columns\n",
    "                num_col = i%n_columns\n",
    "            \n",
    "                # plt.subplot(201+len(frequency_Bf)*10+i)\n",
    "                ax[num_row, num_col].set_title((f'Synch {frequency_Bf[i]} GHz'))\n",
    "                # plt.title((f'Synch {frequency_Bf[i]} GHz'))\n",
    "                if all_params_mixing_matrix_samples_job[:,i].min() == all_params_mixing_matrix_samples_job[:,i].max():\n",
    "                    min_value = all_params_mixing_matrix_samples_job[:,i].min()*.9\n",
    "                    max_value = all_params_mixing_matrix_samples_job[:,i].max()*1.1\n",
    "                else:\n",
    "                    min_value = all_params_mixing_matrix_samples_job[:,i].min()\n",
    "                    max_value = all_params_mixing_matrix_samples_job[:,i].max()\n",
    "                bins_array = np.linspace(min_value, max_value, 100) #MICMAC_sampler_obj.number_iterations_sampling//200\n",
    "\n",
    "                max_height = 0\n",
    "                for j in range(num_iter_1000):\n",
    "                    heights, _, _ = ax[num_row, num_col].hist(all_params_mixing_matrix_samples_job[j*1000:(j+1)*1000,i], bins=bins_array, color=color_list[j], alpha=.5, label=f'#{j}e {1000}')\n",
    "                    max_height = max(max_height, heights.max())\n",
    "                # plt.plot([init_params[i,0],init_params[i,0]], [0,max_height], 'r:', linewidth=2.0, label=f'$B^s {frequency_Bf[i]} GHz$')\n",
    "                ax[num_row, num_col].plot([init_params[i],init_params[i]], [0,max_height], 'r:', linewidth=2.0, label='Exact value')\n",
    "            ax[num_row, num_col].legend(bbox_to_anchor=(1.04, 1), loc=\"upper left\", prop={'size': 15}, frameon=False)\n",
    "\n",
    "\n",
    "            fig, ax = plt.subplots(number_rows, n_columns, figsize=(20,8))\n",
    "            fig.suptitle(f\"Dust mixing matrix parameters histogram for job {job} over {num_jobs}\", fontsize=14)\n",
    "            useless_plots = number_rows*n_columns - (MICMAC_sampler_obj.n_frequencies-len_pos_special_freqs)\n",
    "            for idx_useless in range(0,useless_plots):\n",
    "                num_row = (number_rows*n_columns)//n_columns\n",
    "                num_col = (number_rows*n_columns)%n_columns\n",
    "                fig.delaxes(ax[num_row-1, num_col-idx_useless-1])\n",
    "\n",
    "            for i in range(len(frequency_Bf)):\n",
    "                num_row = i//n_columns\n",
    "                num_col = i%n_columns\n",
    "                # plt.subplot(201+len(frequency_Bf)*10+i+len(frequency_Bf))\n",
    "                ax[num_row, num_col].set_title((f'Dust {frequency_Bf[i]} GHz'))\n",
    "                if all_params_mixing_matrix_samples_job[:,i+dim_Bf].min() == all_params_mixing_matrix_samples_job[:,i+dim_Bf].max():\n",
    "                    min_value = all_params_mixing_matrix_samples_job[:,i+dim_Bf].min()*.9\n",
    "                    max_value = all_params_mixing_matrix_samples_job[:,i+dim_Bf].max()*1.1\n",
    "                else:\n",
    "                    min_value = all_params_mixing_matrix_samples_job[:,i+dim_Bf].min()\n",
    "                    max_value = all_params_mixing_matrix_samples_job[:,i+dim_Bf].max()\n",
    "                bins_array = np.linspace(min_value, max_value, 100) #MICMAC_sampler_obj.number_iterations_sampling//200\n",
    "\n",
    "                max_height = 0\n",
    "                for j in range(num_iter_1000):\n",
    "                    heights, _, _ = ax[num_row, num_col].hist(all_params_mixing_matrix_samples_job[j*1000:(j+1)*1000,i+dim_Bf], bins=bins_array, color=color_list[j], alpha=.5, label=f'#{j}e {1000}')\n",
    "                    max_height = max(max_height, heights.max())\n",
    "\n",
    "                # plt.plot([init_params[i,1],init_params[i,1]], [0,max_height], 'r:', linewidth=2.0, label=f'$B^d {frequency_Bf[i]} GHz$')\n",
    "                ax[num_row, num_col].plot([init_params[i+dim_Bf],init_params[i+dim_Bf]], [0,max_height], 'r:', linewidth=2.0, label='Exact value')\n",
    "            ax[num_row, num_col].legend(bbox_to_anchor=(1.04, 1), loc=\"upper left\", prop={'size': 15}, frameon=False)\n",
    "            # plt.legend(bbox_to_anchor=(1.04, 1), loc=\"upper left\", prop={'size': 15}, frameon=False)\n",
    "\n",
    "        plt.show()\n"
   ]
  },
  {
   "cell_type": "code",
   "execution_count": null,
   "metadata": {},
   "outputs": [],
   "source": [
    "list_correl = ['EE', 'BB', 'EB']\n",
    "\n",
    "ell_arange = np.arange(red_cov_approx_matrix.shape[0]) + lmin\n",
    "\n",
    "frequency_Bf = np.array(instrument['frequency'][1:-1])\n",
    "frequency_array = np.array(instrument['frequency'])\n",
    "\n",
    "num_iter_1000 = MICMAC_sampler_obj.number_iterations_sampling//1000\n",
    "if MICMAC_sampler_obj.number_iterations_sampling%1000 != 0:\n",
    "    num_iter_1000 += 1\n",
    "\n",
    "alpha_value = .4\n",
    "\n",
    "color_list = ['blue', 'green', 'red', 'cyan', 'orange', 'yellow', 'purple', 'pink', 'brown', 'black', \n",
    "            'gray', 'olive', 'lime', 'teal', 'magenta', 'salmon', 'darkgreen', 'darkblue', 'darkred', \n",
    "            'darkcyan', 'darkorange', 'darkyellow', 'darkpurple', 'darkpink', 'darkbrown', 'darkgray', 'darkolive', 'darklime', 'darkteal', 'darkmagenta', 'darksalmon', 'lightgreen', 'lightblue', 'lightred', 'lightcyan', 'lightorange', 'lightyellow', 'lightpurple', 'lightpink', 'lightbrown', 'lightgray', 'lightolive', 'lightlime', 'lightteal', 'lightmagenta', 'lightsalmon', 'darkgreen', 'darkblue', 'darkred']\n",
    "if MICMAC_sampler_obj.n_components != 1:\n",
    "\n",
    "    idx_patches = np.zeros((MICMAC_sampler_obj.n_frequencies-len_pos_special_freqs)*(MICMAC_sampler_obj.n_components - 1)+1)\n",
    "    idx_patches[:-1] = MICMAC_sampler_obj.indexes_b.ravel(order='F')\n",
    "    idx_patches[-1] = idx_patches[:-1].max() + MICMAC_sampler_obj.size_patches[-1]\n",
    "\n",
    "    if MICMAC_sampler_obj.len_params != (MICMAC_sampler_obj.n_components - 1)*len(frequency_Bf) and MICMAC_sampler_obj.max_len_patches_Bf < 1000:\n",
    "        for job in range(num_jobs):\n",
    "            if MICMAC_sampler_obj.n_frequencies-len_pos_special_freqs < 10:\n",
    "                \n",
    "                plt.figure(figsize=(18,8))\n",
    "                plt.suptitle(f\"Mixing matrix parameters histogram for job {job} over {num_jobs}\", fontsize=14)\n",
    "\n",
    "                for i in range(len(frequency_Bf)):\n",
    "                    indices_to_plot = MICMAC_sampler_obj.indexes_b[i,1] + np.arange(MICMAC_sampler_obj.size_patches[i])\n",
    "                    indices_to_plot = indices_to_plot[np.isin(indices_to_plot, MICMAC_sampler_obj.indexes_free_Bf)]\n",
    "                    \n",
    "                    # idx_patch = np.arange(idx_patches[i],idx_patches[i+1], dtype=int)\n",
    "                    all_params_mixing_matrix_samples_job = all_params_mixing_matrix_samples[job,:,indices_to_plot].T\n",
    "                    plt.subplot(201+len(frequency_Bf)*10+i)\n",
    "                    plt.title((f'Synch {frequency_Bf[i]} GHz'))\n",
    "                    if all_params_mixing_matrix_samples_job.min() == all_params_mixing_matrix_samples_job.max():\n",
    "                        min_value = all_params_mixing_matrix_samples_job.min()*.9\n",
    "                        max_value = all_params_mixing_matrix_samples_job.max()*1.1\n",
    "                    else:\n",
    "                        min_value = all_params_mixing_matrix_samples_job.min()\n",
    "                        max_value = all_params_mixing_matrix_samples_job.max()\n",
    "                    bins_array = np.linspace(min_value, max_value, 100) #MICMAC_sampler_obj.number_iterations_sampling//200\n",
    "\n",
    "                    max_height = 0\n",
    "                    for j in range(num_iter_1000):\n",
    "                        \n",
    "                \n",
    "                        heights, _, _ = plt.hist(all_params_mixing_matrix_samples_job[j*1000:(j+1)*1000,indices_to_plot[0]], bins=bins_array, color=color_list[j], alpha=alpha_value, label=f'#{j}e {1000}')\n",
    "                        max_height = max(max_height, heights.max())\n",
    "                        for k in indices_to_plot[1:]:\n",
    "                            heights, _, _ = plt.hist(all_params_mixing_matrix_samples_job[j*1000:(j+1)*1000,k], bins=bins_array, color=color_list[j], alpha=alpha_value)\n",
    "                            max_height = max(max_height, heights.max())\n",
    "                        plt.plot([init_params[indices_to_plot[0]],init_params[indices_to_plot[0]]], [0,max_height], 'r:', linewidth=2.0, label='Exact value')\n",
    "                        for k in indices_to_plot[1:]:\n",
    "                            plt.plot([init_params[k],init_params[k]], [0,max_height], 'r:', linewidth=2.0)\n",
    "                    # plt.plot([init_params[i,0],init_params[i,0]], [0,max_height], 'r:', linewidth=2.0, label=f'$B^s {frequency_Bf[i]} GHz$')\n",
    "                    \n",
    "                plt.legend(bbox_to_anchor=(1.04, 1), loc=\"upper left\", prop={'size': 15}, frameon=False)\n",
    "\n",
    "\n",
    "                for i in range(len(frequency_Bf)):\n",
    "                    plt.subplot(201+len(frequency_Bf)*10+i+len(frequency_Bf))\n",
    "                    plt.title((f'Dust {frequency_Bf[i]} GHz'))\n",
    "\n",
    "                    # idx_patch = np.arange(idx_patches[i+dim_Bf],idx_patches[i+1+dim_Bf], dtype=int)\n",
    "                    dim_dust = MICMAC_sampler_obj.indexes_b[0,1]\n",
    "                    indices_to_plot = MICMAC_sampler_obj.indexes_b[i,1] + np.arange(MICMAC_sampler_obj.size_patches[i+dim_dust])\n",
    "                    indices_to_plot = indices_to_plot[np.isin(indices_to_plot, MICMAC_sampler_obj.indexes_free_Bf)]\n",
    "                    \n",
    "                    all_params_mixing_matrix_samples_job = all_params_mixing_matrix_samples[job,:,indices_to_plot].T\n",
    "                    if all_params_mixing_matrix_samples_job.min() == all_params_mixing_matrix_samples_job.max():\n",
    "                        min_value = all_params_mixing_matrix_samples_job.min()*.9\n",
    "                        max_value = all_params_mixing_matrix_samples_job.max()*1.1\n",
    "                    else:\n",
    "                        min_value = all_params_mixing_matrix_samples_job.min()\n",
    "                        max_value = all_params_mixing_matrix_samples_job.max()\n",
    "                    bins_array = np.linspace(min_value, max_value, 100) #MICMAC_sampler_obj.number_iterations_sampling//200\n",
    "\n",
    "                    # max_height = 0\n",
    "                    # for j in range(num_iter_1000):\n",
    "                    #     heights, _, _ = plt.hist(all_params_mixing_matrix_samples_job[j*1000:(j+1)*1000,i+dim_Bf], bins=bins_array, color=color_list[j], alpha=.3, label=f'#{j}e {1000}')\n",
    "                    #     max_height = max(max_height, heights.max())\n",
    "                    max_height = 0\n",
    "                    for j in range(num_iter_1000):\n",
    "                        heights, _, _ = plt.hist(all_params_mixing_matrix_samples_job[j*1000:(j+1)*1000,indices_to_plot[0]], bins=bins_array, color=color_list[j], alpha=alpha_value, label=f'#{j}e {1000}')\n",
    "                        max_height = max(max_height, heights.max())\n",
    "                        for k in indices_to_plot[1:]:\n",
    "                            heights, _, _ = plt.hist(all_params_mixing_matrix_samples_job[j*1000:(j+1)*1000,k], bins=bins_array, color=color_list[j], alpha=alpha_value)\n",
    "                            max_height = max(max_height, heights.max())\n",
    "                        # max_height = 1\n",
    "                        plt.plot([init_params[indices_to_plot[0]],init_params[indices_to_plot[0]]], [0,max_height], 'r:', linewidth=2.0, label='Exact value')\n",
    "                        for k in indices_to_plot[1:]:\n",
    "                            plt.plot([init_params[k],init_params[k]], [0,max_height], 'r:', linewidth=2.0)\n",
    "\n",
    "                    # plt.plot([init_params[i,1],init_params[i,1]], [0,max_height], 'r:', linewidth=2.0, label=f'$B^d {frequency_Bf[i]} GHz$')\n",
    "                    # plt.plot([init_params[i+dim_Bf],init_params[i+dim_Bf]], [0,max_height], 'r:', linewidth=2.0, label='Exact value')\n",
    "                # plt.legend(bbox_to_anchor=(1.04, 1), loc=\"upper left\", prop={'size': 15}, frameon=False)\n",
    "\n",
    "            plt.show()\n"
   ]
  },
  {
   "cell_type": "code",
   "execution_count": null,
   "metadata": {},
   "outputs": [],
   "source": [
    "# list_correl = ['EE', 'BB', 'EB']\n",
    "\n",
    "# ell_arange = np.arange(red_cov_approx_matrix.shape[0]) + lmin\n",
    "\n",
    "# frequency_Bf = np.array(instrument['frequency'][1:-1])\n",
    "# frequency_array = np.array(instrument['frequency'])\n",
    "\n",
    "# num_iter_1000 = MICMAC_sampler_obj.number_iterations_sampling//1000\n",
    "# if MICMAC_sampler_obj.number_iterations_sampling%1000 != 0:\n",
    "#     num_iter_1000 += 1\n",
    "\n",
    "# color_list = ['blue', 'green', 'red', 'cyan', 'orange', 'yellow', 'purple', 'pink', 'brown', 'black', \n",
    "#             'gray', 'olive', 'lime', 'teal', 'magenta', 'salmon', 'darkgreen', 'darkblue', 'darkred', \n",
    "#             'darkcyan', 'darkorange', 'darkyellow', 'darkpurple', 'darkpink', 'darkbrown', 'darkgray', 'darkolive', 'darklime', 'darkteal', 'darkmagenta', 'darksalmon', 'lightgreen', 'lightblue', 'lightred', 'lightcyan', 'lightorange', 'lightyellow', 'lightpurple', 'lightpink', 'lightbrown', 'lightgray', 'lightolive', 'lightlime', 'lightteal', 'lightmagenta', 'lightsalmon', 'darkgreen', 'darkblue', 'darkred']\n",
    "# if MICMAC_sampler_obj.max_len_patches_Bf < 1000 and (MICMAC_sampler_obj.len_params != (MICMAC_sampler_obj.n_components - 1)*len(frequency_Bf)):\n",
    "#     for job in range(num_jobs):\n",
    "#         if MICMAC_sampler_obj.n_frequencies-len_pos_special_freqs >= 10:\n",
    "#             # all_params_mixing_matrix_samples_job = all_params_mixing_matrix_samples[job]\n",
    "#             # plt.figure(figsize=(18,8))\n",
    "#             fig, ax = plt.subplots(number_rows, n_columns, figsize=(20,8))\n",
    "#             fig.suptitle(f\"Synch mixing matrix parameters histogram for job {job} over {num_jobs}\", fontsize=14)\n",
    "#             useless_plots = number_rows*n_columns - (MICMAC_sampler_obj.n_frequencies-len_pos_special_freqs)\n",
    "#             for idx_useless in range(0,useless_plots):\n",
    "#                 num_row = (number_rows*n_columns)//n_columns\n",
    "#                 num_col = (number_rows*n_columns)%n_columns\n",
    "#                 fig.delaxes(ax[num_row-1, num_col-idx_useless-1])\n",
    "                \n",
    "\n",
    "#             for i in range(len(frequency_Bf)):\n",
    "#                 idx_patch = np.arange(idx_patches[i],idx_patches[i+1], dtype=int)\n",
    "#                 all_params_mixing_matrix_samples_job = all_params_mixing_matrix_samples[job,:,idx_patch].T\n",
    "#                 num_row = i//n_columns\n",
    "#                 num_col = i%n_columns\n",
    "            \n",
    "#                 # plt.subplot(201+len(frequency_Bf)*10+i)\n",
    "#                 ax[num_row, num_col].set_title((f'Synch {frequency_Bf[i]} GHz'))\n",
    "#                 # plt.title((f'Synch {frequency_Bf[i]} GHz'))\n",
    "#                 if all_params_mixing_matrix_samples_job.min() == all_params_mixing_matrix_samples_job.max():\n",
    "#                     min_value = all_params_mixing_matrix_samples_job.min()*.9\n",
    "#                     max_value = all_params_mixing_matrix_samples_job.max()*1.1\n",
    "#                 else:\n",
    "#                     min_value = all_params_mixing_matrix_samples_job.min()\n",
    "#                     max_value = all_params_mixing_matrix_samples_job.max()\n",
    "#                 bins_array = np.linspace(min_value, max_value, 100) #MICMAC_sampler_obj.number_iterations_sampling//200\n",
    "\n",
    "#                 max_height = 0\n",
    "#                 for j in range(num_iter_1000):\n",
    "#                     heights, _, _ = ax[num_row, num_col].hist(all_params_mixing_matrix_samples_job[j*1000:(j+1)*1000,0], bins=bins_array, color=color_list[j], alpha=.5, label=f'#{j}e {1000}')\n",
    "#                     max_height = max(max_height, heights.max())\n",
    "#                     for k in range(1,len(idx_patch)):\n",
    "#                         heights, _, _ = ax[num_row, num_col].hist(all_params_mixing_matrix_samples_job[j*1000:(j+1)*1000,k], bins=bins_array, color=color_list[j], alpha=alpha_value)\n",
    "#                         max_height = max(max_height, heights.max())\n",
    "#                     ax[num_row, num_col].plot([init_params[idx_patch][0],init_params[idx_patch][0]], [0,max_height], 'r:', linewidth=2.0, label='Exact value')\n",
    "#                     for k in range(1,len(idx_patch)):\n",
    "#                         ax[num_row, num_col].plot([init_params[idx_patch][k],init_params[idx_patch][k]], [0,max_height], 'r:', linewidth=2.0)\n",
    "#                 # plt.plot([init_params[i,0],init_params[i,0]], [0,max_height], 'r:', linewidth=2.0, label=f'$B^s {frequency_Bf[i]} GHz$')\n",
    "#                 # ax[num_row, num_col].plot([init_params[i],init_params[i]], [0,max_height], 'r:', linewidth=2.0, label='Exact value')\n",
    "#             ax[num_row, num_col].legend(bbox_to_anchor=(1.04, 1), loc=\"upper left\", prop={'size': 15}, frameon=False)\n",
    "\n",
    "\n",
    "#             fig, ax = plt.subplots(number_rows, n_columns, figsize=(20,8))\n",
    "#             fig.suptitle(f\"Dust mixing matrix parameters histogram for job {job} over {num_jobs}\", fontsize=14)\n",
    "#             useless_plots = number_rows*n_columns - (MICMAC_sampler_obj.n_frequencies-len_pos_special_freqs)\n",
    "#             for idx_useless in range(0,useless_plots):\n",
    "#                 num_row = (number_rows*n_columns)//n_columns\n",
    "#                 num_col = (number_rows*n_columns)%n_columns\n",
    "#                 fig.delaxes(ax[num_row-1, num_col-idx_useless-1])\n",
    "\n",
    "#             for i in range(len(frequency_Bf)):\n",
    "#                 num_row = i//n_columns\n",
    "#                 num_col = i%n_columns\n",
    "\n",
    "#                 idx_patch = np.arange(idx_patches[i+dim_Bf],idx_patches[i+1+dim_Bf], dtype=int)\n",
    "#                 dim_dust = MICMAC_sampler_obj.indexes_b[0,1]\n",
    "#                 all_params_mixing_matrix_samples_job = all_params_mixing_matrix_samples[job,:,idx_patch].T\n",
    "#                 # plt.subplot(201+len(frequency_Bf)*10+i+len(frequency_Bf))\n",
    "#                 ax[num_row, num_col].set_title((f'Dust {frequency_Bf[i]} GHz'))\n",
    "#                 if all_params_mixing_matrix_samples_job.min() == all_params_mixing_matrix_samples_job.max():\n",
    "#                     min_value = all_params_mixing_matrix_samples_job.min()*.9\n",
    "#                     max_value = all_params_mixing_matrix_samples_job.max()*1.1\n",
    "#                 else:\n",
    "#                     min_value = all_params_mixing_matrix_samples_job.min()\n",
    "#                     max_value = all_params_mixing_matrix_samples_job.max()\n",
    "#                 bins_array = np.linspace(min_value, max_value, 100) #MICMAC_sampler_obj.number_iterations_sampling//200\n",
    "\n",
    "#                 max_height = 0\n",
    "#                 for j in range(num_iter_1000):\n",
    "#                     heights, _, _ = ax[num_row, num_col].hist(all_params_mixing_matrix_samples_job[j*1000:(j+1)*1000,0], bins=bins_array, color=color_list[j], alpha=.5, label=f'#{j}e {1000}')\n",
    "#                     max_height = max(max_height, heights.max())\n",
    "#                     for k in range(1,len(idx_patch)):\n",
    "#                         heights, _, _ = ax[num_row, num_col].hist(all_params_mixing_matrix_samples_job[j*1000:(j+1)*1000,k], bins=bins_array, color=color_list[j], alpha=alpha_value)\n",
    "#                         max_height = max(max_height, heights.max())\n",
    "#                     # max_height = 1\n",
    "#                     ax[num_row, num_col].plot([init_params[idx_patch][0],init_params[idx_patch][0]], [0,max_height], 'r:', linewidth=2.0, label='Exact value')\n",
    "#                     for k in range(1,len(idx_patch)):\n",
    "#                         ax[num_row, num_col].plot([init_params[idx_patch][k],init_params[idx_patch][k]], [0,max_height], 'r:', linewidth=2.0)\n",
    "\n",
    "#                 # plt.plot([init_params[i,1],init_params[i,1]], [0,max_height], 'r:', linewidth=2.0, label=f'$B^d {frequency_Bf[i]} GHz$')\n",
    "#                 # ax[num_row, num_col].plot([init_params[i+dim_Bf],init_params[i+dim_Bf]], [0,max_height], 'r:', linewidth=2.0, label='Exact value')\n",
    "#             ax[num_row, num_col].legend(bbox_to_anchor=(1.04, 1), loc=\"upper left\", prop={'size': 15}, frameon=False)\n",
    "#             # plt.legend(bbox_to_anchor=(1.04, 1), loc=\"upper left\", prop={'size': 15}, frameon=False)\n",
    "\n",
    "#         plt.show()\n"
   ]
  },
  {
   "cell_type": "code",
   "execution_count": null,
   "metadata": {},
   "outputs": [],
   "source": [
    "cond = MICMAC_sampler_obj.number_iterations_sampling > 1500"
   ]
  },
  {
   "cell_type": "code",
   "execution_count": null,
   "metadata": {},
   "outputs": [],
   "source": [
    "# Residuals power spectrum\n",
    "if MICMAC_sampler_obj.n_components != 1:\n",
    "    for job in range(num_jobs):\n",
    "        final_params = all_params_mixing_matrix_samples[job,-1]\n",
    "        final_params = all_params_mixing_matrix_samples[job].mean(axis=0)\n",
    "        # final_params = all_params_mixing_matrix_samples[job,1000:].mean(axis=0)\n",
    "        final_params = all_params_mixing_matrix_samples[job,-1000:].mean(axis=0)\n",
    "        # final_params = all_params_mixing_matrix_samples[job,cond].mean(axis=0)\n",
    "        # final_params = all_params_mixing_matrix_samples[job,0]\n",
    "        # final_params = all_params_mixing_matrix_samples[job,:1000].mean(axis=0)\n",
    "        # final_params = all_params_mixing_matrix_samples[job,1000]\n",
    "        # final_params = all_params_mixing_matrix_samples[job,:num_sample_AM].mean(axis=0)\n",
    "        # final_params = all_params_mixing_matrix_samples[job,num_sample_AM:].mean(axis=0)\n",
    "        # final_params = all_params_mixing_matrix_samples[job,2000:].mean(axis=0)\n",
    "\n",
    "        MICMAC_sampler_obj.update_params(final_params)\n",
    "        final_mixing_matrix = MICMAC_sampler_obj.get_B()\n",
    "\n",
    "        _cl_noise_harm = micmac.get_Cl_noise(np.array(instrument['depth_p']), final_mixing_matrix.mean(axis=2), lmax)[0,0,lmin:]\n",
    "        red_cl_noise_harm = micmac.get_reduced_matrix_from_c_ell(np.array([_cl_noise_harm,_cl_noise_harm,np.zeros_like(_cl_noise_harm)]))\n",
    "        cl_noise_harm = micmac.get_c_ells_from_red_covariance_matrix(red_cl_noise_harm)\n",
    "\n",
    "        recovered_CMB_Wd = micmac.get_Wd(MICMAC_sampler_obj.freq_inverse_noise, final_mixing_matrix, initial_freq_maps[job], jax_use=False)[0, :, :]\n",
    "\n",
    "        MICMAC_sampler_obj.update_params(init_params)\n",
    "        init_mixing_matrix_obj = MICMAC_sampler_obj.get_B()\n",
    "        recovered_CMB_Wd_init = micmac.get_Wd(MICMAC_sampler_obj.freq_inverse_noise, init_mixing_matrix_obj, initial_freq_maps[job], jax_use=False)[0, :, :]\n",
    "\n",
    "        residuals_Wd = recovered_CMB_Wd - input_cmb_maps[job,0]\n",
    "        residuals_Wd_init = recovered_CMB_Wd_init - input_cmb_maps[job,0]\n",
    "\n",
    "        recovered_CMB_Wd_extended = np.vstack([np.zeros_like(recovered_CMB_Wd[0]), recovered_CMB_Wd])\n",
    "        c_ells_recovered_CMB_Wd = hp.anafast(recovered_CMB_Wd_extended, lmax=MICMAC_sampler_obj.lmax, iter=MICMAC_sampler_obj.n_iter)[indices_polar,MICMAC_sampler_obj.lmin:]\n",
    "\n",
    "        recovered_CMB_Wd_init_extended = np.vstack([np.zeros_like(recovered_CMB_Wd_init[0]), recovered_CMB_Wd_init])\n",
    "        c_ells_recovered_CMB_Wd_init = hp.anafast(recovered_CMB_Wd_init_extended, lmax=MICMAC_sampler_obj.lmax, iter=MICMAC_sampler_obj.n_iter)[indices_polar,MICMAC_sampler_obj.lmin:]\n",
    "\n",
    "        residuals_Wd_extended = np.vstack([np.zeros_like(residuals_Wd[0]), residuals_Wd])\n",
    "        c_ells_residuals_Wd = hp.anafast(residuals_Wd_extended, lmax=MICMAC_sampler_obj.lmax, iter=MICMAC_sampler_obj.n_iter)[indices_polar,MICMAC_sampler_obj.lmin:]\n",
    "\n",
    "        residuals_Wd_init_extended = np.vstack([np.zeros_like(residuals_Wd_init[0]), residuals_Wd_init])\n",
    "        c_ells_residuals_Wd_init = hp.anafast(residuals_Wd_init_extended, lmax=MICMAC_sampler_obj.lmax, iter=MICMAC_sampler_obj.n_iter)[indices_polar,MICMAC_sampler_obj.lmin:]\n",
    "\n",
    "        plt.figure(figsize=(20,15))\n",
    "        list_correl = ['EE', 'BB', 'EB']\n",
    "        plt.suptitle(f\"Average of all sampling parameters B_f for {job} over {num_jobs}\", fontsize=14)\n",
    "        number_subplots_convention = 331\n",
    "        for i in range(n_correl_to_plot):\n",
    "            plt.subplot(number_subplots_convention+i)\n",
    "            plt.plot(np.arange(c_ells_recovered_CMB_Wd.shape[-1])+MICMAC_sampler_obj.lmin, c_ells_recovered_CMB_Wd[i,:], label='recovered CMB')\n",
    "            plt.plot(np.arange(c_ells_recovered_CMB_Wd.shape[-1])+MICMAC_sampler_obj.lmin, c_ells_recovered_CMB_Wd_init[i,:], '--', label='recovered CMB init')\n",
    "            plt.plot(np.arange(c_ells_recovered_CMB_Wd.shape[-1])+MICMAC_sampler_obj.lmin, c_ells_residuals_Wd[i,:], '-.', label='residuals')\n",
    "            plt.plot(np.arange(c_ells_recovered_CMB_Wd.shape[-1])+MICMAC_sampler_obj.lmin, c_ells_residuals_Wd_init[i,:], '--', label='residuals init')\n",
    "            plt.plot(np.arange(c_ells_recovered_CMB_Wd.shape[-1])+MICMAC_sampler_obj.lmin, c_ell_true_CMB[i,:]+cl_noise_harm[i,:], 'k:', label='true CMB+$N_c$')\n",
    "            plt.plot(np.arange(c_ells_recovered_CMB_Wd.shape[-1])+MICMAC_sampler_obj.lmin, cl_noise_harm[i,:], 'r:', label='noise $N_c$')\n",
    "\n",
    "            if i <= nstokes-1:\n",
    "                plt.loglog()\n",
    "                plt.plot([lmin,lmax+1], [0,0], 'k:')\n",
    "            else:\n",
    "                plt.xscale('log')\n",
    "                plt.yscale('symlog')\n",
    "                plt.plot([lmin,lmax+1], [0,0], 'k:')\n",
    "            plt.title('Study of sampling parameters B_f - {}'.format(list_correl[i]))\n",
    "            plt.ylabel(\"$C_\\ell$ [$uK^2$]\")\n",
    "            plt.xlabel(r\"$\\ell$\")\n",
    "            plt.legend()\n",
    "    plt.show()"
   ]
  },
  {
   "cell_type": "code",
   "execution_count": null,
   "metadata": {},
   "outputs": [],
   "source": [
    "# estimated_params = all_params_mixing_matrix_samples[-1000:].mean(axis=0)\n",
    "# estimated_std = all_params_mixing_matrix_samples[-1000:].std(axis=0)\n",
    "\n",
    "# Fisher_uncertainty = np.diag(sp.linalg.sqrtm(np.linalg.pinv(Fisher_matrix)))[:-1]\n",
    "\n",
    "# print(\"Number of iterations\", MICMAC_sampler_obj.number_iterations_sampling)\n",
    "# for i in range(estimated_params.shape[0]*2):\n",
    "#     j = i%(MICMAC_sampler_obj.n_frequencies-len_pos_special_freqs)\n",
    "#     k = i//(MICMAC_sampler_obj.n_frequencies-len_pos_special_freqs)\n",
    "#     if i>=MICMAC_sampler_obj.n_frequencies-len_pos_special_freqs:\n",
    "#         print('$B^d$ :', frequency_array[j], 'GHz')\n",
    "#     else:\n",
    "#         print('$B^s$ :', frequency_array[j], 'GHz')\n",
    "#     print('Estimated :', estimated_params[j,k], \"+-\", estimated_std[j,k], '; Fisher :', Fisher_uncertainty[i])\n",
    "#     print('Init params :', init_params[j,k])"
   ]
  },
  {
   "cell_type": "code",
   "execution_count": null,
   "metadata": {},
   "outputs": [],
   "source": []
  },
  {
   "cell_type": "markdown",
   "metadata": {},
   "source": [
    "# Autocorrelation length study"
   ]
  },
  {
   "cell_type": "code",
   "execution_count": null,
   "metadata": {},
   "outputs": [],
   "source": [
    "import numpyro.diagnostics\n",
    "# from emcee import autocorr"
   ]
  },
  {
   "cell_type": "code",
   "execution_count": null,
   "metadata": {},
   "outputs": [
    {
     "name": "stdout",
     "output_type": "stream",
     "text": [
      "\n",
      "                mean       std    median      5.0%     95.0%     n_eff     r_hat\n",
      "Param:0[0]      0.01      0.00      0.01      0.00      0.01      3.40      1.57\n",
      "\n"
     ]
    },
    {
     "data": {
      "image/png": "[encoded data removed]",
      "text/plain": [
       "<Figure size 640x480 with 1 Axes>"
      ]
     },
     "metadata": {},
     "output_type": "display_data"
    }
   ],
   "source": [
    "if MICMAC_sampler_obj.sample_r_Metropolis:\n",
    "    for job in range(num_jobs):\n",
    "        numpyro.diagnostics.print_summary(all_r_samples[job], prob=0.9, group_by_chain=False)\n",
    "        aucorrelation_r = numpyro.diagnostics.autocorrelation(all_r_samples[job], axis=0)\n",
    "\n",
    "        plt.figure()\n",
    "        plt.title('r autocorrelation length', fontsize=14)\n",
    "        plt.plot(np.arange(MICMAC_sampler_obj.number_iterations_sampling+1), aucorrelation_r, '-.', label='Autocorrelation')\n",
    "        plt.xlabel('Iterations')\n",
    "        plt.ylabel('r')\n",
    "        plt.legend(bbox_to_anchor=(1.04, 1), loc=\"upper left\", prop={'size': 15}, frameon=False)\n",
    "    plt.show()\n"
   ]
  },
  {
   "cell_type": "code",
   "execution_count": null,
   "metadata": {},
   "outputs": [
    {
     "name": "stdout",
     "output_type": "stream",
     "text": [
      "(501, 1)\n"
     ]
    }
   ],
   "source": [
    "for job in range(num_jobs):\n",
    "    aucorrelation_B_f = numpyro.diagnostics.autocorrelation(all_params_mixing_matrix_samples[job], axis=0)\n",
    "    print(aucorrelation_B_f.shape)"
   ]
  },
  {
   "cell_type": "code",
   "execution_count": null,
   "metadata": {},
   "outputs": [],
   "source": [
    "if MICMAC_sampler_obj.n_components != 1:\n",
    "    for job in range(num_jobs):\n",
    "        aucorrelation_B_f = numpyro.diagnostics.autocorrelation(all_params_mixing_matrix_samples[job], axis=0)\n",
    "        numpyro.diagnostics.print_summary(all_params_mixing_matrix_samples[job], prob=0.9, group_by_chain=False)\n",
    "\n",
    "        list_correl = ['EE', 'BB', 'EB']\n",
    "\n",
    "        ell_arange = np.arange(red_cov_approx_matrix.shape[0]) + lmin\n",
    "\n",
    "        frequency_Bf = np.array(instrument['frequency'][1:-1])\n",
    "        all_B_f_autocorr_synch = aucorrelation_B_f[:,:dim_Bf]\n",
    "        all_B_f_autocorr_dust = aucorrelation_B_f[:,dim_Bf:]\n",
    "\n",
    "        frequency_array = np.array(instrument['frequency'])\n",
    "\n",
    "\n",
    "        if MICMAC_sampler_obj.n_frequencies-len_pos_special_freqs < 10:\n",
    "            plt.figure(figsize=(20,8))\n",
    "            plt.suptitle(f\"Mixing matrix parameters autocorrelation length for {job} over {num_jobs}\", fontsize=14)\n",
    "\n",
    "            for i in range(MICMAC_sampler_obj.n_frequencies-len_pos_special_freqs):\n",
    "                plt.subplot(201+len(frequency_Bf)*10+i)\n",
    "                plt.title((f'Synch ${frequency_Bf[i]} GHz$'))\n",
    "                # plt.plot([0,MICMAC_sampler_obj.number_iterations_sampling+1], [init_params[i,0],init_params[i,0]], label='Exact value')\n",
    "                plt.plot(np.arange(MICMAC_sampler_obj.number_iterations_sampling+1), all_B_f_autocorr_synch[:,i], '-.', label='Autocorrelation')\n",
    "                \n",
    "                # n_sigma = 3\n",
    "                # transformed_samples = np.abs(all_B_f_sample_synch[:,i] - all_B_f_sample_synch[:,i].mean())/(all_B_f_sample_synch[:,i].std()) #< n_sigma\n",
    "                # cond = np.exp(transformed_samples**2/2)/(np.sqrt(2*np.pi)) < 0.9973\n",
    "                # mean_B_f = np.round(all_B_f_sample_synch[:,i][cond].mean(), decimals=5)\n",
    "                # std_B_f = np.round(all_B_f_sample_synch[:,i][cond].std(), decimals=5)\n",
    "\n",
    "                # mean_value = all_B_f_sample_synch[:,i].mean()\n",
    "                # plt.plot([0,MICMAC_sampler_obj.number_iterations_sampling+1], [mean_B_f,mean_B_f], ':', label='Samples mean 99.7%')\n",
    "\n",
    "                # plt.yscale('log')\n",
    "                # plt.xlabel('Iterations')\n",
    "                # if i == 0:\n",
    "                #     plt.ylabel('Amplitude')\n",
    "            plt.legend(bbox_to_anchor=(1.04, 1), loc=\"upper left\", prop={'size': 15}, frameon=False)\n",
    "            # plt.loglog()\n",
    "\n",
    "            # plt.figure(figsize=(20,8))\n",
    "            # plt.subplot(122)\n",
    "            for i in range(MICMAC_sampler_obj.n_frequencies-len_pos_special_freqs):\n",
    "                plt.subplot(201+len(frequency_Bf)*10+i+len(frequency_Bf))\n",
    "                # plt.subplot(201+len(frequency_Bf)*10+i)\n",
    "                plt.title((f'Dust ${frequency_Bf[i]} GHz$'))\n",
    "                # plt.plot([0,MICMAC_sampler_obj.number_iterations_sampling+1], [init_params[i,1],init_params[i,1]], label='Exact value')\n",
    "                plt.plot(np.arange(MICMAC_sampler_obj.number_iterations_sampling+1), all_B_f_autocorr_dust[:,i], '-.', label='Autocorrelation')\n",
    "\n",
    "                # n_sigma = 3\n",
    "                # transformed_samples = np.abs(all_B_f_sample_dust[:,i] - all_B_f_sample_dust[:,i].mean())/(all_B_f_sample_dust[:,i].std()) #< n_sigma\n",
    "                # cond = np.exp(transformed_samples**2/2)/(np.sqrt(2*np.pi)) < 0.9973\n",
    "                # mean_B_f = np.round(all_B_f_sample_dust[:,i][cond].mean(), decimals=5)\n",
    "                # std_B_f = np.round(all_B_f_sample_dust[:,i][cond].std(), decimals=5)\n",
    "\n",
    "                # mean_value = all_B_f_sample_dust[:,i].mean()\n",
    "                # plt.plot([0,MICMAC_sampler_obj.number_iterations_sampling+1], [mean_B_f,mean_B_f], ':', label='Samples mean 99.7%')\n",
    "                # plt.yscale('log')\n",
    "                plt.xlabel('Iterations')\n",
    "                if i == 0:\n",
    "                    plt.ylabel('Amplitude')\n",
    "            plt.legend(bbox_to_anchor=(1.04, 1), loc=\"upper left\", prop={'size': 15}, frameon=False)\n",
    "            # plt.loglog()\n",
    "\n",
    "        plt.show()"
   ]
  },
  {
   "cell_type": "code",
   "execution_count": null,
   "metadata": {},
   "outputs": [],
   "source": [
    "list_correl = ['EE', 'BB', 'EB']\n",
    "\n",
    "ell_arange = np.arange(red_cov_approx_matrix.shape[0]) + lmin\n",
    "\n",
    "frequency_Bf = np.array(instrument['frequency'][1:-1])\n",
    "\n",
    "for job in range(num_jobs):\n",
    "    # all_B_f_sample_synch = all_params_mixing_matrix_samples[job,:,:,0]\n",
    "    # all_B_f_sample_dust = all_params_mixing_matrix_samples[job,:,:,1]\n",
    "\n",
    "    all_B_f_autocorr_synch = aucorrelation_B_f[:,:dim_Bf]\n",
    "    all_B_f_autocorr_dust = aucorrelation_B_f[:,dim_Bf:]\n",
    "\n",
    "    frequency_array = np.array(instrument['frequency'])\n",
    "\n",
    "\n",
    "    if MICMAC_sampler_obj.n_frequencies-len_pos_special_freqs >= 10:\n",
    "        n_columns = 4\n",
    "        number_rows = (MICMAC_sampler_obj.n_frequencies-len_pos_special_freqs)//n_columns + 1\n",
    "\n",
    "        # plt.figure(figsize=(20,8))\n",
    "        fig, ax = plt.subplots(number_rows, n_columns, figsize=(20,8))\n",
    "        useless_plots = number_rows*n_columns - (MICMAC_sampler_obj.n_frequencies-len_pos_special_freqs)\n",
    "        for idx_useless in range(0,useless_plots):\n",
    "            num_row = (number_rows*n_columns)//n_columns\n",
    "            num_col = (number_rows*n_columns)%n_columns\n",
    "            fig.delaxes(ax[num_row-1, num_col-idx_useless-1])\n",
    "\n",
    "        fig.suptitle(f\"Mixing matrix synch autocorrelation length vs iterations for job {job} over {num_jobs}\", fontsize=14)\n",
    "        # plt.subplot(121)\n",
    "\n",
    "        for i in range(MICMAC_sampler_obj.n_frequencies-len_pos_special_freqs):\n",
    "            # plt.subplot(201+len(frequency_Bf)*10+i)\n",
    "            num_row = i//n_columns\n",
    "            num_col = i%n_columns\n",
    "            ax[num_row, num_col].set_title((f'Synch ${frequency_Bf[i]} GHz$'))\n",
    "            # plt.title((f'Synch ${frequency_Bf[i]} GHz$'))\n",
    "            \n",
    "            ax[num_row, num_col].plot(np.arange(MICMAC_sampler_obj.number_iterations_sampling+1), all_B_f_autocorr_synch[:,i], '-.', label='Sample')\n",
    "            \n",
    "            # plt.yscale('log')\n",
    "            # plt.xlabel('Iterations')\n",
    "            # ax[num_row, num_col].set_xlabel('Iterations')\n",
    "            if i == 0:\n",
    "                # plt.ylabel('Amplitude')\n",
    "                ax[num_row, num_col].set_ylabel('Amplitude')\n",
    "            if i >= MICMAC_sampler_obj.n_frequencies-len_pos_special_freqs-n_columns:\n",
    "                ax[num_row, num_col].set_xlabel('Iterations')\n",
    "            else:\n",
    "                ax[num_row, num_col].tick_params(axis='x', labelbottom=False)\n",
    "        ax[num_row, num_col].legend(bbox_to_anchor=(1.04, 1), loc=\"upper left\", prop={'size': 15}, frameon=False)\n",
    "        # plt.loglog()\n",
    "\n",
    "        # plt.figure(figsize=(20,8))\n",
    "        # plt.subplot(122)\n",
    "        fig, ax = plt.subplots(number_rows, n_columns, figsize=(20,8))\n",
    "        useless_plots = number_rows*n_columns - (MICMAC_sampler_obj.n_frequencies-len_pos_special_freqs)\n",
    "        for idx_useless in range(0,useless_plots):\n",
    "            num_row = (number_rows*n_columns)//n_columns\n",
    "            num_col = (number_rows*n_columns)%n_columns\n",
    "            fig.delaxes(ax[num_row-1, num_col-idx_useless-1])\n",
    "\n",
    "\n",
    "        fig.suptitle(f\"Mixing matrix dust autocorrelation length vs iterations for job {job} over {num_jobs}\", fontsize=14)\n",
    "        \n",
    "        for i in range(MICMAC_sampler_obj.n_frequencies-len_pos_special_freqs):\n",
    "            # plt.subplot(201+len(frequency_Bf)*10+i+len(frequency_Bf))\n",
    "            # plt.subplot(201+len(frequency_Bf)*10+i)\n",
    "            num_row = i//n_columns\n",
    "            num_col = i%n_columns\n",
    "            ax[num_row, num_col].set_title((f'Dust ${frequency_Bf[i]} GHz$'))\n",
    "            ax[num_row, num_col].plot(np.arange(MICMAC_sampler_obj.number_iterations_sampling+1), all_B_f_autocorr_dust[:,i], '-.', label='Sample')\n",
    "\n",
    "            # plt.yscale('log')\n",
    "            if i == 0:\n",
    "                ax[num_row, num_col].set_ylabel('Amplitude')\n",
    "            if i >= MICMAC_sampler_obj.n_frequencies-len_pos_special_freqs-n_columns:\n",
    "                ax[num_row, num_col].set_xlabel('Iterations')\n",
    "            else:\n",
    "                ax[num_row, num_col].tick_params(axis='x', labelbottom=False)\n",
    "        ax[num_row, num_col].legend(bbox_to_anchor=(1.04, 1), loc=\"upper left\", prop={'size': 15}, frameon=False)\n",
    "        # plt.loglog()\n",
    "\n",
    "    plt.show()"
   ]
  },
  {
   "cell_type": "code",
   "execution_count": null,
   "metadata": {},
   "outputs": [],
   "source": []
  },
  {
   "cell_type": "code",
   "execution_count": null,
   "metadata": {},
   "outputs": [
    {
     "data": {
      "image/png": "[encoded data removed]",
      "text/plain": [
       "<Figure size 640x480 with 1 Axes>"
      ]
     },
     "metadata": {},
     "output_type": "display_data"
    },
    {
     "data": {
      "image/png": "[encoded data removed]",
      "text/plain": [
       "<Figure size 640x480 with 1 Axes>"
      ]
     },
     "metadata": {},
     "output_type": "display_data"
    }
   ],
   "source": [
    "# Test on what to expect for autocorrelation\n",
    "test_random = np.random.randn(5000)\n",
    "# test_random = np.ones(1000)\n",
    "# for i in range(10):\n",
    "#     test_random[i*100:i*100 + 50] = -1\n",
    "aucorr_random = numpyro.diagnostics.autocorrelation(test_random, axis=0)\n",
    "\n",
    "plt.figure()\n",
    "plt.plot(np.arange(test_random.shape[0]), test_random)\n",
    "plt.figure()\n",
    "plt.plot(np.arange(aucorr_random.shape[0]), aucorr_random)\n",
    "plt.show()"
   ]
  },
  {
   "cell_type": "code",
   "execution_count": null,
   "metadata": {},
   "outputs": [],
   "source": [
    "for job in range(num_jobs):\n",
    "    numpyro.diagnostics.effective_sample_size(jnp.array([all_params_mixing_matrix_samples[job,:]]))"
   ]
  },
  {
   "cell_type": "code",
   "execution_count": null,
   "metadata": {},
   "outputs": [
    {
     "data": {
      "text/plain": [
       "0.006166245877596915"
      ]
     },
     "execution_count": 572,
     "metadata": {},
     "output_type": "execute_result"
    }
   ],
   "source": [
    "all_r_samples.mean()"
   ]
  },
  {
   "cell_type": "code",
   "execution_count": null,
   "metadata": {},
   "outputs": [
    {
     "data": {
      "text/plain": [
       "(1, 501, 1)"
      ]
     },
     "execution_count": 573,
     "metadata": {},
     "output_type": "execute_result"
    }
   ],
   "source": [
    "all_r_samples.shape"
   ]
  },
  {
   "cell_type": "code",
   "execution_count": null,
   "metadata": {},
   "outputs": [
    {
     "data": {
      "text/plain": [
       "0.9999999999999999"
      ]
     },
     "execution_count": 574,
     "metadata": {},
     "output_type": "execute_result"
    }
   ],
   "source": [
    "micmac.get_Gelman_Rubin_statistics(all_r_samples).mean()"
   ]
  },
  {
   "cell_type": "code",
   "execution_count": null,
   "metadata": {},
   "outputs": [
    {
     "data": {
      "text/plain": [
       "nan"
      ]
     },
     "execution_count": 575,
     "metadata": {},
     "output_type": "execute_result"
    }
   ],
   "source": [
    "micmac.get_Gelman_Rubin_statistics(all_params_mixing_matrix_samples).mean(axis=0)"
   ]
  },
  {
   "cell_type": "markdown",
   "metadata": {},
   "source": [
    "# Plotting Gelman-Rubin every 100 samples"
   ]
  },
  {
   "cell_type": "code",
   "execution_count": null,
   "metadata": {},
   "outputs": [
    {
     "data": {
      "text/plain": [
       "0.9999999999999999"
      ]
     },
     "execution_count": 576,
     "metadata": {},
     "output_type": "execute_result"
    }
   ],
   "source": [
    "micmac.get_Gelman_Rubin_statistics(all_r_samples[:,-1000:]).mean()"
   ]
  },
  {
   "cell_type": "code",
   "execution_count": null,
   "metadata": {},
   "outputs": [
    {
     "name": "stdout",
     "output_type": "stream",
     "text": [
      "Freq 90 GHz : nan\n"
     ]
    }
   ],
   "source": [
    "for freq in range(MICMAC_sampler_obj.n_frequencies-len_pos_special_freqs):\n",
    "    print('Freq', MICMAC_sampler_obj.frequency_array[freq], 'GHz :', micmac.get_Gelman_Rubin_statistics(all_params_mixing_matrix_samples[:,-1000:, freq]))#.mean(axis=0)"
   ]
  },
  {
   "cell_type": "code",
   "execution_count": null,
   "metadata": {},
   "outputs": [
    {
     "name": "stdout",
     "output_type": "stream",
     "text": [
      "Freq 90 GHz : nan\n"
     ]
    }
   ],
   "source": [
    "for freq in range(MICMAC_sampler_obj.n_frequencies-len_pos_special_freqs):\n",
    "    print('Freq', MICMAC_sampler_obj.frequency_array[freq], 'GHz :', micmac.get_Gelman_Rubin_statistics(all_params_mixing_matrix_samples[:,-1000:, freq+dim_Bf]))#.mean(axis=0)"
   ]
  },
  {
   "cell_type": "code",
   "execution_count": null,
   "metadata": {},
   "outputs": [],
   "source": []
  },
  {
   "cell_type": "code",
   "execution_count": null,
   "metadata": {},
   "outputs": [],
   "source": [
    "if num_jobs > 1:\n",
    "    num_GR = 200\n",
    "    treshold_GR = 0.1\n",
    "\n",
    "    r_Gelman_Rubin = np.zeros(MICMAC_sampler_obj.number_iterations_sampling+1-num_GR)\n",
    "    B_f_s_Gelman_Rubin = np.zeros((MICMAC_sampler_obj.n_frequencies-len_pos_special_freqs,MICMAC_sampler_obj.number_iterations_sampling+1-num_GR))\n",
    "    B_f_d_Gelman_Rubin = np.zeros((MICMAC_sampler_obj.n_frequencies-len_pos_special_freqs,MICMAC_sampler_obj.number_iterations_sampling+1-num_GR))\n",
    "    for iteration in range(num_GR,MICMAC_sampler_obj.number_iterations_sampling+1):\n",
    "        r_Gelman_Rubin[iteration-num_GR] = micmac.get_Gelman_Rubin_statistics(all_r_samples[:,-num_GR+iteration:iteration])[0]\n",
    "        for freq in range(MICMAC_sampler_obj.n_frequencies-len_pos_special_freqs):\n",
    "            B_f_s_Gelman_Rubin[freq,iteration-num_GR] = micmac.get_Gelman_Rubin_statistics(all_params_mixing_matrix_samples[:,-num_GR+iteration:iteration,freq])\n",
    "            B_f_d_Gelman_Rubin[freq,iteration-num_GR] = micmac.get_Gelman_Rubin_statistics(all_params_mixing_matrix_samples[:,-num_GR+iteration:iteration,freq+dim_Bf])\n",
    "\n",
    "    frequency_Bf = np.array(instrument['frequency'][1:-1])\n",
    "\n",
    "    plt.figure(figsize=(14,4))\n",
    "    plt.title(f\"Gelman-Rubin statistics evolution for the last {num_GR} iterations over {num_jobs} jobs\", fontsize=14)\n",
    "    plt.plot(np.arange(num_GR,MICMAC_sampler_obj.number_iterations_sampling+1), r_Gelman_Rubin, label='r')\n",
    "    for freq in range(MICMAC_sampler_obj.n_frequencies-len_pos_special_freqs):\n",
    "        plt.plot(np.arange(num_GR,MICMAC_sampler_obj.number_iterations_sampling+1), B_f_s_Gelman_Rubin[freq,:], label=f'B_synch {frequency_Bf[freq]} GHz')\n",
    "    for freq in range(MICMAC_sampler_obj.n_frequencies-len_pos_special_freqs):\n",
    "        plt.plot(np.arange(num_GR,MICMAC_sampler_obj.number_iterations_sampling+1), B_f_d_Gelman_Rubin[freq,:], label=f'B_dust {frequency_Bf[freq]} GHz')\n",
    "    \n",
    "    plt.plot([num_GR,MICMAC_sampler_obj.number_iterations_sampling+1], [treshold_GR,treshold_GR], 'k:', label='Treshold')\n",
    "    plt.xlabel('Iterations done')\n",
    "    plt.ylabel('Gelman-Rubin statistics')\n",
    "    \n",
    "    plt.legend(bbox_to_anchor=(1.04, 1), loc=\"upper left\", prop={'size': 15}, frameon=False)\n",
    "    plt.show()\n",
    "        "
   ]
  },
  {
   "cell_type": "code",
   "execution_count": null,
   "metadata": {},
   "outputs": [],
   "source": [
    "if num_jobs > 1:\n",
    "    num_burnin = 00\n",
    "    treshold_GR = 0.1\n",
    "\n",
    "    r_Gelman_Rubin = np.zeros(MICMAC_sampler_obj.number_iterations_sampling+1-num_burnin)\n",
    "    B_f_s_Gelman_Rubin = np.zeros((MICMAC_sampler_obj.n_frequencies-len_pos_special_freqs,MICMAC_sampler_obj.number_iterations_sampling+1-num_burnin))\n",
    "    B_f_d_Gelman_Rubin = np.zeros((MICMAC_sampler_obj.n_frequencies-len_pos_special_freqs,MICMAC_sampler_obj.number_iterations_sampling+1-num_burnin))\n",
    "    for iteration in range(num_burnin+1,MICMAC_sampler_obj.number_iterations_sampling+1):\n",
    "        r_Gelman_Rubin[iteration-num_burnin-1] = micmac.get_Gelman_Rubin_statistics(all_r_samples[:,num_burnin:iteration])[0]\n",
    "        for freq in range(MICMAC_sampler_obj.n_frequencies-len_pos_special_freqs):\n",
    "            B_f_s_Gelman_Rubin[freq,iteration-num_burnin-1] = micmac.get_Gelman_Rubin_statistics(all_params_mixing_matrix_samples[:,num_burnin:iteration,freq,0])\n",
    "            B_f_d_Gelman_Rubin[freq,iteration-num_burnin-1] = micmac.get_Gelman_Rubin_statistics(all_params_mixing_matrix_samples[:,num_burnin:iteration,freq,1])\n",
    "\n",
    "    frequency_Bf = np.array(instrument['frequency'][1:-1])\n",
    "\n",
    "    plt.figure(figsize=(14,4))\n",
    "    plt.title(f\"Gelman-Rubin statistics evolution from {num_burnin} iterations to the the last over {num_jobs} jobs\", fontsize=14)\n",
    "    plt.plot(np.arange(num_burnin,MICMAC_sampler_obj.number_iterations_sampling+1), r_Gelman_Rubin, label='r')\n",
    "    for freq in range(MICMAC_sampler_obj.n_frequencies-len_pos_special_freqs):\n",
    "        plt.plot(np.arange(num_burnin,MICMAC_sampler_obj.number_iterations_sampling+1), B_f_s_Gelman_Rubin[freq,:], label=f'B_synch {frequency_Bf[freq]} GHz')\n",
    "    for freq in range(MICMAC_sampler_obj.n_frequencies-len_pos_special_freqs):\n",
    "        plt.plot(np.arange(num_burnin,MICMAC_sampler_obj.number_iterations_sampling+1), B_f_d_Gelman_Rubin[freq,:], label=f'B_dust {frequency_Bf[freq]} GHz')\n",
    "    \n",
    "    plt.plot([num_burnin,MICMAC_sampler_obj.number_iterations_sampling+1], [treshold_GR,treshold_GR], 'k:', label='Treshold')\n",
    "    plt.xlabel('Iterations done')\n",
    "    plt.ylabel('Gelman-Rubin statistics')\n",
    "    \n",
    "    plt.legend(bbox_to_anchor=(1.04, 1), loc=\"upper left\", prop={'size': 15}, frameon=False)\n",
    "    plt.show()\n",
    "        "
   ]
  },
  {
   "cell_type": "code",
   "execution_count": null,
   "metadata": {},
   "outputs": [],
   "source": []
  },
  {
   "cell_type": "code",
   "execution_count": null,
   "metadata": {},
   "outputs": [
    {
     "data": {
      "text/plain": [
       "array([0.])"
      ]
     },
     "execution_count": 581,
     "metadata": {},
     "output_type": "execute_result"
    }
   ],
   "source": [
    "all_params_mixing_matrix_samples[0,-1000:,:].mean(axis=0)"
   ]
  },
  {
   "cell_type": "code",
   "execution_count": null,
   "metadata": {},
   "outputs": [
    {
     "data": {
      "text/plain": [
       "array([0.])"
      ]
     },
     "execution_count": 582,
     "metadata": {},
     "output_type": "execute_result"
    }
   ],
   "source": [
    "all_params_mixing_matrix_samples[0,-100:,:].mean(axis=0)"
   ]
  },
  {
   "cell_type": "code",
   "execution_count": null,
   "metadata": {},
   "outputs": [
    {
     "data": {
      "text/plain": [
       "Array([], dtype=float64)"
      ]
     },
     "execution_count": 583,
     "metadata": {},
     "output_type": "execute_result"
    }
   ],
   "source": [
    "init_params"
   ]
  },
  {
   "cell_type": "code",
   "execution_count": null,
   "metadata": {},
   "outputs": [],
   "source": []
  }
 ],
 "metadata": {
  "kernelspec": {
   "display_name": "non_param_silver",
   "language": "python",
   "name": "python3"
  },
  "language_info": {
   "codemirror_mode": {
    "name": "ipython",
    "version": 3
   },
   "file_extension": ".py",
   "mimetype": "text/x-python",
   "name": "python",
   "nbconvert_exporter": "python",
   "pygments_lexer": "ipython3",
   "version": "3.9.16"
  }
 },
 "nbformat": 4,
 "nbformat_minor": 2
}
