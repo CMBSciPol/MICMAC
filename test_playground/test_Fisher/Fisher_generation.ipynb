{
 "cells": [
  {
   "cell_type": "markdown",
   "metadata": {},
   "source": [
    "# Fisher test"
   ]
  },
  {
   "cell_type": "code",
   "execution_count": 1,
   "metadata": {},
   "outputs": [],
   "source": [
    "import os, sys, time\n",
    "import numpy as np\n",
    "import scipy as sp\n",
    "import healpy as hp\n",
    "from fgbuster.observation_helpers import *\n",
    "\n",
    "import micmac"
   ]
  },
  {
   "cell_type": "code",
   "execution_count": 2,
   "metadata": {},
   "outputs": [],
   "source": [
    "working_directory_path = os.path.abspath('') + '/'\n",
    "# directory_save_file = working_directory_path + 'save_directory/'\n",
    "directory_toml_file = working_directory_path #+ 'toml_params/'\n",
    "path_toml_file = directory_toml_file + 'full_chain_v1a.toml'\n",
    "# path_toml_file = directory_toml_file + 'LiteBIRD_full_chain_v1a.toml'"
   ]
  },
  {
   "cell_type": "code",
   "execution_count": 3,
   "metadata": {},
   "outputs": [],
   "source": [
    "MICMAC_sampler_obj = micmac.create_MICMAC_sampler_from_toml_file(path_toml_file)"
   ]
  },
  {
   "cell_type": "code",
   "execution_count": 4,
   "metadata": {},
   "outputs": [
    {
     "name": "stderr",
     "output_type": "stream",
     "text": [
      "OMP: Info #276: omp_set_nested routine deprecated, please use omp_set_max_active_levels instead.\n"
     ]
    },
    {
     "name": "stdout",
     "output_type": "stream",
     "text": [
      "Shape for input frequency maps : (6, 2, 49152)\n"
     ]
    }
   ],
   "source": [
    "# General parameters\n",
    "cmb_model = 'c1'\n",
    "cmb_model = ''\n",
    "fgs_model = 'd0s0'\n",
    "model = cmb_model+fgs_model\n",
    "noise = True\n",
    "# noise = False\n",
    "noise_seed = 42\n",
    "# instr_name = dictionary_parameters['instrument_name'] #'SO_SAT'\n",
    "# instr_name = 'SO_SAT'\n",
    "instr_name = MICMAC_sampler_obj.instrument_name\n",
    "\n",
    "# get instrument from public database\n",
    "instrument = get_instrument(instr_name)\n",
    "\n",
    "# get input freq maps\n",
    "np.random.seed(noise_seed)\n",
    "# freq_maps = get_observation(instrument, model, nside=NSIDE, noise=noise)[:, 1:, :]   # keep only Q and U\n",
    "freq_maps_fgs = get_observation(instrument, fgs_model, nside=MICMAC_sampler_obj.nside, noise=noise)[:, 1:, :]   # keep only Q and U\n",
    "print(\"Shape for input frequency maps :\", freq_maps_fgs.shape)\n",
    "\n",
    "fgbuster_input_freq_maps = get_observation(instrument, model, nside=MICMAC_sampler_obj.nside, noise=noise)[:, 1:, :]   # keep only Q and U"
   ]
  },
  {
   "cell_type": "code",
   "execution_count": 5,
   "metadata": {},
   "outputs": [],
   "source": [
    "init_mixing_matrix_obj = micmac.InitMixingMatrix(MICMAC_sampler_obj.frequency_array, MICMAC_sampler_obj.number_components, pos_special_freqs=MICMAC_sampler_obj.pos_special_freqs)\n",
    "\n",
    "exact_params_mixing_matrix = init_mixing_matrix_obj.init_params()\n",
    "\n",
    "mixing_matrix_obj = micmac.MixingMatrix(MICMAC_sampler_obj.frequency_array, MICMAC_sampler_obj.number_components, exact_params_mixing_matrix, pos_special_freqs=MICMAC_sampler_obj.pos_special_freqs)\n",
    "\n",
    "inv_Nl = micmac.get_true_Cl_noise(np.array(instrument['depth_p']), lmax=MICMAC_sampler_obj.lmax)"
   ]
  },
  {
   "cell_type": "markdown",
   "metadata": {},
   "source": [
    "# Getting input data"
   ]
  },
  {
   "cell_type": "code",
   "execution_count": 6,
   "metadata": {},
   "outputs": [
    {
     "name": "stdout",
     "output_type": "stream",
     "text": [
      "Calculating spectra from CAMB !\n",
      "Calculating spectra from CAMB !\n"
     ]
    }
   ],
   "source": [
    "input_freq_maps, input_cmb_maps, theoretical_red_cov_r0_total, theoretical_red_cov_r1_tensor = MICMAC_sampler_obj.generate_input_freq_maps_from_fgs(freq_maps_fgs, return_only_freq_maps=False)\n",
    "\n",
    "theoretical_r0_total = micmac.get_c_ells_from_red_covariance_matrix(theoretical_red_cov_r0_total)#[partial_indices_polar,:]\n",
    "theoretical_r1_tensor = micmac.get_c_ells_from_red_covariance_matrix(theoretical_red_cov_r1_tensor)#[partial_indices_polar,:]"
   ]
  },
  {
   "cell_type": "code",
   "execution_count": 7,
   "metadata": {},
   "outputs": [],
   "source": [
    "# data_map = input_freq_maps\n",
    "data_map = fgbuster_input_freq_maps\n",
    "\n",
    "data_map_extended = np.insert(data_map, [0], np.zeros(MICMAC_sampler_obj.npix), axis=1)"
   ]
  },
  {
   "cell_type": "code",
   "execution_count": 8,
   "metadata": {},
   "outputs": [],
   "source": [
    "indices_polar = np.array([1,2,4])\n",
    "partial_indices_polar = indices_polar[:MICMAC_sampler_obj.nstokes]\n",
    "\n",
    "c_ell_approx = np.zeros((6, MICMAC_sampler_obj.lmax+1))\n",
    "c_ell_approx[indices_polar,MICMAC_sampler_obj.lmin:] = theoretical_r0_total\n",
    "\n",
    "Cl_lens = np.zeros_like(c_ell_approx)\n",
    "Cl_lens[indices_polar,MICMAC_sampler_obj.lmin:] = theoretical_r0_total\n",
    "\n",
    "Cl_prim = np.zeros_like(c_ell_approx)\n",
    "Cl_prim[indices_polar,MICMAC_sampler_obj.lmin:] = theoretical_r1_tensor"
   ]
  },
  {
   "cell_type": "markdown",
   "metadata": {},
   "source": [
    "# Compute Fisher"
   ]
  },
  {
   "cell_type": "code",
   "execution_count": 9,
   "metadata": {},
   "outputs": [],
   "source": [
    "mode_Fisher = 'EB'"
   ]
  },
  {
   "cell_type": "code",
   "execution_count": 10,
   "metadata": {},
   "outputs": [
    {
     "name": "stdout",
     "output_type": "stream",
     "text": [
      "1 of 6 complete\n",
      "2 of 6 complete\n",
      "3 of 6 complete\n",
      "4 of 6 complete\n",
      "5 of 6 complete\n",
      "6 of 6 complete\n"
     ]
    },
    {
     "name": "stdout",
     "output_type": "stream",
     "text": [
      "Computing mixing matrix\n",
      "A_dB =  [[0. 0. 0.]\n",
      " [0. 1. 0.]\n",
      " [0. 0. 0.]\n",
      " [0. 0. 0.]\n",
      " [0. 0. 0.]\n",
      " [0. 0. 0.]]\n"
     ]
    },
    {
     "name": "stderr",
     "output_type": "stream",
     "text": [
      "/Users/mag/miniconda3/envs/non_param_silver/lib/python3.9/site-packages/micmac/harmonic_Fisher_tools.py:119: RuntimeWarning: invalid value encountered in divide\n",
      "  m1_dBdB = 2.0*np.trace(_mtmm(A_dB_i, P, _mm(A_dB_j, sst_avg)), axis1=-1, axis2=-2) - Nc_dB*Nc_dB_prime/((Sc+Nc)**2) + Nc_dB*Nc_dB_prime/((Sc_approx+Nc)**2)\n",
      "/Users/mag/miniconda3/envs/non_param_silver/lib/python3.9/site-packages/micmac/harmonic_Fisher_tools.py:120: RuntimeWarning: invalid value encountered in divide\n",
      "  m2_dBdB = 2.0*(Sc-Sc_approx)/((Sc_approx+Nc)*(Sc+Nc))*_mmm(cov, _mmm(_mtmm(A, invN, A_dB_i), cov, _mtmm(A, invN, A_dB_j))\n",
      "/Users/mag/miniconda3/envs/non_param_silver/lib/python3.9/site-packages/micmac/harmonic_Fisher_tools.py:124: RuntimeWarning: invalid value encountered in multiply\n",
      "  m3_dBdB = 2.0/(Sc+Nc)*_mmm(cov, _mmm(_mtmm(A, invN, A_dB_i), sst_avg, _mtmm(A_dB_j, invN, A)), cov)[..., 0, 0]\n"
     ]
    },
    {
     "name": "stdout",
     "output_type": "stream",
     "text": [
      "A_dB =  [[0. 0. 0.]\n",
      " [0. 0. 0.]\n",
      " [0. 1. 0.]\n",
      " [0. 0. 0.]\n",
      " [0. 0. 0.]\n",
      " [0. 0. 0.]]\n",
      "A_dB =  [[0. 0. 0.]\n",
      " [0. 0. 0.]\n",
      " [0. 0. 0.]\n",
      " [0. 1. 0.]\n",
      " [0. 0. 0.]\n",
      " [0. 0. 0.]]\n",
      "A_dB =  [[0. 0. 0.]\n",
      " [0. 0. 0.]\n",
      " [0. 0. 0.]\n",
      " [0. 0. 0.]\n",
      " [0. 1. 0.]\n",
      " [0. 0. 0.]]\n",
      "A_dB =  [[0. 0. 0.]\n",
      " [0. 0. 1.]\n",
      " [0. 0. 0.]\n",
      " [0. 0. 0.]\n",
      " [0. 0. 0.]\n",
      " [0. 0. 0.]]\n",
      "A_dB =  [[0. 0. 0.]\n",
      " [0. 0. 0.]\n",
      " [0. 0. 1.]\n",
      " [0. 0. 0.]\n",
      " [0. 0. 0.]\n",
      " [0. 0. 0.]]\n",
      "A_dB =  [[0. 0. 0.]\n",
      " [0. 0. 0.]\n",
      " [0. 0. 0.]\n",
      " [0. 0. 1.]\n",
      " [0. 0. 0.]\n",
      " [0. 0. 0.]]\n",
      "A_dB =  [[0. 0. 0.]\n",
      " [0. 0. 0.]\n",
      " [0. 0. 0.]\n",
      " [0. 0. 0.]\n",
      " [0. 0. 1.]\n",
      " [0. 0. 0.]]\n",
      "[[ 2.11294845e+08 -1.84053066e+08  2.36362583e+07  1.03049983e+07\n",
      "   3.09774094e+08 -2.66268805e+08  3.64434174e+07  1.47995640e+07\n",
      "   0.00000000e+00]\n",
      " [-1.84053066e+08  5.95930825e+09 -5.76755365e+09 -9.70524643e+06\n",
      "  -2.66273432e+08  8.47907451e+09 -8.58516926e+09  8.07472250e+06\n",
      "   0.00000000e+00]\n",
      " [ 2.36362583e+07 -5.76755365e+09  7.03491238e+09 -1.04548428e+09\n",
      "   3.64413571e+07 -8.58518565e+09  1.02520183e+10 -1.52197637e+09\n",
      "   0.00000000e+00]\n",
      " [ 1.03049983e+07 -9.70524643e+06 -1.04548428e+09  1.56320680e+09\n",
      "   1.48001158e+07  8.06367934e+06 -1.52198324e+09  2.29023107e+09\n",
      "   0.00000000e+00]\n",
      " [ 3.09774094e+08 -2.66273432e+08  3.64413571e+07  1.48001158e+07\n",
      "   1.47029724e+09 -1.28631921e+09  1.61671329e+08  7.21902068e+07\n",
      "   0.00000000e+00]\n",
      " [-2.66268805e+08  8.47907451e+09 -8.58518565e+09  8.06367934e+06\n",
      "  -1.28631921e+09  4.18760548e+10 -3.99286675e+10 -1.02856659e+08\n",
      "   0.00000000e+00]\n",
      " [ 3.64434174e+07 -8.58516926e+09  1.02520183e+10 -1.52198324e+09\n",
      "   1.61671329e+08 -3.99286675e+10  4.90501285e+10 -7.29208504e+09\n",
      "   0.00000000e+00]\n",
      " [ 1.47995640e+07  8.07472250e+06 -1.52197637e+09  2.29023107e+09\n",
      "   7.21902068e+07 -1.02856659e+08 -7.29208504e+09  1.08800551e+10\n",
      "   0.00000000e+00]\n",
      " [ 0.00000000e+00  0.00000000e+00  0.00000000e+00  0.00000000e+00\n",
      "   0.00000000e+00  0.00000000e+00  0.00000000e+00  0.00000000e+00\n",
      "   6.49212920e+06]]\n",
      "eigenvalues :  [9.01433582e+10 1.41738195e+10 8.14490744e+09 2.74898114e+09\n",
      " 1.10909423e+08 2.79296576e+08 1.09430939e+09 1.34967612e+09\n",
      " 6.49212920e+06]\n",
      "condition number :  13885.02221586303\n",
      "eigenvalues :  [4.50716791e+10 7.08690976e+09 4.07245372e+09 1.37449057e+09\n",
      " 5.54547116e+07 1.39648288e+08 5.47154695e+08 6.74838062e+08\n",
      " 3.24606460e+06]\n",
      "condition number :  13885.02221586303\n"
     ]
    },
    {
     "name": "stderr",
     "output_type": "stream",
     "text": [
      "/Users/mag/miniconda3/envs/non_param_silver/lib/python3.9/site-packages/micmac/harmonic_Fisher_tools.py:132: RuntimeWarning: invalid value encountered in divide\n",
      "  m_drdr = (Sc_dr/(Sc+Nc))**2\n"
     ]
    }
   ],
   "source": [
    "Fisher_matrix = micmac.full_fisher(mixing_matrix_obj, exact_params_mixing_matrix, Cl_lens, Cl_prim, data_map_extended, MICMAC_sampler_obj.lmax, inv_Nl, \n",
    "                            lmin=MICMAC_sampler_obj.lmin, r_start=MICMAC_sampler_obj.r_true, mode=mode_Fisher, Sc_approx=c_ell_approx)"
   ]
  },
  {
   "cell_type": "code",
   "execution_count": 11,
   "metadata": {},
   "outputs": [],
   "source": [
    "sqrt_inv_Fisher = sp.linalg.sqrtm(np.linalg.pinv(Fisher_matrix))"
   ]
  },
  {
   "cell_type": "code",
   "execution_count": 12,
   "metadata": {},
   "outputs": [
    {
     "data": {
      "text/plain": [
       "array([1.22719235e-04, 4.72984090e-05, 4.44084763e-05, 5.23546882e-05,\n",
       "       4.28340683e-05, 1.62270766e-05, 1.52905384e-05, 1.82529746e-05,\n",
       "       5.55036342e-04])"
      ]
     },
     "execution_count": 12,
     "metadata": {},
     "output_type": "execute_result"
    }
   ],
   "source": [
    "np.diag(sqrt_inv_Fisher)"
   ]
  },
  {
   "cell_type": "code",
   "execution_count": 16,
   "metadata": {},
   "outputs": [
    {
     "name": "stdout",
     "output_type": "stream",
     "text": [
      "Saving Fisher matrix in /Users/mag/Documents/PHD1Y/Space_Work/Pixel_non_P2D/MICMAC/test_playground/Fisher_matrix_instr_nameEB_model_d0s0_noise_True_seed_42_lmin2_lmax128.txt\n"
     ]
    }
   ],
   "source": [
    "path_dir_Fisher = '/Users/mag/Documents/PHD1Y/Space_Work/Pixel_non_P2D/MICMAC/test_playground/'\n",
    "\n",
    "lmin = MICMAC_sampler_obj.lmin\n",
    "lmax = MICMAC_sampler_obj.lmax\n",
    "r_true = MICMAC_sampler_obj.r_true\n",
    "name_Fisher = 'Fisher_matrix_'+'instr_name'+mode_Fisher+'_model_'+model+'_noise_'+str(noise)+'_seed_'+str(noise_seed)+f'_lmin{lmin}_lmax{lmax}'+'.txt'\n",
    "\n",
    "print('Saving Fisher matrix in', path_dir_Fisher + name_Fisher)\n",
    "np.savetxt(path_dir_Fisher + name_Fisher, Fisher_matrix)\n"
   ]
  },
  {
   "cell_type": "code",
   "execution_count": null,
   "metadata": {},
   "outputs": [],
   "source": []
  }
 ],
 "metadata": {
  "kernelspec": {
   "display_name": "non_param_silver",
   "language": "python",
   "name": "python3"
  },
  "language_info": {
   "codemirror_mode": {
    "name": "ipython",
    "version": 3
   },
   "file_extension": ".py",
   "mimetype": "text/x-python",
   "name": "python",
   "nbconvert_exporter": "python",
   "pygments_lexer": "ipython3",
   "version": "3.9.16"
  }
 },
 "nbformat": 4,
 "nbformat_minor": 2
}
