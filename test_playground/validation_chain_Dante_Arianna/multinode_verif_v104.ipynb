{
 "cells": [
  {
   "cell_type": "markdown",
   "metadata": {},
   "source": [
    "# Gibbs chain verification"
   ]
  },
  {
   "cell_type": "code",
   "execution_count": 4,
   "metadata": {},
   "outputs": [],
   "source": [
    "import os, sys, time\n",
    "import numpy as np\n",
    "import matplotlib.pyplot as plt\n",
    "import scipy as sp\n",
    "import healpy as hp\n",
    "import astropy.io.fits as fits\n",
    "import camb\n",
    "import scipy\n",
    "import toml\n",
    "import jax\n",
    "import jax.numpy as jnp\n",
    "import jax.scipy as jsp\n",
    "import jax_healpy as jhp\n",
    "import numpyro\n",
    "from fgbuster.observation_helpers import *\n",
    "import micmac as micmac\n",
    "\n",
    "from jax import config\n",
    "config.update(\"jax_enable_x64\", True)"
   ]
  },
  {
   "cell_type": "code",
   "execution_count": 5,
   "metadata": {},
   "outputs": [],
   "source": [
    "sys.path.append(os.path.dirname(os.path.abspath('')))\n",
    "sys.path.append(os.path.dirname(os.path.dirname(os.path.abspath('')))+'/tutorials/')"
   ]
  },
  {
   "cell_type": "code",
   "execution_count": 6,
   "metadata": {},
   "outputs": [],
   "source": [
    "working_directory_path = os.path.abspath('') + '/'\n",
    "directory_save_file = working_directory_path + 'save_directory/'\n",
    "directory_toml_file = working_directory_path + 'toml_params/'\n",
    "directory_additional_params = working_directory_path + 'additional_params/'\n",
    "\n",
    "# path_toml_file = directory_toml_file + 'test_full_chain_v1a.toml'\n",
    "# path_toml_file = directory_toml_file + 'test_classical_chain_v1a.toml'\n"
   ]
  },
  {
   "cell_type": "markdown",
   "metadata": {},
   "source": [
    "# Studying the sampling !"
   ]
  },
  {
   "cell_type": "code",
   "execution_count": 7,
   "metadata": {},
   "outputs": [],
   "source": [
    "sub_step_sampling = 1  # 50\n",
    "num_jobs = 1\n",
    "file_ver = 'test_corr_fullsky_v1a_{}_{}'\n",
    "path_additional_params = directory_additional_params + 'test_add_corr_fullsky_v0a.toml'"
   ]
  },
  {
   "cell_type": "code",
   "execution_count": 8,
   "metadata": {},
   "outputs": [],
   "source": [
    "fast_verion_bool = False"
   ]
  },
  {
   "cell_type": "code",
   "execution_count": 9,
   "metadata": {},
   "outputs": [
    {
     "name": "stdout",
     "output_type": "stream",
     "text": [
      "Using toml file:  test_corr_fullsky_v0a.toml\n"
     ]
    }
   ],
   "source": [
    "with open(path_additional_params) as f:\n",
    "    dictionary_additional_parameters = toml.load(f)\n",
    "f.close()\n",
    "\n",
    "reduction_noise = dictionary_additional_parameters['reduction_noise']\n",
    "# factor_Fisher = dictionary_additional_parameters['factor_Fisher']\n",
    "# relative_treshold = dictionary_additional_parameters['relative_treshold']\n",
    "# sigma_gap = dictionary_additional_parameters['sigma_gap']\n",
    "fgs_model = dictionary_additional_parameters['fgs_model']\n",
    "# initial_guess_r = dictionary_additional_parameters['initial_guess_r']\n",
    "# use_nhits = dictionary_additional_parameters['use_nhits']\n",
    "# name_mask = dictionary_additional_parameters['name_mask']\n",
    "# use_mask = dictionary_additional_parameters['use_mask']\n",
    "name_toml = dictionary_additional_parameters['name_toml']\n",
    "print(\"Using toml file: \", name_toml)"
   ]
  },
  {
   "cell_type": "code",
   "execution_count": null,
   "metadata": {},
   "outputs": [],
   "source": []
  },
  {
   "cell_type": "code",
   "execution_count": 10,
   "metadata": {},
   "outputs": [],
   "source": [
    "path_toml_file = directory_toml_file + name_toml"
   ]
  },
  {
   "cell_type": "code",
   "execution_count": 11,
   "metadata": {},
   "outputs": [
    {
     "ename": "KeyError",
     "evalue": "'n_components'",
     "output_type": "error",
     "traceback": [
      "\u001b[0;31m---------------------------------------------------------------------------\u001b[0m",
      "\u001b[0;31mKeyError\u001b[0m                                  Traceback (most recent call last)",
      "Cell \u001b[0;32mIn[11], line 1\u001b[0m\n\u001b[0;32m----> 1\u001b[0m MICMAC_sampler_obj \u001b[38;5;241m=\u001b[39m \u001b[43mmicmac\u001b[49m\u001b[38;5;241;43m.\u001b[39;49m\u001b[43mcreate_MICMAC_sampler_from_toml_file\u001b[49m\u001b[43m(\u001b[49m\u001b[43mpath_toml_file\u001b[49m\u001b[43m)\u001b[49m\n",
      "File \u001b[0;32m~/APC/PhD/cmb_work/comp_sep/Non_param/MICMAC/micmac/Non_param_Likelihood_sampling.py:833\u001b[0m, in \u001b[0;36mcreate_MICMAC_sampler_from_toml_file\u001b[0;34m(path_toml_file, path_file_spv)\u001b[0m\n\u001b[1;32m    830\u001b[0m     dictionary_parameters[\u001b[38;5;124m'\u001b[39m\u001b[38;5;124mfreq_inverse_noise\u001b[39m\u001b[38;5;124m'\u001b[39m] \u001b[38;5;241m=\u001b[39m get_noise_covar(instrument[\u001b[38;5;124m'\u001b[39m\u001b[38;5;124mdepth_p\u001b[39m\u001b[38;5;124m'\u001b[39m], dictionary_parameters[\u001b[38;5;124m'\u001b[39m\u001b[38;5;124mnside\u001b[39m\u001b[38;5;124m'\u001b[39m])\n\u001b[1;32m    832\u001b[0m \u001b[38;5;66;03m### Spatial variability params\u001b[39;00m\n\u001b[0;32m--> 833\u001b[0m n_fgs_comp \u001b[38;5;241m=\u001b[39m \u001b[43mdictionary_parameters\u001b[49m\u001b[43m[\u001b[49m\u001b[38;5;124;43m'\u001b[39;49m\u001b[38;5;124;43mn_components\u001b[39;49m\u001b[38;5;124;43m'\u001b[39;49m\u001b[43m]\u001b[49m\u001b[38;5;241m-\u001b[39m\u001b[38;5;241m1\u001b[39m\n\u001b[1;32m    834\u001b[0m \u001b[38;5;66;03m# total number of params in the mixing matrix for a specific pixel\u001b[39;00m\n\u001b[1;32m    835\u001b[0m n_betas \u001b[38;5;241m=\u001b[39m (np\u001b[38;5;241m.\u001b[39mshape(dictionary_parameters[\u001b[38;5;124m'\u001b[39m\u001b[38;5;124mfrequency_array\u001b[39m\u001b[38;5;124m'\u001b[39m])[\u001b[38;5;241m0\u001b[39m]\u001b[38;5;241m-\u001b[39m\u001b[38;5;28mlen\u001b[39m(dictionary_parameters[\u001b[38;5;124m'\u001b[39m\u001b[38;5;124mpos_special_freqs\u001b[39m\u001b[38;5;124m'\u001b[39m]))\u001b[38;5;241m*\u001b[39m(n_fgs_comp)\n",
      "\u001b[0;31mKeyError\u001b[0m: 'n_components'"
     ]
    }
   ],
   "source": [
    "MICMAC_sampler_obj = micmac.create_MICMAC_sampler_from_toml_file(path_toml_file)"
   ]
  },
  {
   "cell_type": "code",
   "execution_count": null,
   "metadata": {},
   "outputs": [
    {
     "ename": "",
     "evalue": "",
     "output_type": "error",
     "traceback": [
      "\u001b[1;31mRunning cells with '/work/rizzieri/.conda/envs/micmac_env/bin/python' requires the ipykernel package.\n",
      "\u001b[1;31mRun the following command to install 'ipykernel' into the Python environment. \n",
      "\u001b[1;31mCommand: 'conda install -p /work/rizzieri/.conda/envs/micmac_env ipykernel --update-deps --force-reinstall'"
     ]
    }
   ],
   "source": [
    "if (MICMAC_sampler_obj.number_iterations_sampling > 100) and (sub_step_sampling==1):\n",
    "    sub_step_sampling = 50\n",
    "elif MICMAC_sampler_obj.number_iterations_sampling > 1000:\n",
    "    sub_step_sampling = 100\n",
    "elif MICMAC_sampler_obj.number_iterations_sampling > 3000:\n",
    "    sub_step_sampling = 200"
   ]
  },
  {
   "cell_type": "code",
   "execution_count": null,
   "metadata": {},
   "outputs": [
    {
     "ename": "",
     "evalue": "",
     "output_type": "error",
     "traceback": [
      "\u001b[1;31mRunning cells with '/work/rizzieri/.conda/envs/micmac_env/bin/python' requires the ipykernel package.\n",
      "\u001b[1;31mRun the following command to install 'ipykernel' into the Python environment. \n",
      "\u001b[1;31mCommand: 'conda install -p /work/rizzieri/.conda/envs/micmac_env ipykernel --update-deps --force-reinstall'"
     ]
    }
   ],
   "source": [
    "NSIDE = MICMAC_sampler_obj.nside\n",
    "# cmb_model = 'c1'\n",
    "# fgs_model = 'd0s0'\n",
    "# model = cmb_model+fgs_model\n",
    "# noise = True\n",
    "# noise = False\n",
    "noise_seed = MICMAC_sampler_obj.seed\n",
    "instr_name = MICMAC_sampler_obj.instrument_name\n",
    "\n",
    "# get instrument from public database\n",
    "instrument = get_instrument(instr_name)\n",
    "\n",
    "# get input freq maps\n",
    "np.random.seed(noise_seed)\n",
    "# freq_maps = get_observation(instrument, model, nside=NSIDE, noise=noise)[:, 1:, :]   # keep only Q and U\n",
    "freq_maps_fgs = get_observation(instrument, fgs_model, nside=NSIDE, noise=True)[:, 1:, :]   # keep only Q and U\n"
   ]
  },
  {
   "cell_type": "code",
   "execution_count": null,
   "metadata": {},
   "outputs": [
    {
     "ename": "",
     "evalue": "",
     "output_type": "error",
     "traceback": [
      "\u001b[1;31mRunning cells with '/work/rizzieri/.conda/envs/micmac_env/bin/python' requires the ipykernel package.\n",
      "\u001b[1;31mRun the following command to install 'ipykernel' into the Python environment. \n",
      "\u001b[1;31mCommand: 'conda install -p /work/rizzieri/.conda/envs/micmac_env ipykernel --update-deps --force-reinstall'"
     ]
    }
   ],
   "source": [
    "freq_inverse_noise = micmac.get_noise_covar(instrument['depth_p']/reduction_noise, MICMAC_sampler_obj.nside)"
   ]
  },
  {
   "cell_type": "code",
   "execution_count": null,
   "metadata": {},
   "outputs": [
    {
     "ename": "",
     "evalue": "",
     "output_type": "error",
     "traceback": [
      "\u001b[1;31mRunning cells with '/work/rizzieri/.conda/envs/micmac_env/bin/python' requires the ipykernel package.\n",
      "\u001b[1;31mRun the following command to install 'ipykernel' into the Python environment. \n",
      "\u001b[1;31mCommand: 'conda install -p /work/rizzieri/.conda/envs/micmac_env ipykernel --update-deps --force-reinstall'"
     ]
    }
   ],
   "source": [
    "# input_freq_maps, input_cmb_maps, theoretical_red_cov_r0_total, theoretical_red_cov_r1_tensor = MICMAC_sampler_obj.generate_input_freq_maps_from_fgs(freq_maps_fgs, return_only_freq_maps=False)\n",
    "_, _, theoretical_red_cov_r0_total, theoretical_red_cov_r1_tensor = MICMAC_sampler_obj.generate_input_freq_maps_from_fgs(freq_maps_fgs, return_only_freq_maps=False)\n",
    "\n",
    "theoretical_r0_total = micmac.get_c_ells_from_red_covariance_matrix(theoretical_red_cov_r0_total)#[partial_indices_polar,:]\n",
    "theoretical_r1_tensor = micmac.get_c_ells_from_red_covariance_matrix(theoretical_red_cov_r1_tensor)#[partial_indices_polar,:]\n",
    "\n",
    "indices_polar = np.array([1,2,4])\n",
    "partial_indices_polar = indices_polar[:MICMAC_sampler_obj.nstokes]\n"
   ]
  },
  {
   "cell_type": "code",
   "execution_count": null,
   "metadata": {},
   "outputs": [
    {
     "ename": "",
     "evalue": "",
     "output_type": "error",
     "traceback": [
      "\u001b[1;31mRunning cells with '/work/rizzieri/.conda/envs/micmac_env/bin/python' requires the ipykernel package.\n",
      "\u001b[1;31mRun the following command to install 'ipykernel' into the Python environment. \n",
      "\u001b[1;31mCommand: 'conda install -p /work/rizzieri/.conda/envs/micmac_env ipykernel --update-deps --force-reinstall'"
     ]
    }
   ],
   "source": [
    "initial_freq_maps = []\n",
    "input_cmb_maps = []\n",
    "all_eta_maps = []\n",
    "all_s_c_WF_maps = []\n",
    "all_s_c_fluct_maps = []\n",
    "all_s_c_samples = []\n",
    "all_r_samples = []\n",
    "all_cell_samples = []\n",
    "all_params_mixing_matrix_samples = []\n",
    "\n",
    "for job in range(num_jobs):\n",
    "\n",
    "    initial_freq_maps_path = directory_save_file+file_ver.format(job,num_jobs)+'_initial_data.npy'\n",
    "    initial_freq_maps.append(np.load(initial_freq_maps_path))\n",
    "\n",
    "    initial_cmb_maps_path = directory_save_file+file_ver.format(job,num_jobs)+'_initial_cmb_data.npy'\n",
    "    input_cmb_maps.append(np.load(initial_cmb_maps_path))\n",
    "    if not(MICMAC_sampler_obj.cheap_save):\n",
    "        all_eta_maps_path = directory_save_file+file_ver.format(job,num_jobs)+'_all_eta_maps.npy'\n",
    "        all_eta_maps.append(np.load(all_eta_maps_path))\n",
    "\n",
    "        all_s_c_WF_maps_path = directory_save_file+file_ver.format(job,num_jobs)+'_all_s_c_WF_maps.npy'\n",
    "        all_s_c_WF_maps.append(np.load(all_s_c_WF_maps_path))\n",
    "\n",
    "        all_s_c_fluct_maps_path = directory_save_file+file_ver.format(job,num_jobs)+'_all_s_c_fluct_maps.npy'\n",
    "        all_s_c_fluct_maps.append(np.load(all_s_c_fluct_maps_path))\n",
    "\n",
    "\n",
    "    elif not(MICMAC_sampler_obj.very_cheap_save):\n",
    "        all_s_c_path = directory_save_file+file_ver.format(job,num_jobs)+'_all_s_c.npy'\n",
    "        all_s_c_samples.append(np.load(all_s_c_path))\n",
    "    if MICMAC_sampler_obj.sample_r_Metropolis:\n",
    "        all_r_samples_path = directory_save_file+file_ver.format(job,num_jobs)+'_all_r_samples.npy'\n",
    "        all_r_samples.append(np.load(all_r_samples_path))\n",
    "    elif MICMAC_sampler_obj.sample_C_inv_Wishart:\n",
    "        all_cell_samples_path = directory_save_file+file_ver.format(job,num_jobs)+'_all_cell_samples.npy'\n",
    "        all_cell_samples.append(np.load(all_cell_samples_path))\n",
    "\n",
    "    all_params_mixing_matrix_samples_path = directory_save_file+file_ver.format(job,num_jobs)+'_all_params_mixing_matrix_samples.npy'\n",
    "    all_params_mixing_matrix_samples.append(np.load(all_params_mixing_matrix_samples_path))\n",
    "\n",
    "initial_freq_maps = np.array(initial_freq_maps)\n",
    "input_cmb_maps = np.array(input_cmb_maps)\n",
    "if not(MICMAC_sampler_obj.cheap_save):\n",
    "    all_eta_maps = np.array(all_eta_maps)\n",
    "    all_s_c_WF_maps = np.array(all_s_c_WF_maps)\n",
    "    all_s_c_fluct_maps = np.array(all_s_c_fluct_maps)\n",
    "elif not(MICMAC_sampler_obj.very_cheap_save):\n",
    "    all_s_c_samples = np.array(all_s_c_samples)\n",
    "if MICMAC_sampler_obj.sample_r_Metropolis:\n",
    "    all_r_samples = np.array(all_r_samples)\n",
    "elif MICMAC_sampler_obj.sample_C_inv_Wishart:\n",
    "    all_cell_samples = np.array(all_cell_samples)\n",
    "all_params_mixing_matrix_samples = np.array(all_params_mixing_matrix_samples)"
   ]
  },
  {
   "cell_type": "code",
   "execution_count": null,
   "metadata": {},
   "outputs": [
    {
     "ename": "",
     "evalue": "",
     "output_type": "error",
     "traceback": [
      "\u001b[1;31mRunning cells with '/work/rizzieri/.conda/envs/micmac_env/bin/python' requires the ipykernel package.\n",
      "\u001b[1;31mRun the following command to install 'ipykernel' into the Python environment. \n",
      "\u001b[1;31mCommand: 'conda install -p /work/rizzieri/.conda/envs/micmac_env ipykernel --update-deps --force-reinstall'"
     ]
    }
   ],
   "source": [
    "# path_Fisher = '/Users/mag/Documents/PHD1Y/Space_Work/Pixel_non_P2D/MICMAC/test_playground/Fisher_matrix_SO_SAT_EB_model_d0s0_noise_True_seed_42_lmin2_lmax128.txt'\n",
    "path_Fisher = '/Users/mag/Documents/PHD1Y/Space_Work/Pixel_non_P2D/MICMAC/test_playground/Fisher_matrix_{}_EB_model_d0s0_noise_True_seed_42_lmin2_lmax128.txt'.format(MICMAC_sampler_obj.instrument_name)\n",
    "\n",
    "Fisher_matrix = np.loadtxt(path_Fisher)\n",
    "\n",
    "jnp.array(jnp.diag(jsp.linalg.sqrtm(np.linalg.inv(Fisher_matrix))), dtype=jnp.float64)"
   ]
  },
  {
   "cell_type": "code",
   "execution_count": null,
   "metadata": {},
   "outputs": [
    {
     "ename": "",
     "evalue": "",
     "output_type": "error",
     "traceback": [
      "\u001b[1;31mRunning cells with '/work/rizzieri/.conda/envs/micmac_env/bin/python' requires the ipykernel package.\n",
      "\u001b[1;31mRun the following command to install 'ipykernel' into the Python environment. \n",
      "\u001b[1;31mCommand: 'conda install -p /work/rizzieri/.conda/envs/micmac_env ipykernel --update-deps --force-reinstall'"
     ]
    }
   ],
   "source": [
    "\n",
    "# Getting C_approx and a first guess for C\n",
    "\n",
    "\n",
    "c_ell_approx = np.zeros((3,MICMAC_sampler_obj.lmax+1))\n",
    "c_ell_approx[0,MICMAC_sampler_obj.lmin:] = theoretical_r0_total[0,:]\n",
    "c_ell_approx[1,MICMAC_sampler_obj.lmin:] = theoretical_r0_total[1,:]\n",
    "\n",
    "\n",
    "# CMB covariance preparation\n",
    "red_cov_approx_matrix = micmac.get_reduced_matrix_from_c_ell(c_ell_approx)[MICMAC_sampler_obj.lmin:,...]\n",
    "\n",
    "# Mixing matrix initialization\n",
    "init_mixing_matrix_obj = micmac.InitMixingMatrix(np.array(instrument['frequency']), MICMAC_sampler_obj.number_components, pos_special_freqs=[0,-1])\n",
    "\n",
    "init_params = init_mixing_matrix_obj.init_params()\n",
    "\n",
    "mixing_matrix_obj = micmac.MixingMatrix(instrument['frequency'], MICMAC_sampler_obj.number_components, init_params, pos_special_freqs=[0,-1])\n",
    "mixing_matrix_sampled = mixing_matrix_obj.get_B()\n",
    "\n",
    "len_pos_special_freqs = len(mixing_matrix_obj.pos_special_freqs)\n",
    "\n",
    "# Noise initialization\n",
    "BtinvNB = micmac.get_inv_BtinvNB(freq_inverse_noise, mixing_matrix_sampled)\n",
    "BtinvN_sqrt = micmac.get_BtinvN(sp.linalg.sqrtm(freq_inverse_noise), mixing_matrix_sampled)\n",
    "BtinvN = micmac.get_BtinvN(freq_inverse_noise, mixing_matrix_sampled)\n"
   ]
  },
  {
   "cell_type": "code",
   "execution_count": null,
   "metadata": {},
   "outputs": [
    {
     "ename": "",
     "evalue": "",
     "output_type": "error",
     "traceback": [
      "\u001b[1;31mRunning cells with '/work/rizzieri/.conda/envs/micmac_env/bin/python' requires the ipykernel package.\n",
      "\u001b[1;31mRun the following command to install 'ipykernel' into the Python environment. \n",
      "\u001b[1;31mCommand: 'conda install -p /work/rizzieri/.conda/envs/micmac_env ipykernel --update-deps --force-reinstall'"
     ]
    }
   ],
   "source": []
  },
  {
   "cell_type": "code",
   "execution_count": null,
   "metadata": {},
   "outputs": [
    {
     "ename": "",
     "evalue": "",
     "output_type": "error",
     "traceback": [
      "\u001b[1;31mRunning cells with '/work/rizzieri/.conda/envs/micmac_env/bin/python' requires the ipykernel package.\n",
      "\u001b[1;31mRun the following command to install 'ipykernel' into the Python environment. \n",
      "\u001b[1;31mCommand: 'conda install -p /work/rizzieri/.conda/envs/micmac_env ipykernel --update-deps --force-reinstall'"
     ]
    }
   ],
   "source": [
    "number_correl_to_plot = int(np.ceil(MICMAC_sampler_obj.nstokes**2/2) + np.floor(MICMAC_sampler_obj.nstokes/2))\n",
    "\n",
    "if MICMAC_sampler_obj.nstokes == 3:\n",
    "    number_subplots_convention = 421\n",
    "    figsize = (10,10)\n",
    "    figsize_big = (12,12)\n",
    "    position_legend = int(number_correl_to_plot/2)-1\n",
    "    bbox_to_anchor=(2.2, 1)\n",
    "elif MICMAC_sampler_obj.nstokes == 2:\n",
    "    number_subplots_convention = 131\n",
    "    figsize = (14,6)\n",
    "    figsize_big = figsize\n",
    "    position_legend = number_correl_to_plot-1\n",
    "    bbox_to_anchor=(1, 1)\n",
    "else:\n",
    "    number_subplots_convention = 111\n",
    "    figsize = (10,10)\n",
    "    figsize_big = (10,10)\n",
    "    position_legend = int(number_correl_to_plot/2)-1\n",
    "    bbox_to_anchor=(2.2, 1)"
   ]
  },
  {
   "cell_type": "code",
   "execution_count": null,
   "metadata": {},
   "outputs": [
    {
     "ename": "",
     "evalue": "",
     "output_type": "error",
     "traceback": [
      "\u001b[1;31mRunning cells with '/work/rizzieri/.conda/envs/micmac_env/bin/python' requires the ipykernel package.\n",
      "\u001b[1;31mRun the following command to install 'ipykernel' into the Python environment. \n",
      "\u001b[1;31mCommand: 'conda install -p /work/rizzieri/.conda/envs/micmac_env ipykernel --update-deps --force-reinstall'"
     ]
    }
   ],
   "source": [
    "nstokes = MICMAC_sampler_obj.nstokes\n",
    "lmin = MICMAC_sampler_obj.lmin\n",
    "lmax = MICMAC_sampler_obj.lmax\n",
    "n_iter = MICMAC_sampler_obj.n_iter"
   ]
  },
  {
   "cell_type": "markdown",
   "metadata": {},
   "source": [
    "## Testing $\\eta$"
   ]
  },
  {
   "cell_type": "code",
   "execution_count": null,
   "metadata": {},
   "outputs": [
    {
     "ename": "",
     "evalue": "",
     "output_type": "error",
     "traceback": [
      "\u001b[1;31mRunning cells with '/work/rizzieri/.conda/envs/micmac_env/bin/python' requires the ipykernel package.\n",
      "\u001b[1;31mRun the following command to install 'ipykernel' into the Python environment. \n",
      "\u001b[1;31mCommand: 'conda install -p /work/rizzieri/.conda/envs/micmac_env ipykernel --update-deps --force-reinstall'"
     ]
    }
   ],
   "source": [
    "red_cov_approx_matrix_msqrt = np.linalg.pinv(micmac.get_sqrt_reduced_matrix_from_matrix(red_cov_approx_matrix))\n",
    "red_cov_approx_matrix_sqrt = micmac.get_sqrt_reduced_matrix_from_matrix(red_cov_approx_matrix)"
   ]
  },
  {
   "cell_type": "code",
   "execution_count": null,
   "metadata": {},
   "outputs": [
    {
     "ename": "",
     "evalue": "",
     "output_type": "error",
     "traceback": [
      "\u001b[1;31mRunning cells with '/work/rizzieri/.conda/envs/micmac_env/bin/python' requires the ipykernel package.\n",
      "\u001b[1;31mRun the following command to install 'ipykernel' into the Python environment. \n",
      "\u001b[1;31mCommand: 'conda install -p /work/rizzieri/.conda/envs/micmac_env ipykernel --update-deps --force-reinstall'"
     ]
    }
   ],
   "source": [
    "# list_correl = ['TT', 'EE', 'BB', 'TE', 'EB', 'TB']\n",
    "list_correl = ['EE', 'BB', 'EB']\n",
    "\n",
    "ell_arange = np.arange(red_cov_approx_matrix.shape[0]) + MICMAC_sampler_obj.lmin\n",
    "\n",
    "red_cl_noise_harm = np.zeros_like(red_cov_approx_matrix)\n",
    "if not(MICMAC_sampler_obj.cheap_save):\n",
    "    for iteration in range(0,MICMAC_sampler_obj.number_iterations_sampling,sub_step_sampling):\n",
    "        covariance_noise = np.zeros_like(c_ell_approx)\n",
    "\n",
    "        mixing_matrix_obj.update_params(all_params_mixing_matrix_samples[iteration])\n",
    "        mixing_matrix_sampled = mixing_matrix_obj.get_B()\n",
    "        BtinvNB = micmac.get_inv_BtinvNB(freq_inverse_noise, mixing_matrix_sampled)\n",
    "        BtinvN_sqrt = micmac.get_BtinvN(sp.linalg.sqrtm(freq_inverse_noise), mixing_matrix_sampled)\n",
    "        BtinvN = micmac.get_BtinvN(freq_inverse_noise, mixing_matrix_sampled)\n",
    "\n",
    "        cl_noise = BtinvNB[0,0]*hp.nside2resol(MICMAC_sampler_obj.nside)**2\n",
    "        red_cl_noise_harm[:] = np.diag([cl_noise,cl_noise])\n",
    "        full_cl_noise = np.zeros_like(c_ell_approx)\n",
    "        full_cl_noise[:MICMAC_sampler_obj.nstokes,MICMAC_sampler_obj.lmin:] = cl_noise\n",
    "\n",
    "        # analytical_eta_term_cov = np.einsum('lij,ljk,lkm->lim', red_cov_approx_matrix_sqrt, np.linalg.pinv(red_cov_approx_matrix) + eye_Stokes_personalized/BtinvNB[0,0], red_cov_approx_matrix_sqrt)\n",
    "        analytical_eta_term_cov = np.einsum('lij,ljk,lkm->lim', red_cov_approx_matrix_sqrt, np.linalg.pinv(red_cov_approx_matrix) + np.linalg.pinv(red_cl_noise_harm), red_cov_approx_matrix_sqrt)\n",
    "\n",
    "        # analytical_eta_term = np.zeros_like(c_ell_approx)\n",
    "        analytical_eta_term = micmac.get_c_ells_from_red_covariance_matrix(analytical_eta_term_cov)#[:,lmin:]\n",
    "\n",
    "        eta_maps_extended = np.vstack([np.zeros_like(all_eta_maps[iteration,0,...]), all_eta_maps[iteration]])\n",
    "        c_ells_eta = hp.anafast(eta_maps_extended, lmax=MICMAC_sampler_obj.lmax, iter=MICMAC_sampler_obj.n_iter)[indices_polar,MICMAC_sampler_obj.lmin:]\n",
    "\n",
    "        plt.figure(figsize=(7,5))\n",
    "        plt.suptitle(r\"Comparison $\\eta$ CG vs theoretical for iteration {}\".format(iteration))\n",
    "\n",
    "        for j in range(number_correl_to_plot):\n",
    "            ax = plt.subplot(311+j)\n",
    "            plt.title(list_correl[j])\n",
    "            \n",
    "            plt.plot([ell_arange[0], ell_arange[-1]], [0,0], '--', color='black')\n",
    "\n",
    "            plt.plot(ell_arange, c_ell_approx[j,MICMAC_sampler_obj.lmin:], label='c_ell_approx')\n",
    "            # plt.plot(ell_arange, full_cl_noise[j,MICMAC_sampler_obj.lmin:], label='c_ell N_c')\n",
    "            plt.plot(ell_arange, c_ells_eta[j,:], '-.', label=r\"$\\eta$ CG\")\n",
    "\n",
    "            plt.plot(ell_arange, analytical_eta_term[j,:], ':', label=r\"analytical $\\eta$\")\n",
    "\n",
    "            if MICMAC_sampler_obj.nstokes == 3 and j < number_correl_to_plot-2:\n",
    "                plt.xticks(color='w')\n",
    "\n",
    "            if j <= MICMAC_sampler_obj.nstokes-1:\n",
    "                plt.loglog()\n",
    "                # plt.ylim(ymin=noise_level/10.)\n",
    "            else:\n",
    "                plt.xscale('log')\n",
    "                plt.yscale('symlog')\n",
    "            # plt.legend()\n",
    "            if j == position_legend:\n",
    "                plt.legend(bbox_to_anchor=(1.04, 1), loc=\"upper left\", prop={'size': 15}, frameon=False)\n",
    "            \n",
    "            plt.ylabel(\"$C_\\ell$ [$uK^2$]\")\n",
    "            if j == number_correl_to_plot-1:\n",
    "                plt.xlabel(r\"$\\ell$\")\n",
    "        plt.show()"
   ]
  },
  {
   "cell_type": "markdown",
   "metadata": {},
   "source": [
    "# Validation $s_c$"
   ]
  },
  {
   "cell_type": "code",
   "execution_count": null,
   "metadata": {},
   "outputs": [
    {
     "ename": "",
     "evalue": "",
     "output_type": "error",
     "traceback": [
      "\u001b[1;31mRunning cells with '/work/rizzieri/.conda/envs/micmac_env/bin/python' requires the ipykernel package.\n",
      "\u001b[1;31mRun the following command to install 'ipykernel' into the Python environment. \n",
      "\u001b[1;31mCommand: 'conda install -p /work/rizzieri/.conda/envs/micmac_env ipykernel --update-deps --force-reinstall'"
     ]
    }
   ],
   "source": [
    "initial_freq_maps.shape"
   ]
  },
  {
   "cell_type": "code",
   "execution_count": null,
   "metadata": {},
   "outputs": [
    {
     "ename": "",
     "evalue": "",
     "output_type": "error",
     "traceback": [
      "\u001b[1;31mRunning cells with '/work/rizzieri/.conda/envs/micmac_env/bin/python' requires the ipykernel package.\n",
      "\u001b[1;31mRun the following command to install 'ipykernel' into the Python environment. \n",
      "\u001b[1;31mCommand: 'conda install -p /work/rizzieri/.conda/envs/micmac_env ipykernel --update-deps --force-reinstall'"
     ]
    }
   ],
   "source": [
    "# list_correl = ['TT', 'EE', 'BB', 'TE', 'EB', 'TB']\n",
    "list_correl = ['EE', 'BB', 'EB']\n",
    "\n",
    "# map_true_CMB_ext = np.vstack([np.zeros_like(input_cmb_maps[0,0,...]), input_cmb_maps[0]])\n",
    "# c_ell_true_CMB = hp.anafast(map_true_CMB_ext, lmax=MICMAC_sampler_obj.lmax, iter=MICMAC_sampler_obj.n_iter)[indices_polar, MICMAC_sampler_obj.lmin:]\n",
    "c_ell_true_CMB = micmac.get_c_ells_from_red_covariance_matrix(theoretical_red_cov_r0_total + MICMAC_sampler_obj.r_true*theoretical_red_cov_r1_tensor)#[indices_polar, :]\n",
    "\n",
    "ell_arange = np.arange(red_cov_approx_matrix.shape[0]) + MICMAC_sampler_obj.lmin\n",
    "if not(MICMAC_sampler_obj.cheap_save):\n",
    "    for iteration in range(1,MICMAC_sampler_obj.number_iterations_sampling,sub_step_sampling):\n",
    "        covariance_noise = np.zeros_like(c_ell_approx)\n",
    "\n",
    "        \n",
    "        if MICMAC_sampler_obj.sample_r_Metropolis:\n",
    "            red_cov_matrix = theoretical_red_cov_r0_total + all_r_samples[iteration]*theoretical_red_cov_r1_tensor\n",
    "        elif MICMAC_sampler_obj.sample_C_inv_Wishart:\n",
    "            red_cov_matrix = micmac.get_reduced_matrix_from_c_ell(all_cell_samples[iteration,...])#[MICMAC_sampler_obj.lmin:]\n",
    "            if iteration != 0:\n",
    "                red_cov_matrix = micmac.get_reduced_matrix_from_c_ell(all_cell_samples[iteration-1,...])#[MICMAC_sampler_obj.lmin:]\n",
    "        mixing_matrix_obj.update_params(all_params_mixing_matrix_samples[iteration])\n",
    "        if iteration != 0:\n",
    "            mixing_matrix_obj.update_params(all_params_mixing_matrix_samples[iteration-1])\n",
    "        mixing_matrix_sampled = mixing_matrix_obj.get_B()\n",
    "        BtinvNB = micmac.get_inv_BtinvNB(freq_inverse_noise, mixing_matrix_sampled)\n",
    "        BtinvN_sqrt = micmac.get_BtinvN(sp.linalg.sqrtm(freq_inverse_noise), mixing_matrix_sampled)\n",
    "        BtinvN = micmac.get_BtinvN(freq_inverse_noise, mixing_matrix_sampled)\n",
    "        s_cML = micmac.get_Wd(freq_inverse_noise, mixing_matrix_sampled, initial_freq_maps, jax_use=False)[0, :, :]\n",
    "\n",
    "\n",
    "        _cl_noise_harm = micmac.get_Cl_noise(np.array(instrument['depth_p']), mixing_matrix_sampled, lmax)[0,0,lmin:]\n",
    "        red_cl_noise_harm = micmac.get_reduced_matrix_from_c_ell(np.array([_cl_noise_harm,_cl_noise_harm,np.zeros_like(_cl_noise_harm)]))\n",
    "        cl_noise_harm = micmac.get_c_ells_from_red_covariance_matrix(red_cl_noise_harm)\n",
    "\n",
    "        analytical_WF_harm = np.linalg.pinv(np.linalg.pinv(red_cov_matrix) + np.linalg.pinv(red_cl_noise_harm))\n",
    "        # analytical_WF_harm = np.linalg.pinv(np.linalg.pinv(red_cov_matrix) + eye_Stokes_only_B/BtinvNB[0,0])\n",
    "        analytical_WF_map = micmac.maps_x_reduced_matrix_generalized_sqrt_sqrt(s_cML/BtinvNB[0,0]/hp.nside2resol(MICMAC_sampler_obj.nside)**2,\n",
    "                                                                            analytical_WF_harm, lmin=lmin, n_iter=n_iter)\n",
    "\n",
    "\n",
    "        full_map_s_c = all_s_c_WF_maps[iteration] + all_s_c_fluct_maps[iteration]\n",
    "        full_map_s_cML_extended = np.vstack([np.zeros_like(s_cML[0,...]), s_cML])\n",
    "        c_ell_s_cML = hp.anafast(full_map_s_cML_extended, lmax=MICMAC_sampler_obj.lmax, iter=MICMAC_sampler_obj.n_iter)[indices_polar,MICMAC_sampler_obj.lmin:]\n",
    "\n",
    "        # analytical_WF_harm = np.linalg.pinv(np.linalg.pinv(red_cov_matrix) + np.eye(nstokes)/BtinvNB[0,0])\n",
    "        # analytical_WF_harm = np.linalg.pinv(np.linalg.pinv(red_cov_matrix) + eye_Stokes_personalized/BtinvNB[0,0])\n",
    "        # analytical_WF_map = micmac.maps_x_reduced_matrix_generalized_sqrt_sqrt(s_cML/BtinvNB[0,0], analytical_WF_harm, lmin=MICMAC_sampler_obj.lmin, n_iter=MICMAC_sampler_obj.n_iter)\n",
    "\n",
    "        analytical_WF_map_ext = np.vstack([np.zeros_like(analytical_WF_map[0]),analytical_WF_map])\n",
    "        analytical_WF_cells = hp.anafast(analytical_WF_map_ext, lmax=MICMAC_sampler_obj.lmax, iter=MICMAC_sampler_obj.n_iter)[indices_polar,MICMAC_sampler_obj.lmin:]\n",
    "        analytical_fluct_c_ell = micmac.get_c_ells_from_red_covariance_matrix(analytical_WF_harm.copy())#[indices_polar,lmin:]\n",
    "\n",
    "        s_c_WF_maps_extended = np.vstack([np.zeros_like(all_s_c_WF_maps[iteration,0,...]), all_s_c_WF_maps[iteration]])\n",
    "        c_ells_s_c_WF = hp.anafast(s_c_WF_maps_extended, lmax=MICMAC_sampler_obj.lmax, iter=MICMAC_sampler_obj.n_iter)[indices_polar,MICMAC_sampler_obj.lmin:]\n",
    "\n",
    "        s_c_fluct_maps_extended = np.vstack([np.zeros_like(all_s_c_fluct_maps[iteration,0,...]), all_s_c_fluct_maps[iteration]])\n",
    "        c_ells_s_c_fluct = hp.anafast(s_c_fluct_maps_extended, lmax=MICMAC_sampler_obj.lmax, iter=MICMAC_sampler_obj.n_iter)[indices_polar,MICMAC_sampler_obj.lmin:]\n",
    "\n",
    "        # s_c_recovered = all_s_c_WF_maps[iteration,...] + np.sqrt(1-overrelaxation_param**2)*all_s_c_fluct_maps[iteration,...] + overrelaxation_param*(s_c_recovered-all_s_c_WF_maps[iteration,...])\n",
    "        s_c_recovered = all_s_c_WF_maps[iteration,...] + all_s_c_fluct_maps[iteration,...]\n",
    "        s_c_recovered_ext = np.vstack([np.zeros_like(s_c_recovered[0]),s_c_recovered])\n",
    "        c_ells_s_c = hp.anafast(s_c_recovered_ext, lmax=MICMAC_sampler_obj.lmax, iter=MICMAC_sampler_obj.n_iter)[indices_polar,MICMAC_sampler_obj.lmin:]\n",
    "\n",
    "        plt.figure(figsize=(14,8))\n",
    "        plt.suptitle(r\"Comparison $s_c$ CG vs theoretical for iteration {}\".format(iteration))\n",
    "\n",
    "        for j in range(number_correl_to_plot):\n",
    "            plt.subplot(331+3*j)\n",
    "            plt.plot(np.arange(c_ells_s_c_WF.shape[-1])+MICMAC_sampler_obj.lmin, analytical_WF_cells[j,:], label='Analytical WF')\n",
    "            plt.plot(np.arange(c_ells_s_c_WF.shape[-1])+MICMAC_sampler_obj.lmin, c_ells_s_c_WF[j,:], '-.', label='CG-WF')\n",
    "            plt.plot(np.arange(c_ells_s_c_fluct.shape[-1])+MICMAC_sampler_obj.lmin, c_ell_s_cML[j,:], ':', label='$s_{c,ML}$')\n",
    "            plt.plot(np.arange(c_ells_s_c_fluct.shape[-1])+MICMAC_sampler_obj.lmin, cl_noise_harm[j,:], 'r:', label='noise $N_c$')\n",
    "            if j <= MICMAC_sampler_obj.nstokes-1:\n",
    "                plt.loglog()\n",
    "            else:\n",
    "                plt.xscale('log')\n",
    "                plt.yscale('symlog')\n",
    "                plt.plot([MICMAC_sampler_obj.lmin,MICMAC_sampler_obj.lmax+1], [0,0], 'k:')\n",
    "            plt.title('WF term - {}'.format(list_correl[j]))\n",
    "            plt.ylabel(\"$C_\\ell$ [$uK^2$]\")\n",
    "            plt.xlabel(r\"$\\ell$\")\n",
    "            plt.legend()\n",
    "\n",
    "            plt.subplot(332+3*j)\n",
    "            plt.plot(np.arange(c_ells_s_c_fluct.shape[-1])+MICMAC_sampler_obj.lmin, analytical_fluct_c_ell[j,:], label='Analytical fluct')\n",
    "            plt.plot(np.arange(c_ells_s_c_fluct.shape[-1])+MICMAC_sampler_obj.lmin, c_ells_s_c_fluct[j,:], '-.', label='CG-Fluct')\n",
    "            plt.plot(np.arange(c_ells_s_c_fluct.shape[-1])+MICMAC_sampler_obj.lmin, cl_noise_harm[j,:], 'r:', label='noise $N_c$')\n",
    "\n",
    "            if j <= MICMAC_sampler_obj.nstokes-1:\n",
    "                plt.loglog()\n",
    "            else:\n",
    "                plt.xscale('log')\n",
    "                plt.yscale('symlog')\n",
    "                plt.plot([MICMAC_sampler_obj.lmin,MICMAC_sampler_obj.lmax+1], [0,0], 'k:')\n",
    "            plt.title('Fluctuation term - {}'.format(list_correl[j]))\n",
    "            plt.ylabel(\"$C_\\ell$ [$uK^2$]\")\n",
    "            plt.xlabel(r\"$\\ell$\")\n",
    "            plt.legend()\n",
    "            \n",
    "            plt.subplot(333+3*j)\n",
    "            plt.plot(np.arange(c_ells_s_c_WF.shape[-1])+MICMAC_sampler_obj.lmin, c_ell_true_CMB[j,:], label='True CMB')\n",
    "            plt.plot(np.arange(c_ells_s_c_fluct.shape[-1])+MICMAC_sampler_obj.lmin, c_ells_s_c[j,:], '-.', label='$s_c$ sample')\n",
    "            plt.plot(np.arange(c_ells_s_c_fluct.shape[-1])+MICMAC_sampler_obj.lmin, c_ell_s_cML[j,:], ':', label='$s_{c,ML}$')\n",
    "            plt.plot(np.arange(c_ells_s_c_fluct.shape[-1])+MICMAC_sampler_obj.lmin, cl_noise_harm[j,:], 'r:', label='noise $N_c$')\n",
    "\n",
    "            if j <= MICMAC_sampler_obj.nstokes-1:\n",
    "                plt.loglog()\n",
    "                plt.plot([MICMAC_sampler_obj.lmin,MICMAC_sampler_obj.lmax+1], [0,0], 'k:')\n",
    "            else:\n",
    "                plt.xscale('log')\n",
    "                plt.yscale('symlog')\n",
    "                plt.plot([MICMAC_sampler_obj.lmin,MICMAC_sampler_obj.lmax+1], [0,0], 'k:')\n",
    "            plt.title('Full $s_c$ term - {}'.format(list_correl[j]))\n",
    "            plt.ylabel(\"$C_\\ell$ [$uK^2$]\")\n",
    "\n",
    "            plt.xlabel(r\"$\\ell$\")\n",
    "            plt.legend()\n",
    "        plt.show()"
   ]
  },
  {
   "cell_type": "code",
   "execution_count": null,
   "metadata": {},
   "outputs": [
    {
     "ename": "",
     "evalue": "",
     "output_type": "error",
     "traceback": [
      "\u001b[1;31mRunning cells with '/work/rizzieri/.conda/envs/micmac_env/bin/python' requires the ipykernel package.\n",
      "\u001b[1;31mRun the following command to install 'ipykernel' into the Python environment. \n",
      "\u001b[1;31mCommand: 'conda install -p /work/rizzieri/.conda/envs/micmac_env ipykernel --update-deps --force-reinstall'"
     ]
    }
   ],
   "source": [
    "c_ell_true_CMB = micmac.get_c_ells_from_red_covariance_matrix(theoretical_red_cov_r0_total + MICMAC_sampler_obj.r_true*theoretical_red_cov_r1_tensor)#[indices_polar, :]\n",
    "\n",
    "ell_arange = np.arange(red_cov_approx_matrix.shape[0]) + MICMAC_sampler_obj.lmin\n",
    "if not(MICMAC_sampler_obj.very_cheap_save):\n",
    "    for iteration in range(1,MICMAC_sampler_obj.number_iterations_sampling,sub_step_sampling):\n",
    "        covariance_noise = np.zeros_like(c_ell_approx)\n",
    "\n",
    "        \n",
    "\n",
    "        # red_cov_matrix = micmac.get_reduced_matrix_from_c_ell(all_cell_samples[iteration,...])#[MICMAC_sampler_obj.lmin:]\n",
    "        mixing_matrix_obj.update_params(all_params_mixing_matrix_samples[iteration])\n",
    "        if iteration != 0:\n",
    "            # red_cov_matrix = micmac.get_reduced_matrix_from_c_ell(all_cell_samples[iteration-1,...])#[MICMAC_sampler_obj.lmin:]\n",
    "            mixing_matrix_obj.update_params(all_params_mixing_matrix_samples[iteration-1])\n",
    "        mixing_matrix_sampled = mixing_matrix_obj.get_B()\n",
    "        BtinvNB = micmac.get_inv_BtinvNB(freq_inverse_noise, mixing_matrix_sampled)\n",
    "        BtinvN = micmac.get_BtinvN(freq_inverse_noise, mixing_matrix_sampled)\n",
    "        s_cML = micmac.get_Wd(freq_inverse_noise, mixing_matrix_sampled, initial_freq_maps, jax_use=False)[0, :, :]\n",
    "\n",
    "\n",
    "        _cl_noise_harm = micmac.get_Cl_noise(np.array(instrument['depth_p']), mixing_matrix_sampled, lmax)[0,0,lmin:]\n",
    "        red_cl_noise_harm = micmac.get_reduced_matrix_from_c_ell(np.array([_cl_noise_harm,_cl_noise_harm,np.zeros_like(_cl_noise_harm)]))\n",
    "        cl_noise_harm = micmac.get_c_ells_from_red_covariance_matrix(red_cl_noise_harm)\n",
    "\n",
    "        # analytical_WF_harm = np.linalg.pinv(np.linalg.pinv(red_cov_matrix) + np.linalg.pinv(red_cl_noise_harm))\n",
    "        # # analytical_WF_harm = np.linalg.pinv(np.linalg.pinv(red_cov_matrix) + eye_Stokes_only_B/BtinvNB[0,0])\n",
    "        # analytical_WF_map = micmac.maps_x_reduced_matrix_generalized_sqrt_sqrt(s_cML/BtinvNB[0,0]/hp.nside2resol(MICMAC_sampler_obj.nside)**2,\n",
    "        #                                                                     analytical_WF_harm, lmin=lmin, n_iter=n_iter)\n",
    "\n",
    "\n",
    "        # full_map_s_c = all_s_c_WF_maps[iteration] + all_s_c_fluct_maps[iteration]\n",
    "        full_map_s_cML_extended = np.vstack([np.zeros_like(s_cML[0,...]), s_cML])\n",
    "        c_ell_s_cML = hp.anafast(full_map_s_cML_extended, lmax=MICMAC_sampler_obj.lmax, iter=MICMAC_sampler_obj.n_iter)[indices_polar,MICMAC_sampler_obj.lmin:]\n",
    "\n",
    "        # analytical_WF_harm = np.linalg.pinv(np.linalg.pinv(red_cov_matrix) + np.eye(nstokes)/BtinvNB[0,0])\n",
    "        # analytical_WF_harm = np.linalg.pinv(np.linalg.pinv(red_cov_matrix) + eye_Stokes_personalized/BtinvNB[0,0])\n",
    "        # analytical_WF_map = micmac.maps_x_reduced_matrix_generalized_sqrt_sqrt(s_cML/BtinvNB[0,0], analytical_WF_harm, lmin=MICMAC_sampler_obj.lmin, n_iter=MICMAC_sampler_obj.n_iter)\n",
    "\n",
    "        # analytical_WF_map_ext = np.vstack([np.zeros_like(analytical_WF_map[0]),analytical_WF_map])\n",
    "        # analytical_WF_cells = hp.anafast(analytical_WF_map_ext, lmax=MICMAC_sampler_obj.lmax, iter=MICMAC_sampler_obj.n_iter)[indices_polar,MICMAC_sampler_obj.lmin:]\n",
    "        # analytical_fluct_c_ell = micmac.get_c_ells_from_red_covariance_matrix(analytical_WF_harm.copy())#[indices_polar,lmin:]\n",
    "\n",
    "        # s_c_WF_maps_extended = np.vstack([np.zeros_like(all_s_c_WF_maps[iteration,0,...]), all_s_c_WF_maps[iteration]])\n",
    "        # c_ells_s_c_WF = hp.anafast(s_c_WF_maps_extended, lmax=MICMAC_sampler_obj.lmax, iter=MICMAC_sampler_obj.n_iter)[indices_polar,MICMAC_sampler_obj.lmin:]\n",
    "\n",
    "        # s_c_fluct_maps_extended = np.vstack([np.zeros_like(all_s_c_fluct_maps[iteration,0,...]), all_s_c_fluct_maps[iteration]])\n",
    "        # c_ells_s_c_fluct = hp.anafast(s_c_fluct_maps_extended, lmax=MICMAC_sampler_obj.lmax, iter=MICMAC_sampler_obj.n_iter)[indices_polar,MICMAC_sampler_obj.lmin:]\n",
    "\n",
    "        # s_c_recovered = all_s_c_WF_maps[iteration,...] + np.sqrt(1-overrelaxation_param**2)*all_s_c_fluct_maps[iteration,...] + overrelaxation_param*(s_c_recovered-all_s_c_WF_maps[iteration,...])\n",
    "        s_c_recovered = all_s_c_WF_maps[iteration,...] + all_s_c_fluct_maps[iteration,...]\n",
    "        # s_c_recovered = all_s_c_samples[iteration,...]\n",
    "        s_c_recovered_ext = np.vstack([np.zeros_like(s_c_recovered[0]),s_c_recovered])\n",
    "        c_ells_s_c = hp.anafast(s_c_recovered_ext, lmax=MICMAC_sampler_obj.lmax, iter=MICMAC_sampler_obj.n_iter)[indices_polar,MICMAC_sampler_obj.lmin:]\n",
    "\n",
    "        plt.figure(figsize=(10,5))\n",
    "        plt.suptitle(r\"Comparison $s_c$ CG vs theoretical for iteration {}\".format(iteration))\n",
    "\n",
    "        for j in range(number_correl_to_plot):\n",
    "            plt.subplot(311+j)\n",
    "            plt.plot(np.arange(c_ells_s_c.shape[-1])+MICMAC_sampler_obj.lmin, c_ell_true_CMB[j,:], label='True CMB')\n",
    "            plt.plot(np.arange(c_ells_s_c.shape[-1])+MICMAC_sampler_obj.lmin, c_ells_s_c[j,:], '-.', label='$s_c$ sample')\n",
    "            plt.plot(np.arange(c_ells_s_c.shape[-1])+MICMAC_sampler_obj.lmin, c_ell_s_cML[j,:], ':', label='$s_{c,ML}$')\n",
    "            plt.plot(np.arange(c_ells_s_c.shape[-1])+MICMAC_sampler_obj.lmin, cl_noise_harm[j,:], 'r:', label='noise $N_c$')\n",
    "\n",
    "            if j <= MICMAC_sampler_obj.nstokes-1:\n",
    "                plt.loglog()\n",
    "                plt.plot([MICMAC_sampler_obj.lmin,MICMAC_sampler_obj.lmax+1], [0,0], 'k:')\n",
    "            else:\n",
    "                plt.xscale('log')\n",
    "                plt.yscale('symlog')\n",
    "                plt.plot([MICMAC_sampler_obj.lmin,MICMAC_sampler_obj.lmax+1], [0,0], 'k:')\n",
    "                plt.legend(bbox_to_anchor=(1.04, 1), loc=\"upper left\", prop={'size': 15}, frameon=False)\n",
    "            plt.title('Full $s_c$ term - {}'.format(list_correl[j]))\n",
    "            plt.ylabel(\"$C_\\ell$ [$uK^2$]\")\n",
    "            \n",
    "            plt.xlabel(r\"$\\ell$\")\n",
    "            \n",
    "\n",
    "\n",
    "        plt.show()"
   ]
  },
  {
   "cell_type": "code",
   "execution_count": null,
   "metadata": {},
   "outputs": [
    {
     "ename": "",
     "evalue": "",
     "output_type": "error",
     "traceback": [
      "\u001b[1;31mRunning cells with '/work/rizzieri/.conda/envs/micmac_env/bin/python' requires the ipykernel package.\n",
      "\u001b[1;31mRun the following command to install 'ipykernel' into the Python environment. \n",
      "\u001b[1;31mCommand: 'conda install -p /work/rizzieri/.conda/envs/micmac_env ipykernel --update-deps --force-reinstall'"
     ]
    }
   ],
   "source": [
    "# list_correl = ['TT', 'EE', 'BB', 'TE', 'EB', 'TB']\n",
    "list_correl = ['EE', 'BB', 'EB']\n",
    "# overrelaxation_param = -.89\n",
    "\n",
    "# map_true_CMB_ext = np.vstack([np.zeros_like(input_cmb_maps[0,0,...]), input_cmb_maps[0]])\n",
    "# c_ell_true_CMB = hp.anafast(map_true_CMB_ext, lmax=MICMAC_sampler_obj.lmax, iter=MICMAC_sampler_obj.n_iter)[indices_polar, MICMAC_sampler_obj.lmin:]\n",
    "\n",
    "ell_arange = np.arange(red_cov_approx_matrix.shape[0]) + MICMAC_sampler_obj.lmin\n",
    "\n",
    "if not(fast_verion_bool):\n",
    "    for job in range(num_jobs):\n",
    "        plt.figure(figsize=(14,8))\n",
    "        for iteration in range(0,MICMAC_sampler_obj.number_iterations_sampling,sub_step_sampling):\n",
    "            covariance_noise = np.zeros_like(c_ell_approx)\n",
    "\n",
    "            # red_cov_matrix = micmac.get_reduced_matrix_from_c_ell(all_cell_samples[iteration,...])[MICMAC_sampler_obj.lmin:]\n",
    "            mixing_matrix_obj.update_params(all_params_mixing_matrix_samples[job,iteration])\n",
    "            if iteration != 0:\n",
    "                # red_cov_matrix = micmac.get_reduced_matrix_from_c_ell(all_cell_samples[iteration-1,...])[MICMAC_sampler_obj.lmin:]\n",
    "                mixing_matrix_obj.update_params(all_params_mixing_matrix_samples[job,iteration-1])\n",
    "            mixing_matrix_sampled = mixing_matrix_obj.get_B()\n",
    "            BtinvNB = micmac.get_inv_BtinvNB(freq_inverse_noise, mixing_matrix_sampled)\n",
    "            BtinvN_sqrt = micmac.get_BtinvN(sp.linalg.sqrtm(freq_inverse_noise), mixing_matrix_sampled)\n",
    "            BtinvN = micmac.get_BtinvN(freq_inverse_noise, mixing_matrix_sampled)\n",
    "            s_cML = micmac.get_Wd(freq_inverse_noise, mixing_matrix_sampled, initial_freq_maps[job], jax_use=False)[0, :, :]\n",
    "\n",
    "            # full_map_s_c = all_s_c_WF_maps[iteration] + all_s_c_fluct_maps[iteration]\n",
    "            full_map_s_cML_extended = np.vstack([np.zeros_like(s_cML[0,...]), s_cML])\n",
    "            c_ell_s_cML = hp.anafast(full_map_s_cML_extended, lmax=lmax, iter=n_iter)[indices_polar,lmin:]\n",
    "\n",
    "            plt.plot(np.arange(c_ell_s_cML.shape[-1])+lmin, c_ell_s_cML[1,:], 'g', alpha=.5)\n",
    "\n",
    "        plt.title(f\"Full $s_c$ term - {list_correl[1]} for job {job} over {num_jobs}\")\n",
    "        plt.ylabel(\"$C_\\ell$ [$uK^2$]\")\n",
    "        plt.xlabel(r\"$\\ell$\")\n",
    "        plt.loglog()\n",
    "        plt.legend()\n",
    "\n",
    "\n",
    "    plt.show()"
   ]
  },
  {
   "cell_type": "markdown",
   "metadata": {},
   "source": [
    "# Plot $C$"
   ]
  },
  {
   "cell_type": "code",
   "execution_count": null,
   "metadata": {},
   "outputs": [
    {
     "ename": "",
     "evalue": "",
     "output_type": "error",
     "traceback": [
      "\u001b[1;31mRunning cells with '/work/rizzieri/.conda/envs/micmac_env/bin/python' requires the ipykernel package.\n",
      "\u001b[1;31mRun the following command to install 'ipykernel' into the Python environment. \n",
      "\u001b[1;31mCommand: 'conda install -p /work/rizzieri/.conda/envs/micmac_env ipykernel --update-deps --force-reinstall'"
     ]
    }
   ],
   "source": []
  },
  {
   "cell_type": "code",
   "execution_count": null,
   "metadata": {},
   "outputs": [
    {
     "ename": "",
     "evalue": "",
     "output_type": "error",
     "traceback": [
      "\u001b[1;31mRunning cells with '/work/rizzieri/.conda/envs/micmac_env/bin/python' requires the ipykernel package.\n",
      "\u001b[1;31mRun the following command to install 'ipykernel' into the Python environment. \n",
      "\u001b[1;31mCommand: 'conda install -p /work/rizzieri/.conda/envs/micmac_env ipykernel --update-deps --force-reinstall'"
     ]
    }
   ],
   "source": [
    "if MICMAC_sampler_obj.sample_C_inv_Wishart and not(np.isnan(all_cell_samples).any()):\n",
    "    job_index = 0\n",
    "    nstokes_select = 1\n",
    "    ell_select = 0\n",
    "    burnin = 0\n",
    "    selection = all_cell_samples[job_index,burnin:,nstokes_select,ell_select]\n",
    "\n",
    "    n_sigma = 3\n",
    "    transformed_samples = np.abs(selection - selection.mean())/(selection.std()) #< n_sigma\n",
    "    cond = np.exp(transformed_samples**2/2)/(np.sqrt(2*np.pi)) < 0.9973\n",
    "    mean_r = np.round(selection[cond].mean(), decimals=5)\n",
    "    std_r = np.round(selection[cond].std(), decimals=5)\n",
    "\n",
    "    # hist_nb, hist_values, _ = plt.hist(selection, range=(selection.min()*0.8,selection.max()*1.1), bins='rice')\n",
    "    hist_nb, hist_values, _ = plt.hist(selection, range=(selection.min()*0.8,selection.max()*1.1), bins=1000)\n",
    "    plt.plot([c_ell_true_CMB[nstokes_select,ell_select],c_ell_true_CMB[nstokes_select,ell_select]], [0,hist_nb.max()], 'r--', label='True CMB')\n",
    "    plt.plot([selection.mean(),selection.mean()], [0,hist_nb.max()], '--', color='darkseagreen', label='Mean sample')\n",
    "    plt.xscale('log')\n",
    "    # (all_cell_samples\n",
    "    plt.legend()\n",
    "    plt.show()"
   ]
  },
  {
   "cell_type": "code",
   "execution_count": null,
   "metadata": {},
   "outputs": [
    {
     "ename": "",
     "evalue": "",
     "output_type": "error",
     "traceback": [
      "\u001b[1;31mRunning cells with '/work/rizzieri/.conda/envs/micmac_env/bin/python' requires the ipykernel package.\n",
      "\u001b[1;31mRun the following command to install 'ipykernel' into the Python environment. \n",
      "\u001b[1;31mCommand: 'conda install -p /work/rizzieri/.conda/envs/micmac_env ipykernel --update-deps --force-reinstall'"
     ]
    }
   ],
   "source": [
    "if MICMAC_sampler_obj.sample_C_inv_Wishart:\n",
    "    job_index = 0\n",
    "    any_nan = np.argwhere(np.isnan(all_cell_samples[job_index]))\n",
    "\n",
    "    print(\"First nan appear :\", any_nan[:MICMAC_sampler_obj.nstokes+1])"
   ]
  },
  {
   "cell_type": "code",
   "execution_count": null,
   "metadata": {},
   "outputs": [
    {
     "ename": "",
     "evalue": "",
     "output_type": "error",
     "traceback": [
      "\u001b[1;31mRunning cells with '/work/rizzieri/.conda/envs/micmac_env/bin/python' requires the ipykernel package.\n",
      "\u001b[1;31mRun the following command to install 'ipykernel' into the Python environment. \n",
      "\u001b[1;31mCommand: 'conda install -p /work/rizzieri/.conda/envs/micmac_env ipykernel --update-deps --force-reinstall'"
     ]
    }
   ],
   "source": [
    "if MICMAC_sampler_obj.sample_C_inv_Wishart:\n",
    "    job_index = 0\n",
    "    ell_to_probe = 10 #0\n",
    "    correl = 1\n",
    "\n",
    "    plt.figure(figsize=(14,5))\n",
    "    true_CMB_ell = c_ell_true_CMB[correl,ell_to_probe]#*(2*(ell_to_probe+MICMAC_sampler_obj.lmin)+1)#**2\n",
    "\n",
    "    plt.plot(np.arange(MICMAC_sampler_obj.number_iterations_sampling+1)+1, all_cell_samples[job_index,:,correl,ell_to_probe])\n",
    "    plt.plot([-1,MICMAC_sampler_obj.number_iterations_sampling+1], [true_CMB_ell,true_CMB_ell], label='True CMB')\n",
    "\n",
    "    plt.xlabel(\"Iteration\")\n",
    "    plt.ylabel(r\"$C_\\ell$ [$uK^2$]\")\n",
    "    plt.loglog()\n",
    "    # plt.ylim(ymin=0.00015, ymax=0.00017)\n",
    "    plt.legend()\n",
    "    plt.show()\n"
   ]
  },
  {
   "cell_type": "code",
   "execution_count": null,
   "metadata": {},
   "outputs": [
    {
     "ename": "",
     "evalue": "",
     "output_type": "error",
     "traceback": [
      "\u001b[1;31mRunning cells with '/work/rizzieri/.conda/envs/micmac_env/bin/python' requires the ipykernel package.\n",
      "\u001b[1;31mRun the following command to install 'ipykernel' into the Python environment. \n",
      "\u001b[1;31mCommand: 'conda install -p /work/rizzieri/.conda/envs/micmac_env ipykernel --update-deps --force-reinstall'"
     ]
    }
   ],
   "source": [
    "input_cmb_maps.shape"
   ]
  },
  {
   "cell_type": "code",
   "execution_count": null,
   "metadata": {},
   "outputs": [
    {
     "ename": "",
     "evalue": "",
     "output_type": "error",
     "traceback": [
      "\u001b[1;31mRunning cells with '/work/rizzieri/.conda/envs/micmac_env/bin/python' requires the ipykernel package.\n",
      "\u001b[1;31mRun the following command to install 'ipykernel' into the Python environment. \n",
      "\u001b[1;31mCommand: 'conda install -p /work/rizzieri/.conda/envs/micmac_env ipykernel --update-deps --force-reinstall'"
     ]
    }
   ],
   "source": [
    "if MICMAC_sampler_obj.sample_C_inv_Wishart:\n",
    "    job_index = 0\n",
    "    plt.plot(ell_arange, all_cell_samples[job_index,721].T)\n",
    "    plt.loglog()\n",
    "    plt.show()"
   ]
  },
  {
   "cell_type": "code",
   "execution_count": null,
   "metadata": {},
   "outputs": [
    {
     "ename": "",
     "evalue": "",
     "output_type": "error",
     "traceback": [
      "\u001b[1;31mRunning cells with '/work/rizzieri/.conda/envs/micmac_env/bin/python' requires the ipykernel package.\n",
      "\u001b[1;31mRun the following command to install 'ipykernel' into the Python environment. \n",
      "\u001b[1;31mCommand: 'conda install -p /work/rizzieri/.conda/envs/micmac_env ipykernel --update-deps --force-reinstall'"
     ]
    }
   ],
   "source": [
    "if MICMAC_sampler_obj.sample_C_inv_Wishart:\n",
    "    job_index = 0\n",
    "    plt.plot(ell_arange[75:85], all_cell_samples[job_index,722,:,75:85].T)\n",
    "\n",
    "    # plt.loglog()\n",
    "    plt.yscale('log')\n",
    "    plt.show()"
   ]
  },
  {
   "cell_type": "code",
   "execution_count": null,
   "metadata": {},
   "outputs": [
    {
     "ename": "",
     "evalue": "",
     "output_type": "error",
     "traceback": [
      "\u001b[1;31mRunning cells with '/work/rizzieri/.conda/envs/micmac_env/bin/python' requires the ipykernel package.\n",
      "\u001b[1;31mRun the following command to install 'ipykernel' into the Python environment. \n",
      "\u001b[1;31mCommand: 'conda install -p /work/rizzieri/.conda/envs/micmac_env ipykernel --update-deps --force-reinstall'"
     ]
    }
   ],
   "source": []
  },
  {
   "cell_type": "code",
   "execution_count": null,
   "metadata": {},
   "outputs": [
    {
     "ename": "",
     "evalue": "",
     "output_type": "error",
     "traceback": [
      "\u001b[1;31mRunning cells with '/work/rizzieri/.conda/envs/micmac_env/bin/python' requires the ipykernel package.\n",
      "\u001b[1;31mRun the following command to install 'ipykernel' into the Python environment. \n",
      "\u001b[1;31mCommand: 'conda install -p /work/rizzieri/.conda/envs/micmac_env ipykernel --update-deps --force-reinstall'"
     ]
    }
   ],
   "source": [
    "if MICMAC_sampler_obj.sample_C_inv_Wishart:\n",
    "    for job in range(num_jobs):\n",
    "        input_cmb_maps_extended = np.vstack([np.zeros_like(input_cmb_maps[job,0,0]),input_cmb_maps[job,0]])\n",
    "        cmb_anafast = hp.anafast(input_cmb_maps_extended, lmax=lmax, iter=n_iter)[indices_polar,lmin:]\n",
    "\n",
    "        dict_color = {'fill': 'moccasin', 'border': 'orange'}\n",
    "        dict_color_theoretical = {'fill': 'lightcoral', 'border': 'tab:red'}\n",
    "        # curve_theoretical = cmb_anafast\n",
    "        # std_theoretical = cmb_anafast*np.sqrt(2/(2*ell_arange+1))# Knox cosmic covariance\n",
    "        c_ell_mean = np.mean(all_cell_samples[job], axis=0)\n",
    "        # c_ell_mean = np.mean(all_cell_samples[500:], axis=0)\n",
    "        # c_ell_mean = np.mean(all_cell_samples[-2:], axis=0)\n",
    "\n",
    "        list_correl = ['EE', 'BB', 'EB']\n",
    "\n",
    "        ell_arange = np.arange(c_ell_mean.shape[1]) + MICMAC_sampler_obj.lmin\n",
    "        factor = (2*ell_arange+1)/(2*ell_arange+1 - 2 - 2*MICMAC_sampler_obj.nstokes)\n",
    "        factor[0] = 1\n",
    "        # factor_ell = ((2*ell_arange+1)/(2*ell_arange+1 - 2 - 2))\n",
    "        # factor = ell_arange*(ell_arange+1)/(2*np.pi)\n",
    "        plt.figure(figsize=(15,10))\n",
    "        for j in range(number_correl_to_plot):\n",
    "            plt.subplot(311+j)\n",
    "            plt.title(list_correl[j])\n",
    "            if j > MICMAC_sampler_obj.nstokes-1:\n",
    "                plt.title(list_correl[j] + ' with incorrect ell=2 !')\n",
    "\n",
    "            curve_theoretical = cmb_anafast[j]\n",
    "            std_theoretical = cmb_anafast[j]*np.sqrt(2/(2*ell_arange+1))\n",
    "            plt.plot(ell_arange, curve_theoretical, color=dict_color_theoretical['border'], label='Anafast CMB $\\pm$ Knox')\n",
    "            plt.fill_between(ell_arange, curve_theoretical-std_theoretical, curve_theoretical+std_theoretical, color=dict_color_theoretical['fill'], alpha=0.2)\n",
    "            plt.plot(ell_arange, curve_theoretical-std_theoretical, color=dict_color_theoretical['border'], alpha=0.6)\n",
    "            plt.plot(ell_arange, curve_theoretical+std_theoretical, color=dict_color_theoretical['border'], alpha=0.6)\n",
    "\n",
    "            plt.plot(ell_arange, c_ell_mean[j]/factor, '--', color=dict_color['border'], label='Mean value samples C')\n",
    "            \n",
    "            curve = c_ell_mean[j]\n",
    "            std_curve = np.std(all_cell_samples[job,:,j,...], axis=0)\n",
    "\n",
    "            plt.fill_between(ell_arange, (curve-std_curve)/factor, (curve+std_curve)/factor, color=dict_color['fill'], alpha=0.2)\n",
    "            plt.plot(ell_arange, (curve-std_curve)/factor, color=dict_color['border'], alpha=0.6)\n",
    "            plt.plot(ell_arange, (curve+std_curve)/factor, color=dict_color['border'], alpha=0.6)\n",
    "            plt.plot(ell_arange, c_ell_true_CMB[j], color='tab:blue', label='True CMB')\n",
    "\n",
    "            if j < MICMAC_sampler_obj.nstokes:\n",
    "                plt.loglog()\n",
    "            else:\n",
    "                plt.xscale('log')\n",
    "                plt.yscale('symlog')\n",
    "            # plt.loglog()\n",
    "            plt.legend()\n",
    "            plt.ylabel(\"$C_\\ell$ [$uK^2$]\")\n",
    "            plt.xlabel(r\"$\\ell$\")\n",
    "    plt.show()"
   ]
  },
  {
   "cell_type": "code",
   "execution_count": null,
   "metadata": {},
   "outputs": [
    {
     "ename": "",
     "evalue": "",
     "output_type": "error",
     "traceback": [
      "\u001b[1;31mRunning cells with '/work/rizzieri/.conda/envs/micmac_env/bin/python' requires the ipykernel package.\n",
      "\u001b[1;31mRun the following command to install 'ipykernel' into the Python environment. \n",
      "\u001b[1;31mCommand: 'conda install -p /work/rizzieri/.conda/envs/micmac_env ipykernel --update-deps --force-reinstall'"
     ]
    }
   ],
   "source": [
    "if MICMAC_sampler_obj.sample_C_inv_Wishart:\n",
    "    for job in range(num_jobs):\n",
    "        dict_color = {'fill': 'moccasin', 'border': 'orange'}\n",
    "\n",
    "        list_correl = ['EE', 'BB', 'EB']\n",
    "\n",
    "        ell_arange = np.arange(c_ell_mean.shape[1]) + MICMAC_sampler_obj.lmin\n",
    "        # factor = (2*ell_arange+1)/(2*ell_arange+1 - 2 - 2*MICMAC_sampler_obj.nstokes)\n",
    "        plt.figure(figsize=(15,10))\n",
    "        for j in range(number_correl_to_plot):\n",
    "            plt.subplot(311+j)\n",
    "            plt.title(list_correl[j])\n",
    "\n",
    "            plt.plot(ell_arange, c_ell_true_CMB[j], label='True CMB')\n",
    "            for ell in range(c_ell_mean.shape[1]):\n",
    "                plt.plot(ell_arange[ell]*np.ones(MICMAC_sampler_obj.number_iterations_sampling+1), all_cell_samples[job,:,j,ell], '.', color=dict_color['border'], alpha=0.1)\n",
    "            # plt.plot(ell_arange, all_cell_samples[:,j,:].T, '.', color=dict_color['border'], label='Mean value samples C')\n",
    "\n",
    "            if j < MICMAC_sampler_obj.nstokes:\n",
    "                plt.loglog()\n",
    "            else:\n",
    "                plt.xscale('log')\n",
    "                plt.yscale('symlog')\n",
    "            # plt.loglog()\n",
    "            plt.legend()\n",
    "            plt.ylabel(\"$C_\\ell$ [$uK^2$]\")\n",
    "            plt.xlabel(r\"$\\ell$\")\n",
    "    plt.show()"
   ]
  },
  {
   "cell_type": "markdown",
   "metadata": {},
   "source": [
    "# Studying $r$"
   ]
  },
  {
   "cell_type": "code",
   "execution_count": null,
   "metadata": {},
   "outputs": [
    {
     "ename": "",
     "evalue": "",
     "output_type": "error",
     "traceback": [
      "\u001b[1;31mRunning cells with '/work/rizzieri/.conda/envs/micmac_env/bin/python' requires the ipykernel package.\n",
      "\u001b[1;31mRun the following command to install 'ipykernel' into the Python environment. \n",
      "\u001b[1;31mCommand: 'conda install -p /work/rizzieri/.conda/envs/micmac_env ipykernel --update-deps --force-reinstall'"
     ]
    }
   ],
   "source": [
    "if MICMAC_sampler_obj.sample_r_Metropolis:\n",
    "    for job in range(num_jobs):\n",
    "        plt.figure(figsize=(14,4))\n",
    "        \n",
    "        n_sigma = 3\n",
    "        \n",
    "        cond = np.abs((all_r_samples[job] - all_r_samples[job].mean())/(all_r_samples[job].std())) < n_sigma\n",
    "        print(all_r_samples[job,cond].shape, MICMAC_sampler_obj.number_iterations_sampling)\n",
    "        mean_r = np.round(all_r_samples[job,cond].mean(), decimals=5)\n",
    "        std_r = np.round(all_r_samples[job,cond].std(), decimals=5)\n",
    "        \n",
    "        \n",
    "        plt.suptitle(f\"Mean value $r = {mean_r} \\pm {std_r}$ (99.7%) for job {job} over {num_jobs}\")\n",
    "        plt.subplot(121)\n",
    "        plt.plot(np.arange(MICMAC_sampler_obj.number_iterations_sampling+1), all_r_samples[job], label='r samples')\n",
    "        plt.plot([0, MICMAC_sampler_obj.number_iterations_sampling+1], [MICMAC_sampler_obj.r_true,MICMAC_sampler_obj.r_true], 'k:', label='r true')\n",
    "        if MICMAC_sampler_obj.num_sample_AM <= MICMAC_sampler_obj.number_iterations_sampling:\n",
    "            plt.plot([MICMAC_sampler_obj.num_sample_AM,MICMAC_sampler_obj.num_sample_AM], [all_r_samples[job].min(),all_r_samples[job].max()], color='black',alpha=.2)\n",
    "        plt.yscale('log')\n",
    "        plt.xlabel(\"Iterations\")\n",
    "        plt.ylabel('$r$ sample')\n",
    "        plt.title('Complete path of $r$')\n",
    "        plt.legend()\n",
    "\n",
    "        plt.subplot(122)\n",
    "        plt.plot(np.arange(MICMAC_sampler_obj.number_iterations_sampling+1), all_r_samples[job], label='r samples')\n",
    "        plt.plot([0, MICMAC_sampler_obj.number_iterations_sampling+1], [MICMAC_sampler_obj.r_true,MICMAC_sampler_obj.r_true], 'k:', label='r true')\n",
    "        if MICMAC_sampler_obj.num_sample_AM <= MICMAC_sampler_obj.number_iterations_sampling:\n",
    "            plt.plot([MICMAC_sampler_obj.num_sample_AM,MICMAC_sampler_obj.num_sample_AM], [all_r_samples[job].min(),all_r_samples[job].max()], '--', color='black')\n",
    "        plt.xlabel(\"Iterations\")\n",
    "        plt.ylabel('$r$ sample')\n",
    "        plt.title('Zoom around true value of $r$')\n",
    "        plt.legend()\n",
    "        # plt.ylim(ymin=MICMAC_sampler_obj.r_true*.7, ymax=MICMAC_sampler_obj.r_true*1.3)\n",
    "    plt.show()"
   ]
  },
  {
   "cell_type": "code",
   "execution_count": null,
   "metadata": {},
   "outputs": [
    {
     "ename": "",
     "evalue": "",
     "output_type": "error",
     "traceback": [
      "\u001b[1;31mRunning cells with '/work/rizzieri/.conda/envs/micmac_env/bin/python' requires the ipykernel package.\n",
      "\u001b[1;31mRun the following command to install 'ipykernel' into the Python environment. \n",
      "\u001b[1;31mCommand: 'conda install -p /work/rizzieri/.conda/envs/micmac_env ipykernel --update-deps --force-reinstall'"
     ]
    }
   ],
   "source": [
    "# all_r_samples[2000:].mean(), all_r_samples[2000:].std()"
   ]
  },
  {
   "cell_type": "code",
   "execution_count": null,
   "metadata": {},
   "outputs": [
    {
     "ename": "",
     "evalue": "",
     "output_type": "error",
     "traceback": [
      "\u001b[1;31mRunning cells with '/work/rizzieri/.conda/envs/micmac_env/bin/python' requires the ipykernel package.\n",
      "\u001b[1;31mRun the following command to install 'ipykernel' into the Python environment. \n",
      "\u001b[1;31mCommand: 'conda install -p /work/rizzieri/.conda/envs/micmac_env ipykernel --update-deps --force-reinstall'"
     ]
    }
   ],
   "source": [
    "if MICMAC_sampler_obj.sample_r_Metropolis:\n",
    "    for job in range(num_jobs):\n",
    "        plt.figure()\n",
    "        hist_values, bins_value, _ = plt.hist(all_r_samples[job], bins='rice', label='r samples')\n",
    "        plt.plot([MICMAC_sampler_obj.r_true,MICMAC_sampler_obj.r_true], [0,hist_values.max()], 'r--', label='r true')\n",
    "        plt.legend()\n",
    "    plt.show()"
   ]
  },
  {
   "cell_type": "code",
   "execution_count": null,
   "metadata": {},
   "outputs": [
    {
     "ename": "",
     "evalue": "",
     "output_type": "error",
     "traceback": [
      "\u001b[1;31mRunning cells with '/work/rizzieri/.conda/envs/micmac_env/bin/python' requires the ipykernel package.\n",
      "\u001b[1;31mRun the following command to install 'ipykernel' into the Python environment. \n",
      "\u001b[1;31mCommand: 'conda install -p /work/rizzieri/.conda/envs/micmac_env ipykernel --update-deps --force-reinstall'"
     ]
    }
   ],
   "source": [
    "if MICMAC_sampler_obj.sample_r_Metropolis:\n",
    "    for job in range(num_jobs):\n",
    "        \n",
    "        n_sigma = 3\n",
    "\n",
    "        old_cond = np.abs((all_r_samples[job] - all_r_samples[job].mean())/(all_r_samples[job].std())) < n_sigma\n",
    "        new_cond = np.logical_and(old_cond, np.arange(MICMAC_sampler_obj.number_iterations_sampling+1) > 2000)\n",
    "        mean_r = np.round(all_r_samples[job,new_cond].mean(), decimals=5)\n",
    "        std_r = np.round(all_r_samples[job,new_cond].std(), decimals=5)\n",
    "\n",
    "        print(\"r estimates post burn-in: {} +/- {}\".format(mean_r, std_r))\n",
    "\n",
    "        # selection_2 = all_r_samples[np.arange(MICMAC_sampler_obj.number_iterations_sampling+1) > 3000]\n",
    "        # mean_r_2 = np.round(selection_2.mean(), decimals=5)\n",
    "        # std_r_2 = np.round(selection_2.std(), decimals=5)\n",
    "\n",
    "        # print(\"r estimates post burn-in: {} +/- {}\".format(mean_r_2, std_r_2))\n"
   ]
  },
  {
   "cell_type": "code",
   "execution_count": null,
   "metadata": {},
   "outputs": [
    {
     "ename": "",
     "evalue": "",
     "output_type": "error",
     "traceback": [
      "\u001b[1;31mRunning cells with '/work/rizzieri/.conda/envs/micmac_env/bin/python' requires the ipykernel package.\n",
      "\u001b[1;31mRun the following command to install 'ipykernel' into the Python environment. \n",
      "\u001b[1;31mCommand: 'conda install -p /work/rizzieri/.conda/envs/micmac_env ipykernel --update-deps --force-reinstall'"
     ]
    }
   ],
   "source": []
  },
  {
   "cell_type": "code",
   "execution_count": null,
   "metadata": {},
   "outputs": [
    {
     "ename": "",
     "evalue": "",
     "output_type": "error",
     "traceback": [
      "\u001b[1;31mRunning cells with '/work/rizzieri/.conda/envs/micmac_env/bin/python' requires the ipykernel package.\n",
      "\u001b[1;31mRun the following command to install 'ipykernel' into the Python environment. \n",
      "\u001b[1;31mCommand: 'conda install -p /work/rizzieri/.conda/envs/micmac_env ipykernel --update-deps --force-reinstall'"
     ]
    }
   ],
   "source": [
    "mixing_matrix_obj.update_params(init_params)\n",
    "mixing_matrix_sampled = mixing_matrix_obj.get_B()\n",
    "BtinvNB_true = micmac.get_inv_BtinvNB(freq_inverse_noise, mixing_matrix_sampled)\n",
    "\n",
    "for job in range(num_jobs):\n",
    "    all_mixing_matrix = np.zeros((MICMAC_sampler_obj.number_iterations_sampling+1,MICMAC_sampler_obj.number_frequencies,MICMAC_sampler_obj.number_components))\n",
    "\n",
    "    all_mixing_matrix[:,:,0] = mixing_matrix_sampled[:,0]\n",
    "    all_mixing_matrix[:,0,:] = mixing_matrix_sampled[0,:]\n",
    "    all_mixing_matrix[:,-1,:] = mixing_matrix_sampled[-1,:]\n",
    "\n",
    "    all_mixing_matrix[:,1:-1,1:] = all_params_mixing_matrix_samples[job]\n",
    "\n",
    "\n",
    "    true_N_c = BtinvNB_true[0,0]\n",
    "    cl_noise_harm_0 = micmac.get_Cl_noise(np.array(instrument['depth_p']), mixing_matrix_sampled, lmax)[0,0,lmin]\n",
    "    all_inv_N_c = jnp.linalg.pinv(jnp.einsum(\"ifc,fh,ihd->icd\", all_mixing_matrix, MICMAC_sampler_obj.freq_inverse_noise, all_mixing_matrix))[:,0,0]*jhp.nside2resol(MICMAC_sampler_obj.nside)**2\n",
    "    plt.figure()\n",
    "    plt.title('Effective CMB Noise vs iterations')\n",
    "    # plt.plot([0,MICMAC_sampler_obj.number_iterations_sampling+1], [true_N_c,true_N_c], label='true N_c')\n",
    "    plt.plot([0,MICMAC_sampler_obj.number_iterations_sampling+1], [cl_noise_harm_0,cl_noise_harm_0], label='true N_c')\n",
    "    plt.plot(np.arange(MICMAC_sampler_obj.number_iterations_sampling+1), all_inv_N_c, '-.', label='sample N_c')\n",
    "\n",
    "    plt.xlabel('Iterations')\n",
    "    plt.ylabel('$N_c^{-1}$ [uK$^-2$]')\n",
    "    # plt.loglog()\n",
    "    # plt.xscale('log')\n",
    "    # plt.yscale('log')\n",
    "    plt.legend()\n",
    "plt.show()"
   ]
  },
  {
   "cell_type": "code",
   "execution_count": null,
   "metadata": {},
   "outputs": [
    {
     "ename": "",
     "evalue": "",
     "output_type": "error",
     "traceback": [
      "\u001b[1;31mRunning cells with '/work/rizzieri/.conda/envs/micmac_env/bin/python' requires the ipykernel package.\n",
      "\u001b[1;31mRun the following command to install 'ipykernel' into the Python environment. \n",
      "\u001b[1;31mCommand: 'conda install -p /work/rizzieri/.conda/envs/micmac_env ipykernel --update-deps --force-reinstall'"
     ]
    }
   ],
   "source": [
    "# list_correl = ['EE', 'BB', 'EB']\n",
    "\n",
    "# ell_arange = np.arange(red_cov_approx_matrix.shape[0]) + lmin\n",
    "\n",
    "# frequency_Bf = instrument['frequency'][1:-1]\n",
    "# all_B_f_sample_synch = all_params_mixing_matrix_samples[:,:,0]\n",
    "# all_B_f_sample_dust = all_params_mixing_matrix_samples[:,:,1]\n",
    "\n",
    "# frequency_array = np.array(instrument['frequency'])\n",
    "\n",
    "\n",
    "# plt.figure(figsize=(14,4))\n",
    "# plt.suptitle('Mixing matrix parameters sampled vs iterations')\n",
    "# plt.subplot(121)\n",
    "# plt.title(('Synch parameters'))\n",
    "# for i in range(MICMAC_sampler_obj.number_frequencies-len_pos_special_freqs):\n",
    "#     plt.plot([0,MICMAC_sampler_obj.number_iterations_sampling+1], [init_params[i,0],init_params[i,0]])\n",
    "#     plt.plot(np.arange(MICMAC_sampler_obj.number_iterations_sampling+1), all_B_f_sample_synch[:,i], '-.', label=f'$B^s_{i}={frequency_array[i]} GHz$')\n",
    "# plt.legend()\n",
    "# # plt.loglog()\n",
    "# plt.yscale('log')\n",
    "# plt.xlabel('Iterations')\n",
    "# plt.ylabel('B_f params')\n",
    "\n",
    "# plt.subplot(122)\n",
    "# plt.title(('Dust parameters'))\n",
    "# for i in range(MICMAC_sampler_obj.number_frequencies-len_pos_special_freqs):\n",
    "#     plt.plot([0,MICMAC_sampler_obj.number_iterations_sampling+1], [init_params[i,1],init_params[i,1]])\n",
    "#     plt.plot(np.arange(MICMAC_sampler_obj.number_iterations_sampling+1), all_B_f_sample_dust[:,i], '-.', label=f'$B^d_{i}={frequency_array[i]} GHz$')\n",
    "# plt.legend()\n",
    "# # plt.loglog()\n",
    "# plt.yscale('log')\n",
    "# plt.xlabel('Iterations')\n",
    "# plt.ylabel('B_f params')\n",
    "# plt.show()\n"
   ]
  },
  {
   "cell_type": "code",
   "execution_count": null,
   "metadata": {},
   "outputs": [
    {
     "ename": "",
     "evalue": "",
     "output_type": "error",
     "traceback": [
      "\u001b[1;31mRunning cells with '/work/rizzieri/.conda/envs/micmac_env/bin/python' requires the ipykernel package.\n",
      "\u001b[1;31mRun the following command to install 'ipykernel' into the Python environment. \n",
      "\u001b[1;31mCommand: 'conda install -p /work/rizzieri/.conda/envs/micmac_env ipykernel --update-deps --force-reinstall'"
     ]
    }
   ],
   "source": [
    "list_correl = ['EE', 'BB', 'EB']\n",
    "\n",
    "ell_arange = np.arange(red_cov_approx_matrix.shape[0]) + lmin\n",
    "\n",
    "frequency_Bf = np.array(instrument['frequency'][1:-1])\n",
    "\n",
    "for job in range(num_jobs):\n",
    "    all_B_f_sample_synch = all_params_mixing_matrix_samples[job,:,:,0]\n",
    "    all_B_f_sample_dust = all_params_mixing_matrix_samples[job,:,:,1]\n",
    "\n",
    "    frequency_array = np.array(instrument['frequency'])\n",
    "\n",
    "\n",
    "    if MICMAC_sampler_obj.number_frequencies-len_pos_special_freqs < 10:\n",
    "        plt.figure(figsize=(20,8))\n",
    "        plt.suptitle('Mixing matrix parameters sampled vs iterations for job {} over {}'.format(job,num_jobs), fontsize=14)\n",
    "        # plt.subplot(121)\n",
    "\n",
    "        for i in range(MICMAC_sampler_obj.number_frequencies-len_pos_special_freqs):\n",
    "            plt.subplot(201+len(frequency_Bf)*10+i)\n",
    "            plt.title((f'Synch ${frequency_Bf[i]} GHz$'))\n",
    "            plt.plot([0,MICMAC_sampler_obj.number_iterations_sampling+1], [init_params[i,0],init_params[i,0]], label='Exact value')\n",
    "            plt.plot(np.arange(MICMAC_sampler_obj.number_iterations_sampling+1), all_B_f_sample_synch[:,i], '-.', label='Sample')\n",
    "            \n",
    "            n_sigma = 3\n",
    "            transformed_samples = np.abs(all_B_f_sample_synch[:,i] - all_B_f_sample_synch[:,i].mean())/(all_B_f_sample_synch[:,i].std()) #< n_sigma\n",
    "            cond = np.exp(transformed_samples**2/2)/(np.sqrt(2*np.pi)) < 0.9973\n",
    "            mean_B_f = np.round(all_B_f_sample_synch[:,i][cond].mean(), decimals=5)\n",
    "            std_B_f = np.round(all_B_f_sample_synch[:,i][cond].std(), decimals=5)\n",
    "\n",
    "            mean_value = all_B_f_sample_synch[:,i].mean()\n",
    "            plt.plot([0,MICMAC_sampler_obj.number_iterations_sampling+1], [mean_B_f,mean_B_f], ':', label='Samples mean 99.7%')\n",
    "\n",
    "            # plt.yscale('log')\n",
    "            # plt.xlabel('Iterations')\n",
    "            if i == 0:\n",
    "                plt.ylabel('Amplitude')\n",
    "        plt.legend(bbox_to_anchor=(1.04, 1), loc=\"upper left\", prop={'size': 15}, frameon=False)\n",
    "        # plt.loglog()\n",
    "\n",
    "        # plt.figure(figsize=(20,8))\n",
    "        # plt.subplot(122)\n",
    "        for i in range(MICMAC_sampler_obj.number_frequencies-len_pos_special_freqs):\n",
    "            plt.subplot(201+len(frequency_Bf)*10+i+len(frequency_Bf))\n",
    "            # plt.subplot(201+len(frequency_Bf)*10+i)\n",
    "            plt.title((f'Dust ${frequency_Bf[i]} GHz$'))\n",
    "            plt.plot([0,MICMAC_sampler_obj.number_iterations_sampling+1], [init_params[i,1],init_params[i,1]], label='Exact value')\n",
    "            plt.plot(np.arange(MICMAC_sampler_obj.number_iterations_sampling+1), all_B_f_sample_dust[:,i], '-.', label='Sample')\n",
    "\n",
    "            n_sigma = 3\n",
    "            transformed_samples = np.abs(all_B_f_sample_dust[:,i] - all_B_f_sample_dust[:,i].mean())/(all_B_f_sample_dust[:,i].std()) #< n_sigma\n",
    "            cond = np.exp(transformed_samples**2/2)/(np.sqrt(2*np.pi)) < 0.9973\n",
    "            mean_B_f = np.round(all_B_f_sample_dust[:,i][cond].mean(), decimals=5)\n",
    "            std_B_f = np.round(all_B_f_sample_dust[:,i][cond].std(), decimals=5)\n",
    "\n",
    "            mean_value = all_B_f_sample_dust[:,i].mean()\n",
    "            plt.plot([0,MICMAC_sampler_obj.number_iterations_sampling+1], [mean_B_f,mean_B_f], ':', label='Samples mean 99.7%')\n",
    "            # plt.yscale('log')\n",
    "            plt.xlabel('Iterations')\n",
    "            if i == 0:\n",
    "                plt.ylabel('Amplitude')\n",
    "        plt.legend(bbox_to_anchor=(1.04, 1), loc=\"upper left\", prop={'size': 15}, frameon=False)\n",
    "        # plt.loglog()\n",
    "\n",
    "    plt.show()"
   ]
  },
  {
   "cell_type": "code",
   "execution_count": null,
   "metadata": {},
   "outputs": [
    {
     "ename": "",
     "evalue": "",
     "output_type": "error",
     "traceback": [
      "\u001b[1;31mRunning cells with '/work/rizzieri/.conda/envs/micmac_env/bin/python' requires the ipykernel package.\n",
      "\u001b[1;31mRun the following command to install 'ipykernel' into the Python environment. \n",
      "\u001b[1;31mCommand: 'conda install -p /work/rizzieri/.conda/envs/micmac_env ipykernel --update-deps --force-reinstall'"
     ]
    }
   ],
   "source": [
    "# useless_plots"
   ]
  },
  {
   "cell_type": "code",
   "execution_count": null,
   "metadata": {},
   "outputs": [
    {
     "ename": "",
     "evalue": "",
     "output_type": "error",
     "traceback": [
      "\u001b[1;31mRunning cells with '/work/rizzieri/.conda/envs/micmac_env/bin/python' requires the ipykernel package.\n",
      "\u001b[1;31mRun the following command to install 'ipykernel' into the Python environment. \n",
      "\u001b[1;31mCommand: 'conda install -p /work/rizzieri/.conda/envs/micmac_env ipykernel --update-deps --force-reinstall'"
     ]
    }
   ],
   "source": []
  },
  {
   "cell_type": "code",
   "execution_count": null,
   "metadata": {},
   "outputs": [
    {
     "ename": "",
     "evalue": "",
     "output_type": "error",
     "traceback": [
      "\u001b[1;31mRunning cells with '/work/rizzieri/.conda/envs/micmac_env/bin/python' requires the ipykernel package.\n",
      "\u001b[1;31mRun the following command to install 'ipykernel' into the Python environment. \n",
      "\u001b[1;31mCommand: 'conda install -p /work/rizzieri/.conda/envs/micmac_env ipykernel --update-deps --force-reinstall'"
     ]
    }
   ],
   "source": [
    "list_correl = ['EE', 'BB', 'EB']\n",
    "\n",
    "ell_arange = np.arange(red_cov_approx_matrix.shape[0]) + lmin\n",
    "\n",
    "frequency_Bf = np.array(instrument['frequency'][1:-1])\n",
    "\n",
    "for job in range(num_jobs):\n",
    "    all_B_f_sample_synch = all_params_mixing_matrix_samples[job,:,:,0]\n",
    "    all_B_f_sample_dust = all_params_mixing_matrix_samples[job,:,:,1]\n",
    "\n",
    "    frequency_array = np.array(instrument['frequency'])\n",
    "\n",
    "\n",
    "    if MICMAC_sampler_obj.number_frequencies-len_pos_special_freqs >= 10:\n",
    "        number_columns = 4\n",
    "        number_rows = (MICMAC_sampler_obj.number_frequencies-len_pos_special_freqs)//number_columns + 1\n",
    "\n",
    "        # plt.figure(figsize=(20,8))\n",
    "        fig, ax = plt.subplots(number_rows, number_columns, figsize=(20,8))\n",
    "        useless_plots = number_rows*number_columns - (MICMAC_sampler_obj.number_frequencies-len_pos_special_freqs)\n",
    "        for idx_useless in range(0,useless_plots):\n",
    "            num_row = (number_rows*number_columns)//number_columns\n",
    "            num_col = (number_rows*number_columns)%number_columns\n",
    "            fig.delaxes(ax[num_row-1, num_col-idx_useless-1])\n",
    "\n",
    "        fig.suptitle(f\"Mixing matrix synch parameters sampled vs iterations for job {job} over {num_jobs}\", fontsize=14)\n",
    "        # plt.subplot(121)\n",
    "\n",
    "        for i in range(MICMAC_sampler_obj.number_frequencies-len_pos_special_freqs):\n",
    "            # plt.subplot(201+len(frequency_Bf)*10+i)\n",
    "            num_row = i//number_columns\n",
    "            num_col = i%number_columns\n",
    "            ax[num_row, num_col].set_title((f'Synch ${frequency_Bf[i]} GHz$'))\n",
    "            # plt.title((f'Synch ${frequency_Bf[i]} GHz$'))\n",
    "            \n",
    "            ax[num_row, num_col].plot([0,MICMAC_sampler_obj.number_iterations_sampling+1], [init_params[i,0],init_params[i,0]], label='Exact value')\n",
    "            ax[num_row, num_col].plot(np.arange(MICMAC_sampler_obj.number_iterations_sampling+1), all_B_f_sample_synch[:,i], '-.', label='Sample')\n",
    "            \n",
    "            n_sigma = 3\n",
    "            transformed_samples = np.abs(all_B_f_sample_synch[:,i] - all_B_f_sample_synch[:,i].mean())/(all_B_f_sample_synch[:,i].std()) #< n_sigma\n",
    "            cond = np.exp(transformed_samples**2/2)/(np.sqrt(2*np.pi)) < 0.9973\n",
    "            mean_B_f = np.round(all_B_f_sample_synch[:,i][cond].mean(), decimals=5)\n",
    "            std_B_f = np.round(all_B_f_sample_synch[:,i][cond].std(), decimals=5)\n",
    "\n",
    "            mean_value = all_B_f_sample_synch[:,i].mean()\n",
    "            ax[num_row, num_col].plot([0,MICMAC_sampler_obj.number_iterations_sampling+1], [mean_B_f,mean_B_f], ':', label='Samples mean 99.7%')\n",
    "\n",
    "            # plt.yscale('log')\n",
    "            # plt.xlabel('Iterations')\n",
    "            ax[num_row, num_col].set_xlabel('Iterations')\n",
    "            if i == 0:\n",
    "                # plt.ylabel('Amplitude')\n",
    "                ax[num_row, num_col].set_ylabel('Amplitude')\n",
    "            if i >= MICMAC_sampler_obj.number_frequencies-len_pos_special_freqs-number_columns:\n",
    "                ax[num_row, num_col].set_xlabel('Iterations')\n",
    "            else:\n",
    "                ax[num_row, num_col].tick_params(axis='x', labelbottom=False)\n",
    "        ax[num_row, num_col].legend(bbox_to_anchor=(1.04, 1), loc=\"upper left\", prop={'size': 15}, frameon=False)\n",
    "        # plt.loglog()\n",
    "\n",
    "        # plt.figure(figsize=(20,8))\n",
    "        # plt.subplot(122)\n",
    "        fig, ax = plt.subplots(number_rows, number_columns, figsize=(20,8))\n",
    "        useless_plots = number_rows*number_columns - (MICMAC_sampler_obj.number_frequencies-len_pos_special_freqs)\n",
    "        for idx_useless in range(0,useless_plots):\n",
    "            num_row = (number_rows*number_columns)//number_columns\n",
    "            num_col = (number_rows*number_columns)%number_columns\n",
    "            fig.delaxes(ax[num_row-1, num_col-idx_useless-1])\n",
    "\n",
    "\n",
    "        fig.suptitle(f\"Mixing matrix dust parameters sampled vs iterations for job {job} over {num_jobs}\", fontsize=14)\n",
    "        \n",
    "        for i in range(MICMAC_sampler_obj.number_frequencies-len_pos_special_freqs):\n",
    "            # plt.subplot(201+len(frequency_Bf)*10+i+len(frequency_Bf))\n",
    "            # plt.subplot(201+len(frequency_Bf)*10+i)\n",
    "            num_row = i//number_columns\n",
    "            num_col = i%number_columns\n",
    "            ax[num_row, num_col].set_title((f'Dust ${frequency_Bf[i]} GHz$'))\n",
    "            ax[num_row, num_col].plot([0,MICMAC_sampler_obj.number_iterations_sampling+1], [init_params[i,1],init_params[i,1]], label='Exact value')\n",
    "            ax[num_row, num_col].plot(np.arange(MICMAC_sampler_obj.number_iterations_sampling+1), all_B_f_sample_dust[:,i], '-.', label='Sample')\n",
    "\n",
    "            n_sigma = 3\n",
    "            transformed_samples = np.abs(all_B_f_sample_dust[:,i] - all_B_f_sample_dust[:,i].mean())/(all_B_f_sample_dust[:,i].std()) #< n_sigma\n",
    "            cond = np.exp(transformed_samples**2/2)/(np.sqrt(2*np.pi)) < 0.9973\n",
    "            mean_B_f = np.round(all_B_f_sample_dust[:,i][cond].mean(), decimals=5)\n",
    "            std_B_f = np.round(all_B_f_sample_dust[:,i][cond].std(), decimals=5)\n",
    "\n",
    "            mean_value = all_B_f_sample_dust[:,i].mean()\n",
    "            ax[num_row, num_col].plot([0,MICMAC_sampler_obj.number_iterations_sampling+1], [mean_B_f,mean_B_f], ':', label='Samples mean 99.7%')\n",
    "            # plt.yscale('log')\n",
    "            \n",
    "            if i == 0:\n",
    "                ax[num_row, num_col].set_ylabel('Amplitude')\n",
    "            if i >= MICMAC_sampler_obj.number_frequencies-len_pos_special_freqs-number_columns:\n",
    "                ax[num_row, num_col].set_xlabel('Iterations')\n",
    "            else:\n",
    "                ax[num_row, num_col].tick_params(axis='x', labelbottom=False)\n",
    "        ax[num_row, num_col].legend(bbox_to_anchor=(1.04, 1), loc=\"upper left\", prop={'size': 15}, frameon=False)\n",
    "        # plt.loglog()\n",
    "\n",
    "    plt.show()"
   ]
  },
  {
   "cell_type": "markdown",
   "metadata": {},
   "source": []
  },
  {
   "cell_type": "code",
   "execution_count": null,
   "metadata": {},
   "outputs": [
    {
     "ename": "",
     "evalue": "",
     "output_type": "error",
     "traceback": [
      "\u001b[1;31mRunning cells with '/work/rizzieri/.conda/envs/micmac_env/bin/python' requires the ipykernel package.\n",
      "\u001b[1;31mRun the following command to install 'ipykernel' into the Python environment. \n",
      "\u001b[1;31mCommand: 'conda install -p /work/rizzieri/.conda/envs/micmac_env ipykernel --update-deps --force-reinstall'"
     ]
    }
   ],
   "source": [
    "for job in range(num_jobs):\n",
    "    all_B_f_sample_synch = all_params_mixing_matrix_samples[job,:,:,0]\n",
    "    all_B_f_sample_dust = all_params_mixing_matrix_samples[job,:,:,1]\n",
    "\n",
    "    plt.figure(figsize=(14,4))\n",
    "    plt.suptitle('Relative error sampling vs iterations')\n",
    "    plt.subplot(121)\n",
    "    plt.title(('Synch parameters'))\n",
    "    for i in range(MICMAC_sampler_obj.number_frequencies-len_pos_special_freqs):\n",
    "        relative_error = np.abs((all_B_f_sample_synch[:,i]-init_params[i,0])/init_params[i,0])\n",
    "    #     plt.plot([0,MICMAC_sampler_obj.number_iterations_sampling+1], [init_params[i,0],init_params[i,0]])\n",
    "        # plt.plot(np.arange(MICMAC_sampler_obj.number_iterations_sampling+1), relative_error, '-.', label=f'$B^s_{i}={frequency_array[i]} GHz$')\n",
    "        plt.plot(np.arange(MICMAC_sampler_obj.number_iterations_sampling+1), relative_error, '-.')\n",
    "    if MICMAC_sampler_obj.num_sample_AM <= MICMAC_sampler_obj.number_iterations_sampling:\n",
    "        plt.plot([MICMAC_sampler_obj.num_sample_AM,MICMAC_sampler_obj.num_sample_AM], [10**(-5),10**(-1)], '--', color='black')\n",
    "    # plt.legend()\n",
    "    plt.yscale('log')\n",
    "    plt.xlabel('Iterations')\n",
    "    plt.ylabel('Relative error of B_f synch params')\n",
    "\n",
    "    plt.subplot(122)\n",
    "    plt.title(('Dust parameters'))\n",
    "    for i in range(MICMAC_sampler_obj.number_frequencies-len_pos_special_freqs):\n",
    "        relative_error = np.abs((all_B_f_sample_dust[:,i]-init_params[i,1])/init_params[i,1])\n",
    "    #     plt.plot([0,MICMAC_sampler_obj.number_iterations_sampling+1], [init_params[i,1],init_params[i,1]])\n",
    "        # plt.plot(np.arange(MICMAC_sampler_obj.number_iterations_sampling+1), relative_error, '-.', label=f'$B^d_{i}={frequency_array[i]} GHz$')\n",
    "        plt.plot(np.arange(MICMAC_sampler_obj.number_iterations_sampling+1), relative_error, '-.', label=f\"$B^f_{i}={frequency_array[i]} GHz$\")\n",
    "    if MICMAC_sampler_obj.num_sample_AM <= MICMAC_sampler_obj.number_iterations_sampling:\n",
    "        plt.plot([MICMAC_sampler_obj.num_sample_AM,MICMAC_sampler_obj.num_sample_AM], [10**(-5),10**(-1)], '--', color='black')\n",
    "    plt.legend(bbox_to_anchor=(1.04, 1), loc=\"upper left\", prop={'size': 15}, frameon=False)\n",
    "\n",
    "    plt.yscale('log')\n",
    "    plt.xlabel('Iterations')\n",
    "    plt.ylabel('Relative error of B_f dust params')\n",
    "plt.show()\n"
   ]
  },
  {
   "cell_type": "code",
   "execution_count": null,
   "metadata": {},
   "outputs": [
    {
     "ename": "",
     "evalue": "",
     "output_type": "error",
     "traceback": [
      "\u001b[1;31mRunning cells with '/work/rizzieri/.conda/envs/micmac_env/bin/python' requires the ipykernel package.\n",
      "\u001b[1;31mRun the following command to install 'ipykernel' into the Python environment. \n",
      "\u001b[1;31mCommand: 'conda install -p /work/rizzieri/.conda/envs/micmac_env ipykernel --update-deps --force-reinstall'"
     ]
    }
   ],
   "source": [
    "all_params_mixing_matrix_samples.shape"
   ]
  },
  {
   "cell_type": "code",
   "execution_count": null,
   "metadata": {},
   "outputs": [
    {
     "ename": "",
     "evalue": "",
     "output_type": "error",
     "traceback": [
      "\u001b[1;31mRunning cells with '/work/rizzieri/.conda/envs/micmac_env/bin/python' requires the ipykernel package.\n",
      "\u001b[1;31mRun the following command to install 'ipykernel' into the Python environment. \n",
      "\u001b[1;31mCommand: 'conda install -p /work/rizzieri/.conda/envs/micmac_env ipykernel --update-deps --force-reinstall'"
     ]
    }
   ],
   "source": [
    "list_correl = ['EE', 'BB', 'EB']\n",
    "\n",
    "ell_arange = np.arange(red_cov_approx_matrix.shape[0]) + lmin\n",
    "\n",
    "frequency_Bf = np.array(instrument['frequency'][1:-1])\n",
    "frequency_array = np.array(instrument['frequency'])\n",
    "\n",
    "num_iter_1000 = MICMAC_sampler_obj.number_iterations_sampling//1000\n",
    "if MICMAC_sampler_obj.number_iterations_sampling%1000 != 0:\n",
    "    num_iter_1000 += 1\n",
    "\n",
    "color_list = ['blue', 'green', 'red', 'cyan', 'orange', 'yellow', 'purple', 'pink', 'brown', 'black', \n",
    "            'gray', 'olive', 'lime', 'teal', 'magenta', 'salmon', 'darkgreen', 'darkblue', 'darkred', \n",
    "            'darkcyan', 'darkorange', 'darkyellow', 'darkpurple', 'darkpink', 'darkbrown', 'darkgray', 'darkolive', 'darklime', 'darkteal', 'darkmagenta', 'darksalmon', 'lightgreen', 'lightblue', 'lightred', 'lightcyan', 'lightorange', 'lightyellow', 'lightpurple', 'lightpink', 'lightbrown', 'lightgray', 'lightolive', 'lightlime', 'lightteal', 'lightmagenta', 'lightsalmon', 'darkgreen', 'darkblue', 'darkred']\n",
    "\n",
    "for job in range(num_jobs):\n",
    "    if MICMAC_sampler_obj.number_frequencies-len_pos_special_freqs < 10:\n",
    "        all_params_mixing_matrix_samples_job = all_params_mixing_matrix_samples[job]\n",
    "        plt.figure(figsize=(18,8))\n",
    "        plt.suptitle(f\"Mixing matrix parameters histogram for job {job} over {num_jobs}\", fontsize=14)\n",
    "\n",
    "        for i in range(len(frequency_Bf)):\n",
    "            plt.subplot(201+len(frequency_Bf)*10+i)\n",
    "            plt.title((f'Synch {frequency_Bf[i]} GHz'))\n",
    "            if all_params_mixing_matrix_samples_job[:,i,0].min() == all_params_mixing_matrix_samples_job[:,i,0].max():\n",
    "                min_value = all_params_mixing_matrix_samples_job[:,i,0].min()*.9\n",
    "                max_value = all_params_mixing_matrix_samples_job[:,i,0].max()*1.1\n",
    "            else:\n",
    "                min_value = all_params_mixing_matrix_samples_job[:,i,0].min()\n",
    "                max_value = all_params_mixing_matrix_samples_job[:,i,0].max()\n",
    "            bins_array = np.linspace(min_value, max_value, 100) #MICMAC_sampler_obj.number_iterations_sampling//200\n",
    "\n",
    "            max_height = 0\n",
    "            for j in range(num_iter_1000):\n",
    "                heights, _, _ = plt.hist(all_params_mixing_matrix_samples_job[j*1000:(j+1)*1000,i,0], bins=bins_array, color=color_list[j], alpha=.5, label=f'#{j}e {1000}')\n",
    "                max_height = max(max_height, heights.max())\n",
    "            # plt.plot([init_params[i,0],init_params[i,0]], [0,max_height], 'r:', linewidth=2.0, label=f'$B^s {frequency_Bf[i]} GHz$')\n",
    "            plt.plot([init_params[i,0],init_params[i,0]], [0,max_height], 'r:', linewidth=2.0, label='Exact value')\n",
    "        plt.legend(bbox_to_anchor=(1.04, 1), loc=\"upper left\", prop={'size': 15}, frameon=False)\n",
    "\n",
    "\n",
    "        for i in range(len(frequency_Bf)):\n",
    "            plt.subplot(201+len(frequency_Bf)*10+i+len(frequency_Bf))\n",
    "            plt.title((f'Dust {frequency_Bf[i]} GHz'))\n",
    "            if all_params_mixing_matrix_samples_job[:,i,1].min() == all_params_mixing_matrix_samples_job[:,i,1].max():\n",
    "                min_value = all_params_mixing_matrix_samples_job[:,i,1].min()*.9\n",
    "                max_value = all_params_mixing_matrix_samples_job[:,i,1].max()*1.1\n",
    "            else:\n",
    "                min_value = all_params_mixing_matrix_samples_job[:,i,1].min()\n",
    "                max_value = all_params_mixing_matrix_samples_job[:,i,1].max()\n",
    "            bins_array = np.linspace(min_value, max_value, 100) #MICMAC_sampler_obj.number_iterations_sampling//200\n",
    "\n",
    "            max_height = 0\n",
    "            for j in range(num_iter_1000):\n",
    "                heights, _, _ = plt.hist(all_params_mixing_matrix_samples_job[j*1000:(j+1)*1000,i,1], bins=bins_array, color=color_list[j], alpha=.5, label=f'#{j}e {1000}')\n",
    "                max_height = max(max_height, heights.max())\n",
    "\n",
    "            # plt.plot([init_params[i,1],init_params[i,1]], [0,max_height], 'r:', linewidth=2.0, label=f'$B^d {frequency_Bf[i]} GHz$')\n",
    "            plt.plot([init_params[i,1],init_params[i,1]], [0,max_height], 'r:', linewidth=2.0, label='Exact value')\n",
    "        # plt.legend(bbox_to_anchor=(1.04, 1), loc=\"upper left\", prop={'size': 15}, frameon=False)\n",
    "\n",
    "    plt.show()\n"
   ]
  },
  {
   "cell_type": "code",
   "execution_count": null,
   "metadata": {},
   "outputs": [
    {
     "ename": "",
     "evalue": "",
     "output_type": "error",
     "traceback": [
      "\u001b[1;31mRunning cells with '/work/rizzieri/.conda/envs/micmac_env/bin/python' requires the ipykernel package.\n",
      "\u001b[1;31mRun the following command to install 'ipykernel' into the Python environment. \n",
      "\u001b[1;31mCommand: 'conda install -p /work/rizzieri/.conda/envs/micmac_env ipykernel --update-deps --force-reinstall'"
     ]
    }
   ],
   "source": [
    "list_correl = ['EE', 'BB', 'EB']\n",
    "\n",
    "ell_arange = np.arange(red_cov_approx_matrix.shape[0]) + lmin\n",
    "\n",
    "frequency_Bf = np.array(instrument['frequency'][1:-1])\n",
    "frequency_array = np.array(instrument['frequency'])\n",
    "\n",
    "num_iter_1000 = MICMAC_sampler_obj.number_iterations_sampling//1000\n",
    "if MICMAC_sampler_obj.number_iterations_sampling%1000 != 0:\n",
    "    num_iter_1000 += 1\n",
    "\n",
    "color_list = ['blue', 'green', 'red', 'cyan', 'orange', 'yellow', 'purple', 'pink', 'brown', 'black', \n",
    "            'gray', 'olive', 'lime', 'teal', 'magenta', 'salmon', 'darkgreen', 'darkblue', 'darkred', \n",
    "            'darkcyan', 'darkorange', 'darkyellow', 'darkpurple', 'darkpink', 'darkbrown', 'darkgray', 'darkolive', 'darklime', 'darkteal', 'darkmagenta', 'darksalmon', 'lightgreen', 'lightblue', 'lightred', 'lightcyan', 'lightorange', 'lightyellow', 'lightpurple', 'lightpink', 'lightbrown', 'lightgray', 'lightolive', 'lightlime', 'lightteal', 'lightmagenta', 'lightsalmon', 'darkgreen', 'darkblue', 'darkred']\n",
    "\n",
    "for job in range(num_jobs):\n",
    "    if MICMAC_sampler_obj.number_frequencies-len_pos_special_freqs >= 10:\n",
    "        all_params_mixing_matrix_samples_job = all_params_mixing_matrix_samples[job]\n",
    "        # plt.figure(figsize=(18,8))\n",
    "        fig, ax = plt.subplots(number_rows, number_columns, figsize=(20,8))\n",
    "        fig.suptitle(f\"Synch mixing matrix parameters histogram for job {job} over {num_jobs}\", fontsize=14)\n",
    "        useless_plots = number_rows*number_columns - (MICMAC_sampler_obj.number_frequencies-len_pos_special_freqs)\n",
    "        for idx_useless in range(0,useless_plots):\n",
    "            num_row = (number_rows*number_columns)//number_columns\n",
    "            num_col = (number_rows*number_columns)%number_columns\n",
    "            fig.delaxes(ax[num_row-1, num_col-idx_useless-1])\n",
    "            \n",
    "\n",
    "        for i in range(len(frequency_Bf)):\n",
    "            num_row = i//number_columns\n",
    "            num_col = i%number_columns\n",
    "        \n",
    "            # plt.subplot(201+len(frequency_Bf)*10+i)\n",
    "            ax[num_row, num_col].set_title((f'Synch {frequency_Bf[i]} GHz'))\n",
    "            # plt.title((f'Synch {frequency_Bf[i]} GHz'))\n",
    "            if all_params_mixing_matrix_samples_job[:,i,0].min() == all_params_mixing_matrix_samples_job[:,i,0].max():\n",
    "                min_value = all_params_mixing_matrix_samples_job[:,i,0].min()*.9\n",
    "                max_value = all_params_mixing_matrix_samples_job[:,i,0].max()*1.1\n",
    "            else:\n",
    "                min_value = all_params_mixing_matrix_samples_job[:,i,0].min()\n",
    "                max_value = all_params_mixing_matrix_samples_job[:,i,0].max()\n",
    "            bins_array = np.linspace(min_value, max_value, 100) #MICMAC_sampler_obj.number_iterations_sampling//200\n",
    "\n",
    "            max_height = 0\n",
    "            for j in range(num_iter_1000):\n",
    "                heights, _, _ = ax[num_row, num_col].hist(all_params_mixing_matrix_samples_job[j*1000:(j+1)*1000,i,0], bins=bins_array, color=color_list[j], alpha=.5, label=f'#{j}e {1000}')\n",
    "                max_height = max(max_height, heights.max())\n",
    "            # plt.plot([init_params[i,0],init_params[i,0]], [0,max_height], 'r:', linewidth=2.0, label=f'$B^s {frequency_Bf[i]} GHz$')\n",
    "            ax[num_row, num_col].plot([init_params[i,0],init_params[i,0]], [0,max_height], 'r:', linewidth=2.0, label='Exact value')\n",
    "        ax[num_row, num_col].legend(bbox_to_anchor=(1.04, 1), loc=\"upper left\", prop={'size': 15}, frameon=False)\n",
    "\n",
    "\n",
    "        fig, ax = plt.subplots(number_rows, number_columns, figsize=(20,8))\n",
    "        fig.suptitle(f\"Dust mixing matrix parameters histogram for job {job} over {num_jobs}\", fontsize=14)\n",
    "        useless_plots = number_rows*number_columns - (MICMAC_sampler_obj.number_frequencies-len_pos_special_freqs)\n",
    "        for idx_useless in range(0,useless_plots):\n",
    "            num_row = (number_rows*number_columns)//number_columns\n",
    "            num_col = (number_rows*number_columns)%number_columns\n",
    "            fig.delaxes(ax[num_row-1, num_col-idx_useless-1])\n",
    "\n",
    "        for i in range(len(frequency_Bf)):\n",
    "            num_row = i//number_columns\n",
    "            num_col = i%number_columns\n",
    "            # plt.subplot(201+len(frequency_Bf)*10+i+len(frequency_Bf))\n",
    "            ax[num_row, num_col].set_title((f'Dust {frequency_Bf[i]} GHz'))\n",
    "            if all_params_mixing_matrix_samples_job[:,i,1].min() == all_params_mixing_matrix_samples_job[:,i,1].max():\n",
    "                min_value = all_params_mixing_matrix_samples_job[:,i,1].min()*.9\n",
    "                max_value = all_params_mixing_matrix_samples_job[:,i,1].max()*1.1\n",
    "            else:\n",
    "                min_value = all_params_mixing_matrix_samples_job[:,i,1].min()\n",
    "                max_value = all_params_mixing_matrix_samples_job[:,i,1].max()\n",
    "            bins_array = np.linspace(min_value, max_value, 100) #MICMAC_sampler_obj.number_iterations_sampling//200\n",
    "\n",
    "            max_height = 0\n",
    "            for j in range(num_iter_1000):\n",
    "                heights, _, _ = ax[num_row, num_col].hist(all_params_mixing_matrix_samples_job[j*1000:(j+1)*1000,i,1], bins=bins_array, color=color_list[j], alpha=.5, label=f'#{j}e {1000}')\n",
    "                max_height = max(max_height, heights.max())\n",
    "\n",
    "            # plt.plot([init_params[i,1],init_params[i,1]], [0,max_height], 'r:', linewidth=2.0, label=f'$B^d {frequency_Bf[i]} GHz$')\n",
    "            ax[num_row, num_col].plot([init_params[i,1],init_params[i,1]], [0,max_height], 'r:', linewidth=2.0, label='Exact value')\n",
    "        ax[num_row, num_col].legend(bbox_to_anchor=(1.04, 1), loc=\"upper left\", prop={'size': 15}, frameon=False)\n",
    "        # plt.legend(bbox_to_anchor=(1.04, 1), loc=\"upper left\", prop={'size': 15}, frameon=False)\n",
    "\n",
    "    plt.show()\n"
   ]
  },
  {
   "cell_type": "code",
   "execution_count": null,
   "metadata": {},
   "outputs": [
    {
     "ename": "",
     "evalue": "",
     "output_type": "error",
     "traceback": [
      "\u001b[1;31mRunning cells with '/work/rizzieri/.conda/envs/micmac_env/bin/python' requires the ipykernel package.\n",
      "\u001b[1;31mRun the following command to install 'ipykernel' into the Python environment. \n",
      "\u001b[1;31mCommand: 'conda install -p /work/rizzieri/.conda/envs/micmac_env ipykernel --update-deps --force-reinstall'"
     ]
    }
   ],
   "source": []
  },
  {
   "cell_type": "code",
   "execution_count": null,
   "metadata": {},
   "outputs": [
    {
     "ename": "",
     "evalue": "",
     "output_type": "error",
     "traceback": [
      "\u001b[1;31mRunning cells with '/work/rizzieri/.conda/envs/micmac_env/bin/python' requires the ipykernel package.\n",
      "\u001b[1;31mRun the following command to install 'ipykernel' into the Python environment. \n",
      "\u001b[1;31mCommand: 'conda install -p /work/rizzieri/.conda/envs/micmac_env ipykernel --update-deps --force-reinstall'"
     ]
    }
   ],
   "source": [
    "for job in range(num_jobs):\n",
    "    final_params = all_params_mixing_matrix_samples[job,-1]\n",
    "    final_params = all_params_mixing_matrix_samples[job].mean(axis=0)\n",
    "    # final_params = all_params_mixing_matrix_samples[job,1000:].mean(axis=0)\n",
    "    # final_params = all_params_mixing_matrix_samples[job,-1000:].mean(axis=0)\n",
    "    # final_params = all_params_mixing_matrix_samples[job,0]\n",
    "    # final_params = all_params_mixing_matrix_samples[job,:1000].mean(axis=0)\n",
    "    # final_params = all_params_mixing_matrix_samples[job,1000]\n",
    "    # final_params = all_params_mixing_matrix_samples[job,:num_sample_AM].mean(axis=0)\n",
    "    # final_params = all_params_mixing_matrix_samples[job,num_sample_AM:].mean(axis=0)\n",
    "    # final_params = all_params_mixing_matrix_samples[job,2000:].mean(axis=0)\n",
    "\n",
    "    mixing_matrix_obj.update_params(final_params)\n",
    "    final_mixing_matrix = mixing_matrix_obj.get_B()\n",
    "\n",
    "    _cl_noise_harm = micmac.get_Cl_noise(np.array(instrument['depth_p']), final_mixing_matrix, lmax)[0,0,lmin:]\n",
    "    red_cl_noise_harm = micmac.get_reduced_matrix_from_c_ell(np.array([_cl_noise_harm,_cl_noise_harm,np.zeros_like(_cl_noise_harm)]))\n",
    "    cl_noise_harm = micmac.get_c_ells_from_red_covariance_matrix(red_cl_noise_harm)\n",
    "\n",
    "    recovered_CMB_Wd = micmac.get_Wd(MICMAC_sampler_obj.freq_inverse_noise, final_mixing_matrix, initial_freq_maps[job], jax_use=False)[0, :, :]\n",
    "\n",
    "    mixing_matrix_obj.update_params(init_params)\n",
    "    init_mixing_matrix_obj = mixing_matrix_obj.get_B()\n",
    "    recovered_CMB_Wd_init = micmac.get_Wd(MICMAC_sampler_obj.freq_inverse_noise, init_mixing_matrix_obj, initial_freq_maps[job], jax_use=False)[0, :, :]\n",
    "\n",
    "    residuals_Wd = recovered_CMB_Wd - input_cmb_maps[job,0]\n",
    "    residuals_Wd_init = recovered_CMB_Wd_init - input_cmb_maps[job,0]\n",
    "\n",
    "    recovered_CMB_Wd_extended = np.vstack([np.zeros_like(recovered_CMB_Wd[0]), recovered_CMB_Wd])\n",
    "    c_ells_recovered_CMB_Wd = hp.anafast(recovered_CMB_Wd_extended, lmax=MICMAC_sampler_obj.lmax, iter=MICMAC_sampler_obj.n_iter)[indices_polar,MICMAC_sampler_obj.lmin:]\n",
    "\n",
    "    recovered_CMB_Wd_init_extended = np.vstack([np.zeros_like(recovered_CMB_Wd_init[0]), recovered_CMB_Wd_init])\n",
    "    c_ells_recovered_CMB_Wd_init = hp.anafast(recovered_CMB_Wd_init_extended, lmax=MICMAC_sampler_obj.lmax, iter=MICMAC_sampler_obj.n_iter)[indices_polar,MICMAC_sampler_obj.lmin:]\n",
    "\n",
    "    residuals_Wd_extended = np.vstack([np.zeros_like(residuals_Wd[0]), residuals_Wd])\n",
    "    c_ells_residuals_Wd = hp.anafast(residuals_Wd_extended, lmax=MICMAC_sampler_obj.lmax, iter=MICMAC_sampler_obj.n_iter)[indices_polar,MICMAC_sampler_obj.lmin:]\n",
    "\n",
    "    residuals_Wd_init_extended = np.vstack([np.zeros_like(residuals_Wd_init[0]), residuals_Wd_init])\n",
    "    c_ells_residuals_Wd_init = hp.anafast(residuals_Wd_init_extended, lmax=MICMAC_sampler_obj.lmax, iter=MICMAC_sampler_obj.n_iter)[indices_polar,MICMAC_sampler_obj.lmin:]\n",
    "\n",
    "    plt.figure(figsize=(20,15))\n",
    "    list_correl = ['EE', 'BB', 'EB']\n",
    "    plt.suptitle(f\"Average of all sampling parameters B_f for {job} over {num_jobs}\", fontsize=14)\n",
    "    number_subplots_convention = 331\n",
    "    for i in range(number_correl_to_plot):\n",
    "        plt.subplot(number_subplots_convention+i)\n",
    "        plt.plot(np.arange(c_ells_recovered_CMB_Wd.shape[-1])+MICMAC_sampler_obj.lmin, c_ells_recovered_CMB_Wd[i,:], label='recovered CMB')\n",
    "        plt.plot(np.arange(c_ells_recovered_CMB_Wd.shape[-1])+MICMAC_sampler_obj.lmin, c_ells_recovered_CMB_Wd_init[i,:], '--', label='recovered CMB init')\n",
    "        plt.plot(np.arange(c_ells_recovered_CMB_Wd.shape[-1])+MICMAC_sampler_obj.lmin, c_ells_residuals_Wd[i,:], '-.', label='residuals')\n",
    "        plt.plot(np.arange(c_ells_recovered_CMB_Wd.shape[-1])+MICMAC_sampler_obj.lmin, c_ells_residuals_Wd_init[i,:], '--', label='residuals init')\n",
    "        plt.plot(np.arange(c_ells_recovered_CMB_Wd.shape[-1])+MICMAC_sampler_obj.lmin, c_ell_true_CMB[i,:], 'k:', label='true CMB')\n",
    "        plt.plot(np.arange(c_ells_recovered_CMB_Wd.shape[-1])+MICMAC_sampler_obj.lmin, cl_noise_harm[i,:], 'r:', label='noise $N_c$')\n",
    "\n",
    "        if i <= nstokes-1:\n",
    "            plt.loglog()\n",
    "            plt.plot([lmin,lmax+1], [0,0], 'k:')\n",
    "        else:\n",
    "            plt.xscale('log')\n",
    "            plt.yscale('symlog')\n",
    "            plt.plot([lmin,lmax+1], [0,0], 'k:')\n",
    "        plt.title('Study of sampling parameters B_f - {}'.format(list_correl[i]))\n",
    "        plt.ylabel(\"$C_\\ell$ [$uK^2$]\")\n",
    "        plt.xlabel(r\"$\\ell$\")\n",
    "        plt.legend()\n",
    "plt.show()"
   ]
  },
  {
   "cell_type": "code",
   "execution_count": null,
   "metadata": {},
   "outputs": [
    {
     "ename": "",
     "evalue": "",
     "output_type": "error",
     "traceback": [
      "\u001b[1;31mRunning cells with '/work/rizzieri/.conda/envs/micmac_env/bin/python' requires the ipykernel package.\n",
      "\u001b[1;31mRun the following command to install 'ipykernel' into the Python environment. \n",
      "\u001b[1;31mCommand: 'conda install -p /work/rizzieri/.conda/envs/micmac_env ipykernel --update-deps --force-reinstall'"
     ]
    }
   ],
   "source": [
    "# estimated_params = all_params_mixing_matrix_samples[-1000:].mean(axis=0)\n",
    "# estimated_std = all_params_mixing_matrix_samples[-1000:].std(axis=0)\n",
    "\n",
    "# Fisher_uncertainty = np.diag(sp.linalg.sqrtm(np.linalg.pinv(Fisher_matrix)))[:-1]\n",
    "\n",
    "# print(\"Number of iterations\", MICMAC_sampler_obj.number_iterations_sampling)\n",
    "# for i in range(estimated_params.shape[0]*2):\n",
    "#     j = i%(MICMAC_sampler_obj.number_frequencies-len_pos_special_freqs)\n",
    "#     k = i//(MICMAC_sampler_obj.number_frequencies-len_pos_special_freqs)\n",
    "#     if i>=MICMAC_sampler_obj.number_frequencies-len_pos_special_freqs:\n",
    "#         print('$B^d$ :', frequency_array[j], 'GHz')\n",
    "#     else:\n",
    "#         print('$B^s$ :', frequency_array[j], 'GHz')\n",
    "#     print('Estimated :', estimated_params[j,k], \"+-\", estimated_std[j,k], '; Fisher :', Fisher_uncertainty[i])\n",
    "#     print('Init params :', init_params[j,k])"
   ]
  },
  {
   "cell_type": "code",
   "execution_count": null,
   "metadata": {},
   "outputs": [
    {
     "ename": "",
     "evalue": "",
     "output_type": "error",
     "traceback": [
      "\u001b[1;31mRunning cells with '/work/rizzieri/.conda/envs/micmac_env/bin/python' requires the ipykernel package.\n",
      "\u001b[1;31mRun the following command to install 'ipykernel' into the Python environment. \n",
      "\u001b[1;31mCommand: 'conda install -p /work/rizzieri/.conda/envs/micmac_env ipykernel --update-deps --force-reinstall'"
     ]
    }
   ],
   "source": []
  },
  {
   "cell_type": "markdown",
   "metadata": {},
   "source": [
    "# Autocorrelation length study"
   ]
  },
  {
   "cell_type": "code",
   "execution_count": null,
   "metadata": {},
   "outputs": [
    {
     "ename": "",
     "evalue": "",
     "output_type": "error",
     "traceback": [
      "\u001b[1;31mRunning cells with '/work/rizzieri/.conda/envs/micmac_env/bin/python' requires the ipykernel package.\n",
      "\u001b[1;31mRun the following command to install 'ipykernel' into the Python environment. \n",
      "\u001b[1;31mCommand: 'conda install -p /work/rizzieri/.conda/envs/micmac_env ipykernel --update-deps --force-reinstall'"
     ]
    }
   ],
   "source": [
    "import numpyro.diagnostics\n",
    "# from emcee import autocorr"
   ]
  },
  {
   "cell_type": "code",
   "execution_count": null,
   "metadata": {},
   "outputs": [
    {
     "ename": "",
     "evalue": "",
     "output_type": "error",
     "traceback": [
      "\u001b[1;31mRunning cells with '/work/rizzieri/.conda/envs/micmac_env/bin/python' requires the ipykernel package.\n",
      "\u001b[1;31mRun the following command to install 'ipykernel' into the Python environment. \n",
      "\u001b[1;31mCommand: 'conda install -p /work/rizzieri/.conda/envs/micmac_env ipykernel --update-deps --force-reinstall'"
     ]
    }
   ],
   "source": [
    "for job in range(num_jobs):\n",
    "    aucorrelation_B_f = numpyro.diagnostics.autocorrelation(all_params_mixing_matrix_samples[job], axis=0)\n",
    "    numpyro.diagnostics.print_summary(all_params_mixing_matrix_samples[job], prob=0.9, group_by_chain=False)\n",
    "\n",
    "    list_correl = ['EE', 'BB', 'EB']\n",
    "\n",
    "    ell_arange = np.arange(red_cov_approx_matrix.shape[0]) + lmin\n",
    "\n",
    "    frequency_Bf = np.array(instrument['frequency'][1:-1])\n",
    "    all_B_f_autocorr_synch = aucorrelation_B_f[:,:,0]\n",
    "    all_B_f_autocorr_dust = aucorrelation_B_f[:,:,1]\n",
    "\n",
    "    frequency_array = np.array(instrument['frequency'])\n",
    "\n",
    "\n",
    "    if MICMAC_sampler_obj.number_frequencies-len_pos_special_freqs < 10:\n",
    "        plt.figure(figsize=(20,8))\n",
    "        plt.suptitle(f\"Mixing matrix parameters autocorrelation length for {job} over {num_jobs}\", fontsize=14)\n",
    "\n",
    "        for i in range(MICMAC_sampler_obj.number_frequencies-len_pos_special_freqs):\n",
    "            plt.subplot(201+len(frequency_Bf)*10+i)\n",
    "            plt.title((f'Synch ${frequency_Bf[i]} GHz$'))\n",
    "            # plt.plot([0,MICMAC_sampler_obj.number_iterations_sampling+1], [init_params[i,0],init_params[i,0]], label='Exact value')\n",
    "            plt.plot(np.arange(MICMAC_sampler_obj.number_iterations_sampling+1), all_B_f_autocorr_synch[:,i], '-.', label='Autocorrelation')\n",
    "            \n",
    "            # n_sigma = 3\n",
    "            # transformed_samples = np.abs(all_B_f_sample_synch[:,i] - all_B_f_sample_synch[:,i].mean())/(all_B_f_sample_synch[:,i].std()) #< n_sigma\n",
    "            # cond = np.exp(transformed_samples**2/2)/(np.sqrt(2*np.pi)) < 0.9973\n",
    "            # mean_B_f = np.round(all_B_f_sample_synch[:,i][cond].mean(), decimals=5)\n",
    "            # std_B_f = np.round(all_B_f_sample_synch[:,i][cond].std(), decimals=5)\n",
    "\n",
    "            # mean_value = all_B_f_sample_synch[:,i].mean()\n",
    "            # plt.plot([0,MICMAC_sampler_obj.number_iterations_sampling+1], [mean_B_f,mean_B_f], ':', label='Samples mean 99.7%')\n",
    "\n",
    "            # plt.yscale('log')\n",
    "            # plt.xlabel('Iterations')\n",
    "            # if i == 0:\n",
    "            #     plt.ylabel('Amplitude')\n",
    "        plt.legend(bbox_to_anchor=(1.04, 1), loc=\"upper left\", prop={'size': 15}, frameon=False)\n",
    "        # plt.loglog()\n",
    "\n",
    "        # plt.figure(figsize=(20,8))\n",
    "        # plt.subplot(122)\n",
    "        for i in range(MICMAC_sampler_obj.number_frequencies-len_pos_special_freqs):\n",
    "            plt.subplot(201+len(frequency_Bf)*10+i+len(frequency_Bf))\n",
    "            # plt.subplot(201+len(frequency_Bf)*10+i)\n",
    "            plt.title((f'Dust ${frequency_Bf[i]} GHz$'))\n",
    "            # plt.plot([0,MICMAC_sampler_obj.number_iterations_sampling+1], [init_params[i,1],init_params[i,1]], label='Exact value')\n",
    "            plt.plot(np.arange(MICMAC_sampler_obj.number_iterations_sampling+1), all_B_f_autocorr_dust[:,i], '-.', label='Autocorrelation')\n",
    "\n",
    "            # n_sigma = 3\n",
    "            # transformed_samples = np.abs(all_B_f_sample_dust[:,i] - all_B_f_sample_dust[:,i].mean())/(all_B_f_sample_dust[:,i].std()) #< n_sigma\n",
    "            # cond = np.exp(transformed_samples**2/2)/(np.sqrt(2*np.pi)) < 0.9973\n",
    "            # mean_B_f = np.round(all_B_f_sample_dust[:,i][cond].mean(), decimals=5)\n",
    "            # std_B_f = np.round(all_B_f_sample_dust[:,i][cond].std(), decimals=5)\n",
    "\n",
    "            # mean_value = all_B_f_sample_dust[:,i].mean()\n",
    "            # plt.plot([0,MICMAC_sampler_obj.number_iterations_sampling+1], [mean_B_f,mean_B_f], ':', label='Samples mean 99.7%')\n",
    "            # plt.yscale('log')\n",
    "            plt.xlabel('Iterations')\n",
    "            if i == 0:\n",
    "                plt.ylabel('Amplitude')\n",
    "        plt.legend(bbox_to_anchor=(1.04, 1), loc=\"upper left\", prop={'size': 15}, frameon=False)\n",
    "        # plt.loglog()\n",
    "\n",
    "    plt.show()"
   ]
  },
  {
   "cell_type": "code",
   "execution_count": null,
   "metadata": {},
   "outputs": [
    {
     "ename": "",
     "evalue": "",
     "output_type": "error",
     "traceback": [
      "\u001b[1;31mRunning cells with '/work/rizzieri/.conda/envs/micmac_env/bin/python' requires the ipykernel package.\n",
      "\u001b[1;31mRun the following command to install 'ipykernel' into the Python environment. \n",
      "\u001b[1;31mCommand: 'conda install -p /work/rizzieri/.conda/envs/micmac_env ipykernel --update-deps --force-reinstall'"
     ]
    }
   ],
   "source": [
    "if MICMAC_sampler_obj.sample_r_Metropolis:\n",
    "    for job in range(num_jobs):\n",
    "        numpyro.diagnostics.print_summary(all_r_samples[job], prob=0.9, group_by_chain=False)\n",
    "        aucorrelation_r = numpyro.diagnostics.autocorrelation(all_r_samples[job], axis=0)\n",
    "\n",
    "        plt.figure()\n",
    "        plt.title('r autocorrelation length', fontsize=14)\n",
    "        plt.plot(np.arange(MICMAC_sampler_obj.number_iterations_sampling+1), aucorrelation_r, '-.', label='Autocorrelation')\n",
    "        plt.xlabel('Iterations')\n",
    "        plt.ylabel('r')\n",
    "        plt.legend(bbox_to_anchor=(1.04, 1), loc=\"upper left\", prop={'size': 15}, frameon=False)\n",
    "    plt.show()\n"
   ]
  },
  {
   "cell_type": "code",
   "execution_count": null,
   "metadata": {},
   "outputs": [
    {
     "ename": "",
     "evalue": "",
     "output_type": "error",
     "traceback": [
      "\u001b[1;31mRunning cells with '/work/rizzieri/.conda/envs/micmac_env/bin/python' requires the ipykernel package.\n",
      "\u001b[1;31mRun the following command to install 'ipykernel' into the Python environment. \n",
      "\u001b[1;31mCommand: 'conda install -p /work/rizzieri/.conda/envs/micmac_env ipykernel --update-deps --force-reinstall'"
     ]
    }
   ],
   "source": []
  },
  {
   "cell_type": "code",
   "execution_count": null,
   "metadata": {},
   "outputs": [
    {
     "ename": "",
     "evalue": "",
     "output_type": "error",
     "traceback": [
      "\u001b[1;31mRunning cells with '/work/rizzieri/.conda/envs/micmac_env/bin/python' requires the ipykernel package.\n",
      "\u001b[1;31mRun the following command to install 'ipykernel' into the Python environment. \n",
      "\u001b[1;31mCommand: 'conda install -p /work/rizzieri/.conda/envs/micmac_env ipykernel --update-deps --force-reinstall'"
     ]
    }
   ],
   "source": [
    "test_random = np.random.randn(5000)\n",
    "# test_random = np.ones(1000)\n",
    "# for i in range(10):\n",
    "#     test_random[i*100:i*100 + 50] = -1\n",
    "aucorr_random = numpyro.diagnostics.autocorrelation(test_random, axis=0)\n",
    "\n",
    "plt.figure()\n",
    "plt.plot(np.arange(test_random.shape[0]), test_random)\n",
    "plt.figure()\n",
    "plt.plot(np.arange(aucorr_random.shape[0]), aucorr_random)\n",
    "plt.show()"
   ]
  },
  {
   "cell_type": "code",
   "execution_count": null,
   "metadata": {},
   "outputs": [
    {
     "ename": "",
     "evalue": "",
     "output_type": "error",
     "traceback": [
      "\u001b[1;31mRunning cells with '/work/rizzieri/.conda/envs/micmac_env/bin/python' requires the ipykernel package.\n",
      "\u001b[1;31mRun the following command to install 'ipykernel' into the Python environment. \n",
      "\u001b[1;31mCommand: 'conda install -p /work/rizzieri/.conda/envs/micmac_env ipykernel --update-deps --force-reinstall'"
     ]
    }
   ],
   "source": [
    "for job in range(num_jobs):\n",
    "    numpyro.diagnostics.effective_sample_size(jnp.array([all_params_mixing_matrix_samples[job,:]]))"
   ]
  },
  {
   "cell_type": "code",
   "execution_count": null,
   "metadata": {},
   "outputs": [
    {
     "ename": "",
     "evalue": "",
     "output_type": "error",
     "traceback": [
      "\u001b[1;31mRunning cells with '/work/rizzieri/.conda/envs/micmac_env/bin/python' requires the ipykernel package.\n",
      "\u001b[1;31mRun the following command to install 'ipykernel' into the Python environment. \n",
      "\u001b[1;31mCommand: 'conda install -p /work/rizzieri/.conda/envs/micmac_env ipykernel --update-deps --force-reinstall'"
     ]
    }
   ],
   "source": [
    "all_r_samples.mean()"
   ]
  },
  {
   "cell_type": "code",
   "execution_count": null,
   "metadata": {},
   "outputs": [
    {
     "ename": "",
     "evalue": "",
     "output_type": "error",
     "traceback": [
      "\u001b[1;31mRunning cells with '/work/rizzieri/.conda/envs/micmac_env/bin/python' requires the ipykernel package.\n",
      "\u001b[1;31mRun the following command to install 'ipykernel' into the Python environment. \n",
      "\u001b[1;31mCommand: 'conda install -p /work/rizzieri/.conda/envs/micmac_env ipykernel --update-deps --force-reinstall'"
     ]
    }
   ],
   "source": [
    "all_r_samples.shape"
   ]
  },
  {
   "cell_type": "code",
   "execution_count": null,
   "metadata": {},
   "outputs": [
    {
     "ename": "",
     "evalue": "",
     "output_type": "error",
     "traceback": [
      "\u001b[1;31mRunning cells with '/work/rizzieri/.conda/envs/micmac_env/bin/python' requires the ipykernel package.\n",
      "\u001b[1;31mRun the following command to install 'ipykernel' into the Python environment. \n",
      "\u001b[1;31mCommand: 'conda install -p /work/rizzieri/.conda/envs/micmac_env ipykernel --update-deps --force-reinstall'"
     ]
    }
   ],
   "source": [
    "micmac.get_Gelman_Rubin_statistics(all_r_samples[:,:-1000]).mean()"
   ]
  },
  {
   "cell_type": "code",
   "execution_count": null,
   "metadata": {},
   "outputs": [
    {
     "ename": "",
     "evalue": "",
     "output_type": "error",
     "traceback": [
      "\u001b[1;31mRunning cells with '/work/rizzieri/.conda/envs/micmac_env/bin/python' requires the ipykernel package.\n",
      "\u001b[1;31mRun the following command to install 'ipykernel' into the Python environment. \n",
      "\u001b[1;31mCommand: 'conda install -p /work/rizzieri/.conda/envs/micmac_env ipykernel --update-deps --force-reinstall'"
     ]
    }
   ],
   "source": [
    "micmac.get_Gelman_Rubin_statistics(all_r_samples).mean()"
   ]
  },
  {
   "cell_type": "code",
   "execution_count": null,
   "metadata": {},
   "outputs": [
    {
     "ename": "",
     "evalue": "",
     "output_type": "error",
     "traceback": [
      "\u001b[1;31mRunning cells with '/work/rizzieri/.conda/envs/micmac_env/bin/python' requires the ipykernel package.\n",
      "\u001b[1;31mRun the following command to install 'ipykernel' into the Python environment. \n",
      "\u001b[1;31mCommand: 'conda install -p /work/rizzieri/.conda/envs/micmac_env ipykernel --update-deps --force-reinstall'"
     ]
    }
   ],
   "source": [
    "micmac.get_Gelman_Rubin_statistics(all_r_samples[:,1000:]).mean()"
   ]
  },
  {
   "cell_type": "code",
   "execution_count": null,
   "metadata": {},
   "outputs": [
    {
     "ename": "",
     "evalue": "",
     "output_type": "error",
     "traceback": [
      "\u001b[1;31mRunning cells with '/work/rizzieri/.conda/envs/micmac_env/bin/python' requires the ipykernel package.\n",
      "\u001b[1;31mRun the following command to install 'ipykernel' into the Python environment. \n",
      "\u001b[1;31mCommand: 'conda install -p /work/rizzieri/.conda/envs/micmac_env ipykernel --update-deps --force-reinstall'"
     ]
    }
   ],
   "source": [
    "micmac.get_Gelman_Rubin_statistics(all_r_samples[:,-1000:]).mean()"
   ]
  },
  {
   "cell_type": "code",
   "execution_count": null,
   "metadata": {},
   "outputs": [
    {
     "ename": "",
     "evalue": "",
     "output_type": "error",
     "traceback": [
      "\u001b[1;31mRunning cells with '/work/rizzieri/.conda/envs/micmac_env/bin/python' requires the ipykernel package.\n",
      "\u001b[1;31mRun the following command to install 'ipykernel' into the Python environment. \n",
      "\u001b[1;31mCommand: 'conda install -p /work/rizzieri/.conda/envs/micmac_env ipykernel --update-deps --force-reinstall'"
     ]
    }
   ],
   "source": [
    "micmac.get_Gelman_Rubin_statistics(all_params_mixing_matrix_samples).mean(axis=0)"
   ]
  },
  {
   "cell_type": "code",
   "execution_count": null,
   "metadata": {},
   "outputs": [
    {
     "ename": "",
     "evalue": "",
     "output_type": "error",
     "traceback": [
      "\u001b[1;31mRunning cells with '/work/rizzieri/.conda/envs/micmac_env/bin/python' requires the ipykernel package.\n",
      "\u001b[1;31mRun the following command to install 'ipykernel' into the Python environment. \n",
      "\u001b[1;31mCommand: 'conda install -p /work/rizzieri/.conda/envs/micmac_env ipykernel --update-deps --force-reinstall'"
     ]
    }
   ],
   "source": [
    "micmac.get_Gelman_Rubin_statistics(all_params_mixing_matrix_samples[:,:1000]).mean(axis=0)"
   ]
  },
  {
   "cell_type": "code",
   "execution_count": null,
   "metadata": {},
   "outputs": [
    {
     "ename": "",
     "evalue": "",
     "output_type": "error",
     "traceback": [
      "\u001b[1;31mRunning cells with '/work/rizzieri/.conda/envs/micmac_env/bin/python' requires the ipykernel package.\n",
      "\u001b[1;31mRun the following command to install 'ipykernel' into the Python environment. \n",
      "\u001b[1;31mCommand: 'conda install -p /work/rizzieri/.conda/envs/micmac_env ipykernel --update-deps --force-reinstall'"
     ]
    }
   ],
   "source": [
    "micmac.get_Gelman_Rubin_statistics(all_params_mixing_matrix_samples[:,-1000:])#.mean(axis=0)"
   ]
  },
  {
   "cell_type": "code",
   "execution_count": null,
   "metadata": {},
   "outputs": [
    {
     "ename": "",
     "evalue": "",
     "output_type": "error",
     "traceback": [
      "\u001b[1;31mRunning cells with '/work/rizzieri/.conda/envs/micmac_env/bin/python' requires the ipykernel package.\n",
      "\u001b[1;31mRun the following command to install 'ipykernel' into the Python environment. \n",
      "\u001b[1;31mCommand: 'conda install -p /work/rizzieri/.conda/envs/micmac_env ipykernel --update-deps --force-reinstall'"
     ]
    }
   ],
   "source": [
    "micmac.get_Gelman_Rubin_statistics(all_params_mixing_matrix_samples[:,:2000]).mean(axis=0)"
   ]
  }
 ],
 "metadata": {
  "kernelspec": {
   "display_name": "non_param_silver",
   "language": "python",
   "name": "python3"
  },
  "language_info": {
   "codemirror_mode": {
    "name": "ipython",
    "version": 3
   },
   "file_extension": ".py",
   "mimetype": "text/x-python",
   "name": "python",
   "nbconvert_exporter": "python",
   "pygments_lexer": "ipython3",
   "version": "3.9.16"
  }
 },
 "nbformat": 4,
 "nbformat_minor": 2
}
