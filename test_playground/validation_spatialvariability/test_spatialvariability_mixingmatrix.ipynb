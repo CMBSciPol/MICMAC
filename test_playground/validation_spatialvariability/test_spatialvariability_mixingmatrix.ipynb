{
 "cells": [
  {
   "cell_type": "markdown",
   "metadata": {},
   "source": [
    "# Validation of the Mixing Matrix with spatial variability"
   ]
  },
  {
   "cell_type": "code",
   "execution_count": 1,
   "metadata": {},
   "outputs": [],
   "source": [
    "import numpy as np\n",
    "import healpy as hp\n",
    "import matplotlib.pyplot as plt\n",
    "from fgbuster.observation_helpers import get_instrument, standardize_instrument, get_observation\n",
    "from micmac import *"
   ]
  },
  {
   "cell_type": "code",
   "execution_count": 2,
   "metadata": {},
   "outputs": [],
   "source": [
    "# Choose and get instrument from public database\n",
    "instr_name = 'SO_SAT'    # LiteBIRD  # SO_SAT\n",
    "instr_ = get_instrument(instr_name)\n",
    "instrument = standardize_instrument(instr_)"
   ]
  },
  {
   "cell_type": "code",
   "execution_count": 3,
   "metadata": {},
   "outputs": [],
   "source": [
    "# General parameters (in a Gibbs sampling run coming from the parameter file)\n",
    "NSIDE = 64\n",
    "ncomp = 3\n",
    "n_fgs_comp = 2\n",
    "pos_special_freqs = np.array([0, -1])"
   ]
  },
  {
   "cell_type": "markdown",
   "metadata": {},
   "source": [
    "### Spv configuration"
   ]
  },
  {
   "cell_type": "code",
   "execution_count": 4,
   "metadata": {},
   "outputs": [],
   "source": [
    "# Num betas\n",
    "n_betas = (ncomp-1)*(len(instrument.frequency)-ncomp+1)"
   ]
  },
  {
   "cell_type": "code",
   "execution_count": 5,
   "metadata": {},
   "outputs": [
    {
     "name": "stdout",
     "output_type": "stream",
     "text": [
      "<_io.TextIOWrapper name='params_spv_SAT.yaml' mode='r' encoding='UTF-8'>\n",
      "count_b: 8\n",
      "n_betas:  8\n",
      "\n",
      ">>> Tree of spv config as passed by the User:\n",
      "root\n",
      "  nside_spv\n",
      "    default: [1]\n",
      "    f1\n",
      "      default: [1]\n",
      "      b0\n",
      "        default: [1]\n",
      "      b1\n",
      "        default: None\n",
      "      b2\n",
      "        default: None\n",
      "      b3\n",
      "        default: None\n",
      "    f2\n",
      "      default: None\n",
      "      b0\n",
      "        default: None\n",
      "      b1\n",
      "        default: None\n",
      "      b2\n",
      "        default: None\n",
      "      b3\n",
      "        default: None\n",
      "\n",
      ">>> Tree of spv config after filling the missing values:\n",
      "root\n",
      "  nside_spv\n",
      "    default: [1]\n",
      "    f1\n",
      "      default: [1]\n",
      "      b0\n",
      "        default: [1]\n",
      "      b1\n",
      "        default: [1]\n",
      "      b2\n",
      "        default: [1]\n",
      "      b3\n",
      "        default: [1]\n",
      "    f2\n",
      "      default: [1]\n",
      "      b0\n",
      "        default: [1]\n",
      "      b1\n",
      "        default: [1]\n",
      "      b2\n",
      "        default: [1]\n",
      "      b3\n",
      "        default: [1]\n"
     ]
    }
   ],
   "source": [
    "# Read the spv configuration and print the spv tree\n",
    "yaml_file_path = 'params_spv_SAT.yaml'   # ''  # 'params_spv_SAT.yaml'  # 'params_spv_LB.yaml'\n",
    "root_tree = tree_spv_config(yaml_file_path, n_betas, n_fgs_comp, print_tree=True)"
   ]
  },
  {
   "cell_type": "code",
   "execution_count": 6,
   "metadata": {},
   "outputs": [
    {
     "name": "stdout",
     "output_type": "stream",
     "text": [
      "List of all the betas (first all the ones for component 1 then all the ones for compoents 2):\n",
      " [Node('/root/nside_spv/f1/b0'), Node('/root/nside_spv/f1/b1'), Node('/root/nside_spv/f1/b2'), Node('/root/nside_spv/f1/b3'), Node('/root/nside_spv/f2/b0'), Node('/root/nside_spv/f2/b1'), Node('/root/nside_spv/f2/b2'), Node('/root/nside_spv/f2/b3')]\n"
     ]
    }
   ],
   "source": [
    "# Get list of the nodes betas\n",
    "nodes_b = get_nodes_b(root_tree)\n",
    "print(\"List of all the betas (first all the ones for component 1 then all the ones for compoents 2):\\n\", nodes_b)"
   ]
  },
  {
   "cell_type": "markdown",
   "metadata": {},
   "source": [
    "### Initialization Mixing Matrix"
   ]
  },
  {
   "cell_type": "code",
   "execution_count": 7,
   "metadata": {},
   "outputs": [
    {
     "name": "stdout",
     "output_type": "stream",
     "text": [
      "N params: (96,)\n",
      "Params initial values (given in the order: all params for b1, all params for b2, ...):\n",
      " [0.33858815 0.33858815 0.33858815 0.33858815 0.33858815 0.33858815\n",
      " 0.33858815 0.33858815 0.33858815 0.33858815 0.33858815 0.33858815\n",
      " 0.02963068 0.02963068 0.02963068 0.02963068 0.02963068 0.02963068\n",
      " 0.02963068 0.02963068 0.02963068 0.02963068 0.02963068 0.02963068\n",
      " 0.00998213 0.00998213 0.00998213 0.00998213 0.00998213 0.00998213\n",
      " 0.00998213 0.00998213 0.00998213 0.00998213 0.00998213 0.00998213\n",
      " 0.00328725 0.00328725 0.00328725 0.00328725 0.00328725 0.00328725\n",
      " 0.00328725 0.00328725 0.00328725 0.00328725 0.00328725 0.00328725\n",
      " 0.00979233 0.00979233 0.00979233 0.00979233 0.00979233 0.00979233\n",
      " 0.00979233 0.00979233 0.00979233 0.00979233 0.00979233 0.00979233\n",
      " 0.05147511 0.05147511 0.05147511 0.05147511 0.05147511 0.05147511\n",
      " 0.05147511 0.05147511 0.05147511 0.05147511 0.05147511 0.05147511\n",
      " 0.12913911 0.12913911 0.12913911 0.12913911 0.12913911 0.12913911\n",
      " 0.12913911 0.12913911 0.12913911 0.12913911 0.12913911 0.12913911\n",
      " 0.44076761 0.44076761 0.44076761 0.44076761 0.44076761 0.44076761\n",
      " 0.44076761 0.44076761 0.44076761 0.44076761 0.44076761 0.44076761]\n"
     ]
    }
   ],
   "source": [
    "initB = InitMixingMatrix(freqs=instrument.frequency, ncomp=ncomp, pos_special_freqs=pos_special_freqs, spv_nodes_b=nodes_b)\n",
    "init_params = initB.init_params()\n",
    "print(\"N params:\", init_params.shape)\n",
    "print(\"Params initial values (given in the order: all params for b1, all params for b2, ...):\\n\", init_params)\n"
   ]
  },
  {
   "cell_type": "markdown",
   "metadata": {},
   "source": [
    "### Mixing Matrix"
   ]
  },
  {
   "cell_type": "markdown",
   "metadata": {},
   "source": [
    "Test preliminary functions"
   ]
  },
  {
   "cell_type": "code",
   "execution_count": 8,
   "metadata": {},
   "outputs": [
    {
     "name": "stdout",
     "output_type": "stream",
     "text": [
      "96\n"
     ]
    }
   ],
   "source": [
    "print(get_len_params(spv_nodes_b=nodes_b))"
   ]
  },
  {
   "cell_type": "markdown",
   "metadata": {},
   "source": [
    "Test Mixing Matrix"
   ]
  },
  {
   "cell_type": "code",
   "execution_count": 9,
   "metadata": {},
   "outputs": [],
   "source": [
    "B = MixingMatrix(instrument.frequency, ncomp, nodes_b, NSIDE, init_params, pos_special_freqs)"
   ]
  },
  {
   "cell_type": "code",
   "execution_count": 10,
   "metadata": {},
   "outputs": [],
   "source": [
    "params = B.params"
   ]
  },
  {
   "cell_type": "code",
   "execution_count": 11,
   "metadata": {},
   "outputs": [
    {
     "name": "stdout",
     "output_type": "stream",
     "text": [
      "(4, 2, 49152)\n",
      "[[[0.33858815 0.33858815 0.33858815 ... 0.33858815 0.33858815 0.33858815]\n",
      "  [0.00979233 0.00979233 0.00979233 ... 0.00979233 0.00979233 0.00979233]]\n",
      "\n",
      " [[0.02963068 0.02963068 0.02963068 ... 0.02963068 0.02963068 0.02963068]\n",
      "  [0.05147511 0.05147511 0.05147511 ... 0.05147511 0.05147511 0.05147511]]\n",
      "\n",
      " [[0.00998213 0.00998213 0.00998213 ... 0.00998213 0.00998213 0.00998213]\n",
      "  [0.12913911 0.12913911 0.12913911 ... 0.12913911 0.12913911 0.12913911]]\n",
      "\n",
      " [[0.00328725 0.00328725 0.00328725 ... 0.00328725 0.00328725 0.00328725]\n",
      "  [0.44076761 0.44076761 0.44076761 ... 0.44076761 0.44076761 0.44076761]]]\n"
     ]
    }
   ],
   "source": [
    "params_long = B.get_params_long(jax_use=True)\n",
    "print(params_long.shape)\n",
    "print(params_long)"
   ]
  },
  {
   "cell_type": "code",
   "execution_count": 12,
   "metadata": {},
   "outputs": [],
   "source": [
    "B_fgs = B.get_B_fgs()"
   ]
  },
  {
   "cell_type": "code",
   "execution_count": 13,
   "metadata": {},
   "outputs": [
    {
     "data": {
      "text/plain": [
       "array([[1.        , 0.        ],\n",
       "       [0.33858815, 0.00979233],\n",
       "       [0.02963068, 0.05147511],\n",
       "       [0.00998213, 0.12913911],\n",
       "       [0.00328725, 0.44076761],\n",
       "       [0.        , 1.        ]])"
      ]
     },
     "execution_count": 13,
     "metadata": {},
     "output_type": "execute_result"
    }
   ],
   "source": [
    "B_fgs[:,:,0]"
   ]
  },
  {
   "cell_type": "code",
   "execution_count": 14,
   "metadata": {},
   "outputs": [
    {
     "data": {
      "text/plain": [
       "(6, 1, 49152)"
      ]
     },
     "execution_count": 14,
     "metadata": {},
     "output_type": "execute_result"
    }
   ],
   "source": [
    "B.get_B_cmb().shape"
   ]
  },
  {
   "cell_type": "code",
   "execution_count": 15,
   "metadata": {},
   "outputs": [
    {
     "data": {
      "text/plain": [
       "array([[1.        , 1.        , 0.        ],\n",
       "       [1.        , 0.33858815, 0.00979233],\n",
       "       [1.        , 0.02963068, 0.05147511],\n",
       "       [1.        , 0.00998213, 0.12913911],\n",
       "       [1.        , 0.00328725, 0.44076761],\n",
       "       [1.        , 0.        , 1.        ]])"
      ]
     },
     "execution_count": 15,
     "metadata": {},
     "output_type": "execute_result"
    }
   ],
   "source": [
    "B.get_B()[:,:,0]"
   ]
  },
  {
   "cell_type": "code",
   "execution_count": 24,
   "metadata": {},
   "outputs": [
    {
     "data": {
      "text/plain": [
       "array([2.03385881e+01, 4.03385881e+01, 3.38588146e-01, 3.38588146e-01,\n",
       "       3.38588146e-01, 3.38588146e-01, 3.38588146e-01, 3.38588146e-01,\n",
       "       3.38588146e-01, 3.38588146e-01, 3.38588146e-01, 3.38588146e-01,\n",
       "       2.96306809e-02, 2.96306809e-02, 2.96306809e-02, 2.96306809e-02,\n",
       "       2.96306809e-02, 2.96306809e-02, 2.96306809e-02, 2.96306809e-02,\n",
       "       2.96306809e-02, 2.96306809e-02, 2.96306809e-02, 2.96306809e-02,\n",
       "       9.98212728e-03, 9.98212728e-03, 9.98212728e-03, 9.98212728e-03,\n",
       "       9.98212728e-03, 9.98212728e-03, 9.98212728e-03, 9.98212728e-03,\n",
       "       9.98212728e-03, 9.98212728e-03, 9.98212728e-03, 9.98212728e-03,\n",
       "       3.28725430e-03, 3.28725430e-03, 3.28725430e-03, 3.28725430e-03,\n",
       "       3.28725430e-03, 3.28725430e-03, 3.28725430e-03, 3.28725430e-03,\n",
       "       3.28725430e-03, 3.28725430e-03, 3.28725430e-03, 3.28725430e-03,\n",
       "       9.79233500e-03, 9.79233500e-03, 2.00097923e+01, 9.79233500e-03,\n",
       "       9.79233500e-03, 9.79233500e-03, 9.79233500e-03, 9.79233500e-03,\n",
       "       9.79233500e-03, 9.79233500e-03, 9.79233500e-03, 9.79233500e-03,\n",
       "       5.14751134e-02, 5.14751134e-02, 5.14751134e-02, 5.14751134e-02,\n",
       "       5.14751134e-02, 5.14751134e-02, 5.14751134e-02, 5.14751134e-02,\n",
       "       5.14751134e-02, 5.14751134e-02, 5.14751134e-02, 5.14751134e-02,\n",
       "       1.29139113e-01, 1.29139113e-01, 1.29139113e-01, 1.29139113e-01,\n",
       "       1.29139113e-01, 1.29139113e-01, 1.29139113e-01, 1.29139113e-01,\n",
       "       1.29139113e-01, 1.29139113e-01, 1.29139113e-01, 1.29139113e-01,\n",
       "       4.40767614e-01, 4.40767614e-01, 4.40767614e-01, 4.40767614e-01,\n",
       "       4.40767614e-01, 4.40767614e-01, 4.40767614e-01, 4.40767614e-01,\n",
       "       4.40767614e-01, 4.40767614e-01, 4.40767614e-01, 4.40767614e-01])"
      ]
     },
     "execution_count": 24,
     "metadata": {},
     "output_type": "execute_result"
    }
   ],
   "source": [
    "new_params = B.params\n",
    "new_params[0] += 10\n",
    "new_params[1] += 20\n",
    "new_params[50] += 20\n",
    "new_params"
   ]
  },
  {
   "cell_type": "code",
   "execution_count": 25,
   "metadata": {},
   "outputs": [
    {
     "name": "stdout",
     "output_type": "stream",
     "text": [
      "[[[2.03385881e+01 4.03385881e+01 3.38588146e-01 ... 3.38588146e-01\n",
      "   3.38588146e-01 3.38588146e-01]\n",
      "  [9.79233500e-03 9.79233500e-03 2.00097923e+01 ... 9.79233500e-03\n",
      "   9.79233500e-03 9.79233500e-03]]\n",
      "\n",
      " [[2.96306809e-02 2.96306809e-02 2.96306809e-02 ... 2.96306809e-02\n",
      "   2.96306809e-02 2.96306809e-02]\n",
      "  [5.14751134e-02 5.14751134e-02 5.14751134e-02 ... 5.14751134e-02\n",
      "   5.14751134e-02 5.14751134e-02]]\n",
      "\n",
      " [[9.98212728e-03 9.98212728e-03 9.98212728e-03 ... 9.98212728e-03\n",
      "   9.98212728e-03 9.98212728e-03]\n",
      "  [1.29139113e-01 1.29139113e-01 1.29139113e-01 ... 1.29139113e-01\n",
      "   1.29139113e-01 1.29139113e-01]]\n",
      "\n",
      " [[3.28725430e-03 3.28725430e-03 3.28725430e-03 ... 3.28725430e-03\n",
      "   3.28725430e-03 3.28725430e-03]\n",
      "  [4.40767614e-01 4.40767614e-01 4.40767614e-01 ... 4.40767614e-01\n",
      "   4.40767614e-01 4.40767614e-01]]]\n"
     ]
    }
   ],
   "source": [
    "B.update_params(new_params)\n",
    "print(B.get_params_long(jax_use=True))\n"
   ]
  },
  {
   "cell_type": "code",
   "execution_count": 26,
   "metadata": {},
   "outputs": [
    {
     "data": {
      "text/plain": [
       "array([[ 0., 48.],\n",
       "       [12., 60.],\n",
       "       [24., 72.],\n",
       "       [36., 84.]])"
      ]
     },
     "execution_count": 26,
     "metadata": {},
     "output_type": "execute_result"
    }
   ],
   "source": [
    "B.indexes_b"
   ]
  },
  {
   "cell_type": "code",
   "execution_count": 27,
   "metadata": {},
   "outputs": [
    {
     "data": {
      "text/plain": [
       "array([ 0., 12., 24., 36., 48., 60., 72., 84.])"
      ]
     },
     "execution_count": 27,
     "metadata": {},
     "output_type": "execute_result"
    }
   ],
   "source": [
    "B.indexes_b.ravel(order='F')"
   ]
  },
  {
   "cell_type": "code",
   "execution_count": null,
   "metadata": {},
   "outputs": [],
   "source": [
    " "
   ]
  }
 ],
 "metadata": {
  "kernelspec": {
   "display_name": "micmac_env",
   "language": "python",
   "name": "python3"
  },
  "language_info": {
   "codemirror_mode": {
    "name": "ipython",
    "version": 3
   },
   "file_extension": ".py",
   "mimetype": "text/x-python",
   "name": "python",
   "nbconvert_exporter": "python",
   "pygments_lexer": "ipython3",
   "version": "3.9.16"
  }
 },
 "nbformat": 4,
 "nbformat_minor": 2
}
