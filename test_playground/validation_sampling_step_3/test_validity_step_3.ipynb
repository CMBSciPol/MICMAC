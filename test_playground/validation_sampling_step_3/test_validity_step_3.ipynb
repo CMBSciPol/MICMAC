{
 "cells": [
  {
   "attachments": {},
   "cell_type": "markdown",
   "metadata": {},
   "source": [
    "# Test validity step 3 : $P(S_c | ...) \\propto s_c^t S_c^{-1} s_c + ln|S_c|$"
   ]
  },
  {
   "cell_type": "code",
   "execution_count": null,
   "metadata": {},
   "outputs": [],
   "source": [
    "import numpy as np\n",
    "import matplotlib.pyplot as plt\n",
    "import healpy as hp\n",
    "import astropy.io.fits as fits\n",
    "import camb"
   ]
  },
  {
   "cell_type": "code",
   "execution_count": null,
   "metadata": {},
   "outputs": [],
   "source": [
    "nstokes = 3\n",
    "nside = 64\n",
    "lmax = nside*2\n"
   ]
  }
 ],
 "metadata": {
  "kernelspec": {
   "display_name": "env_jup39",
   "language": "python",
   "name": "python3"
  },
  "language_info": {
   "codemirror_mode": {
    "name": "ipython",
    "version": 3
   },
   "file_extension": ".py",
   "mimetype": "text/x-python",
   "name": "python",
   "nbconvert_exporter": "python",
   "pygments_lexer": "ipython3",
   "version": "3.9.16"
  },
  "orig_nbformat": 4
 },
 "nbformat": 4,
 "nbformat_minor": 2
}
