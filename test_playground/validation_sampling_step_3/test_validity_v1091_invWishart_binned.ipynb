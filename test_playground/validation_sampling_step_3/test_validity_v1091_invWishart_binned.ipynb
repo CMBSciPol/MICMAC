{
 "cells": [
  {
   "cell_type": "markdown",
   "metadata": {},
   "source": [
    "# Test Validity Inverse Wishart binned"
   ]
  },
  {
   "cell_type": "code",
   "execution_count": 1,
   "metadata": {},
   "outputs": [],
   "source": [
    "import os, sys, time\n",
    "import numpy as np\n",
    "import matplotlib.pyplot as plt\n",
    "import jax\n",
    "from jax import random, dtypes\n",
    "import jax.numpy as jnp\n",
    "import jax.scipy as jsp\n",
    "import jax_healpy as jhp\n",
    "import scipy\n",
    "import healpy as hp\n",
    "import astropy.io.fits as fits\n",
    "import camb\n",
    "import numpyro\n",
    "\n",
    "import micmac as micmac"
   ]
  },
  {
   "cell_type": "code",
   "execution_count": 2,
   "metadata": {},
   "outputs": [],
   "source": [
    "sys.path.append(os.path.dirname(os.path.abspath('')))\n",
    "sys.path.append(os.path.dirname(os.path.dirname(os.path.abspath('')))+'/tutorials/')"
   ]
  },
  {
   "cell_type": "code",
   "execution_count": null,
   "metadata": {},
   "outputs": [],
   "source": [
    "# working_directory_path = os.path.abspath('') + '/'\n",
    "working_directory_path = '/Users/mag/Documents/PHD1Y/Space_Work/Pixel_non_P2D/MICMAC/test_playground/validation_chain_spatialvariability_v4/'\n",
    "directory_save_file = working_directory_path + 'save_directory/'\n",
    "directory_toml_file = working_directory_path + 'main_params/'\n",
    "directory_additional_params = working_directory_path + 'additional_params/'\n",
    "\n",
    "path_toml_file = directory_toml_file + 'corr_fullsky_SO_v1a.toml'\n",
    "path_additional_params = directory_additional_params + 'add_corr_fullsky_SO_d0s0_nside1_v1a.toml'"
   ]
  },
  {
   "cell_type": "code",
   "execution_count": null,
   "metadata": {},
   "outputs": [],
   "source": [
    "MICMAC_obj = micmac.create_MICMAC_sampler_from_toml_file(path_toml_file)"
   ]
  },
  {
   "cell_type": "code",
   "execution_count": null,
   "metadata": {},
   "outputs": [],
   "source": [
    "with open(path_additional_params) as f:\n",
    "    dictionary_additional_parameters = toml.load(f)\n",
    "f.close()"
   ]
  },
  {
   "cell_type": "markdown",
   "metadata": {},
   "source": [
    "## Few options to activate/deactivte"
   ]
  },
  {
   "cell_type": "code",
   "execution_count": null,
   "metadata": {},
   "outputs": [],
   "source": [
    "use_mask = False\n",
    "foreground_bool = False"
   ]
  },
  {
   "cell_type": "code",
   "execution_count": null,
   "metadata": {},
   "outputs": [],
   "source": [
    "instrument = fgbuster.get_instrument(dictionary_additional_parameters['instrument_name'])\n",
    "\n",
    "np.random.seed(dictionary_additional_parameters['seed_realization_input'])\n",
    "noise_map = get_noise_realization(MICMAC_obj.nside, instrument)[:, 1:, :]\n",
    "\n",
    "if foreground_bool:\n",
    "    fgs_model = dictionary_additional_parameters['fgs_model']\n",
    "    np.random.seed(dictionary_additional_parameters['seed_realization_input'])\n",
    "    freq_maps_fgs_denoised = get_observation(instrument, fgs_model_, nside=MICMAC_obj.nside, noise=False)[:, 1:, :]   # keep only Q and U\n",
    "    \n",
    "\n",
    "    freq_maps_fgs = freq_maps_fgs_denoised + noise_map\n",
    "else:\n",
    "    freq_maps_fgs = noise_map"
   ]
  },
  {
   "cell_type": "code",
   "execution_count": null,
   "metadata": {},
   "outputs": [],
   "source": [
    "if use_mask:\n",
    "    path_mask = '/Users/mag/Documents/PHD1Y/Masks/mask_SAT_apodized.fits'\n",
    "    mask = hp.read_map(path_mask, verbose=False)\n",
    "    MICMAC_obj.mask = mask\n",
    "else:\n",
    "    MICMAC_obj.mask = np.ones(MICMAC_obj.n_pix)"
   ]
  },
  {
   "cell_type": "code",
   "execution_count": null,
   "metadata": {},
   "outputs": [],
   "source": [
    "np.random.seed(seed_realization_input+1)\n",
    "input_freq_maps, input_cmb_maps, theoretical_red_cov_r0_total, theoretical_red_cov_r1_tensor = MICMAC_obj.generate_input_freq_maps_from_fgs(freq_maps_fgs, return_only_freq_maps=False)\n",
    "input_freq_maps_masked = input_freq_maps*MICMAC_obj.mask\n",
    "\n",
    "theoretical_r0_total = micmac.get_c_ells_from_red_covariance_matrix(theoretical_red_cov_r0_total)#[partial_indices_polar,:]\n",
    "theoretical_r1_tensor = micmac.get_c_ells_from_red_covariance_matrix(theoretical_red_cov_r1_tensor)#[partial_indices_polar,:]\n"
   ]
  },
  {
   "cell_type": "code",
   "execution_count": null,
   "metadata": {},
   "outputs": [],
   "source": [
    "init_mixing_matrix_obj = micmac.InitMixingMatrix(freqs=MICMAC_obj.frequency_array, \n",
    "                                                 ncomp=MICMAC_obj.n_components, \n",
    "                                                 pos_special_freqs=MICMAC_obj.pos_special_freqs, \n",
    "                                                 spv_nodes_b=MICMAC_obj.spv_nodes_b)\n",
    "exact_params_mixing_matrix = init_mixing_matrix_obj.init_params()\n",
    "\n",
    "MICMAC_obj.update_params(exact_params_mixing_matrix)\n",
    "mixing_matrix_sampled = MICMAC_obj.get_B(jax_use=True)\n",
    "\n",
    "invBtinvNB = micmac.get_inv_BtinvNB(MICMAC_obj.freq_inverse_noise, mixing_matrix_sampled)\n",
    "BtinvN_sqrt = micmac.get_BtinvN(jnp.sqrt(MICMAC_obj.freq_inverse_noise), mixing_matrix_sampled)"
   ]
  },
  {
   "cell_type": "code",
   "execution_count": null,
   "metadata": {},
   "outputs": [],
   "source": [
    "true_CMB_c_ell = np.zeros_like((MICMAC_obj.number_correlations, MICMAC_obj.lmax+1-MICMAC_obj.lmin))\n",
    "true_CMB_c_ell[:MICMAC_obj.nstokes,:] = theoretical_r0_total + MICMAC_obj.r_true*theoretical_r1_tensor\n"
   ]
  },
  {
   "cell_type": "code",
   "execution_count": null,
   "metadata": {},
   "outputs": [],
   "source": [
    "red_cov_matrix = micmac.get_reduced_matrix_from_c_ell(true_CMB_c_ell)\n",
    "red_cov_matrix_sqrt = micmac.get_sqrt_reduced_matrix_from_matrix_jax(red_cov_matrix)"
   ]
  },
  {
   "cell_type": "markdown",
   "metadata": {},
   "source": [
    "## Prepare CMB map"
   ]
  },
  {
   "cell_type": "code",
   "execution_count": null,
   "metadata": {},
   "outputs": [],
   "source": [
    "true_cmb_map = input_cmb_maps[0,:]"
   ]
  },
  {
   "cell_type": "code",
   "execution_count": null,
   "metadata": {},
   "outputs": [],
   "source": [
    "s_cML = micmac.get_Wd(MICMAC_obj.freq_inverse_noise, mixing_matrix_sampled, input_freq_maps, jax_use=False)[0, :, :]"
   ]
  },
  {
   "cell_type": "code",
   "execution_count": null,
   "metadata": {},
   "outputs": [],
   "source": [
    "jax_key_PNRG = jax.random.PRNGKey(MICMAC_obj.seed + 2)\n",
    "\n",
    "wiener_filter_map = MICMAC_obj.solve_generalized_wiener_filter_term_v2d(s_cML, red_cov_matrix_sqrt, invBtinvNB, initial_guess=jnp.empty(0),precond_func=None)\n",
    "\n",
    "fluctuation_map = MICMAC_obj.get_fluctuating_term_maps_v2d(red_cov_matrix_sqrt, \n",
    "                                                           invBtinvNB, \n",
    "                                                           BtinvN_sqrt, \n",
    "                                                           jax_key_PNRG, \n",
    "                                                           map_random_realization_xi=None, \n",
    "                                                           map_random_realization_chi=None, \n",
    "                                                           initial_guess=jnp.empty(0),\n",
    "                                                           precond_func=None)\n",
    "\n",
    "s_c_sample = wiener_filter_map + fluctuation_map"
   ]
  },
  {
   "cell_type": "code",
   "execution_count": null,
   "metadata": {},
   "outputs": [],
   "source": [
    "list_correl = ['EE', 'BB', 'EB']\n",
    "\n",
    "\n",
    "ell_arange = np.arange(red_cov_approx_matrix.shape[0]) + MICMAC_obj.lmin\n",
    "\n",
    "\n",
    "BtinvNB = micmac.get_inv_BtinvNB(freq_inverse_noise, mixing_matrix_sampled)\n",
    "# BtinvN_sqrt = micmac.get_BtinvN(sp.linalg.sqrtm(freq_inverse_noise), mixing_matrix_sampled)\n",
    "BtinvN_sqrt = micmac.get_BtinvN(np.sqrt(freq_inverse_noise), mixing_matrix_sampled)\n",
    "\n",
    "\n",
    "_cl_noise_harm = micmac.get_Cl_noise(np.array(instrument['depth_p']), mixing_matrix_sampled.mean(axis=2), lmax)[0,0,lmin:]\n",
    "red_cl_noise_harm = micmac.get_reduced_matrix_from_c_ell(np.array([_cl_noise_harm,_cl_noise_harm,np.zeros_like(_cl_noise_harm)]))\n",
    "cl_noise_harm = micmac.get_c_ells_from_red_covariance_matrix(red_cl_noise_harm)\n",
    "\n",
    "analytical_WF_harm = np.linalg.pinv(np.linalg.pinv(red_cov_matrix) + np.linalg.pinv(red_cl_noise_harm))\n",
    "analytical_WF_map = micmac.maps_x_reduced_matrix_generalized_sqrt_sqrt(s_cML/BtinvNB[0,0]/hp.nside2resol(MICMAC_obj.nside)**2,\n",
    "                                                                    analytical_WF_harm, lmin=lmin, n_iter=n_iter)\n",
    "\n",
    "\n",
    "full_map_s_c = wiener_filter_map + fluctuation_map\n",
    "full_map_s_cML_extended = np.vstack([np.zeros_like(s_cML[0,...]), s_cML])\n",
    "c_ell_s_cML = hp.anafast(full_map_s_cML_extended, lmax=MICMAC_obj.lmax, iter=MICMAC_obj.n_iter)[indices_polar,MICMAC_obj.lmin:]\n",
    "\n",
    "analytical_WF_map_ext = np.vstack([np.zeros_like(analytical_WF_map[0]),analytical_WF_map])\n",
    "analytical_WF_cells = hp.anafast(analytical_WF_map_ext, lmax=MICMAC_obj.lmax, iter=MICMAC_obj.n_iter)[indices_polar,MICMAC_obj.lmin:]\n",
    "analytical_fluct_c_ell = micmac.get_c_ells_from_red_covariance_matrix(analytical_WF_harm.copy())\n",
    "\n",
    "s_c_WF_maps_extended = np.vstack([np.zeros_like(wiener_filter_map[0,...]), wiener_filter_map])\n",
    "c_ells_s_c_WF = hp.anafast(s_c_WF_maps_extended, lmax=MICMAC_obj.lmax, iter=MICMAC_obj.n_iter)[indices_polar,MICMAC_obj.lmin:]\n",
    "\n",
    "s_c_fluct_maps_extended = np.vstack([np.zeros_like(fluctuation_map[0,...]), fluctuation_map])\n",
    "c_ells_s_c_fluct = hp.anafast(s_c_fluct_maps_extended, lmax=MICMAC_obj.lmax, iter=MICMAC_obj.n_iter)[indices_polar,MICMAC_obj.lmin:]\n",
    "\n",
    "s_c_recovered = wiener_filter_map + fluctuation_map\n",
    "s_c_recovered_ext = np.vstack([np.zeros_like(s_c_recovered[0]),s_c_recovered])\n",
    "c_ells_s_c = hp.anafast(s_c_recovered_ext, lmax=MICMAC_obj.lmax, iter=MICMAC_obj.n_iter)[indices_polar,MICMAC_obj.lmin:]\n",
    "\n",
    "plt.figure(figsize=(14,8))\n",
    "plt.suptitle(r\"Comparison $s_c$ CG vs theoretical for iteration {}\".format(iteration))\n",
    "\n",
    "for j in range(n_correl_to_plot):\n",
    "    plt.subplot(331+3*j)\n",
    "    plt.plot(np.arange(c_ells_s_c_WF.shape[-1])+MICMAC_obj.lmin, analytical_WF_cells[j,:], label='Analytical WF')\n",
    "    plt.plot(np.arange(c_ells_s_c_WF.shape[-1])+MICMAC_obj.lmin, c_ells_s_c_WF[j,:], '-.', label='CG-WF')\n",
    "    plt.plot(np.arange(c_ells_s_c_fluct.shape[-1])+MICMAC_obj.lmin, c_ell_s_cML[j,:], ':', label='$s_{c,ML}$')\n",
    "    plt.plot(np.arange(c_ells_s_c_fluct.shape[-1])+MICMAC_obj.lmin, cl_noise_harm[j,:], 'r:', label='noise $N_c$')\n",
    "    if j <= MICMAC_obj.nstokes-1:\n",
    "        plt.loglog()\n",
    "    else:\n",
    "        plt.xscale('log')\n",
    "        plt.yscale('symlog')\n",
    "        plt.plot([MICMAC_obj.lmin,MICMAC_obj.lmax+1], [0,0], 'k:')\n",
    "    plt.title('WF term - {}'.format(list_correl[j]))\n",
    "    plt.ylabel(\"$C_\\ell$ [$uK^2$]\")\n",
    "    plt.xlabel(r\"$\\ell$\")\n",
    "    plt.legend()\n",
    "\n",
    "    plt.subplot(332+3*j)\n",
    "    plt.plot(np.arange(c_ells_s_c_fluct.shape[-1])+MICMAC_obj.lmin, analytical_fluct_c_ell[j,:], label='Analytical fluct')\n",
    "    plt.plot(np.arange(c_ells_s_c_fluct.shape[-1])+MICMAC_obj.lmin, c_ells_s_c_fluct[j,:], '-.', label='CG-Fluct')\n",
    "    plt.plot(np.arange(c_ells_s_c_fluct.shape[-1])+MICMAC_obj.lmin, cl_noise_harm[j,:], 'r:', label='noise $N_c$')\n",
    "\n",
    "    if j <= MICMAC_obj.nstokes-1:\n",
    "        plt.loglog()\n",
    "    else:\n",
    "        plt.xscale('log')\n",
    "        plt.yscale('symlog')\n",
    "        plt.plot([MICMAC_obj.lmin,MICMAC_obj.lmax+1], [0,0], 'k:')\n",
    "    plt.title('Fluctuation term - {}'.format(list_correl[j]))\n",
    "    plt.ylabel(\"$C_\\ell$ [$uK^2$]\")\n",
    "    plt.xlabel(r\"$\\ell$\")\n",
    "    plt.legend()\n",
    "    \n",
    "    plt.subplot(333+3*j)\n",
    "    plt.plot(np.arange(c_ells_s_c_WF.shape[-1])+MICMAC_obj.lmin, true_CMB_c_ell[j,:], label='True CMB')\n",
    "    plt.plot(np.arange(c_ells_s_c_fluct.shape[-1])+MICMAC_obj.lmin, c_ells_s_c[j,:], '-.', label='$s_c$ sample')\n",
    "    plt.plot(np.arange(c_ells_s_c_fluct.shape[-1])+MICMAC_obj.lmin, c_ell_s_cML[j,:], ':', label='$s_{c,ML}$')\n",
    "    plt.plot(np.arange(c_ells_s_c_fluct.shape[-1])+MICMAC_obj.lmin, cl_noise_harm[j,:], 'r:', label='noise $N_c$')\n",
    "\n",
    "    if j <= MICMAC_obj.nstokes-1:\n",
    "        plt.loglog()\n",
    "        plt.plot([MICMAC_obj.lmin,MICMAC_obj.lmax+1], [0,0], 'k:')\n",
    "    else:\n",
    "        plt.xscale('log')\n",
    "        plt.yscale('symlog')\n",
    "        plt.plot([MICMAC_obj.lmin,MICMAC_obj.lmax+1], [0,0], 'k:')\n",
    "    plt.title('Full $s_c$ term - {}'.format(list_correl[j]))\n",
    "    plt.ylabel(\"$C_\\ell$ [$uK^2$]\")\n",
    "\n",
    "    plt.xlabel(r\"$\\ell$\")\n",
    "    plt.legend()\n",
    "plt.show()"
   ]
  },
  {
   "cell_type": "markdown",
   "metadata": {},
   "source": [
    "## Prepare binning"
   ]
  },
  {
   "cell_type": "code",
   "execution_count": null,
   "metadata": {},
   "outputs": [],
   "source": [
    "delta_ell = 1"
   ]
  },
  {
   "cell_type": "code",
   "execution_count": null,
   "metadata": {},
   "outputs": [],
   "source": [
    "nb_bin = (MICMAC_obj.lmax-MICMAC_obj.lmin+1)//delta_ell\n",
    "MICMAC_obj.bin_ell_distribution = MICMAC_obj.lmin + jnp.arange(nb_bin+1)*delta_ell\n",
    "MICMAC_obj.maximum_number_dof = int(MICMAC_obj.bin_ell_distribution[-1]**2 - MICMAC_obj.bin_ell_distribution[-2]**2)\n"
   ]
  }
 ],
 "metadata": {
  "kernelspec": {
   "display_name": "non_param_silver",
   "language": "python",
   "name": "python3"
  },
  "language_info": {
   "codemirror_mode": {
    "name": "ipython",
    "version": 3
   },
   "file_extension": ".py",
   "mimetype": "text/x-python",
   "name": "python",
   "nbconvert_exporter": "python",
   "pygments_lexer": "ipython3",
   "version": "3.9.16"
  }
 },
 "nbformat": 4,
 "nbformat_minor": 2
}
