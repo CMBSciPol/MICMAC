{
 "cells": [
  {
   "cell_type": "markdown",
   "metadata": {},
   "source": [
    "# Orbax Saving Tests"
   ]
  },
  {
   "cell_type": "code",
   "execution_count": 1,
   "metadata": {},
   "outputs": [],
   "source": [
    "import jax\n",
    "import jax.lax as jlax\n",
    "import jax.numpy as jnp\n",
    "import numpy as np\n",
    "from jax import config"
   ]
  },
  {
   "cell_type": "code",
   "execution_count": 2,
   "metadata": {},
   "outputs": [],
   "source": [
    "config.update('jax_enable_x64', True)"
   ]
  },
  {
   "cell_type": "markdown",
   "metadata": {},
   "source": [
    "# Few tests"
   ]
  },
  {
   "cell_type": "code",
   "execution_count": 3,
   "metadata": {},
   "outputs": [],
   "source": [
    "import orbax.checkpoint as ocp"
   ]
  },
  {
   "cell_type": "code",
   "execution_count": 4,
   "metadata": {},
   "outputs": [],
   "source": [
    "path = ocp.test_utils.create_empty('/Users/mag/Documents/PHD1Y/Space_Work/Pixel_non_P2D/MICMAC/test_playground/test_Orbax/save_orbax/')\n",
    "state = {\n",
    "    'r': 0,\n",
    "    'B_f': np.zeros((4,2)),\n",
    "}"
   ]
  },
  {
   "cell_type": "code",
   "execution_count": 5,
   "metadata": {},
   "outputs": [],
   "source": [
    "num_steps_save = 5\n",
    "num_steps = 15"
   ]
  },
  {
   "cell_type": "code",
   "execution_count": 6,
   "metadata": {},
   "outputs": [],
   "source": [
    "save_interval_steps = 5\n",
    "options = ocp.CheckpointManagerOptions(max_to_keep=None, save_interval_steps=save_interval_steps)"
   ]
  },
  {
   "cell_type": "code",
   "execution_count": 8,
   "metadata": {},
   "outputs": [],
   "source": [
    "mngr = ocp.CheckpointManager(\n",
    "    path, options=options, item_names=('state')\n",
    ")\n",
    "\n",
    "mngr = ocp.type_handlers.ArrayHandler('array_save')"
   ]
  },
  {
   "cell_type": "code",
   "execution_count": 9,
   "metadata": {},
   "outputs": [
    {
     "ename": "AttributeError",
     "evalue": "'ArrayHandler' object has no attribute 'save'",
     "output_type": "error",
     "traceback": [
      "\u001b[0;31m---------------------------------------------------------------------------\u001b[0m",
      "\u001b[0;31mAttributeError\u001b[0m                            Traceback (most recent call last)",
      "Cell \u001b[0;32mIn[9], line 34\u001b[0m\n\u001b[1;32m     31\u001b[0m dict_init_params[\u001b[38;5;124m'\u001b[39m\u001b[38;5;124msave_array\u001b[39m\u001b[38;5;124m'\u001b[39m] \u001b[38;5;241m=\u001b[39m save_array\n\u001b[1;32m     32\u001b[0m pytree_input, treedef \u001b[38;5;241m=\u001b[39m jax\u001b[38;5;241m.\u001b[39mtree_util\u001b[38;5;241m.\u001b[39mtree_flatten(dict_init_params)\n\u001b[0;32m---> 34\u001b[0m carry, result \u001b[38;5;241m=\u001b[39m \u001b[43mjlax\u001b[49m\u001b[38;5;241;43m.\u001b[39;49m\u001b[43mscan\u001b[49m\u001b[43m(\u001b[49m\u001b[43mfunc_update_r_B_f\u001b[49m\u001b[43m,\u001b[49m\u001b[43m \u001b[49m\u001b[43mdict_init_params\u001b[49m\u001b[43m,\u001b[49m\u001b[43m \u001b[49m\u001b[43mjnp\u001b[49m\u001b[38;5;241;43m.\u001b[39;49m\u001b[43marange\u001b[49m\u001b[43m(\u001b[49m\u001b[38;5;241;43m0\u001b[39;49m\u001b[43m,\u001b[49m\u001b[43m \u001b[49m\u001b[43mnum_steps\u001b[49m\u001b[43m)\u001b[49m\u001b[43m)\u001b[49m\n\u001b[1;32m     36\u001b[0m mngr\u001b[38;5;241m.\u001b[39mwait_until_finished()\n\u001b[1;32m     37\u001b[0m restored \u001b[38;5;241m=\u001b[39m mngr\u001b[38;5;241m.\u001b[39mrestore(\u001b[38;5;241m15\u001b[39m)\n",
      "    \u001b[0;31m[... skipping hidden 9 frame]\u001b[0m\n",
      "Cell \u001b[0;32mIn[9], line 21\u001b[0m, in \u001b[0;36mfunc_update_r_B_f\u001b[0;34m(carry, iteration)\u001b[0m\n\u001b[1;32m     12\u001b[0m new_save_array \u001b[38;5;241m=\u001b[39m new_save_array\u001b[38;5;241m.\u001b[39mat[iteration\u001b[38;5;241m%\u001b[39mnum_steps_save,\u001b[38;5;241m-\u001b[39m\u001b[38;5;241m1\u001b[39m]\u001b[38;5;241m.\u001b[39mset(new_r)\n\u001b[1;32m     14\u001b[0m \u001b[38;5;66;03m# mngr.save(\u001b[39;00m\n\u001b[1;32m     15\u001b[0m \u001b[38;5;66;03m#     iteration,\u001b[39;00m\n\u001b[1;32m     16\u001b[0m \u001b[38;5;66;03m#     args=ocp.args.Composite(\u001b[39;00m\n\u001b[0;32m   (...)\u001b[0m\n\u001b[1;32m     19\u001b[0m \u001b[38;5;66;03m#     ),\u001b[39;00m\n\u001b[1;32m     20\u001b[0m \u001b[38;5;66;03m# )\u001b[39;00m\n\u001b[0;32m---> 21\u001b[0m \u001b[43mmngr\u001b[49m\u001b[38;5;241;43m.\u001b[39;49m\u001b[43msave\u001b[49m(\n\u001b[1;32m     22\u001b[0m     iteration,\n\u001b[1;32m     23\u001b[0m     state\u001b[38;5;241m=\u001b[39mocp\u001b[38;5;241m.\u001b[39margs\u001b[38;5;241m.\u001b[39mStandardSave({\u001b[38;5;124m'\u001b[39m\u001b[38;5;124msave_array\u001b[39m\u001b[38;5;124m'\u001b[39m:new_save_array}),\n\u001b[1;32m     24\u001b[0m )\n\u001b[1;32m     25\u001b[0m orbax\u001b[38;5;241m.\u001b[39mcheckpoint\u001b[38;5;241m.\u001b[39marray_checkpoint_handler\u001b[38;5;241m.\u001b[39mArraySaveArgs\n\u001b[1;32m     26\u001b[0m \u001b[38;5;66;03m# new_pytree = jax.tree_util.tree_flatten()\u001b[39;00m\n",
      "\u001b[0;31mAttributeError\u001b[0m: 'ArrayHandler' object has no attribute 'save'"
     ]
    }
   ],
   "source": [
    "save_array = jnp.zeros((num_steps_save, 9))\n",
    "\n",
    "def func_update_r_B_f(carry, iteration):\n",
    "    # r, B_f, save_array = carry\n",
    "    pytree = carry\n",
    "    new_r = pytree['r']+0.01\n",
    "    new_B_f = pytree['B_f']+0.01\n",
    "\n",
    "    new_save_array = jnp.copy(pytree['save_array'])\n",
    "\n",
    "    new_save_array = new_save_array.at[iteration%num_steps_save,:-1].set(new_B_f.ravel())\n",
    "    new_save_array = new_save_array.at[iteration%num_steps_save,-1].set(new_r)\n",
    "    \n",
    "    # mngr.save(\n",
    "    #     iteration,\n",
    "    #     args=ocp.args.Composite(\n",
    "    #         state=ocp.args.StandardSave({'r':new_save_array[:,-1],'B_f':new_save_array[:,:-1]}),\n",
    "    #         custom_metadata=args.,\n",
    "    #     ),\n",
    "    # )\n",
    "    mngr.save(\n",
    "        iteration,\n",
    "        state=ocp.args.StandardSave({'save_array':new_save_array}),\n",
    "    )\n",
    "    orbax.checkpoint.array_checkpoint_handler.ArraySaveArgs\n",
    "    # new_pytree = jax.tree_util.tree_flatten()\n",
    "    return {'r':new_r,'B_f':new_B_f,'save_array':new_save_array}, {'r':new_r,'B_f':new_B_f}\n",
    "\n",
    "\n",
    "dict_init_params = state.copy()\n",
    "dict_init_params['save_array'] = save_array\n",
    "pytree_input, treedef = jax.tree_util.tree_flatten(dict_init_params)\n",
    "\n",
    "carry, result = jlax.scan(func_update_r_B_f, dict_init_params, jnp.arange(0, num_steps))\n",
    "\n",
    "mngr.wait_until_finished()\n",
    "restored = mngr.restore(15)\n",
    "restored_state, restored_extra_params = restored.state, restored.extra_params"
   ]
  },
  {
   "cell_type": "code",
   "execution_count": null,
   "metadata": {},
   "outputs": [
    {
     "data": {
      "text/plain": [
       "{'B_f': Array([[0.15, 0.15],\n",
       "        [0.15, 0.15],\n",
       "        [0.15, 0.15],\n",
       "        [0.15, 0.15]], dtype=float64),\n",
       " 'r': Array(0.15, dtype=float64),\n",
       " 'save_array': Array([[0.11, 0.11, 0.11, 0.11, 0.11, 0.11, 0.11, 0.11, 0.11],\n",
       "        [0.12, 0.12, 0.12, 0.12, 0.12, 0.12, 0.12, 0.12, 0.12],\n",
       "        [0.13, 0.13, 0.13, 0.13, 0.13, 0.13, 0.13, 0.13, 0.13],\n",
       "        [0.14, 0.14, 0.14, 0.14, 0.14, 0.14, 0.14, 0.14, 0.14],\n",
       "        [0.15, 0.15, 0.15, 0.15, 0.15, 0.15, 0.15, 0.15, 0.15]],      dtype=float64)}"
      ]
     },
     "execution_count": 20,
     "metadata": {},
     "output_type": "execute_result"
    }
   ],
   "source": [
    "carry"
   ]
  },
  {
   "cell_type": "code",
   "execution_count": null,
   "metadata": {},
   "outputs": [
    {
     "data": {
      "text/plain": [
       "{'B_f': Array([[[0.01, 0.01],\n",
       "         [0.01, 0.01],\n",
       "         [0.01, 0.01],\n",
       "         [0.01, 0.01]],\n",
       " \n",
       "        [[0.02, 0.02],\n",
       "         [0.02, 0.02],\n",
       "         [0.02, 0.02],\n",
       "         [0.02, 0.02]],\n",
       " \n",
       "        [[0.03, 0.03],\n",
       "         [0.03, 0.03],\n",
       "         [0.03, 0.03],\n",
       "         [0.03, 0.03]],\n",
       " \n",
       "        [[0.04, 0.04],\n",
       "         [0.04, 0.04],\n",
       "         [0.04, 0.04],\n",
       "         [0.04, 0.04]],\n",
       " \n",
       "        [[0.05, 0.05],\n",
       "         [0.05, 0.05],\n",
       "         [0.05, 0.05],\n",
       "         [0.05, 0.05]],\n",
       " \n",
       "        [[0.06, 0.06],\n",
       "         [0.06, 0.06],\n",
       "         [0.06, 0.06],\n",
       "         [0.06, 0.06]],\n",
       " \n",
       "        [[0.07, 0.07],\n",
       "         [0.07, 0.07],\n",
       "         [0.07, 0.07],\n",
       "         [0.07, 0.07]],\n",
       " \n",
       "        [[0.08, 0.08],\n",
       "         [0.08, 0.08],\n",
       "         [0.08, 0.08],\n",
       "         [0.08, 0.08]],\n",
       " \n",
       "        [[0.09, 0.09],\n",
       "         [0.09, 0.09],\n",
       "         [0.09, 0.09],\n",
       "         [0.09, 0.09]],\n",
       " \n",
       "        [[0.1 , 0.1 ],\n",
       "         [0.1 , 0.1 ],\n",
       "         [0.1 , 0.1 ],\n",
       "         [0.1 , 0.1 ]],\n",
       " \n",
       "        [[0.11, 0.11],\n",
       "         [0.11, 0.11],\n",
       "         [0.11, 0.11],\n",
       "         [0.11, 0.11]],\n",
       " \n",
       "        [[0.12, 0.12],\n",
       "         [0.12, 0.12],\n",
       "         [0.12, 0.12],\n",
       "         [0.12, 0.12]],\n",
       " \n",
       "        [[0.13, 0.13],\n",
       "         [0.13, 0.13],\n",
       "         [0.13, 0.13],\n",
       "         [0.13, 0.13]],\n",
       " \n",
       "        [[0.14, 0.14],\n",
       "         [0.14, 0.14],\n",
       "         [0.14, 0.14],\n",
       "         [0.14, 0.14]],\n",
       " \n",
       "        [[0.15, 0.15],\n",
       "         [0.15, 0.15],\n",
       "         [0.15, 0.15],\n",
       "         [0.15, 0.15]]], dtype=float64),\n",
       " 'r': Array([0.01, 0.02, 0.03, 0.04, 0.05, 0.06, 0.07, 0.08, 0.09, 0.1 , 0.11,\n",
       "        0.12, 0.13, 0.14, 0.15], dtype=float64)}"
      ]
     },
     "execution_count": 21,
     "metadata": {},
     "output_type": "execute_result"
    }
   ],
   "source": [
    "result"
   ]
  },
  {
   "cell_type": "code",
   "execution_count": null,
   "metadata": {},
   "outputs": [
    {
     "data": {
      "text/plain": [
       "[9, 10]"
      ]
     },
     "execution_count": 8,
     "metadata": {},
     "output_type": "execute_result"
    }
   ],
   "source": [
    "mngr.all_steps()"
   ]
  },
  {
   "cell_type": "code",
   "execution_count": null,
   "metadata": {},
   "outputs": [
    {
     "data": {
      "text/plain": [
       "10"
      ]
     },
     "execution_count": 9,
     "metadata": {},
     "output_type": "execute_result"
    }
   ],
   "source": [
    "mngr.latest_step()"
   ]
  },
  {
   "cell_type": "code",
   "execution_count": null,
   "metadata": {},
   "outputs": [
    {
     "data": {
      "text/plain": [
       "False"
      ]
     },
     "execution_count": 10,
     "metadata": {},
     "output_type": "execute_result"
    }
   ],
   "source": [
    "mngr.should_save(10)"
   ]
  },
  {
   "cell_type": "code",
   "execution_count": null,
   "metadata": {},
   "outputs": [],
   "source": [
    "restored = mngr.restore(\n",
    "    mngr.latest_step(),\n",
    ")\n"
   ]
  },
  {
   "cell_type": "code",
   "execution_count": null,
   "metadata": {},
   "outputs": [
    {
     "data": {
      "text/plain": [
       "CompositeArgs({'extra_params': [42, 43], 'state': {'a': array([10., 10., 10., 10., 10., 10., 10., 10., 10., 10., 10.]), 'b': 10}})"
      ]
     },
     "execution_count": 12,
     "metadata": {},
     "output_type": "execute_result"
    }
   ],
   "source": [
    "restored"
   ]
  },
  {
   "cell_type": "code",
   "execution_count": null,
   "metadata": {},
   "outputs": [],
   "source": []
  }
 ],
 "metadata": {
  "kernelspec": {
   "display_name": "non_param_silver",
   "language": "python",
   "name": "python3"
  },
  "language_info": {
   "codemirror_mode": {
    "name": "ipython",
    "version": 3
   },
   "file_extension": ".py",
   "mimetype": "text/x-python",
   "name": "python",
   "nbconvert_exporter": "python",
   "pygments_lexer": "ipython3",
   "version": "3.9.16"
  }
 },
 "nbformat": 4,
 "nbformat_minor": 2
}
