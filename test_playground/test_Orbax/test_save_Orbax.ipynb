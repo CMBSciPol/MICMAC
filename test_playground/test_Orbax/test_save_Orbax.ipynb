{
 "cells": [
  {
   "cell_type": "markdown",
   "metadata": {},
   "source": [
    "# Orbax Saving Tests"
   ]
  },
  {
   "cell_type": "code",
   "execution_count": 1,
   "metadata": {},
   "outputs": [],
   "source": [
    "import jax\n",
    "import jax.numpy as jnp\n",
    "import numpy as np"
   ]
  },
  {
   "cell_type": "code",
   "execution_count": 2,
   "metadata": {},
   "outputs": [],
   "source": [
    "# Code Wassim\n",
    "\n",
    "\n",
    "def save_model(state, model_path):\n",
    "    \"\"\"\n",
    "    Save the Flax model using orbax.\n",
    "\n",
    "    Parameters:\n",
    "    - state: Flax train_state to be saved.\n",
    "    - model_path: Path where the model will be saved.\n",
    "    \"\"\"\n",
    "    orbax_checkpointer = orbax.checkpoint.PyTreeCheckpointer()\n",
    "    save_args = orbax_utils.save_args_from_target({'model': state})\n",
    "    target_dir = f\"{model_path}/model\"\n",
    "    os.makedirs(target_dir, exist_ok=True)\n",
    "    # The following line is new and allows overwriting of an existing checkpoint\n",
    "    orbax_checkpointer.save(f\"{model_path}/model\", {'model': state}, save_args=save_args, force=True)\n",
    "\n",
    "def load_model(model_path):\n",
    "    \"\"\"\n",
    "    Load the Flax model using orbax.\n",
    "\n",
    "    Parameters:\n",
    "    - model_path: Path from where the model will be loaded.\n",
    "\n",
    "    Returns:\n",
    "    - state: Loaded Flax train_state.\n",
    "    \"\"\"\n",
    "    orbax_checkpointer = orbax.checkpoint.PyTreeCheckpointer()\n",
    "    restored_data = orbax_checkpointer.restore(model_path)\n",
    "    state = restored_data['model']\n",
    "    params = state['params']\n",
    "    model_config = state['model_config']\n",
    "\n",
    "    return load_train_state(params, model_config, learning_rate = 1e-3, total_steps = 10)"
   ]
  },
  {
   "cell_type": "markdown",
   "metadata": {},
   "source": [
    "# Few tests"
   ]
  },
  {
   "cell_type": "code",
   "execution_count": 3,
   "metadata": {},
   "outputs": [],
   "source": [
    "import orbax.checkpoint as ocp"
   ]
  },
  {
   "cell_type": "code",
   "execution_count": 4,
   "metadata": {},
   "outputs": [],
   "source": [
    "path = ocp.test_utils.create_empty('/Users/mag/Documents/PHD1Y/Space_Work/Pixel_non_P2D/MICMAC/test_playground/test_Orbax/save_orbax/')\n",
    "state = {\n",
    "    'a': np.zeros(1),\n",
    "    'b': np.zeros(1),\n",
    "}\n",
    "extra_params = [42, 43]"
   ]
  },
  {
   "cell_type": "code",
   "execution_count": 5,
   "metadata": {},
   "outputs": [],
   "source": [
    "options = ocp.CheckpointManagerOptions(max_to_keep=2, save_interval_steps=1)"
   ]
  },
  {
   "cell_type": "code",
   "execution_count": 6,
   "metadata": {},
   "outputs": [],
   "source": [
    "mngr = ocp.CheckpointManager(\n",
    "    path, options=options, item_names=('state', 'extra_params')\n",
    ")\n",
    "\n",
    "for step in range(11):  # [0, 1, ..., 10]\n",
    "  mngr.save(\n",
    "      step,\n",
    "      args=ocp.args.Composite(\n",
    "          state=ocp.args.StandardSave({'a':np.zeros(step+1)+step,'b':step}),\n",
    "          extra_params=ocp.args.JsonSave(extra_params),\n",
    "      ),\n",
    "  )\n",
    "mngr.wait_until_finished()\n",
    "restored = mngr.restore(10)\n",
    "restored_state, restored_extra_params = restored.state, restored.extra_params"
   ]
  },
  {
   "cell_type": "code",
   "execution_count": 8,
   "metadata": {},
   "outputs": [
    {
     "data": {
      "text/plain": [
       "[9, 10]"
      ]
     },
     "execution_count": 8,
     "metadata": {},
     "output_type": "execute_result"
    }
   ],
   "source": [
    "mngr.all_steps()"
   ]
  },
  {
   "cell_type": "code",
   "execution_count": 9,
   "metadata": {},
   "outputs": [
    {
     "data": {
      "text/plain": [
       "10"
      ]
     },
     "execution_count": 9,
     "metadata": {},
     "output_type": "execute_result"
    }
   ],
   "source": [
    "mngr.latest_step()"
   ]
  },
  {
   "cell_type": "code",
   "execution_count": 10,
   "metadata": {},
   "outputs": [
    {
     "data": {
      "text/plain": [
       "False"
      ]
     },
     "execution_count": 10,
     "metadata": {},
     "output_type": "execute_result"
    }
   ],
   "source": [
    "mngr.should_save(10)"
   ]
  },
  {
   "cell_type": "code",
   "execution_count": 11,
   "metadata": {},
   "outputs": [],
   "source": [
    "restored = mngr.restore(\n",
    "    mngr.latest_step(),\n",
    ")\n"
   ]
  },
  {
   "cell_type": "code",
   "execution_count": 12,
   "metadata": {},
   "outputs": [
    {
     "data": {
      "text/plain": [
       "CompositeArgs({'extra_params': [42, 43], 'state': {'a': array([10., 10., 10., 10., 10., 10., 10., 10., 10., 10., 10.]), 'b': 10}})"
      ]
     },
     "execution_count": 12,
     "metadata": {},
     "output_type": "execute_result"
    }
   ],
   "source": [
    "restored"
   ]
  },
  {
   "cell_type": "code",
   "execution_count": null,
   "metadata": {},
   "outputs": [],
   "source": []
  }
 ],
 "metadata": {
  "kernelspec": {
   "display_name": "non_param_silver",
   "language": "python",
   "name": "python3"
  },
  "language_info": {
   "codemirror_mode": {
    "name": "ipython",
    "version": 3
   },
   "file_extension": ".py",
   "mimetype": "text/x-python",
   "name": "python",
   "nbconvert_exporter": "python",
   "pygments_lexer": "ipython3",
   "version": "3.9.16"
  }
 },
 "nbformat": 4,
 "nbformat_minor": 2
}
