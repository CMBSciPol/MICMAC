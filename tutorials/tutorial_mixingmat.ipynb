{
 "cells": [
  {
   "cell_type": "markdown",
   "metadata": {},
   "source": [
    "## Tutorial on how to use the Mixing Matrix"
   ]
  },
  {
   "cell_type": "code",
   "execution_count": 14,
   "metadata": {},
   "outputs": [],
   "source": [
    "import numpy as np\n",
    "from micmac import *"
   ]
  },
  {
   "cell_type": "markdown",
   "metadata": {},
   "source": [
    "#### Set required parameters\n",
    "(In actual applications they'll come from the instrument / input data)"
   ]
  },
  {
   "cell_type": "code",
   "execution_count": 15,
   "metadata": {},
   "outputs": [],
   "source": [
    "# choose frequencies\n",
    "freqs = np.array([40, 50, 60, 100, 140])\n",
    "# choose number of components\n",
    "ncomp = 3\n",
    "# choose frequencies at which we have one fgs and the others zero\n",
    "# in MixingMat columns first synch, then dust\n",
    "pos_special_freqs = np.array([0, -1])"
   ]
  },
  {
   "cell_type": "markdown",
   "metadata": {},
   "source": [
    "#### Initialize parameters of the Mixing Matrix\n",
    "These are the true values (done with values coming from SEDs of a MBB and a PL).\n",
    "Alternativly one can skip this step and set customized values."
   ]
  },
  {
   "cell_type": "code",
   "execution_count": 16,
   "metadata": {},
   "outputs": [
    {
     "data": {
      "text/plain": [
       "array([[ 1.42538127, 14.44037732],\n",
       "       [ 1.91733692,  8.59386185],\n",
       "       [ 4.70174773,  2.1780368 ]])"
      ]
     },
     "execution_count": 16,
     "metadata": {},
     "output_type": "execute_result"
    }
   ],
   "source": [
    "initB = InitMixingMatrix(freqs, ncomp, pos_special_freqs)\n",
    "init_params = initB.init_params()\n",
    "init_params"
   ]
  },
  {
   "cell_type": "markdown",
   "metadata": {},
   "source": [
    "#### Build the Mixing Matrix"
   ]
  },
  {
   "cell_type": "code",
   "execution_count": 17,
   "metadata": {},
   "outputs": [],
   "source": [
    "B = MixingMatrix(freqs, ncomp, init_params, pos_special_freqs)\n",
    "B_cmb = B.get_B_cmb()\n",
    "B_fgs = B.get_B_fgs()\n",
    "B_all = B.get_B()"
   ]
  },
  {
   "cell_type": "code",
   "execution_count": 18,
   "metadata": {},
   "outputs": [
    {
     "name": "stdout",
     "output_type": "stream",
     "text": [
      "[[ 1.          1.          0.        ]\n",
      " [ 1.          1.42538127 14.44037732]\n",
      " [ 1.          1.91733692  8.59386185]\n",
      " [ 1.          4.70174773  2.1780368 ]\n",
      " [ 1.          0.          1.        ]]\n"
     ]
    }
   ],
   "source": [
    "print(B_all)"
   ]
  },
  {
   "cell_type": "markdown",
   "metadata": {},
   "source": [
    "#### Update parameters of the Mixing Matrix"
   ]
  },
  {
   "cell_type": "code",
   "execution_count": 19,
   "metadata": {},
   "outputs": [
    {
     "data": {
      "text/plain": [
       "array([[ 2.42538127, 15.44037732],\n",
       "       [ 2.91733692,  9.59386185],\n",
       "       [ 5.70174773,  3.1780368 ]])"
      ]
     },
     "execution_count": 19,
     "metadata": {},
     "output_type": "execute_result"
    }
   ],
   "source": [
    "new_params = B.params+1\n",
    "B.update_params(new_params)\n",
    "B.params"
   ]
  },
  {
   "cell_type": "code",
   "execution_count": 20,
   "metadata": {},
   "outputs": [
    {
     "data": {
      "text/plain": [
       "array([[ 1.        ,  1.        ,  0.        ],\n",
       "       [ 1.        ,  2.42538127, 15.44037732],\n",
       "       [ 1.        ,  2.91733692,  9.59386185],\n",
       "       [ 1.        ,  5.70174773,  3.1780368 ],\n",
       "       [ 1.        ,  0.        ,  1.        ]])"
      ]
     },
     "execution_count": 20,
     "metadata": {},
     "output_type": "execute_result"
    }
   ],
   "source": [
    "B_all_new = B.get_B()\n",
    "B_all_new"
   ]
  }
 ],
 "metadata": {
  "kernelspec": {
   "display_name": "camb",
   "language": "python",
   "name": "python3"
  },
  "language_info": {
   "codemirror_mode": {
    "name": "ipython",
    "version": 3
   },
   "file_extension": ".py",
   "mimetype": "text/x-python",
   "name": "python",
   "nbconvert_exporter": "python",
   "pygments_lexer": "ipython3",
   "version": "3.9.16"
  },
  "orig_nbformat": 4
 },
 "nbformat": 4,
 "nbformat_minor": 2
}
