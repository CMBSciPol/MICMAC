{
 "cells": [
  {
   "cell_type": "markdown",
   "metadata": {},
   "source": [
    "## Tutorial on how to use the Mixing Matrix"
   ]
  },
  {
   "cell_type": "code",
   "execution_count": 39,
   "metadata": {},
   "outputs": [],
   "source": [
    "import numpy as np\n",
    "from non_parametric_ML_compsep import *"
   ]
  },
  {
   "cell_type": "markdown",
   "metadata": {},
   "source": [
    "#### Set required parameters\n",
    "(In actual applications they'll come from the instrument / input data)"
   ]
  },
  {
   "cell_type": "code",
   "execution_count": 40,
   "metadata": {},
   "outputs": [],
   "source": [
    "# choose frequencies\n",
    "freqs = np.array([40, 50, 60, 100, 140])\n",
    "# choose number of components\n",
    "ncomp = 3\n",
    "# choose frequencies at which we have one fgs and the others zero\n",
    "pos_special_freqs = np.array([-1, 0])"
   ]
  },
  {
   "cell_type": "markdown",
   "metadata": {},
   "source": [
    "#### Initialize parameters of the Mixing Matrix\n",
    "This is done with values coming from SEDs of a MBB and a PL.\n",
    "Alternativly one can skip this step and set customized values."
   ]
  },
  {
   "cell_type": "code",
   "execution_count": 41,
   "metadata": {},
   "outputs": [
    {
     "data": {
      "text/plain": [
       "array([[0.15071531, 1.42538127],\n",
       "       [0.20273315, 1.91733692],\n",
       "       [0.49714796, 4.70174773]])"
      ]
     },
     "execution_count": 41,
     "metadata": {},
     "output_type": "execute_result"
    }
   ],
   "source": [
    "initB = InitMixingMatrix(freqs, ncomp, pos_special_freqs)\n",
    "init_params = initB.init_params()\n",
    "init_params"
   ]
  },
  {
   "cell_type": "markdown",
   "metadata": {},
   "source": [
    "#### Build the Mixing Matrix"
   ]
  },
  {
   "cell_type": "code",
   "execution_count": 42,
   "metadata": {},
   "outputs": [],
   "source": [
    "B = MixingMatrix(freqs, ncomp, init_params, pos_special_freqs)\n",
    "B_cmb = B.get_B_cmb()\n",
    "B_fgs = B.get_B_fgs()\n",
    "B_all = B.get_B()"
   ]
  },
  {
   "cell_type": "code",
   "execution_count": 43,
   "metadata": {},
   "outputs": [
    {
     "name": "stdout",
     "output_type": "stream",
     "text": [
      "[[1.         0.         1.        ]\n",
      " [1.         0.15071531 1.42538127]\n",
      " [1.         0.20273315 1.91733692]\n",
      " [1.         0.49714796 4.70174773]\n",
      " [1.         1.         0.        ]]\n"
     ]
    }
   ],
   "source": [
    "print(B_all)"
   ]
  },
  {
   "cell_type": "markdown",
   "metadata": {},
   "source": [
    "#### Update parameters of the Mixing Matrix"
   ]
  },
  {
   "cell_type": "code",
   "execution_count": 44,
   "metadata": {},
   "outputs": [
    {
     "data": {
      "text/plain": [
       "array([[1.15071531, 2.42538127],\n",
       "       [1.20273315, 2.91733692],\n",
       "       [1.49714796, 5.70174773]])"
      ]
     },
     "execution_count": 44,
     "metadata": {},
     "output_type": "execute_result"
    }
   ],
   "source": [
    "new_params = B.params+1\n",
    "B.update_params(new_params)\n",
    "B.params"
   ]
  },
  {
   "cell_type": "code",
   "execution_count": 45,
   "metadata": {},
   "outputs": [
    {
     "data": {
      "text/plain": [
       "array([[1.        , 0.        , 1.        ],\n",
       "       [1.        , 1.15071531, 2.42538127],\n",
       "       [1.        , 1.20273315, 2.91733692],\n",
       "       [1.        , 1.49714796, 5.70174773],\n",
       "       [1.        , 1.        , 0.        ]])"
      ]
     },
     "execution_count": 45,
     "metadata": {},
     "output_type": "execute_result"
    }
   ],
   "source": [
    "B_all_new = B.get_B()\n",
    "B_all_new"
   ]
  }
 ],
 "metadata": {
  "kernelspec": {
   "display_name": "camb",
   "language": "python",
   "name": "python3"
  },
  "language_info": {
   "codemirror_mode": {
    "name": "ipython",
    "version": 3
   },
   "file_extension": ".py",
   "mimetype": "text/x-python",
   "name": "python",
   "nbconvert_exporter": "python",
   "pygments_lexer": "ipython3",
   "version": "3.9.13"
  },
  "orig_nbformat": 4
 },
 "nbformat": 4,
 "nbformat_minor": 2
}
