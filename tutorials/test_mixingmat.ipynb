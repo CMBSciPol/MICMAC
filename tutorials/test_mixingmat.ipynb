{
 "cells": [
  {
   "cell_type": "markdown",
   "metadata": {},
   "source": [
    "### Tutorial on how to use the Mixing Matrix"
   ]
  },
  {
   "cell_type": "code",
   "execution_count": 43,
   "metadata": {},
   "outputs": [],
   "source": [
    "import numpy as np\n",
    "from non_parametric_ML_compsep import *"
   ]
  },
  {
   "cell_type": "code",
   "execution_count": 44,
   "metadata": {},
   "outputs": [],
   "source": [
    "# choose frequencies\n",
    "freqs = np.array([40, 50, 60, 100, 140])\n",
    "ncomp = 3\n",
    "pos_special_freqs = np.array([-1, 0])"
   ]
  },
  {
   "cell_type": "code",
   "execution_count": 45,
   "metadata": {},
   "outputs": [],
   "source": [
    "initB = InitMixingMatrix(freqs, ncomp, pos_special_freqs)\n",
    "init_params = initB.init_params()"
   ]
  },
  {
   "cell_type": "code",
   "execution_count": 25,
   "metadata": {},
   "outputs": [
    {
     "data": {
      "text/plain": [
       "array([[1.91733692, 1.34513969],\n",
       "       [4.70174773, 3.29858953],\n",
       "       [9.45744151, 6.63502582]])"
      ]
     },
     "execution_count": 25,
     "metadata": {},
     "output_type": "execute_result"
    }
   ],
   "source": [
    "init_params"
   ]
  },
  {
   "cell_type": "code",
   "execution_count": 46,
   "metadata": {},
   "outputs": [],
   "source": [
    "B = MixingMatrix(freqs, ncomp, init_params, pos_special_freqs)"
   ]
  },
  {
   "cell_type": "code",
   "execution_count": 47,
   "metadata": {},
   "outputs": [],
   "source": [
    "B_cmb = B.get_B_cmb()\n",
    "B_fgs = B.get_B_fgs()\n",
    "B_all = B.get_B()"
   ]
  },
  {
   "cell_type": "code",
   "execution_count": 48,
   "metadata": {},
   "outputs": [
    {
     "name": "stdout",
     "output_type": "stream",
     "text": [
      "[[1.         0.         1.        ]\n",
      " [1.         0.15071531 1.42538127]\n",
      " [1.         0.20273315 1.91733692]\n",
      " [1.         0.49714796 4.70174773]\n",
      " [1.         1.         0.        ]]\n"
     ]
    }
   ],
   "source": [
    "print(B_all)"
   ]
  },
  {
   "cell_type": "code",
   "execution_count": 49,
   "metadata": {},
   "outputs": [
    {
     "data": {
      "text/plain": [
       "array([[0.15071531, 1.42538127],\n",
       "       [0.20273315, 1.91733692],\n",
       "       [0.49714796, 4.70174773]])"
      ]
     },
     "execution_count": 49,
     "metadata": {},
     "output_type": "execute_result"
    }
   ],
   "source": [
    "B.update_params(B.params+1)"
   ]
  },
  {
   "cell_type": "code",
   "execution_count": null,
   "metadata": {},
   "outputs": [],
   "source": []
  }
 ],
 "metadata": {
  "kernelspec": {
   "display_name": "camb",
   "language": "python",
   "name": "python3"
  },
  "language_info": {
   "codemirror_mode": {
    "name": "ipython",
    "version": 3
   },
   "file_extension": ".py",
   "mimetype": "text/x-python",
   "name": "python",
   "nbconvert_exporter": "python",
   "pygments_lexer": "ipython3",
   "version": "3.9.13"
  },
  "orig_nbformat": 4
 },
 "nbformat": 4,
 "nbformat_minor": 2
}
